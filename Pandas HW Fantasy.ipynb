{
 "cells": [
  {
   "cell_type": "code",
   "execution_count": 227,
   "metadata": {
    "collapsed": true
   },
   "outputs": [],
   "source": [
    "#import modules\n",
    "import pandas as pd\n",
    "import numpy as np\n",
    "import json\n",
    "import os\n",
    "import sys\n",
    "import csv\n",
    "from sklearn import preprocessing"
   ]
  },
  {
   "cell_type": "code",
   "execution_count": 228,
   "metadata": {},
   "outputs": [
    {
     "data": {
      "text/html": [
       "<div>\n",
       "<style>\n",
       "    .dataframe thead tr:only-child th {\n",
       "        text-align: right;\n",
       "    }\n",
       "\n",
       "    .dataframe thead th {\n",
       "        text-align: left;\n",
       "    }\n",
       "\n",
       "    .dataframe tbody tr th {\n",
       "        vertical-align: top;\n",
       "    }\n",
       "</style>\n",
       "<table border=\"1\" class=\"dataframe\">\n",
       "  <thead>\n",
       "    <tr style=\"text-align: right;\">\n",
       "      <th></th>\n",
       "      <th>Age</th>\n",
       "      <th>Gender</th>\n",
       "      <th>Item ID</th>\n",
       "      <th>Item Name</th>\n",
       "      <th>Price</th>\n",
       "      <th>SN</th>\n",
       "    </tr>\n",
       "  </thead>\n",
       "  <tbody>\n",
       "    <tr>\n",
       "      <th>0</th>\n",
       "      <td>38</td>\n",
       "      <td>Male</td>\n",
       "      <td>165</td>\n",
       "      <td>Bone Crushing Silver Skewer</td>\n",
       "      <td>3.37</td>\n",
       "      <td>Aelalis34</td>\n",
       "    </tr>\n",
       "    <tr>\n",
       "      <th>1</th>\n",
       "      <td>21</td>\n",
       "      <td>Male</td>\n",
       "      <td>119</td>\n",
       "      <td>Stormbringer, Dark Blade of Ending Misery</td>\n",
       "      <td>2.32</td>\n",
       "      <td>Eolo46</td>\n",
       "    </tr>\n",
       "    <tr>\n",
       "      <th>2</th>\n",
       "      <td>34</td>\n",
       "      <td>Male</td>\n",
       "      <td>174</td>\n",
       "      <td>Primitive Blade</td>\n",
       "      <td>2.46</td>\n",
       "      <td>Assastnya25</td>\n",
       "    </tr>\n",
       "    <tr>\n",
       "      <th>3</th>\n",
       "      <td>21</td>\n",
       "      <td>Male</td>\n",
       "      <td>92</td>\n",
       "      <td>Final Critic</td>\n",
       "      <td>1.36</td>\n",
       "      <td>Pheusrical25</td>\n",
       "    </tr>\n",
       "    <tr>\n",
       "      <th>4</th>\n",
       "      <td>23</td>\n",
       "      <td>Male</td>\n",
       "      <td>63</td>\n",
       "      <td>Stormfury Mace</td>\n",
       "      <td>1.27</td>\n",
       "      <td>Aela59</td>\n",
       "    </tr>\n",
       "  </tbody>\n",
       "</table>\n",
       "</div>"
      ],
      "text/plain": [
       "   Age Gender  Item ID                                  Item Name  Price  \\\n",
       "0   38   Male      165                Bone Crushing Silver Skewer   3.37   \n",
       "1   21   Male      119  Stormbringer, Dark Blade of Ending Misery   2.32   \n",
       "2   34   Male      174                            Primitive Blade   2.46   \n",
       "3   21   Male       92                               Final Critic   1.36   \n",
       "4   23   Male       63                             Stormfury Mace   1.27   \n",
       "\n",
       "             SN  \n",
       "0     Aelalis34  \n",
       "1        Eolo46  \n",
       "2   Assastnya25  \n",
       "3  Pheusrical25  \n",
       "4        Aela59  "
      ]
     },
     "execution_count": 228,
     "metadata": {},
     "output_type": "execute_result"
    }
   ],
   "source": [
    "#upload data.parse data.\n",
    "data=json.load(open(\"../Weel-04-Pandas/Instructions/HeroesOfPymoli/purchase_data.json\"))\n",
    "fantasy_data=pd.DataFrame(data)\n",
    "fantasy_data.head()"
   ]
  },
  {
   "cell_type": "code",
   "execution_count": 229,
   "metadata": {},
   "outputs": [
    {
     "name": "stdout",
     "output_type": "stream",
     "text": [
      "573\n"
     ]
    }
   ],
   "source": [
    "#Total number of players\n",
    "total_players = len(fantasy_data[\"SN\"].unique())\n",
    "print(total_players)"
   ]
  },
  {
   "cell_type": "code",
   "execution_count": 230,
   "metadata": {},
   "outputs": [
    {
     "name": "stdout",
     "output_type": "stream",
     "text": [
      "183\n"
     ]
    }
   ],
   "source": [
    "#Number of Unique Items\n",
    "unique_items_group = fantasy_data.groupby([\"Item ID\"])\n",
    "total_items = len(unique_items_group)\n",
    "print(total_items)"
   ]
  },
  {
   "cell_type": "code",
   "execution_count": 231,
   "metadata": {},
   "outputs": [
    {
     "name": "stdout",
     "output_type": "stream",
     "text": [
      "2.931192307692303\n"
     ]
    }
   ],
   "source": [
    "#Average Purchase Price\n",
    "average_Price = fantasy_data[\"Price\"].mean()\n",
    "print(average_Price)"
   ]
  },
  {
   "cell_type": "code",
   "execution_count": 232,
   "metadata": {},
   "outputs": [
    {
     "name": "stdout",
     "output_type": "stream",
     "text": [
      "780\n"
     ]
    }
   ],
   "source": [
    " #Total Number of Purchases\n",
    "total_Purchases = fantasy_data[\"Price\"].count()\n",
    "print(total_Purchases)"
   ]
  },
  {
   "cell_type": "code",
   "execution_count": 233,
   "metadata": {},
   "outputs": [
    {
     "name": "stdout",
     "output_type": "stream",
     "text": [
      "2286.3299999999963\n"
     ]
    }
   ],
   "source": [
    "#Total Revenue\n",
    "total_Revenue = fantasy_data[\"Price\"].sum()\n",
    "print(total_Revenue)"
   ]
  },
  {
   "cell_type": "code",
   "execution_count": 234,
   "metadata": {},
   "outputs": [
    {
     "data": {
      "text/html": [
       "<div>\n",
       "<style>\n",
       "    .dataframe thead tr:only-child th {\n",
       "        text-align: right;\n",
       "    }\n",
       "\n",
       "    .dataframe thead th {\n",
       "        text-align: left;\n",
       "    }\n",
       "\n",
       "    .dataframe tbody tr th {\n",
       "        vertical-align: top;\n",
       "    }\n",
       "</style>\n",
       "<table border=\"1\" class=\"dataframe\">\n",
       "  <thead>\n",
       "    <tr style=\"text-align: right;\">\n",
       "      <th></th>\n",
       "      <th>Age</th>\n",
       "      <th>Gender</th>\n",
       "      <th>Item ID</th>\n",
       "      <th>Item Name</th>\n",
       "      <th>Price</th>\n",
       "      <th>SN</th>\n",
       "    </tr>\n",
       "  </thead>\n",
       "  <tbody>\n",
       "    <tr>\n",
       "      <th>0</th>\n",
       "      <td>38</td>\n",
       "      <td>Male</td>\n",
       "      <td>165</td>\n",
       "      <td>Bone Crushing Silver Skewer</td>\n",
       "      <td>3.37</td>\n",
       "      <td>Aelalis34</td>\n",
       "    </tr>\n",
       "    <tr>\n",
       "      <th>1</th>\n",
       "      <td>21</td>\n",
       "      <td>Male</td>\n",
       "      <td>119</td>\n",
       "      <td>Stormbringer, Dark Blade of Ending Misery</td>\n",
       "      <td>2.32</td>\n",
       "      <td>Eolo46</td>\n",
       "    </tr>\n",
       "    <tr>\n",
       "      <th>2</th>\n",
       "      <td>34</td>\n",
       "      <td>Male</td>\n",
       "      <td>174</td>\n",
       "      <td>Primitive Blade</td>\n",
       "      <td>2.46</td>\n",
       "      <td>Assastnya25</td>\n",
       "    </tr>\n",
       "    <tr>\n",
       "      <th>3</th>\n",
       "      <td>21</td>\n",
       "      <td>Male</td>\n",
       "      <td>92</td>\n",
       "      <td>Final Critic</td>\n",
       "      <td>1.36</td>\n",
       "      <td>Pheusrical25</td>\n",
       "    </tr>\n",
       "    <tr>\n",
       "      <th>4</th>\n",
       "      <td>23</td>\n",
       "      <td>Male</td>\n",
       "      <td>63</td>\n",
       "      <td>Stormfury Mace</td>\n",
       "      <td>1.27</td>\n",
       "      <td>Aela59</td>\n",
       "    </tr>\n",
       "  </tbody>\n",
       "</table>\n",
       "</div>"
      ],
      "text/plain": [
       "   Age Gender  Item ID                                  Item Name  Price  \\\n",
       "0   38   Male      165                Bone Crushing Silver Skewer   3.37   \n",
       "1   21   Male      119  Stormbringer, Dark Blade of Ending Misery   2.32   \n",
       "2   34   Male      174                            Primitive Blade   2.46   \n",
       "3   21   Male       92                               Final Critic   1.36   \n",
       "4   23   Male       63                             Stormfury Mace   1.27   \n",
       "\n",
       "             SN  \n",
       "0     Aelalis34  \n",
       "1        Eolo46  \n",
       "2   Assastnya25  \n",
       "3  Pheusrical25  \n",
       "4        Aela59  "
      ]
     },
     "execution_count": 234,
     "metadata": {},
     "output_type": "execute_result"
    }
   ],
   "source": [
    "#Create df with unique SN to work with to remove duplicate players.\n",
    "#sys.setrecursionlimit(10000) <--- this...crashed the program\n",
    "fantasy_data1 = fantasy_data.drop_duplicates([\"SN\"])\n",
    "fantasy_data1.head()"
   ]
  },
  {
   "cell_type": "code",
   "execution_count": 235,
   "metadata": {
    "collapsed": true
   },
   "outputs": [],
   "source": [
    "#Gender\n",
    "total_gender = fantasy_data1[\"Gender\"].count()"
   ]
  },
  {
   "cell_type": "code",
   "execution_count": 236,
   "metadata": {},
   "outputs": [
    {
     "name": "stdout",
     "output_type": "stream",
     "text": [
      "Male: 465\n",
      "% Male: 81.15183246073299\n"
     ]
    }
   ],
   "source": [
    "#Percentage and Count of Male Players\n",
    "male = fantasy_data1[\"Gender\"].value_counts()['Male']\n",
    "male_percent = (male/total_gender) * 100\n",
    "print(f\"Male: {male}\\n% Male: {male_percent}\")"
   ]
  },
  {
   "cell_type": "code",
   "execution_count": 237,
   "metadata": {},
   "outputs": [
    {
     "name": "stdout",
     "output_type": "stream",
     "text": [
      "Female: 100\n",
      " % Female: 17.452006980802793\n"
     ]
    }
   ],
   "source": [
    "#Percentage and Count of Female Players\n",
    "female = fantasy_data1[\"Gender\"].value_counts()['Female']\n",
    "female_percent = (female/total_gender) * 100\n",
    "print(f\"Female: {female}\\n % Female: {female_percent}\")"
   ]
  },
  {
   "cell_type": "code",
   "execution_count": 238,
   "metadata": {},
   "outputs": [
    {
     "name": "stdout",
     "output_type": "stream",
     "text": [
      " non_specfic: 8 \n",
      " % non_specifc: 8\n"
     ]
    }
   ],
   "source": [
    "#Percentage and Count of Other / Non-Disclosed\n",
    "non_gender_specific = total_gender - male - female\n",
    "non_gender_specific_percent = (non_gender_specific/total_gender) * 100\n",
    "print(f\" non_specfic: {non_gender_specific} \\n % non_specifc: {non_gender_specific}\")"
   ]
  },
  {
   "cell_type": "code",
   "execution_count": 239,
   "metadata": {},
   "outputs": [
    {
     "data": {
      "text/html": [
       "<div>\n",
       "<style>\n",
       "    .dataframe thead tr:only-child th {\n",
       "        text-align: right;\n",
       "    }\n",
       "\n",
       "    .dataframe thead th {\n",
       "        text-align: left;\n",
       "    }\n",
       "\n",
       "    .dataframe tbody tr th {\n",
       "        vertical-align: top;\n",
       "    }\n",
       "</style>\n",
       "<table border=\"1\" class=\"dataframe\">\n",
       "  <thead>\n",
       "    <tr style=\"text-align: right;\">\n",
       "      <th></th>\n",
       "      <th>Age</th>\n",
       "      <th>Item ID</th>\n",
       "      <th>Price</th>\n",
       "    </tr>\n",
       "    <tr>\n",
       "      <th>Gender</th>\n",
       "      <th></th>\n",
       "      <th></th>\n",
       "      <th></th>\n",
       "    </tr>\n",
       "  </thead>\n",
       "  <tbody>\n",
       "    <tr>\n",
       "      <th>Female</th>\n",
       "      <td>22.260000</td>\n",
       "      <td>86.130000</td>\n",
       "      <td>2.887900</td>\n",
       "    </tr>\n",
       "    <tr>\n",
       "      <th>Male</th>\n",
       "      <td>22.621505</td>\n",
       "      <td>91.144086</td>\n",
       "      <td>2.988645</td>\n",
       "    </tr>\n",
       "    <tr>\n",
       "      <th>Other / Non-Disclosed</th>\n",
       "      <td>25.875000</td>\n",
       "      <td>121.125000</td>\n",
       "      <td>3.447500</td>\n",
       "    </tr>\n",
       "  </tbody>\n",
       "</table>\n",
       "</div>"
      ],
      "text/plain": [
       "                             Age     Item ID     Price\n",
       "Gender                                                \n",
       "Female                 22.260000   86.130000  2.887900\n",
       "Male                   22.621505   91.144086  2.988645\n",
       "Other / Non-Disclosed  25.875000  121.125000  3.447500"
      ]
     },
     "execution_count": 239,
     "metadata": {},
     "output_type": "execute_result"
    }
   ],
   "source": [
    "#By Gender\n",
    "gender_group = fantasy_data1.groupby([\"Gender\"])\n",
    "gender_group.mean()"
   ]
  },
  {
   "cell_type": "code",
   "execution_count": 240,
   "metadata": {},
   "outputs": [
    {
     "data": {
      "text/plain": [
       "136"
      ]
     },
     "execution_count": 240,
     "metadata": {},
     "output_type": "execute_result"
    }
   ],
   "source": [
    "#Gender Purchase Count\n",
    "female_purchases = fantasy_data.loc[fantasy_data[\"Gender\"] == \"Female\"]\n",
    "female_pc = female_purchases[\"Item ID\"].count()\n",
    "female_pc"
   ]
  },
  {
   "cell_type": "code",
   "execution_count": 241,
   "metadata": {},
   "outputs": [
    {
     "data": {
      "text/plain": [
       "633"
      ]
     },
     "execution_count": 241,
     "metadata": {},
     "output_type": "execute_result"
    }
   ],
   "source": [
    "male_purchases = fantasy_data.loc[fantasy_data[\"Gender\"] == \"Male\"]\n",
    "male_pc = male_purchases[\"Item ID\"].count()\n",
    "male_pc"
   ]
  },
  {
   "cell_type": "code",
   "execution_count": 242,
   "metadata": {},
   "outputs": [
    {
     "data": {
      "text/plain": [
       "11"
      ]
     },
     "execution_count": 242,
     "metadata": {},
     "output_type": "execute_result"
    }
   ],
   "source": [
    "other_purchases = fantasy_data.loc[fantasy_data[\"Gender\"] == \"Other / Non-Disclosed\"]\n",
    "other_pc = other_purchases[\"Item ID\"].count()\n",
    "other_pc"
   ]
  },
  {
   "cell_type": "code",
   "execution_count": null,
   "metadata": {},
   "outputs": [],
   "source": []
  },
  {
   "cell_type": "code",
   "execution_count": 243,
   "metadata": {},
   "outputs": [
    {
     "data": {
      "text/plain": [
       "Gender\n",
       "Female                   2.887900\n",
       "Male                     2.988645\n",
       "Other / Non-Disclosed    3.447500\n",
       "Name: Price, dtype: float64"
      ]
     },
     "execution_count": 243,
     "metadata": {},
     "output_type": "execute_result"
    }
   ],
   "source": [
    "#Gender Average Purchase Price\n",
    "average_purchase_price = gender_group[\"Price\"].mean()\n",
    "average_purchase_price"
   ]
  },
  {
   "cell_type": "code",
   "execution_count": 244,
   "metadata": {},
   "outputs": [],
   "source": [
    "male_avg_price = average_purchase_price[\"Male\"]\n",
    "female_avg_price = average_purchase_price[\"Female\"]\n",
    "other_avg_price = average_purchase_price[\"Other / Non-Disclosed\"]"
   ]
  },
  {
   "cell_type": "code",
   "execution_count": 245,
   "metadata": {},
   "outputs": [
    {
     "data": {
      "text/plain": [
       "Gender\n",
       "Female                    288.79\n",
       "Male                     1389.72\n",
       "Other / Non-Disclosed      27.58\n",
       "Name: Price, dtype: float64"
      ]
     },
     "execution_count": 245,
     "metadata": {},
     "output_type": "execute_result"
    }
   ],
   "source": [
    "#Total Purchase Value\n",
    "total_purchase_value = gender_group[\"Price\"].sum()\n",
    "total_purchase_value"
   ]
  },
  {
   "cell_type": "code",
   "execution_count": 246,
   "metadata": {},
   "outputs": [
    {
     "data": {
      "text/html": [
       "<div>\n",
       "<style>\n",
       "    .dataframe thead tr:only-child th {\n",
       "        text-align: right;\n",
       "    }\n",
       "\n",
       "    .dataframe thead th {\n",
       "        text-align: left;\n",
       "    }\n",
       "\n",
       "    .dataframe tbody tr th {\n",
       "        vertical-align: top;\n",
       "    }\n",
       "</style>\n",
       "<table border=\"1\" class=\"dataframe\">\n",
       "  <thead>\n",
       "    <tr style=\"text-align: right;\">\n",
       "      <th></th>\n",
       "      <th>female_tpv</th>\n",
       "      <th>male_tpv</th>\n",
       "      <th>other_tpv</th>\n",
       "    </tr>\n",
       "  </thead>\n",
       "  <tbody>\n",
       "    <tr>\n",
       "      <th>0</th>\n",
       "      <td>288.79</td>\n",
       "      <td>1389.72</td>\n",
       "      <td>27.58</td>\n",
       "    </tr>\n",
       "  </tbody>\n",
       "</table>\n",
       "</div>"
      ],
      "text/plain": [
       "   female_tpv  male_tpv  other_tpv\n",
       "0      288.79   1389.72      27.58"
      ]
     },
     "execution_count": 246,
     "metadata": {},
     "output_type": "execute_result"
    }
   ],
   "source": [
    "\n",
    "Purchase_gender_df = pd.DataFrame({\n",
    "\"male_tpv\": [total_purchase_value[\"Male\"]],\n",
    "\"female_tpv\": [total_purchase_value[\"Female\"]],\n",
    "\"other_tpv\": [total_purchase_value[\"Other / Non-Disclosed\"]],\n",
    "})\n",
    "Purchase_gender_df"
   ]
  },
  {
   "cell_type": "code",
   "execution_count": 260,
   "metadata": {},
   "outputs": [
    {
     "data": {
      "text/html": [
       "<div>\n",
       "<style>\n",
       "    .dataframe thead tr:only-child th {\n",
       "        text-align: right;\n",
       "    }\n",
       "\n",
       "    .dataframe thead th {\n",
       "        text-align: left;\n",
       "    }\n",
       "\n",
       "    .dataframe tbody tr th {\n",
       "        vertical-align: top;\n",
       "    }\n",
       "</style>\n",
       "<table border=\"1\" class=\"dataframe\">\n",
       "  <thead>\n",
       "    <tr style=\"text-align: right;\">\n",
       "      <th></th>\n",
       "      <th>Average Purchase Price</th>\n",
       "      <th>Gender</th>\n",
       "      <th>Normalized Totals</th>\n",
       "      <th>Purchase Count</th>\n",
       "      <th>Total Purchase Value</th>\n",
       "    </tr>\n",
       "  </thead>\n",
       "  <tbody>\n",
       "    <tr>\n",
       "      <th>0</th>\n",
       "      <td>2.887900</td>\n",
       "      <td>Male</td>\n",
       "      <td>[[0.0, 0.0, 0.0]]</td>\n",
       "      <td>136</td>\n",
       "      <td>288.79</td>\n",
       "    </tr>\n",
       "    <tr>\n",
       "      <th>1</th>\n",
       "      <td>2.988645</td>\n",
       "      <td>Female</td>\n",
       "      <td>[[0.0, 0.0, 0.0]]</td>\n",
       "      <td>633</td>\n",
       "      <td>1389.72</td>\n",
       "    </tr>\n",
       "    <tr>\n",
       "      <th>2</th>\n",
       "      <td>3.447500</td>\n",
       "      <td>Other</td>\n",
       "      <td>[[0.0, 0.0, 0.0]]</td>\n",
       "      <td>11</td>\n",
       "      <td>27.58</td>\n",
       "    </tr>\n",
       "  </tbody>\n",
       "</table>\n",
       "</div>"
      ],
      "text/plain": [
       "   Average Purchase Price  Gender  Normalized Totals  Purchase Count  \\\n",
       "0                2.887900    Male  [[0.0, 0.0, 0.0]]             136   \n",
       "1                2.988645  Female  [[0.0, 0.0, 0.0]]             633   \n",
       "2                3.447500   Other  [[0.0, 0.0, 0.0]]              11   \n",
       "\n",
       "   Total Purchase Value  \n",
       "0                288.79  \n",
       "1               1389.72  \n",
       "2                 27.58  "
      ]
     },
     "execution_count": 260,
     "metadata": {},
     "output_type": "execute_result"
    }
   ],
   "source": [
    "#Prepping gender norm data\n",
    "g_p = Purchase_gender_df.values.astype(float)\n",
    "min_max_scaler = preprocessing.MinMaxScaler()\n",
    "g_p_scaled = min_max_scaler.fit_transform(g_p)\n",
    "\n",
    "gender_norm_p_df = pd.DataFrame({\"Gender\": [\"Male\", \"Female\", \"Other\"],\n",
    "                                            \"Purchase Count\": [female_pc, male_pc, other_pc],\n",
    "                                            \"Average Purchase Price\": [female_avg_price, male_avg_price, other_avg_price],\n",
    "                                            \"Total Purchase Value\": [female_tpv, male_tpv, other_tpv],\n",
    "                                         \"Normalized Totals\": [g_p_scaled, g_p_scaled, g_p_scaled],\n",
    "                                           #\"Normalized Totals\": [g_p_scaled[:,0], g_p_scaled[:,1], g_p_scaled[:,2]],\n",
    "                                            })\n",
    "gender_norm_p_df"
   ]
  },
  {
   "cell_type": "code",
   "execution_count": 261,
   "metadata": {},
   "outputs": [
    {
     "name": "stdout",
     "output_type": "stream",
     "text": [
      "[[ 0.  0.  0.]]\n"
     ]
    }
   ],
   "source": [
    "g_p = Purchase_gender_df.values.astype(float)\n",
    "min_max_scaler = preprocessing.MinMaxScaler()\n",
    "g_p_scaled = min_max_scaler.fit_transform(g_p)\n",
    "print(g_p_scaled)"
   ]
  },
  {
   "cell_type": "code",
   "execution_count": 248,
   "metadata": {},
   "outputs": [
    {
     "ename": "NameError",
     "evalue": "name 'pandas' is not defined",
     "output_type": "error",
     "traceback": [
      "\u001b[1;31m---------------------------------------------------------------------------\u001b[0m",
      "\u001b[1;31mNameError\u001b[0m                                 Traceback (most recent call last)",
      "\u001b[1;32m<ipython-input-248-439f8b6d5163>\u001b[0m in \u001b[0;36m<module>\u001b[1;34m()\u001b[0m\n\u001b[0;32m      8\u001b[0m \u001b[0mmin_max_scaler\u001b[0m \u001b[1;33m=\u001b[0m \u001b[0mpreprocessing\u001b[0m\u001b[1;33m.\u001b[0m\u001b[0mMinMaxScaler\u001b[0m\u001b[1;33m(\u001b[0m\u001b[1;33m)\u001b[0m\u001b[1;33m\u001b[0m\u001b[0m\n\u001b[0;32m      9\u001b[0m \u001b[0mx_scaled\u001b[0m \u001b[1;33m=\u001b[0m \u001b[0mmin_max_scaler\u001b[0m\u001b[1;33m.\u001b[0m\u001b[0mfit_transform\u001b[0m\u001b[1;33m(\u001b[0m\u001b[0mx\u001b[0m\u001b[1;33m)\u001b[0m\u001b[1;33m\u001b[0m\u001b[0m\n\u001b[1;32m---> 10\u001b[1;33m \u001b[0mdf\u001b[0m \u001b[1;33m=\u001b[0m \u001b[0mpandas\u001b[0m\u001b[1;33m.\u001b[0m\u001b[0mDataFrame\u001b[0m\u001b[1;33m(\u001b[0m\u001b[0mx_scaled\u001b[0m\u001b[1;33m)\u001b[0m\u001b[1;33m\u001b[0m\u001b[0m\n\u001b[0m\u001b[0;32m     11\u001b[0m \u001b[1;33m\u001b[0m\u001b[0m\n\u001b[0;32m     12\u001b[0m \u001b[1;31m# Create x, where x the 'scores' column's values as floats\u001b[0m\u001b[1;33m\u001b[0m\u001b[1;33m\u001b[0m\u001b[0m\n",
      "\u001b[1;31mNameError\u001b[0m: name 'pandas' is not defined"
     ]
    }
   ],
   "source": [
    "#Normalized Totals\n",
    "#df_norm = (df - df.mean()) / (df.max() - df.min())\n",
    "\n",
    "#Purchase sum\n",
    "#avg purchase price\n",
    "#purchase value\n",
    "x = df.values #returns a numpy array\n",
    "min_max_scaler = preprocessing.MinMaxScaler()\n",
    "x_scaled = min_max_scaler.fit_transform(x)\n",
    "df = pandas.DataFrame(x_scaled)\n",
    "\n",
    "# Create x, where x the 'scores' column's values as floats\n",
    "gender_sum = gender_group[\"Item ID\"].count()\n",
    "\n",
    "# Create a minimum and maximum processor object\n",
    "min_max_scaler = preprocessing.MinMaxScaler()\n",
    "\n",
    "# Create an object to transform the data to fit minmax processor\n",
    "gender_sum_scaled = min_max_scaler.fit_transform(gender_sum)\n",
    "\n",
    "# Run the normalizer on the dataframe\n",
    "gender_sum_norm = pd.DataFrame(gender_sum_scaled)\n",
    "# View the dataframe\n",
    "gender_sum_norm\n",
    "\n",
    "\n",
    "\n",
    "#df_norm"
   ]
  },
  {
   "cell_type": "code",
   "execution_count": 249,
   "metadata": {},
   "outputs": [
    {
     "name": "stdout",
     "output_type": "stream",
     "text": [
      "7 45\n"
     ]
    }
   ],
   "source": [
    "#Again by bins of 4 years\n",
    "#Identify range\n",
    "age_low = fantasy_data[\"Age\"].min()\n",
    "age_high = fantasy_data[\"Age\"].max()\n",
    "print(age_low, age_high)"
   ]
  },
  {
   "cell_type": "code",
   "execution_count": 250,
   "metadata": {
    "collapsed": true
   },
   "outputs": [],
   "source": [
    "#create bins\n",
    "\n",
    "age_bins = [4, 8, 12, 16, 20, 24, 28, 32, 36, 40, 44, 48]\n",
    "age_ranges = [\"4-8\", \"8-12\", \"12-16\", \"16-20\", \"20-24\", \"24-28\", \"28-32\", \"32-36\", \"36-40\", \"40-44\", \"44-48\"]"
   ]
  },
  {
   "cell_type": "code",
   "execution_count": 251,
   "metadata": {},
   "outputs": [
    {
     "data": {
      "text/html": [
       "<div>\n",
       "<style>\n",
       "    .dataframe thead tr:only-child th {\n",
       "        text-align: right;\n",
       "    }\n",
       "\n",
       "    .dataframe thead th {\n",
       "        text-align: left;\n",
       "    }\n",
       "\n",
       "    .dataframe tbody tr th {\n",
       "        vertical-align: top;\n",
       "    }\n",
       "</style>\n",
       "<table border=\"1\" class=\"dataframe\">\n",
       "  <thead>\n",
       "    <tr style=\"text-align: right;\">\n",
       "      <th></th>\n",
       "      <th>Age</th>\n",
       "      <th>Gender</th>\n",
       "      <th>Item ID</th>\n",
       "      <th>Item Name</th>\n",
       "      <th>Price</th>\n",
       "      <th>SN</th>\n",
       "      <th>Age Range</th>\n",
       "    </tr>\n",
       "  </thead>\n",
       "  <tbody>\n",
       "    <tr>\n",
       "      <th>0</th>\n",
       "      <td>38</td>\n",
       "      <td>Male</td>\n",
       "      <td>165</td>\n",
       "      <td>Bone Crushing Silver Skewer</td>\n",
       "      <td>3.37</td>\n",
       "      <td>Aelalis34</td>\n",
       "      <td>36-40</td>\n",
       "    </tr>\n",
       "    <tr>\n",
       "      <th>1</th>\n",
       "      <td>21</td>\n",
       "      <td>Male</td>\n",
       "      <td>119</td>\n",
       "      <td>Stormbringer, Dark Blade of Ending Misery</td>\n",
       "      <td>2.32</td>\n",
       "      <td>Eolo46</td>\n",
       "      <td>20-24</td>\n",
       "    </tr>\n",
       "    <tr>\n",
       "      <th>2</th>\n",
       "      <td>34</td>\n",
       "      <td>Male</td>\n",
       "      <td>174</td>\n",
       "      <td>Primitive Blade</td>\n",
       "      <td>2.46</td>\n",
       "      <td>Assastnya25</td>\n",
       "      <td>32-36</td>\n",
       "    </tr>\n",
       "    <tr>\n",
       "      <th>3</th>\n",
       "      <td>21</td>\n",
       "      <td>Male</td>\n",
       "      <td>92</td>\n",
       "      <td>Final Critic</td>\n",
       "      <td>1.36</td>\n",
       "      <td>Pheusrical25</td>\n",
       "      <td>20-24</td>\n",
       "    </tr>\n",
       "    <tr>\n",
       "      <th>4</th>\n",
       "      <td>23</td>\n",
       "      <td>Male</td>\n",
       "      <td>63</td>\n",
       "      <td>Stormfury Mace</td>\n",
       "      <td>1.27</td>\n",
       "      <td>Aela59</td>\n",
       "      <td>20-24</td>\n",
       "    </tr>\n",
       "  </tbody>\n",
       "</table>\n",
       "</div>"
      ],
      "text/plain": [
       "   Age Gender  Item ID                                  Item Name  Price  \\\n",
       "0   38   Male      165                Bone Crushing Silver Skewer   3.37   \n",
       "1   21   Male      119  Stormbringer, Dark Blade of Ending Misery   2.32   \n",
       "2   34   Male      174                            Primitive Blade   2.46   \n",
       "3   21   Male       92                               Final Critic   1.36   \n",
       "4   23   Male       63                             Stormfury Mace   1.27   \n",
       "\n",
       "             SN Age Range  \n",
       "0     Aelalis34     36-40  \n",
       "1        Eolo46     20-24  \n",
       "2   Assastnya25     32-36  \n",
       "3  Pheusrical25     20-24  \n",
       "4        Aela59     20-24  "
      ]
     },
     "execution_count": 251,
     "metadata": {},
     "output_type": "execute_result"
    }
   ],
   "source": [
    "#place ages from fantasy data into bins\n",
    "\n",
    "fantasy_data[\"Age Range\"] = pd.cut(fantasy_data[\"Age\"], age_bins, labels=age_ranges)\n",
    "fantasy_data.head()"
   ]
  },
  {
   "cell_type": "code",
   "execution_count": 252,
   "metadata": {},
   "outputs": [
    {
     "data": {
      "text/html": [
       "<div>\n",
       "<style>\n",
       "    .dataframe thead tr:only-child th {\n",
       "        text-align: right;\n",
       "    }\n",
       "\n",
       "    .dataframe thead th {\n",
       "        text-align: left;\n",
       "    }\n",
       "\n",
       "    .dataframe tbody tr th {\n",
       "        vertical-align: top;\n",
       "    }\n",
       "</style>\n",
       "<table border=\"1\" class=\"dataframe\">\n",
       "  <thead>\n",
       "    <tr style=\"text-align: right;\">\n",
       "      <th></th>\n",
       "      <th>Age</th>\n",
       "      <th>Item ID</th>\n",
       "      <th>Price</th>\n",
       "    </tr>\n",
       "    <tr>\n",
       "      <th>Age Range</th>\n",
       "      <th></th>\n",
       "      <th></th>\n",
       "      <th></th>\n",
       "    </tr>\n",
       "  </thead>\n",
       "  <tbody>\n",
       "    <tr>\n",
       "      <th>4-8</th>\n",
       "      <td>7.136364</td>\n",
       "      <td>85.909091</td>\n",
       "      <td>2.788182</td>\n",
       "    </tr>\n",
       "    <tr>\n",
       "      <th>8-12</th>\n",
       "      <td>10.541667</td>\n",
       "      <td>87.125000</td>\n",
       "      <td>3.385417</td>\n",
       "    </tr>\n",
       "    <tr>\n",
       "      <th>12-16</th>\n",
       "      <td>14.942529</td>\n",
       "      <td>92.816092</td>\n",
       "      <td>2.745862</td>\n",
       "    </tr>\n",
       "    <tr>\n",
       "      <th>16-20</th>\n",
       "      <td>19.248447</td>\n",
       "      <td>84.248447</td>\n",
       "      <td>2.907019</td>\n",
       "    </tr>\n",
       "    <tr>\n",
       "      <th>20-24</th>\n",
       "      <td>22.647059</td>\n",
       "      <td>89.605042</td>\n",
       "      <td>2.924748</td>\n",
       "    </tr>\n",
       "    <tr>\n",
       "      <th>24-28</th>\n",
       "      <td>25.634615</td>\n",
       "      <td>93.855769</td>\n",
       "      <td>2.974712</td>\n",
       "    </tr>\n",
       "    <tr>\n",
       "      <th>28-32</th>\n",
       "      <td>30.257576</td>\n",
       "      <td>91.166667</td>\n",
       "      <td>3.061970</td>\n",
       "    </tr>\n",
       "    <tr>\n",
       "      <th>32-36</th>\n",
       "      <td>34.394737</td>\n",
       "      <td>105.631579</td>\n",
       "      <td>2.981053</td>\n",
       "    </tr>\n",
       "    <tr>\n",
       "      <th>36-40</th>\n",
       "      <td>38.648649</td>\n",
       "      <td>112.972973</td>\n",
       "      <td>2.901351</td>\n",
       "    </tr>\n",
       "    <tr>\n",
       "      <th>40-44</th>\n",
       "      <td>42.500000</td>\n",
       "      <td>83.500000</td>\n",
       "      <td>2.960000</td>\n",
       "    </tr>\n",
       "    <tr>\n",
       "      <th>44-48</th>\n",
       "      <td>45.000000</td>\n",
       "      <td>124.000000</td>\n",
       "      <td>2.720000</td>\n",
       "    </tr>\n",
       "  </tbody>\n",
       "</table>\n",
       "</div>"
      ],
      "text/plain": [
       "                 Age     Item ID     Price\n",
       "Age Range                                 \n",
       "4-8         7.136364   85.909091  2.788182\n",
       "8-12       10.541667   87.125000  3.385417\n",
       "12-16      14.942529   92.816092  2.745862\n",
       "16-20      19.248447   84.248447  2.907019\n",
       "20-24      22.647059   89.605042  2.924748\n",
       "24-28      25.634615   93.855769  2.974712\n",
       "28-32      30.257576   91.166667  3.061970\n",
       "32-36      34.394737  105.631579  2.981053\n",
       "36-40      38.648649  112.972973  2.901351\n",
       "40-44      42.500000   83.500000  2.960000\n",
       "44-48      45.000000  124.000000  2.720000"
      ]
     },
     "execution_count": 252,
     "metadata": {},
     "output_type": "execute_result"
    }
   ],
   "source": [
    "#Group by Age Range, (optional) find oldest in each age group\n",
    "age_groups = fantasy_data.groupby(\"Age Range\")\n",
    "age_groups.mean()"
   ]
  },
  {
   "cell_type": "code",
   "execution_count": 109,
   "metadata": {},
   "outputs": [
    {
     "data": {
      "text/plain": [
       "Age Range\n",
       "4-8       22\n",
       "8-12      24\n",
       "12-16     87\n",
       "16-20    161\n",
       "20-24    238\n",
       "24-28    104\n",
       "28-32     66\n",
       "32-36     38\n",
       "36-40     37\n",
       "40-44      2\n",
       "44-48      1\n",
       "Name: Item ID, dtype: int64"
      ]
     },
     "execution_count": 109,
     "metadata": {},
     "output_type": "execute_result"
    }
   ],
   "source": [
    "#Age Purchase Count\n",
    "age_groups[\"Item ID\"].count()"
   ]
  },
  {
   "cell_type": "code",
   "execution_count": 110,
   "metadata": {},
   "outputs": [
    {
     "data": {
      "text/plain": [
       "Age Range\n",
       "4-8      2.788182\n",
       "8-12     3.385417\n",
       "12-16    2.745862\n",
       "16-20    2.907019\n",
       "20-24    2.924748\n",
       "24-28    2.974712\n",
       "28-32    3.061970\n",
       "32-36    2.981053\n",
       "36-40    2.901351\n",
       "40-44    2.960000\n",
       "44-48    2.720000\n",
       "Name: Price, dtype: float64"
      ]
     },
     "execution_count": 110,
     "metadata": {},
     "output_type": "execute_result"
    }
   ],
   "source": [
    "#Age Average Purchase Price\n",
    "age_groups[\"Price\"].mean()"
   ]
  },
  {
   "cell_type": "code",
   "execution_count": 111,
   "metadata": {},
   "outputs": [
    {
     "data": {
      "text/plain": [
       "Age Range\n",
       "4-8       61.34\n",
       "8-12      81.25\n",
       "12-16    238.89\n",
       "16-20    468.03\n",
       "20-24    696.09\n",
       "24-28    309.37\n",
       "28-32    202.09\n",
       "32-36    113.28\n",
       "36-40    107.35\n",
       "40-44      5.92\n",
       "44-48      2.72\n",
       "Name: Price, dtype: float64"
      ]
     },
     "execution_count": 111,
     "metadata": {},
     "output_type": "execute_result"
    }
   ],
   "source": [
    "#Age Total Purchase Value\n",
    "age_groups[\"Price\"].sum()"
   ]
  },
  {
   "cell_type": "code",
   "execution_count": 112,
   "metadata": {
    "collapsed": true
   },
   "outputs": [],
   "source": [
    "#Age Normalized totals"
   ]
  },
  {
   "cell_type": "code",
   "execution_count": 113,
   "metadata": {
    "collapsed": true
   },
   "outputs": [],
   "source": [
    "#Adds column of how many times a SN appears to fantasy_data\n",
    "fantasy_data[\"SN_count\"] = fantasy_data.groupby(['SN'])['SN'].transform('count')"
   ]
  },
  {
   "cell_type": "code",
   "execution_count": 78,
   "metadata": {},
   "outputs": [
    {
     "data": {
      "text/html": [
       "<div>\n",
       "<style>\n",
       "    .dataframe thead tr:only-child th {\n",
       "        text-align: right;\n",
       "    }\n",
       "\n",
       "    .dataframe thead th {\n",
       "        text-align: left;\n",
       "    }\n",
       "\n",
       "    .dataframe tbody tr th {\n",
       "        vertical-align: top;\n",
       "    }\n",
       "</style>\n",
       "<table border=\"1\" class=\"dataframe\">\n",
       "  <thead>\n",
       "    <tr style=\"text-align: right;\">\n",
       "      <th></th>\n",
       "      <th>Purchase count</th>\n",
       "      <th>Average purchase price</th>\n",
       "      <th>Total purchase value</th>\n",
       "    </tr>\n",
       "    <tr>\n",
       "      <th>SN</th>\n",
       "      <th></th>\n",
       "      <th></th>\n",
       "      <th></th>\n",
       "    </tr>\n",
       "  </thead>\n",
       "  <tbody>\n",
       "    <tr>\n",
       "      <th>Undirrala66</th>\n",
       "      <td>5</td>\n",
       "      <td>3.412000</td>\n",
       "      <td>17.06</td>\n",
       "    </tr>\n",
       "    <tr>\n",
       "      <th>Saedue76</th>\n",
       "      <td>4</td>\n",
       "      <td>3.390000</td>\n",
       "      <td>13.56</td>\n",
       "    </tr>\n",
       "    <tr>\n",
       "      <th>Mindimnya67</th>\n",
       "      <td>4</td>\n",
       "      <td>3.185000</td>\n",
       "      <td>12.74</td>\n",
       "    </tr>\n",
       "    <tr>\n",
       "      <th>Haellysu29</th>\n",
       "      <td>3</td>\n",
       "      <td>4.243333</td>\n",
       "      <td>12.73</td>\n",
       "    </tr>\n",
       "    <tr>\n",
       "      <th>Eoda93</th>\n",
       "      <td>3</td>\n",
       "      <td>3.860000</td>\n",
       "      <td>11.58</td>\n",
       "    </tr>\n",
       "  </tbody>\n",
       "</table>\n",
       "</div>"
      ],
      "text/plain": [
       "             Purchase count  Average purchase price  Total purchase value\n",
       "SN                                                                       \n",
       "Undirrala66               5                3.412000                 17.06\n",
       "Saedue76                  4                3.390000                 13.56\n",
       "Mindimnya67               4                3.185000                 12.74\n",
       "Haellysu29                3                4.243333                 12.73\n",
       "Eoda93                    3                3.860000                 11.58"
      ]
     },
     "execution_count": 78,
     "metadata": {},
     "output_type": "execute_result"
    }
   ],
   "source": [
    "fantasy_sn_groups = fantasy_data.groupby(\"SN\")\n",
    "spenders_price_count_df = fantasy_sn_groups[\"Price\"].count()\n",
    "spenders_price_average_df = fantasy_sn_groups[\"Price\"].mean()\n",
    "spenders_price_total_df = fantasy_sn_groups[\"Price\"].sum()\n",
    "\n",
    "spenders_df = pd.DataFrame({\"Purchase count\": spenders_price_count_df,\n",
    "                           \"Average purchase price\": spenders_price_average_df,\n",
    "                           \"Total purchase value\": spenders_price_total_df},\n",
    "                           columns = [\"Purchase count\", \"Average purchase price\", \"Total purchase value\"])\n",
    "\n",
    "top_five_spenders_df = spenders_df.sort_values(\"Total purchase value\", ascending = False)\n",
    "top_five_spenders_df.head()"
   ]
  },
  {
   "cell_type": "code",
   "execution_count": 79,
   "metadata": {},
   "outputs": [
    {
     "name": "stdout",
     "output_type": "stream",
     "text": [
      "Final Critic                            14\n",
      "Arcane Gem                              11\n",
      "Betrayal, Whisper of Grieving Widows    11\n",
      "Stormcaller                             10\n",
      "Retribution Axe                          9\n",
      "Name: Item Name, dtype: int64\n"
     ]
    }
   ],
   "source": [
    "#Identify the 5 most popular items by purchase count, then list (in a table):\n",
    "#Item ID, Item Name, Purchase Count, Item Price, Total Purchase Value\n",
    "item_popularity = fantasy_data[\"Item Name\"].value_counts()\n",
    "print(item_popularity[:5])\n",
    "#The top 5 are the most popular items- Final Critic:Retribution Axe"
   ]
  },
  {
   "cell_type": "code",
   "execution_count": 166,
   "metadata": {},
   "outputs": [
    {
     "data": {
      "text/html": [
       "<div>\n",
       "<style>\n",
       "    .dataframe thead tr:only-child th {\n",
       "        text-align: right;\n",
       "    }\n",
       "\n",
       "    .dataframe thead th {\n",
       "        text-align: left;\n",
       "    }\n",
       "\n",
       "    .dataframe tbody tr th {\n",
       "        vertical-align: top;\n",
       "    }\n",
       "</style>\n",
       "<table border=\"1\" class=\"dataframe\">\n",
       "  <thead>\n",
       "    <tr style=\"text-align: right;\">\n",
       "      <th></th>\n",
       "      <th></th>\n",
       "      <th>Purchase Count</th>\n",
       "      <th>Item Price</th>\n",
       "      <th>Total Purchase Value</th>\n",
       "    </tr>\n",
       "    <tr>\n",
       "      <th>Item ID</th>\n",
       "      <th>Item Name</th>\n",
       "      <th></th>\n",
       "      <th></th>\n",
       "      <th></th>\n",
       "    </tr>\n",
       "  </thead>\n",
       "  <tbody>\n",
       "    <tr>\n",
       "      <th>39</th>\n",
       "      <th>Betrayal, Whisper of Grieving Widows</th>\n",
       "      <td>11</td>\n",
       "      <td>[2.35]</td>\n",
       "      <td>$25.85</td>\n",
       "    </tr>\n",
       "    <tr>\n",
       "      <th>84</th>\n",
       "      <th>Arcane Gem</th>\n",
       "      <td>11</td>\n",
       "      <td>[2.23]</td>\n",
       "      <td>$24.53</td>\n",
       "    </tr>\n",
       "    <tr>\n",
       "      <th>31</th>\n",
       "      <th>Trickster</th>\n",
       "      <td>9</td>\n",
       "      <td>[2.07]</td>\n",
       "      <td>$18.63</td>\n",
       "    </tr>\n",
       "    <tr>\n",
       "      <th>175</th>\n",
       "      <th>Woeful Adamantite Claymore</th>\n",
       "      <td>9</td>\n",
       "      <td>[1.24]</td>\n",
       "      <td>$11.16</td>\n",
       "    </tr>\n",
       "    <tr>\n",
       "      <th>13</th>\n",
       "      <th>Serenity</th>\n",
       "      <td>9</td>\n",
       "      <td>[1.49]</td>\n",
       "      <td>$13.41</td>\n",
       "    </tr>\n",
       "  </tbody>\n",
       "</table>\n",
       "</div>"
      ],
      "text/plain": [
       "                                              Purchase Count Item Price  \\\n",
       "Item ID Item Name                                                         \n",
       "39      Betrayal, Whisper of Grieving Widows              11     [2.35]   \n",
       "84      Arcane Gem                                        11     [2.23]   \n",
       "31      Trickster                                          9     [2.07]   \n",
       "175     Woeful Adamantite Claymore                         9     [1.24]   \n",
       "13      Serenity                                           9     [1.49]   \n",
       "\n",
       "                                             Total Purchase Value  \n",
       "Item ID Item Name                                                  \n",
       "39      Betrayal, Whisper of Grieving Widows               $25.85  \n",
       "84      Arcane Gem                                         $24.53  \n",
       "31      Trickster                                          $18.63  \n",
       "175     Woeful Adamantite Claymore                         $11.16  \n",
       "13      Serenity                                           $13.41  "
      ]
     },
     "execution_count": 166,
     "metadata": {},
     "output_type": "execute_result"
    }
   ],
   "source": [
    "Items_grouped_df = fantasy_data.groupby([\"Item ID\",\"Item Name\"])\n",
    "Items_pc_df = Items_grouped_df[\"Price\"].count()\n",
    "Items_Purchase_Value_df = Items_grouped_df[\"Price\"].sum()\n",
    "Items_price_df = Items_grouped_df[\"Price\"].unique()\n",
    "\n",
    "\n",
    "\n",
    "Items_df = pd.DataFrame({\"Purchase Count\": Items_pc_df,\n",
    "                         \"Item Price\": Items_price_df,\n",
    "                         \"Total Purchase Value\": Items_Purchase_Value_df},\n",
    "                        columns =[\"Purchase Count\",\"Item Price\",\"Total Purchase Value\"])\n",
    "\n",
    "\n",
    "Top_Items_df = Items_df.sort_values(\"Purchase Count\", ascending = False)\n",
    "Top_Items_df[\"Total Purchase Value\"] = Top_Items_df[\"Total Purchase Value\"].map(\"${:.2f}\".format)\n",
    "Top_Items_df.head()"
   ]
  },
  {
   "cell_type": "code",
   "execution_count": 137,
   "metadata": {},
   "outputs": [
    {
     "ename": "TypeError",
     "evalue": "cannot convert the series to <class 'float'>",
     "output_type": "error",
     "traceback": [
      "\u001b[1;31m---------------------------------------------------------------------------\u001b[0m",
      "\u001b[1;31mTypeError\u001b[0m                                 Traceback (most recent call last)",
      "\u001b[1;32m<ipython-input-137-0b046c714753>\u001b[0m in \u001b[0;36m<module>\u001b[1;34m()\u001b[0m\n\u001b[0;32m      4\u001b[0m \u001b[1;33m\u001b[0m\u001b[0m\n\u001b[0;32m      5\u001b[0m item_popularity_df = pd.DataFrame({\"Purchase count\": item_count_df,\n\u001b[1;32m----> 6\u001b[1;33m                             \u001b[1;34m\"Item ID\"\u001b[0m\u001b[1;33m:\u001b[0m \u001b[0mnp\u001b[0m\u001b[1;33m.\u001b[0m\u001b[0mfloat\u001b[0m\u001b[1;33m(\u001b[0m\u001b[0mfantasy_data\u001b[0m\u001b[1;33m[\u001b[0m\u001b[1;34m\"Item ID\"\u001b[0m\u001b[1;33m]\u001b[0m\u001b[1;33m)\u001b[0m\u001b[1;33m,\u001b[0m\u001b[1;33m\u001b[0m\u001b[0m\n\u001b[0m\u001b[0;32m      7\u001b[0m                             \u001b[1;34m\"Item Price\"\u001b[0m\u001b[1;33m:\u001b[0m \u001b[0mnp\u001b[0m\u001b[1;33m.\u001b[0m\u001b[0mfloat\u001b[0m\u001b[1;33m(\u001b[0m\u001b[0mfantasy_data\u001b[0m\u001b[1;33m[\u001b[0m\u001b[1;34m\"Price\"\u001b[0m\u001b[1;33m]\u001b[0m\u001b[1;33m)\u001b[0m\u001b[1;33m,\u001b[0m\u001b[1;33m\u001b[0m\u001b[0m\n\u001b[0;32m      8\u001b[0m                            \u001b[1;34m\"Item price\"\u001b[0m\u001b[1;33m:\u001b[0m \u001b[0mnp\u001b[0m\u001b[1;33m.\u001b[0m\u001b[0mfloat\u001b[0m\u001b[1;33m(\u001b[0m\u001b[0mitem_price_df\u001b[0m\u001b[1;33m)\u001b[0m\u001b[1;33m,\u001b[0m\u001b[1;33m\u001b[0m\u001b[0m\n",
      "\u001b[1;32m~\\Anaconda3\\lib\\site-packages\\pandas\\core\\series.py\u001b[0m in \u001b[0;36mwrapper\u001b[1;34m(self)\u001b[0m\n\u001b[0;32m     95\u001b[0m             \u001b[1;32mreturn\u001b[0m \u001b[0mconverter\u001b[0m\u001b[1;33m(\u001b[0m\u001b[0mself\u001b[0m\u001b[1;33m.\u001b[0m\u001b[0miloc\u001b[0m\u001b[1;33m[\u001b[0m\u001b[1;36m0\u001b[0m\u001b[1;33m]\u001b[0m\u001b[1;33m)\u001b[0m\u001b[1;33m\u001b[0m\u001b[0m\n\u001b[0;32m     96\u001b[0m         raise TypeError(\"cannot convert the series to \"\n\u001b[1;32m---> 97\u001b[1;33m                         \"{0}\".format(str(converter)))\n\u001b[0m\u001b[0;32m     98\u001b[0m \u001b[1;33m\u001b[0m\u001b[0m\n\u001b[0;32m     99\u001b[0m     \u001b[1;32mreturn\u001b[0m \u001b[0mwrapper\u001b[0m\u001b[1;33m\u001b[0m\u001b[0m\n",
      "\u001b[1;31mTypeError\u001b[0m: cannot convert the series to <class 'float'>"
     ]
    }
   ],
   "source": [
    "item_count_group = fantasy_data.groupby(\"Item Name\")\n",
    "item_count_df = item_count_group[\"Price\"].count()\n",
    "item_total_df = item_count_group[\"Price\"].sum()\n",
    "item_id = np.float(fantasy_data[\"Item ID\"])\n",
    "\n",
    "item_popularity_df = pd.DataFrame({\"Purchase count\": item_count_df,\n",
    "                            \"Item ID\": item_id,\n",
    "                            \"Item Price\": np.float(fantasy_data[\"Price\"]),\n",
    "                           \"Item price\": np.float(item_price_df),\n",
    "                           \"Total purchase value\": item_total_df},\n",
    "                           columns = [\"Purchase count\", \"Item ID\", \"Item price\", \"Item price\", \"Total purchase value\"])\n",
    "\n",
    "popular_items_df = item_popularity_df.sort_values(\"Total purchase value\", ascending = False)\n",
    "popular_items_df.head()"
   ]
  },
  {
   "cell_type": "code",
   "execution_count": 80,
   "metadata": {},
   "outputs": [
    {
     "data": {
      "text/html": [
       "<div>\n",
       "<style>\n",
       "    .dataframe thead tr:only-child th {\n",
       "        text-align: right;\n",
       "    }\n",
       "\n",
       "    .dataframe thead th {\n",
       "        text-align: left;\n",
       "    }\n",
       "\n",
       "    .dataframe tbody tr th {\n",
       "        vertical-align: top;\n",
       "    }\n",
       "</style>\n",
       "<table border=\"1\" class=\"dataframe\">\n",
       "  <thead>\n",
       "    <tr style=\"text-align: right;\">\n",
       "      <th></th>\n",
       "      <th>Purchase count</th>\n",
       "      <th>Average purchase price</th>\n",
       "      <th>Total purchase value</th>\n",
       "    </tr>\n",
       "    <tr>\n",
       "      <th>Item Name</th>\n",
       "      <th></th>\n",
       "      <th></th>\n",
       "      <th></th>\n",
       "    </tr>\n",
       "  </thead>\n",
       "  <tbody>\n",
       "    <tr>\n",
       "      <th>Final Critic</th>\n",
       "      <td>14</td>\n",
       "      <td>2.757143</td>\n",
       "      <td>38.60</td>\n",
       "    </tr>\n",
       "    <tr>\n",
       "      <th>Retribution Axe</th>\n",
       "      <td>9</td>\n",
       "      <td>4.140000</td>\n",
       "      <td>37.26</td>\n",
       "    </tr>\n",
       "    <tr>\n",
       "      <th>Stormcaller</th>\n",
       "      <td>10</td>\n",
       "      <td>3.465000</td>\n",
       "      <td>34.65</td>\n",
       "    </tr>\n",
       "    <tr>\n",
       "      <th>Spectral Diamond Doomblade</th>\n",
       "      <td>7</td>\n",
       "      <td>4.250000</td>\n",
       "      <td>29.75</td>\n",
       "    </tr>\n",
       "    <tr>\n",
       "      <th>Orenmir</th>\n",
       "      <td>6</td>\n",
       "      <td>4.950000</td>\n",
       "      <td>29.70</td>\n",
       "    </tr>\n",
       "  </tbody>\n",
       "</table>\n",
       "</div>"
      ],
      "text/plain": [
       "                            Purchase count  Average purchase price  \\\n",
       "Item Name                                                            \n",
       "Final Critic                            14                2.757143   \n",
       "Retribution Axe                          9                4.140000   \n",
       "Stormcaller                             10                3.465000   \n",
       "Spectral Diamond Doomblade               7                4.250000   \n",
       "Orenmir                                  6                4.950000   \n",
       "\n",
       "                            Total purchase value  \n",
       "Item Name                                         \n",
       "Final Critic                               38.60  \n",
       "Retribution Axe                            37.26  \n",
       "Stormcaller                                34.65  \n",
       "Spectral Diamond Doomblade                 29.75  \n",
       "Orenmir                                    29.70  "
      ]
     },
     "execution_count": 80,
     "metadata": {},
     "output_type": "execute_result"
    }
   ],
   "source": [
    "\n",
    "#Identify the 5 most profitable items by total purchase value, then list (in a table):\n",
    "#Item ID, Item Name, Purchase Count, Item Price, Total Purchase Value\n",
    "#Group by purchase value, sort descending. Filter by most popular. \n",
    "\n",
    "fantasy_item_df = fantasy_data.groupby(\"Item Name\")\n",
    "\n",
    "item_price_count_df = fantasy_item_df[\"Price\"].count()\n",
    "item_price_average_df = fantasy_item_df[\"Price\"].mean()\n",
    "item_price_total_df = fantasy_item_df[\"Price\"].sum()\n",
    "\n",
    "item_df = pd.DataFrame({\"Purchase count\": item_price_count_df,\n",
    "                           \"Average purchase price\": item_price_average_df,\n",
    "                           \"Total purchase value\": item_price_total_df},\n",
    "                           columns = [\"Purchase count\", \"Average purchase price\", \"Total purchase value\"])\n",
    "\n",
    "top_five_item_df = item_df.sort_values(\"Total purchase value\", ascending = False)\n",
    "top_five_item_df.head()"
   ]
  },
  {
   "cell_type": "code",
   "execution_count": null,
   "metadata": {
    "collapsed": true
   },
   "outputs": [],
   "source": []
  }
 ],
 "metadata": {
  "kernelspec": {
   "display_name": "Python 3",
   "language": "python",
   "name": "python3"
  },
  "language_info": {
   "codemirror_mode": {
    "name": "ipython",
    "version": 3
   },
   "file_extension": ".py",
   "mimetype": "text/x-python",
   "name": "python",
   "nbconvert_exporter": "python",
   "pygments_lexer": "ipython3",
   "version": "3.6.3"
  }
 },
 "nbformat": 4,
 "nbformat_minor": 2
}
