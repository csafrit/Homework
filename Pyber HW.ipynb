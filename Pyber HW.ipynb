{
 "cells": [
  {
   "cell_type": "markdown",
   "metadata": {},
   "source": [
    "import csv\n",
    "import numpy as np\n",
    "import pandas as pd\n",
    "import matplotlib.pyplot as plt\n",
    "import matplotlib.cm as cm\n",
    "import seaborn as sb"
   ]
  },
  {
   "cell_type": "code",
   "execution_count": 89,
   "metadata": {},
   "outputs": [],
   "source": [
    "csv_city = \"../Week-05-Matplotlib/Instructions/Pyber/raw_data/city_data.csv\"\n",
    "csv_ride = \"../Week-05-Matplotlib/Instructions/Pyber/raw_data/ride_data.csv\"\n",
    "\n",
    "city_df = pd.read_csv(csv_city)\n",
    "ride_df = pd.read_csv(csv_ride)\n",
    "\n",
    "# Output File Names\n",
    "file_output_city_csv = \"generated_data/city_data.csv\"\n",
    "file_output_rides_csv = \"generated_data/ride_data.csv\""
   ]
  },
  {
   "cell_type": "code",
   "execution_count": 155,
   "metadata": {},
   "outputs": [
    {
     "data": {
      "text/html": [
       "<div>\n",
       "<style>\n",
       "    .dataframe thead tr:only-child th {\n",
       "        text-align: right;\n",
       "    }\n",
       "\n",
       "    .dataframe thead th {\n",
       "        text-align: left;\n",
       "    }\n",
       "\n",
       "    .dataframe tbody tr th {\n",
       "        vertical-align: top;\n",
       "    }\n",
       "</style>\n",
       "<table border=\"1\" class=\"dataframe\">\n",
       "  <thead>\n",
       "    <tr style=\"text-align: right;\">\n",
       "      <th></th>\n",
       "      <th>city</th>\n",
       "      <th>driver_count</th>\n",
       "      <th>type</th>\n",
       "    </tr>\n",
       "  </thead>\n",
       "  <tbody>\n",
       "    <tr>\n",
       "      <th>0</th>\n",
       "      <td>Kelseyland</td>\n",
       "      <td>63</td>\n",
       "      <td>Urban</td>\n",
       "    </tr>\n",
       "    <tr>\n",
       "      <th>1</th>\n",
       "      <td>Nguyenbury</td>\n",
       "      <td>8</td>\n",
       "      <td>Urban</td>\n",
       "    </tr>\n",
       "    <tr>\n",
       "      <th>2</th>\n",
       "      <td>East Douglas</td>\n",
       "      <td>12</td>\n",
       "      <td>Urban</td>\n",
       "    </tr>\n",
       "    <tr>\n",
       "      <th>3</th>\n",
       "      <td>West Dawnfurt</td>\n",
       "      <td>34</td>\n",
       "      <td>Urban</td>\n",
       "    </tr>\n",
       "    <tr>\n",
       "      <th>4</th>\n",
       "      <td>Rodriguezburgh</td>\n",
       "      <td>52</td>\n",
       "      <td>Urban</td>\n",
       "    </tr>\n",
       "  </tbody>\n",
       "</table>\n",
       "</div>"
      ],
      "text/plain": [
       "             city  driver_count   type\n",
       "0      Kelseyland            63  Urban\n",
       "1      Nguyenbury             8  Urban\n",
       "2    East Douglas            12  Urban\n",
       "3   West Dawnfurt            34  Urban\n",
       "4  Rodriguezburgh            52  Urban"
      ]
     },
     "execution_count": 155,
     "metadata": {},
     "output_type": "execute_result"
    }
   ],
   "source": [
    "city_df.head()"
   ]
  },
  {
   "cell_type": "code",
   "execution_count": 156,
   "metadata": {},
   "outputs": [
    {
     "data": {
      "text/plain": [
       "126"
      ]
     },
     "execution_count": 156,
     "metadata": {},
     "output_type": "execute_result"
    }
   ],
   "source": [
    "city_count = len(city_df[\"city\"])\n",
    "city_count\n",
    "#There are 126 cities"
   ]
  },
  {
   "cell_type": "code",
   "execution_count": 153,
   "metadata": {},
   "outputs": [
    {
     "data": {
      "text/html": [
       "<div>\n",
       "<style>\n",
       "    .dataframe thead tr:only-child th {\n",
       "        text-align: right;\n",
       "    }\n",
       "\n",
       "    .dataframe thead th {\n",
       "        text-align: left;\n",
       "    }\n",
       "\n",
       "    .dataframe tbody tr th {\n",
       "        vertical-align: top;\n",
       "    }\n",
       "</style>\n",
       "<table border=\"1\" class=\"dataframe\">\n",
       "  <thead>\n",
       "    <tr style=\"text-align: right;\">\n",
       "      <th></th>\n",
       "      <th>city</th>\n",
       "      <th>date</th>\n",
       "      <th>fare</th>\n",
       "      <th>ride_id</th>\n",
       "    </tr>\n",
       "  </thead>\n",
       "  <tbody>\n",
       "    <tr>\n",
       "      <th>0</th>\n",
       "      <td>Sarabury</td>\n",
       "      <td>2016-01-16 13:49:27</td>\n",
       "      <td>38.35</td>\n",
       "      <td>5403689035038</td>\n",
       "    </tr>\n",
       "    <tr>\n",
       "      <th>1</th>\n",
       "      <td>South Roy</td>\n",
       "      <td>2016-01-02 18:42:34</td>\n",
       "      <td>17.49</td>\n",
       "      <td>4036272335942</td>\n",
       "    </tr>\n",
       "    <tr>\n",
       "      <th>2</th>\n",
       "      <td>Wiseborough</td>\n",
       "      <td>2016-01-21 17:35:29</td>\n",
       "      <td>44.18</td>\n",
       "      <td>3645042422587</td>\n",
       "    </tr>\n",
       "    <tr>\n",
       "      <th>3</th>\n",
       "      <td>Spencertown</td>\n",
       "      <td>2016-07-31 14:53:22</td>\n",
       "      <td>6.87</td>\n",
       "      <td>2242596575892</td>\n",
       "    </tr>\n",
       "    <tr>\n",
       "      <th>4</th>\n",
       "      <td>Nguyenbury</td>\n",
       "      <td>2016-07-09 04:42:44</td>\n",
       "      <td>6.28</td>\n",
       "      <td>1543057793673</td>\n",
       "    </tr>\n",
       "  </tbody>\n",
       "</table>\n",
       "</div>"
      ],
      "text/plain": [
       "          city                 date   fare        ride_id\n",
       "0     Sarabury  2016-01-16 13:49:27  38.35  5403689035038\n",
       "1    South Roy  2016-01-02 18:42:34  17.49  4036272335942\n",
       "2  Wiseborough  2016-01-21 17:35:29  44.18  3645042422587\n",
       "3  Spencertown  2016-07-31 14:53:22   6.87  2242596575892\n",
       "4   Nguyenbury  2016-07-09 04:42:44   6.28  1543057793673"
      ]
     },
     "execution_count": 153,
     "metadata": {},
     "output_type": "execute_result"
    }
   ],
   "source": [
    "ride_df.head()"
   ]
  },
  {
   "cell_type": "code",
   "execution_count": 154,
   "metadata": {},
   "outputs": [
    {
     "data": {
      "text/plain": [
       "2375"
      ]
     },
     "execution_count": 154,
     "metadata": {},
     "output_type": "execute_result"
    }
   ],
   "source": [
    "num_rides = len(ride_df[\"ride_id\"])\n",
    "num_rides\n",
    "#There are 2375 rides"
   ]
  },
  {
   "cell_type": "code",
   "execution_count": 93,
   "metadata": {},
   "outputs": [
    {
     "data": {
      "text/plain": [
       "3349"
      ]
     },
     "execution_count": 93,
     "metadata": {},
     "output_type": "execute_result"
    }
   ],
   "source": [
    "#Check information from df\n",
    "drivers = city_df[\"driver_count\"].sum()\n",
    "drivers"
   ]
  },
  {
   "cell_type": "code",
   "execution_count": 94,
   "metadata": {},
   "outputs": [
    {
     "data": {
      "text/plain": [
       "26.80055157894731"
      ]
     },
     "execution_count": 94,
     "metadata": {},
     "output_type": "execute_result"
    }
   ],
   "source": [
    "avg_fare = ride_df[\"fare\"].mean()\n",
    "avg_fare"
   ]
  },
  {
   "cell_type": "code",
   "execution_count": 109,
   "metadata": {},
   "outputs": [
    {
     "data": {
      "text/html": [
       "<div>\n",
       "<style>\n",
       "    .dataframe thead tr:only-child th {\n",
       "        text-align: right;\n",
       "    }\n",
       "\n",
       "    .dataframe thead th {\n",
       "        text-align: left;\n",
       "    }\n",
       "\n",
       "    .dataframe tbody tr th {\n",
       "        vertical-align: top;\n",
       "    }\n",
       "</style>\n",
       "<table border=\"1\" class=\"dataframe\">\n",
       "  <thead>\n",
       "    <tr>\n",
       "      <th></th>\n",
       "      <th colspan=\"8\" halign=\"left\">driver_count</th>\n",
       "    </tr>\n",
       "    <tr>\n",
       "      <th></th>\n",
       "      <th>count</th>\n",
       "      <th>mean</th>\n",
       "      <th>std</th>\n",
       "      <th>min</th>\n",
       "      <th>25%</th>\n",
       "      <th>50%</th>\n",
       "      <th>75%</th>\n",
       "      <th>max</th>\n",
       "    </tr>\n",
       "    <tr>\n",
       "      <th>type</th>\n",
       "      <th></th>\n",
       "      <th></th>\n",
       "      <th></th>\n",
       "      <th></th>\n",
       "      <th></th>\n",
       "      <th></th>\n",
       "      <th></th>\n",
       "      <th></th>\n",
       "    </tr>\n",
       "  </thead>\n",
       "  <tbody>\n",
       "    <tr>\n",
       "      <th>Rural</th>\n",
       "      <td>18.0</td>\n",
       "      <td>5.777778</td>\n",
       "      <td>2.579456</td>\n",
       "      <td>3.0</td>\n",
       "      <td>3.00</td>\n",
       "      <td>6.0</td>\n",
       "      <td>7.75</td>\n",
       "      <td>10.0</td>\n",
       "    </tr>\n",
       "    <tr>\n",
       "      <th>Suburban</th>\n",
       "      <td>42.0</td>\n",
       "      <td>15.190476</td>\n",
       "      <td>7.651680</td>\n",
       "      <td>1.0</td>\n",
       "      <td>9.00</td>\n",
       "      <td>16.0</td>\n",
       "      <td>21.00</td>\n",
       "      <td>27.0</td>\n",
       "    </tr>\n",
       "    <tr>\n",
       "      <th>Urban</th>\n",
       "      <td>66.0</td>\n",
       "      <td>39.500000</td>\n",
       "      <td>21.726446</td>\n",
       "      <td>4.0</td>\n",
       "      <td>20.25</td>\n",
       "      <td>43.0</td>\n",
       "      <td>59.50</td>\n",
       "      <td>73.0</td>\n",
       "    </tr>\n",
       "  </tbody>\n",
       "</table>\n",
       "</div>"
      ],
      "text/plain": [
       "         driver_count                                                     \n",
       "                count       mean        std  min    25%   50%    75%   max\n",
       "type                                                                      \n",
       "Rural            18.0   5.777778   2.579456  3.0   3.00   6.0   7.75  10.0\n",
       "Suburban         42.0  15.190476   7.651680  1.0   9.00  16.0  21.00  27.0\n",
       "Urban            66.0  39.500000  21.726446  4.0  20.25  43.0  59.50  73.0"
      ]
     },
     "execution_count": 109,
     "metadata": {},
     "output_type": "execute_result"
    }
   ],
   "source": [
    "ride_type = city_df.groupby([\"type\"])\n",
    "ride_type.describe()"
   ]
  },
  {
   "cell_type": "code",
   "execution_count": 124,
   "metadata": {},
   "outputs": [
    {
     "data": {
      "text/plain": [
       "104"
      ]
     },
     "execution_count": 124,
     "metadata": {},
     "output_type": "execute_result"
    }
   ],
   "source": [
    "#Driver by city type calcs\n",
    "driver_rural = sum(city_df[\"driver_count\"].loc[city_df[\"type\"] == \"Rural\"])\n",
    "driver_rural"
   ]
  },
  {
   "cell_type": "code",
   "execution_count": 126,
   "metadata": {},
   "outputs": [
    {
     "data": {
      "text/plain": [
       "638"
      ]
     },
     "execution_count": 126,
     "metadata": {},
     "output_type": "execute_result"
    }
   ],
   "source": [
    "driver_suburban = sum(city_df[\"driver_count\"].loc[city_df[\"type\"] == \"Suburban\"])\n",
    "driver_suburban"
   ]
  },
  {
   "cell_type": "code",
   "execution_count": 127,
   "metadata": {},
   "outputs": [
    {
     "data": {
      "text/plain": [
       "2607"
      ]
     },
     "execution_count": 127,
     "metadata": {},
     "output_type": "execute_result"
    }
   ],
   "source": [
    "driver_urban = sum(city_df[\"driver_count\"].loc[city_df[\"type\"] == \"Urban\"])\n",
    "driver_urban"
   ]
  },
  {
   "cell_type": "code",
   "execution_count": 191,
   "metadata": {},
   "outputs": [
    {
     "data": {
      "text/plain": [
       "{'Alvarezhaven': 21,\n",
       " 'Alyssaberg': 67,\n",
       " 'Anitamouth': 16,\n",
       " 'Antoniomouth': 21,\n",
       " 'Aprilchester': 49,\n",
       " 'Arnoldview': 41,\n",
       " 'Campbellport': 26,\n",
       " 'Carrollbury': 4,\n",
       " 'Carrollfort': 55,\n",
       " 'Clarkstad': 21,\n",
       " 'Conwaymouth': 18,\n",
       " 'Davidtown': 73,\n",
       " 'Davistown': 25,\n",
       " 'East Cherylfurt': 9,\n",
       " 'East Douglas': 12,\n",
       " 'East Erin': 43,\n",
       " 'East Jenniferchester': 22,\n",
       " 'East Leslie': 9,\n",
       " 'East Stephen': 6,\n",
       " 'East Troybury': 3,\n",
       " 'Edwardsbury': 11,\n",
       " 'Erikport': 3,\n",
       " 'Eriktown': 15,\n",
       " 'Floresberg': 7,\n",
       " 'Fosterside': 69,\n",
       " 'Hernandezshire': 10,\n",
       " 'Horneland': 8,\n",
       " 'Jacksonfort': 6,\n",
       " 'Jacobfort': 52,\n",
       " 'Jasonfort': 25,\n",
       " 'Jeffreyton': 8,\n",
       " 'Johnland': 13,\n",
       " 'Kellershire': 51,\n",
       " 'Kelseyland': 63,\n",
       " 'Kennethburgh': 3,\n",
       " 'Kimberlychester': 13,\n",
       " 'Kinghaven': 3,\n",
       " 'Kyleton': 12,\n",
       " 'Lake Brenda': 24,\n",
       " 'Lake Jeffreyland': 15,\n",
       " 'Lake Jennaton': 65,\n",
       " 'Lake Sarashire': 8,\n",
       " 'Lake Stevenbury': 63,\n",
       " 'Lisatown': 47,\n",
       " 'Lisaville': 66,\n",
       " 'Manuelchester': 7,\n",
       " 'Martinmouth': 5,\n",
       " 'Maryside': 20,\n",
       " 'Matthewside': 4,\n",
       " 'Mooreview': 34,\n",
       " 'New Aaron': 60,\n",
       " 'New Andreamouth': 42,\n",
       " 'New Brandonborough': 9,\n",
       " 'New Christine': 22,\n",
       " 'New Cindyborough': 20,\n",
       " 'New David': 31,\n",
       " 'New Jeffrey': 58,\n",
       " 'New Jessicamouth': 22,\n",
       " 'New Johnbury': 6,\n",
       " 'New Lynn': 20,\n",
       " 'New Maryport': 26,\n",
       " 'New Michelleberg': 9,\n",
       " 'New Samanthaside': 16,\n",
       " 'Nguyenbury': 8,\n",
       " 'North Tara': 14,\n",
       " 'North Tracyfort': 18,\n",
       " 'North Whitney': 10,\n",
       " 'Pamelahaven': 30,\n",
       " 'Paulfort': 13,\n",
       " 'Pearsonberg': 43,\n",
       " 'Port Alexandria': 27,\n",
       " 'Port Guytown': 26,\n",
       " 'Port James': 3,\n",
       " 'Port Johnstad': 22,\n",
       " 'Port Jose': 11,\n",
       " 'Port Josephfurt': 28,\n",
       " 'Port Martinberg': 44,\n",
       " 'Port Michelleview': 16,\n",
       " 'Port Samantha': 55,\n",
       " 'Prattfurt': 43,\n",
       " 'Rodriguezburgh': 52,\n",
       " 'Rodriguezview': 10,\n",
       " 'Russellport': 9,\n",
       " 'Sandymouth': 11,\n",
       " 'Sarabury': 46,\n",
       " 'Sarahview': 18,\n",
       " 'Shelbyhaven': 9,\n",
       " 'Smithhaven': 67,\n",
       " 'South Bryanstad': 73,\n",
       " 'South Elizabethmouth': 3,\n",
       " 'South Gracechester': 19,\n",
       " 'South Jennifer': 6,\n",
       " 'South Joseph': 3,\n",
       " 'South Josephville': 4,\n",
       " 'South Louis': 12,\n",
       " 'South Roy': 35,\n",
       " 'South Shannonborough': 9,\n",
       " 'Spencertown': 68,\n",
       " 'Stevensport': 6,\n",
       " 'Stewartview': 49,\n",
       " 'Swansonbury': 64,\n",
       " 'Thomastown': 1,\n",
       " 'Tiffanyton': 21,\n",
       " 'Torresshire': 70,\n",
       " 'Travisville': 37,\n",
       " 'Vickimouth': 13,\n",
       " 'Webstertown': 26,\n",
       " 'West Alexis': 47,\n",
       " 'West Brandy': 12,\n",
       " 'West Brittanyton': 9,\n",
       " 'West Dawnfurt': 34,\n",
       " 'West Evan': 4,\n",
       " 'West Jefferyfurt': 65,\n",
       " 'West Kevintown': 5,\n",
       " 'West Oscar': 11,\n",
       " 'West Pamelaborough': 27,\n",
       " 'West Paulport': 5,\n",
       " 'West Peter': 61,\n",
       " 'West Sydneyhaven': 70,\n",
       " 'West Tony': 17,\n",
       " 'Williamchester': 26,\n",
       " 'Williamshire': 70,\n",
       " 'Wiseborough': 55,\n",
       " 'Yolandafurt': 7,\n",
       " 'Zimmermanmouth': 45}"
      ]
     },
     "execution_count": 191,
     "metadata": {},
     "output_type": "execute_result"
    }
   ],
   "source": [
    "#Add driver count to ride_df\n",
    "driver_counts = city_df.set_index('city')['driver_count'].to_dict()\n",
    "driver_counts"
   ]
  },
  {
   "cell_type": "code",
   "execution_count": 186,
   "metadata": {},
   "outputs": [
    {
     "data": {
      "text/plain": [
       "0    46\n",
       "1    35\n",
       "2    55\n",
       "3    68\n",
       "4     8\n",
       "Name: city, dtype: int64"
      ]
     },
     "execution_count": 186,
     "metadata": {},
     "output_type": "execute_result"
    }
   ],
   "source": [
    "driver_df1 = ride_df['city'].map(driver_counts)\n",
    "driver_df1.head()"
   ]
  },
  {
   "cell_type": "code",
   "execution_count": 187,
   "metadata": {},
   "outputs": [
    {
     "data": {
      "text/plain": [
       "{'Alvarezhaven': 'Urban',\n",
       " 'Alyssaberg': 'Urban',\n",
       " 'Anitamouth': 'Suburban',\n",
       " 'Antoniomouth': 'Urban',\n",
       " 'Aprilchester': 'Urban',\n",
       " 'Arnoldview': 'Urban',\n",
       " 'Campbellport': 'Suburban',\n",
       " 'Carrollbury': 'Suburban',\n",
       " 'Carrollfort': 'Urban',\n",
       " 'Clarkstad': 'Suburban',\n",
       " 'Conwaymouth': 'Suburban',\n",
       " 'Davidtown': 'Urban',\n",
       " 'Davistown': 'Urban',\n",
       " 'East Cherylfurt': 'Suburban',\n",
       " 'East Douglas': 'Urban',\n",
       " 'East Erin': 'Urban',\n",
       " 'East Jenniferchester': 'Suburban',\n",
       " 'East Leslie': 'Rural',\n",
       " 'East Stephen': 'Rural',\n",
       " 'East Troybury': 'Rural',\n",
       " 'Edwardsbury': 'Urban',\n",
       " 'Erikport': 'Rural',\n",
       " 'Eriktown': 'Urban',\n",
       " 'Floresberg': 'Suburban',\n",
       " 'Fosterside': 'Urban',\n",
       " 'Hernandezshire': 'Rural',\n",
       " 'Horneland': 'Rural',\n",
       " 'Jacksonfort': 'Rural',\n",
       " 'Jacobfort': 'Urban',\n",
       " 'Jasonfort': 'Suburban',\n",
       " 'Jeffreyton': 'Suburban',\n",
       " 'Johnland': 'Suburban',\n",
       " 'Kellershire': 'Urban',\n",
       " 'Kelseyland': 'Urban',\n",
       " 'Kennethburgh': 'Rural',\n",
       " 'Kimberlychester': 'Urban',\n",
       " 'Kinghaven': 'Rural',\n",
       " 'Kyleton': 'Suburban',\n",
       " 'Lake Brenda': 'Suburban',\n",
       " 'Lake Jeffreyland': 'Urban',\n",
       " 'Lake Jennaton': 'Urban',\n",
       " 'Lake Sarashire': 'Urban',\n",
       " 'Lake Stevenbury': 'Urban',\n",
       " 'Lisatown': 'Urban',\n",
       " 'Lisaville': 'Urban',\n",
       " 'Manuelchester': 'Rural',\n",
       " 'Martinmouth': 'Suburban',\n",
       " 'Maryside': 'Urban',\n",
       " 'Matthewside': 'Rural',\n",
       " 'Mooreview': 'Urban',\n",
       " 'New Aaron': 'Urban',\n",
       " 'New Andreamouth': 'Urban',\n",
       " 'New Brandonborough': 'Suburban',\n",
       " 'New Christine': 'Urban',\n",
       " 'New Cindyborough': 'Suburban',\n",
       " 'New David': 'Urban',\n",
       " 'New Jeffrey': 'Urban',\n",
       " 'New Jessicamouth': 'Suburban',\n",
       " 'New Johnbury': 'Rural',\n",
       " 'New Lynn': 'Suburban',\n",
       " 'New Maryport': 'Urban',\n",
       " 'New Michelleberg': 'Suburban',\n",
       " 'New Samanthaside': 'Suburban',\n",
       " 'Nguyenbury': 'Urban',\n",
       " 'North Tara': 'Suburban',\n",
       " 'North Tracyfort': 'Suburban',\n",
       " 'North Whitney': 'Rural',\n",
       " 'Pamelahaven': 'Urban',\n",
       " 'Paulfort': 'Suburban',\n",
       " 'Pearsonberg': 'Urban',\n",
       " 'Port Alexandria': 'Suburban',\n",
       " 'Port Guytown': 'Suburban',\n",
       " 'Port James': 'Suburban',\n",
       " 'Port Johnstad': 'Urban',\n",
       " 'Port Jose': 'Suburban',\n",
       " 'Port Josephfurt': 'Urban',\n",
       " 'Port Martinberg': 'Urban',\n",
       " 'Port Michelleview': 'Suburban',\n",
       " 'Port Samantha': 'Urban',\n",
       " 'Prattfurt': 'Urban',\n",
       " 'Rodriguezburgh': 'Urban',\n",
       " 'Rodriguezview': 'Suburban',\n",
       " 'Russellport': 'Urban',\n",
       " 'Sandymouth': 'Urban',\n",
       " 'Sarabury': 'Urban',\n",
       " 'Sarahview': 'Suburban',\n",
       " 'Shelbyhaven': 'Rural',\n",
       " 'Smithhaven': 'Urban',\n",
       " 'South Bryanstad': 'Urban',\n",
       " 'South Elizabethmouth': 'Rural',\n",
       " 'South Gracechester': 'Suburban',\n",
       " 'South Jennifer': 'Suburban',\n",
       " 'South Joseph': 'Rural',\n",
       " 'South Josephville': 'Urban',\n",
       " 'South Louis': 'Urban',\n",
       " 'South Roy': 'Urban',\n",
       " 'South Shannonborough': 'Suburban',\n",
       " 'Spencertown': 'Urban',\n",
       " 'Stevensport': 'Rural',\n",
       " 'Stewartview': 'Urban',\n",
       " 'Swansonbury': 'Urban',\n",
       " 'Thomastown': 'Suburban',\n",
       " 'Tiffanyton': 'Suburban',\n",
       " 'Torresshire': 'Urban',\n",
       " 'Travisville': 'Urban',\n",
       " 'Vickimouth': 'Urban',\n",
       " 'Webstertown': 'Suburban',\n",
       " 'West Alexis': 'Urban',\n",
       " 'West Brandy': 'Urban',\n",
       " 'West Brittanyton': 'Urban',\n",
       " 'West Dawnfurt': 'Urban',\n",
       " 'West Evan': 'Suburban',\n",
       " 'West Jefferyfurt': 'Urban',\n",
       " 'West Kevintown': 'Rural',\n",
       " 'West Oscar': 'Urban',\n",
       " 'West Pamelaborough': 'Suburban',\n",
       " 'West Paulport': 'Suburban',\n",
       " 'West Peter': 'Urban',\n",
       " 'West Sydneyhaven': 'Urban',\n",
       " 'West Tony': 'Suburban',\n",
       " 'Williamchester': 'Suburban',\n",
       " 'Williamshire': 'Urban',\n",
       " 'Wiseborough': 'Urban',\n",
       " 'Yolandafurt': 'Urban',\n",
       " 'Zimmermanmouth': 'Urban'}"
      ]
     },
     "execution_count": 187,
     "metadata": {},
     "output_type": "execute_result"
    }
   ],
   "source": [
    "#Add city type to ride_df\n",
    "city_type = city_df.set_index('city')['type'].to_dict()\n",
    "city_type"
   ]
  },
  {
   "cell_type": "code",
   "execution_count": 137,
   "metadata": {},
   "outputs": [
    {
     "data": {
      "text/plain": [
       "0    Urban\n",
       "1    Urban\n",
       "2    Urban\n",
       "3    Urban\n",
       "4    Urban\n",
       "Name: city, dtype: object"
      ]
     },
     "execution_count": 137,
     "metadata": {},
     "output_type": "execute_result"
    }
   ],
   "source": [
    "ride_df1 = ride_df['city'].map(city_type)\n",
    "ride_df1.head()"
   ]
  },
  {
   "cell_type": "code",
   "execution_count": 189,
   "metadata": {},
   "outputs": [
    {
     "data": {
      "text/html": [
       "<div>\n",
       "<style>\n",
       "    .dataframe thead tr:only-child th {\n",
       "        text-align: right;\n",
       "    }\n",
       "\n",
       "    .dataframe thead th {\n",
       "        text-align: left;\n",
       "    }\n",
       "\n",
       "    .dataframe tbody tr th {\n",
       "        vertical-align: top;\n",
       "    }\n",
       "</style>\n",
       "<table border=\"1\" class=\"dataframe\">\n",
       "  <thead>\n",
       "    <tr style=\"text-align: right;\">\n",
       "      <th></th>\n",
       "      <th>City</th>\n",
       "      <th>Fare</th>\n",
       "      <th>Type</th>\n",
       "      <th>Driver_Count</th>\n",
       "      <th>Ride_id</th>\n",
       "    </tr>\n",
       "  </thead>\n",
       "  <tbody>\n",
       "    <tr>\n",
       "      <th>0</th>\n",
       "      <td>Sarabury</td>\n",
       "      <td>38.35</td>\n",
       "      <td>Urban</td>\n",
       "      <td>46</td>\n",
       "      <td>5403689035038</td>\n",
       "    </tr>\n",
       "    <tr>\n",
       "      <th>1</th>\n",
       "      <td>South Roy</td>\n",
       "      <td>17.49</td>\n",
       "      <td>Urban</td>\n",
       "      <td>35</td>\n",
       "      <td>4036272335942</td>\n",
       "    </tr>\n",
       "    <tr>\n",
       "      <th>2</th>\n",
       "      <td>Wiseborough</td>\n",
       "      <td>44.18</td>\n",
       "      <td>Urban</td>\n",
       "      <td>55</td>\n",
       "      <td>3645042422587</td>\n",
       "    </tr>\n",
       "    <tr>\n",
       "      <th>3</th>\n",
       "      <td>Spencertown</td>\n",
       "      <td>6.87</td>\n",
       "      <td>Urban</td>\n",
       "      <td>68</td>\n",
       "      <td>2242596575892</td>\n",
       "    </tr>\n",
       "    <tr>\n",
       "      <th>4</th>\n",
       "      <td>Nguyenbury</td>\n",
       "      <td>6.28</td>\n",
       "      <td>Urban</td>\n",
       "      <td>8</td>\n",
       "      <td>1543057793673</td>\n",
       "    </tr>\n",
       "  </tbody>\n",
       "</table>\n",
       "</div>"
      ],
      "text/plain": [
       "          City   Fare   Type  Driver_Count        Ride_id\n",
       "0     Sarabury  38.35  Urban            46  5403689035038\n",
       "1    South Roy  17.49  Urban            35  4036272335942\n",
       "2  Wiseborough  44.18  Urban            55  3645042422587\n",
       "3  Spencertown   6.87  Urban            68  2242596575892\n",
       "4   Nguyenbury   6.28  Urban             8  1543057793673"
      ]
     },
     "execution_count": 189,
     "metadata": {},
     "output_type": "execute_result"
    }
   ],
   "source": [
    "city2 = ride_df[\"city\"]\n",
    "fare = ride_df[\"fare\"]\n",
    "ride = ride_df[\"ride_id\"]\n",
    "\n",
    "df_rides = pd.DataFrame({\"City\": city2,\n",
    "                           \"Fare\": fare,\n",
    "                             \"Type\":ride_df1,\n",
    "                             \"Driver_Count\":driver_df1,\n",
    "                             \"Ride_id\": ride},\n",
    "                           columns = [\"City\", \"Fare\", \"Type\", \"Driver_Count\", \"Ride_id\"])\n",
    "df_rides.head()"
   ]
  },
  {
   "cell_type": "code",
   "execution_count": 160,
   "metadata": {},
   "outputs": [
    {
     "data": {
      "text/plain": [
       "125"
      ]
     },
     "execution_count": 160,
     "metadata": {},
     "output_type": "execute_result"
    }
   ],
   "source": [
    "#Ride number calcs\n",
    "fare_rural = len(df_rides[\"Ride_id\"].loc[df_rides[\"Type\"] == \"Rural\"])\n",
    "fare_rural"
   ]
  },
  {
   "cell_type": "code",
   "execution_count": 161,
   "metadata": {},
   "outputs": [
    {
     "data": {
      "text/plain": [
       "625"
      ]
     },
     "execution_count": 161,
     "metadata": {},
     "output_type": "execute_result"
    }
   ],
   "source": [
    "fare_suburban = len(df_rides[\"Ride_id\"].loc[df_rides[\"Type\"] == \"Suburban\"])\n",
    "fare_suburban"
   ]
  },
  {
   "cell_type": "code",
   "execution_count": 162,
   "metadata": {},
   "outputs": [
    {
     "data": {
      "text/plain": [
       "1625"
      ]
     },
     "execution_count": 162,
     "metadata": {},
     "output_type": "execute_result"
    }
   ],
   "source": [
    "fare_urban = len(df_rides[\"Ride_id\"].loc[df_rides[\"Type\"] == \"Urban\"])\n",
    "fare_urban"
   ]
  },
  {
   "cell_type": "code",
   "execution_count": null,
   "metadata": {
    "collapsed": true
   },
   "outputs": [],
   "source": []
  },
  {
   "cell_type": "code",
   "execution_count": 157,
   "metadata": {},
   "outputs": [
    {
     "data": {
      "text/html": [
       "<div>\n",
       "<style>\n",
       "    .dataframe thead tr:only-child th {\n",
       "        text-align: right;\n",
       "    }\n",
       "\n",
       "    .dataframe thead th {\n",
       "        text-align: left;\n",
       "    }\n",
       "\n",
       "    .dataframe tbody tr th {\n",
       "        vertical-align: top;\n",
       "    }\n",
       "</style>\n",
       "<table border=\"1\" class=\"dataframe\">\n",
       "  <thead>\n",
       "    <tr style=\"text-align: right;\">\n",
       "      <th></th>\n",
       "      <th>Fare</th>\n",
       "      <th>Ride_id</th>\n",
       "    </tr>\n",
       "    <tr>\n",
       "      <th>Type</th>\n",
       "      <th></th>\n",
       "      <th></th>\n",
       "    </tr>\n",
       "  </thead>\n",
       "  <tbody>\n",
       "    <tr>\n",
       "      <th>Rural</th>\n",
       "      <td>34.040720</td>\n",
       "      <td>5.269835e+12</td>\n",
       "    </tr>\n",
       "    <tr>\n",
       "      <th>Suburban</th>\n",
       "      <td>30.908608</td>\n",
       "      <td>4.810247e+12</td>\n",
       "    </tr>\n",
       "    <tr>\n",
       "      <th>Urban</th>\n",
       "      <td>24.663594</td>\n",
       "      <td>4.855504e+12</td>\n",
       "    </tr>\n",
       "  </tbody>\n",
       "</table>\n",
       "</div>"
      ],
      "text/plain": [
       "               Fare       Ride_id\n",
       "Type                             \n",
       "Rural     34.040720  5.269835e+12\n",
       "Suburban  30.908608  4.810247e+12\n",
       "Urban     24.663594  4.855504e+12"
      ]
     },
     "execution_count": 157,
     "metadata": {},
     "output_type": "execute_result"
    }
   ],
   "source": [
    "#Easier method for fare calcs\n",
    "#This is avg fare cost per city type, not total fares per city type. Important distinction\n",
    "group_type = df_rides.groupby([\"Type\"])\n",
    "group_type.mean()"
   ]
  },
  {
   "cell_type": "code",
   "execution_count": 165,
   "metadata": {},
   "outputs": [
    {
     "data": {
      "text/plain": [
       "4255.0"
      ]
     },
     "execution_count": 165,
     "metadata": {},
     "output_type": "execute_result"
    }
   ],
   "source": [
    "#Calc total fare per city type\n",
    "rural_tot_fares = fare_rural * 34.04\n",
    "rural_tot_fares"
   ]
  },
  {
   "cell_type": "code",
   "execution_count": 166,
   "metadata": {},
   "outputs": [
    {
     "data": {
      "text/plain": [
       "19318.75"
      ]
     },
     "execution_count": 166,
     "metadata": {},
     "output_type": "execute_result"
    }
   ],
   "source": [
    "suburban_tot_fares = fare_suburban * 30.91\n",
    "suburban_tot_fares"
   ]
  },
  {
   "cell_type": "code",
   "execution_count": 167,
   "metadata": {},
   "outputs": [
    {
     "data": {
      "text/plain": [
       "40072.5"
      ]
     },
     "execution_count": 167,
     "metadata": {},
     "output_type": "execute_result"
    }
   ],
   "source": [
    "urban_tot_fares = fare_urban * 24.66\n",
    "urban_tot_fares"
   ]
  },
  {
   "cell_type": "code",
   "execution_count": 169,
   "metadata": {},
   "outputs": [
    {
     "data": {
      "image/png": "[encoded data removed]",
      "text/plain": [
       "<matplotlib.figure.Figure at 0x240000a8278>"
      ]
     },
     "metadata": {},
     "output_type": "display_data"
    }
   ],
   "source": [
    "# Pie Chart % of Total Fares by City Type\n",
    "#this is fare cost by city type. Not total value of fares by city type\n",
    "labels = [\"Rural\", \"Suburban\", \"Urban\"]\n",
    "sizes = [4255, 19318.75, 40072.5]\n",
    "colors = [\"Gold\", \"lightcoral\", \"lightskyblue\"]\n",
    "explode = (0, 0, 0.1)\n",
    "\n",
    "plt.pie(sizes, explode=explode, labels=labels, colors=colors,\n",
    "        autopct=\"%1.1f%%\", shadow=True, startangle=140)\n",
    "\n",
    "plt.axis(\"equal\")\n",
    "plt.title(\"% of Total Fares by City Type\")\n",
    "plt.show()"
   ]
  },
  {
   "cell_type": "code",
   "execution_count": 192,
   "metadata": {},
   "outputs": [
    {
     "data": {
      "image/png": "[encoded data removed]",
      "text/plain": [
       "<matplotlib.figure.Figure at 0x2407c7f4358>"
      ]
     },
     "metadata": {},
     "output_type": "display_data"
    }
   ],
   "source": [
    "#Pie Chart % of Total Rides by City Type\n",
    "\n",
    "labels = [\"Rural\", \"Suburban\", \"Urban\"]\n",
    "sizes = [125, 625, 1625]\n",
    "colors = [\"Gold\", \"lightcoral\", \"lightskyblue\"]\n",
    "explode = (0, 0, 0.1)\n",
    "\n",
    "plt.pie(sizes, explode=explode, labels=labels, colors=colors,\n",
    "        autopct=\"%1.1f%%\", shadow=True, startangle=140)\n",
    "\n",
    "plt.axis(\"equal\")\n",
    "plt.title(\"% of Total Rides by City Type\")\n",
    "plt.show()"
   ]
  },
  {
   "cell_type": "code",
   "execution_count": 128,
   "metadata": {},
   "outputs": [
    {
     "data": {
      "image/png": "[encoded data removed]",
      "text/plain": [
       "<matplotlib.figure.Figure at 0x2407e202da0>"
      ]
     },
     "metadata": {},
     "output_type": "display_data"
    }
   ],
   "source": [
    "#Pie Chart  % of Total Drivers by City Type\n",
    "#Drivers\n",
    "labels = [\"Rural\", \"Suburban\", \"Urban\"]\n",
    "sizes = [104, 638, 2607]\n",
    "colors = [\"Gold\", \"lightcoral\", \"lightskyblue\"]\n",
    "explode = (0, 0, 0.1)\n",
    "\n",
    "plt.pie(sizes, explode=explode, labels=labels, colors=colors,\n",
    "        autopct=\"%1.1f%%\", shadow=True, startangle=140)\n",
    "\n",
    "plt.axis(\"equal\")\n",
    "plt.title(\"% of Total Drivers by City Type\")\n",
    "plt.show()"
   ]
  },
  {
   "cell_type": "code",
   "execution_count": 106,
   "metadata": {},
   "outputs": [
    {
     "data": {
      "text/plain": [
       "26.80055157894731"
      ]
     },
     "execution_count": 106,
     "metadata": {},
     "output_type": "execute_result"
    }
   ],
   "source": []
  },
  {
   "cell_type": "code",
   "execution_count": null,
   "metadata": {
    "collapsed": true
   },
   "outputs": [],
   "source": [
    "data = [random.random() for value in x_axis]\n",
    "data1 = [random.random() for value in y_axis] \n",
    "plt.scatter(x_axis, data, marker=\"o\", facecolors=\"red\", edgecolors=\"black\",\n",
    "            s=x_axis, alpha=0.75)"
   ]
  },
  {
   "cell_type": "code",
   "execution_count": 198,
   "metadata": {},
   "outputs": [
    {
     "data": {
      "image/png": "[encoded data removed]",
      "text/plain": [
       "<matplotlib.figure.Figure at 0x2400012f0f0>"
      ]
     },
     "metadata": {},
     "output_type": "display_data"
    }
   ],
   "source": [
    "#Bubble plot \n",
    "    #* Average Fare ($) Per City\n",
    "    #* Total Number of Rides Per City\n",
    "    #* Total Number of Drivers Per City\n",
    "    #* City Type (Urban, Suburban, Rural)\n",
    "    #Rainbow fish on crack #blessed \n",
    "\n",
    "#avg_fare = df_pyber1[\"fare\"].mean()\n",
    "#total_drivers = df_pyber1[\"Driver_count\"]\n",
    "#total_rides = (df_pyber1[\"Ride_id\"])/100000000000\n",
    "\n",
    "    \n",
    "N=125\n",
    "city = city_df[\"city\"]\n",
    "fare = ride_df[\"fare\"]\n",
    "#drivers = city_df[\"driver_count\"]\n",
    "rides = (ride_df[\"ride_id\"])/100000000000\n",
    "city_type = [125, 625, 1625]\n",
    "\n",
    "# Choose some random colors\n",
    "colors=cm.rainbow(np.random.rand(N))\n",
    "\n",
    "# Use those colors as the color argument\n",
    "plt.scatter(rides,fare,s=city_type,color=colors)\n",
    "for i in range(N):\n",
    "    plt.annotate(city[i],xy=(rides[i],fare[i]))\n",
    "plt.xlabel('Total Rides')\n",
    "plt.ylabel('Fare Average')\n",
    "\n",
    "# Move title up with the \"y\" option\n",
    "plt.title('Fares by City Type')\n",
    "plt.show()"
   ]
  },
  {
   "cell_type": "code",
   "execution_count": null,
   "metadata": {
    "collapsed": true
   },
   "outputs": [],
   "source": []
  }
 ],
 "metadata": {
  "kernelspec": {
   "display_name": "Python 3",
   "language": "python",
   "name": "python3"
  },
  "language_info": {
   "codemirror_mode": {
    "name": "ipython",
    "version": 3
   },
   "file_extension": ".py",
   "mimetype": "text/x-python",
   "name": "python",
   "nbconvert_exporter": "python",
   "pygments_lexer": "ipython3",
   "version": "3.6.3"
  }
 },
 "nbformat": 4,
 "nbformat_minor": 2
}
