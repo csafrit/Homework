{
 "cells": [
  {
   "cell_type": "code",
   "execution_count": 23,
   "metadata": {
    "collapsed": true
   },
   "outputs": [],
   "source": [
    "import os\n",
    "import pandas as pd\n",
    "import csv\n",
    "import datetime\n",
    "import re"
   ]
  },
  {
   "cell_type": "code",
   "execution_count": 16,
   "metadata": {
    "collapsed": true
   },
   "outputs": [],
   "source": [
    "#Read in csv\n",
    "csv_path = \"../Instructions/PyBoss/raw_data/employee_data1.csv\"\n",
    "\n",
    "pyboss_hw = pd.read_csv(csv_path)"
   ]
  },
  {
   "cell_type": "code",
   "execution_count": 17,
   "metadata": {},
   "outputs": [
    {
     "data": {
      "text/html": [
       "<div>\n",
       "<style>\n",
       "    .dataframe thead tr:only-child th {\n",
       "        text-align: right;\n",
       "    }\n",
       "\n",
       "    .dataframe thead th {\n",
       "        text-align: left;\n",
       "    }\n",
       "\n",
       "    .dataframe tbody tr th {\n",
       "        vertical-align: top;\n",
       "    }\n",
       "</style>\n",
       "<table border=\"1\" class=\"dataframe\">\n",
       "  <thead>\n",
       "    <tr style=\"text-align: right;\">\n",
       "      <th></th>\n",
       "      <th>Emp ID</th>\n",
       "      <th>Name</th>\n",
       "      <th>DOB</th>\n",
       "      <th>SSN</th>\n",
       "      <th>State</th>\n",
       "    </tr>\n",
       "  </thead>\n",
       "  <tbody>\n",
       "    <tr>\n",
       "      <th>0</th>\n",
       "      <td>214</td>\n",
       "      <td>Sarah Simpson</td>\n",
       "      <td>1985-12-04</td>\n",
       "      <td>282-01-8166</td>\n",
       "      <td>Florida</td>\n",
       "    </tr>\n",
       "    <tr>\n",
       "      <th>1</th>\n",
       "      <td>15</td>\n",
       "      <td>Samantha Lara</td>\n",
       "      <td>1993-09-08</td>\n",
       "      <td>848-80-7526</td>\n",
       "      <td>Colorado</td>\n",
       "    </tr>\n",
       "    <tr>\n",
       "      <th>2</th>\n",
       "      <td>411</td>\n",
       "      <td>Stacy Charles</td>\n",
       "      <td>1957-12-20</td>\n",
       "      <td>658-75-8526</td>\n",
       "      <td>Pennsylvania</td>\n",
       "    </tr>\n",
       "    <tr>\n",
       "      <th>3</th>\n",
       "      <td>166</td>\n",
       "      <td>Michelle Roy</td>\n",
       "      <td>1978-07-29</td>\n",
       "      <td>794-25-3944</td>\n",
       "      <td>Michigan</td>\n",
       "    </tr>\n",
       "    <tr>\n",
       "      <th>4</th>\n",
       "      <td>39</td>\n",
       "      <td>Joseph Rogers</td>\n",
       "      <td>1985-03-28</td>\n",
       "      <td>525-40-3515</td>\n",
       "      <td>Minnesota</td>\n",
       "    </tr>\n",
       "  </tbody>\n",
       "</table>\n",
       "</div>"
      ],
      "text/plain": [
       "   Emp ID           Name         DOB          SSN         State\n",
       "0     214  Sarah Simpson  1985-12-04  282-01-8166       Florida\n",
       "1      15  Samantha Lara  1993-09-08  848-80-7526      Colorado\n",
       "2     411  Stacy Charles  1957-12-20  658-75-8526  Pennsylvania\n",
       "3     166   Michelle Roy  1978-07-29  794-25-3944      Michigan\n",
       "4      39  Joseph Rogers  1985-03-28  525-40-3515     Minnesota"
      ]
     },
     "execution_count": 17,
     "metadata": {},
     "output_type": "execute_result"
    }
   ],
   "source": [
    "#Check it out\n",
    "pyboss_hw.head()"
   ]
  },
  {
   "cell_type": "code",
   "execution_count": 18,
   "metadata": {
    "collapsed": true
   },
   "outputs": [],
   "source": [
    "#Get organized\n",
    "#introduce dictionary to be used later\n",
    "#set intended destinations for modified rows\n",
    "\n",
    "state_abbrev = {\n",
    "    'Alabama': 'AL',\n",
    "    'Alaska': 'AK',\n",
    "    'Arizona': 'AZ',\n",
    "    'Arkansas': 'AR',\n",
    "    'California': 'CA',\n",
    "    'Colorado': 'CO',\n",
    "    'Connecticut': 'CT',\n",
    "    'Delaware': 'DE',\n",
    "    'Florida': 'FL',\n",
    "    'Georgia': 'GA',\n",
    "    'Hawaii': 'HI',\n",
    "    'Idaho': 'ID',\n",
    "    'Illinois': 'IL',\n",
    "    'Indiana': 'IN',\n",
    "    'Iowa': 'IA',\n",
    "    'Kansas': 'KS',\n",
    "    'Kentucky': 'KY',\n",
    "    'Louisiana': 'LA',\n",
    "    'Maine': 'ME',\n",
    "    'Maryland': 'MD',\n",
    "    'Massachusetts': 'MA',\n",
    "    'Michigan': 'MI',\n",
    "    'Minnesota': 'MN',\n",
    "    'Mississippi': 'MS',\n",
    "    'Missouri': 'MO',\n",
    "    'Montana': 'MT',\n",
    "    'Nebraska': 'NE',\n",
    "    'Nevada': 'NV',\n",
    "    'New Hampshire': 'NH',\n",
    "    'New Jersey': 'NJ',\n",
    "    'New Mexico': 'NM',\n",
    "    'New York': 'NY',\n",
    "    'North Carolina': 'NC',\n",
    "    'North Dakota': 'ND',\n",
    "    'Ohio': 'OH',\n",
    "    'Oklahoma': 'OK',\n",
    "    'Oregon': 'OR',\n",
    "    'Pennsylvania': 'PA',\n",
    "    'Rhode Island': 'RI',\n",
    "    'South Carolina': 'SC',\n",
    "    'South Dakota': 'SD',\n",
    "    'Tennessee': 'TN',\n",
    "    'Texas': 'TX',\n",
    "    'Utah': 'UT',\n",
    "    'Vermont': 'VT',\n",
    "    'Virginia': 'VA',\n",
    "    'Washington': 'WA',\n",
    "    'West Virginia': 'WV',\n",
    "    'Wisconsin': 'WI',\n",
    "    'Wyoming': 'WY',\n",
    "}\n",
    "\n",
    "first_name = []\n",
    "last_name = []\n",
    "split_name = []\n",
    "dob_new = []\n",
    "dob_format = []\n",
    "ssn_new = []\n",
    "emp_id = pyboss_hw[\"Emp ID\"]"
   ]
  },
  {
   "cell_type": "code",
   "execution_count": 5,
   "metadata": {},
   "outputs": [
    {
     "data": {
      "text/plain": [
       "Emp ID     int64\n",
       "Name      object\n",
       "DOB       object\n",
       "SSN       object\n",
       "State     object\n",
       "dtype: object"
      ]
     },
     "execution_count": 5,
     "metadata": {},
     "output_type": "execute_result"
    }
   ],
   "source": [
    "#Check data types\n",
    "pyboss_hw.dtypes"
   ]
  },
  {
   "cell_type": "code",
   "execution_count": 6,
   "metadata": {},
   "outputs": [
    {
     "data": {
      "text/plain": [
       "0      FL\n",
       "1      CO\n",
       "2      PA\n",
       "3      MI\n",
       "4      MN\n",
       "5      NY\n",
       "6      WI\n",
       "7      TN\n",
       "8      WV\n",
       "9      MO\n",
       "10     MT\n",
       "11     IA\n",
       "12     IL\n",
       "13     GA\n",
       "14     RI\n",
       "15     LA\n",
       "16     ND\n",
       "17     NE\n",
       "18     FL\n",
       "19     OK\n",
       "20     AL\n",
       "21     LA\n",
       "22     OR\n",
       "23     NC\n",
       "24     SD\n",
       "25     NH\n",
       "26     WA\n",
       "27     IN\n",
       "28     NJ\n",
       "29     MS\n",
       "       ..\n",
       "620    WV\n",
       "621    WV\n",
       "622    WV\n",
       "623    MO\n",
       "624    FL\n",
       "625    NM\n",
       "626    LA\n",
       "627    KS\n",
       "628    CO\n",
       "629    KY\n",
       "630    GA\n",
       "631    IA\n",
       "632    NY\n",
       "633    MN\n",
       "634    KY\n",
       "635    OR\n",
       "636    MD\n",
       "637    WV\n",
       "638    KS\n",
       "639    MN\n",
       "640    SC\n",
       "641    AL\n",
       "642    CA\n",
       "643    NY\n",
       "644    ME\n",
       "645    CO\n",
       "646    LA\n",
       "647    DE\n",
       "648    AR\n",
       "649    IA\n",
       "Name: State, Length: 650, dtype: object"
      ]
     },
     "execution_count": 6,
     "metadata": {},
     "output_type": "execute_result"
    }
   ],
   "source": [
    "#Fix state row\n",
    "State = (pyboss_hw[\"State\"]) \n",
    "State.map(state_abbrev)"
   ]
  },
  {
   "cell_type": "code",
   "execution_count": 7,
   "metadata": {},
   "outputs": [
    {
     "data": {
      "text/plain": [
       "Emp ID             int64\n",
       "Name              object\n",
       "DOB       datetime64[ns]\n",
       "SSN               object\n",
       "State             object\n",
       "dtype: object"
      ]
     },
     "execution_count": 7,
     "metadata": {},
     "output_type": "execute_result"
    }
   ],
   "source": [
    "#Try to fix date row\n",
    "pyboss_hw['DOB'] = pd.to_datetime(pyboss_hw['DOB'])\n",
    "pyboss_hw.dtypes"
   ]
  },
  {
   "cell_type": "code",
   "execution_count": 8,
   "metadata": {},
   "outputs": [
    {
     "data": {
      "text/plain": [
       "0   1985-12-04\n",
       "1   1993-09-08\n",
       "2   1957-12-20\n",
       "3   1978-07-29\n",
       "4   1985-03-28\n",
       "Name: DOB, dtype: datetime64[ns]"
      ]
     },
     "execution_count": 8,
     "metadata": {},
     "output_type": "execute_result"
    }
   ],
   "source": [
    "DOB = pyboss_hw[\"DOB\"]\n",
    "DOB.head()"
   ]
  },
  {
   "cell_type": "code",
   "execution_count": 9,
   "metadata": {},
   "outputs": [
    {
     "name": "stdout",
     "output_type": "stream",
     "text": [
      "['12/04/1985']\n"
     ]
    }
   ],
   "source": [
    "DOB = datetime.datetime.strptime('1985-12-04','%Y-%m-%d')\n",
    "DOB1 = datetime.datetime.strftime(DOB, '%m/%d/%Y')\n",
    "dob_new.append(DOB1)\n",
    "print(dob_new)"
   ]
  },
  {
   "cell_type": "code",
   "execution_count": 10,
   "metadata": {},
   "outputs": [
    {
     "name": "stdout",
     "output_type": "stream",
     "text": [
      "Index(['Emp ID', 'Name', 'DOB', 'SSN', 'State'], dtype='object')\n"
     ]
    }
   ],
   "source": [
    "print(pyboss_hw.columns)"
   ]
  },
  {
   "cell_type": "code",
   "execution_count": 11,
   "metadata": {
    "collapsed": true
   },
   "outputs": [],
   "source": [
    "#realize this requires looping through a nested function to be implemented. will try to revisit"
   ]
  },
  {
   "cell_type": "code",
   "execution_count": 19,
   "metadata": {},
   "outputs": [
    {
     "name": "stdout",
     "output_type": "stream",
     "text": [
      "[['Sarah', 'Simpson'], ['Samantha', 'Lara'], ['Stacy', 'Charles'], ['Michelle', 'Roy'], ['Joseph', 'Rogers'], ['Erica', 'Hines'], ['Zoe', 'Patel'], ['Matthew', 'Harvey'], ['Shawn', 'Davis'], ['April', 'Baldwin'], ['Vincent', 'Daniels'], ['Ann', 'Fields'], ['Jeffrey', 'Pearson'], ['Heather', 'Johnson'], ['Melissa', 'Fletcher'], ['Kimberly', 'Alvarez'], ['Monica', 'Jimenez'], ['Steven', 'Johnson'], ['Sarah', 'Wood'], ['Jesus', 'Petersen'], ['Rhonda', 'Rosales'], ['Nicole', 'Richardson'], ['Jennifer', 'Mendez'], ['Sandra', 'Petty'], ['Michael', 'Hester'], ['Joseph', 'Brown'], ['Michelle', 'Cooper'], ['Barbara', 'Wise'], ['Carol', 'Rosales'], ['Mark', 'Villa'], ['Russell', 'Orozco'], ['Michelle', 'Sanchez'], ['Briana', 'Ayala'], ['Shane', 'Roberts'], ['Cassandra', 'Morris'], ['Krista', 'Thompson'], ['Jon', 'Bennett'], ['April', 'Thomas'], ['Haley', 'Martinez'], ['Isaac', 'Stafford'], ['John', 'Martinez'], ['John', 'Phillips'], ['Gary', 'Shelton'], ['Amanda', 'Gordon'], ['Jessica', 'Holt'], ['Stephanie', 'Estes'], ['Jessica', 'Brown'], ['Donna', 'Manning'], ['Nicholas', 'Owens'], ['Wendy', 'Ryan'], ['Kimberly', 'Hooper'], ['Deborah', 'Gonzalez'], ['Laura', 'Yoder'], ['Kimberly', 'Velez'], ['Kevin', 'Garcia'], ['Marcia', 'Jones'], ['Nicole', 'Baldwin'], ['Katherine', 'Juarez'], ['Paula', 'Thompson'], ['Joan', 'Hoover'], ['Stephen', 'Simon'], ['Rebecca', 'Taylor'], ['Lindsay', 'Owens'], ['Justin', 'Payne'], ['Michelle', 'Thornton'], ['Timothy', 'Hill'], ['Karen', 'Johnson'], ['Alexis', 'Mcintosh'], ['Susan', 'Fitzgerald'], ['Amber', 'Stewart'], ['Taylor', 'Evans'], ['Tracy', 'Knight'], ['Jason', 'Parks'], ['Jonathan', 'Carroll'], ['Sara', 'Wallace'], ['Jeffrey', 'Mitchell'], ['April', 'West'], ['Ryan', 'Reynolds'], ['Rachel', 'Bell'], ['Amber', 'Williamson'], ['Tony', 'Park'], ['Robert', 'Jefferson'], ['Sarah', 'Hernandez'], ['Margaret', 'Foley'], ['Tina', 'Christensen'], ['Isaac', 'Gomez'], ['Phillip', 'Davis'], ['Brian', 'Douglas'], ['Teresa', 'Wilson'], ['Timothy', 'Wilson'], ['Lori', 'Davies'], ['Brittany', 'Stone'], ['Matthew', 'Rogers'], ['Francisco', 'Gardner'], ['Ashley', 'Patrick'], ['Brandi', 'Frey'], ['Garrett', 'Kelley'], ['Robert', 'Barron'], ['Lee', 'Serrano'], ['Jessica', 'Vance'], ['Russell', 'Ashley'], ['Catherine', 'Richardson'], ['Sheri', 'Hamilton'], ['Craig', 'Strickland'], ['Brandon', 'Hall'], ['Karla', 'Adams'], ['Ernest', 'Washington'], ['John', 'Owens'], ['Roberto', 'Farmer'], ['Tom', 'Bailey'], ['Jennifer', 'White'], ['Courtney', 'Mendez'], ['Jasmine', 'Miller'], ['Amy', 'Bryan'], ['Melvin', 'Pruitt'], ['Amanda', 'Carrillo'], ['Anthony', 'Nguyen'], ['Kaitlyn', 'Charles'], ['Rebecca', 'Pollard'], ['James', 'Jackson'], ['Gina', 'Jones'], ['Tyler', 'Woodward'], ['Hannah', 'Schultz'], ['Anthony', 'Sims'], ['Jessica', 'Wallace'], ['Jonathan', 'Pearson'], ['Richard', 'Hunt'], ['Madison', 'Ballard'], ['Kathryn', 'Blair'], ['Kristina', 'Patterson'], ['Kathryn', 'Bryant'], ['Jerry', 'Ayala'], ['Karen', 'Rodriguez'], ['Daniel', 'Jacobs'], ['Stephanie', 'Campbell'], ['Michael', 'Pacheco'], ['Steven', 'Garcia'], ['Brenda', 'Hall'], ['Rhonda', 'Smith'], ['Tracy', 'Francis'], ['Dawn', 'Fernandez'], ['Matthew', 'Wells'], ['Joel', 'Walker'], ['Paula', 'Shea'], ['Paul', 'Bell'], ['Frederick', 'Roberson'], ['Melissa', 'Armstrong'], ['Jennifer', 'Alexander'], ['Cassandra', 'Perez'], ['Anthony', 'Austin'], ['Cynthia', 'Jones'], ['Oscar', 'Bernard'], ['Amanda', 'Hendrix'], ['Vincent', 'Henry'], ['Lauren', 'Bush'], ['Stacey', 'Bates'], ['Amanda', 'Khan'], ['Amanda', 'Sutton'], ['Joshua', 'Li'], ['Becky', 'Kennedy'], ['Laura', 'Espinoza'], ['Joshua', 'Murphy'], ['Randall', 'Bowen'], ['Michelle', 'Pham'], ['Emily', 'Thomas'], ['Jessica', 'Kelley'], ['Jeffrey', 'Brown'], ['Jennifer', 'Keith'], ['Joshua', 'Romero'], ['Frank', 'Walker'], ['Cody', 'Lindsey'], ['Cody', 'Baker'], ['Jaclyn', 'Wall'], ['Kaitlyn', 'Roy'], ['Allison', 'Lee'], ['Heather', 'Patterson'], ['Carrie', 'Thomas'], ['David', 'Gutierrez'], ['Harold', 'Robinson'], ['Alex', 'Graham'], ['Steven', 'Thompson'], ['Barbara', 'Martin'], ['Theresa', 'Cochran'], ['Michael', 'Madden'], ['Brian', 'Chase'], ['Carolyn', 'Rodriguez'], ['Breanna', 'Williams'], ['Anne', 'Cook'], ['Tara', 'Bowers'], ['Joyce', 'Hall'], ['Sydney', 'George'], ['Lindsay', 'Williams'], ['Darrell', 'Thomas'], ['Thomas', 'Knight'], ['Carolyn', 'Diaz'], ['Karen', 'Ball'], ['Ronald', 'Richardson'], ['Donna', 'Williams'], ['Molly', 'Wright'], ['Jeffrey', 'Mcintyre'], ['Tabitha', 'Parks'], ['Melissa', 'Padilla'], ['George', 'Harris'], ['Cheryl', 'Hancock'], ['Jeffrey', 'Paul'], ['Wendy', 'Jones'], ['Elizabeth', 'Johnson'], ['Charles', 'Green'], ['Jeffrey', 'Cooper'], ['Judith', 'Brooks'], ['Amanda', 'Ramsey'], ['Stephen', 'Oliver'], ['Nancy', 'Rodriguez'], ['Joshua', 'Powers'], ['Lisa', 'Stein'], ['Jessica', 'Martin'], ['George', 'Hardy'], ['Jonathan', 'Carney'], ['Carol', 'Robertson'], ['Susan', 'Zhang'], ['Christopher', 'Cameron'], ['Paul', 'Ramsey'], ['David', 'Torres'], ['Barbara', 'Roberts'], ['Nicholas', 'Dunn'], ['John', 'Long'], ['Shelby', 'Porter'], ['Judith', 'Robinson'], ['Justin', 'Holt'], ['Laura', 'Valdez'], ['Jesse', 'Rosales'], ['Amy', 'Duran'], ['Joshua', 'Williams'], ['Robert', 'Davis'], ['Lisa', 'Houston'], ['Timothy', 'Williams'], ['Kim', 'Finley'], ['Andrew', 'Lopez'], ['Veronica', 'Herrera'], ['Bob', 'Murphy'], ['Timothy', 'Duncan'], ['David', 'Sandoval'], ['Tony', 'Graves'], ['Andrea', 'Fuller'], ['William', 'Carney'], ['Daniel', 'Dominguez'], ['David', 'Franco'], ['Justin', 'Ortiz'], ['Sara', 'Jarvis'], ['Adam', 'Green'], ['Debra', 'Flores'], ['Jennifer', 'Adams'], ['Lori', 'Sosa'], ['Cory', 'Mora'], ['Denise', 'Hughes'], ['Anthony', 'Jenkins'], ['Leonard', 'Soto'], ['Donald', 'Todd'], ['Christopher', 'Long'], ['Donald', 'Pierce'], ['Matthew', 'Sullivan'], ['Brianna', 'Stevens'], ['Jacqueline', 'Villegas'], ['Mary', 'Diaz'], ['Steven', 'Taylor'], ['Edward', 'Jimenez'], ['John', 'Joseph'], ['Jared', 'Fletcher'], ['Kathleen', 'Hill'], ['Johnny', 'Warner'], ['Frank', 'Smith'], ['Stephanie', 'Thompson'], ['Angela', 'Cannon'], ['Trevor', 'Robinson'], ['Gregory', 'Powers'], ['Michael', 'Sparks'], ['George', 'Flores'], ['Michael', 'Hall'], ['Susan', 'Williamson'], ['Luis', 'Norton'], ['Victoria', 'Pearson'], ['Roger', 'Nichols'], ['Jenny', 'Mills'], ['Joshua', 'Moore'], ['James', 'Carr'], ['David', 'Lane'], ['Beth', 'Reese'], ['Lindsay', 'Thompson'], ['Amber', 'Taylor'], ['Oscar', 'Yates'], ['Anthony', 'Cooper'], ['Tracie', 'Harrison'], ['Corey', 'Herrera'], ['Anthony', 'Kim'], ['Kendra', 'Marshall'], ['Debbie', 'Chang'], ['Miranda', 'Simmons'], ['Catherine', 'Murphy'], ['Nicholas', 'Shelton'], ['Laura', 'Winters'], ['Jill', 'Barr'], ['Lauren', 'Ritter'], ['Anthony', 'Short'], ['Patrick', 'Yates'], ['Brett', 'Mitchell'], ['Andrea', 'Boone'], ['Charles', 'Alvarez'], ['Jeff', 'Garner'], ['Natalie', 'Williams'], ['Tracy', 'King'], ['Michael', 'Huang'], ['Ray', 'Miller'], ['Tracey', 'Powers'], ['Alexander', 'Moore'], ['Lisa', 'Fisher'], ['Tamara', 'Gentry'], ['Christopher', 'Fitzgerald'], ['Jose', 'Olson'], ['Carrie', 'Wallace'], ['Crystal', 'Smith'], ['Caroline', 'Edwards'], ['Carol', 'Baker'], ['Alexandra', 'Ward'], ['Krystal', 'Townsend'], ['Melanie', 'Elliott'], ['Tracey', 'Barajas'], ['Eric', 'Barker'], ['Olivia', 'Elliott'], ['Daniel', 'Reed'], ['Roberto', 'Pierce'], ['Lawrence', 'Stewart'], ['Michael', 'Snow'], ['Ashley', 'Cruz'], ['Jesus', 'Hobbs'], ['Jody', 'Riley'], ['Joseph', 'Scott'], ['Eric', 'Sullivan'], ['Christopher', 'Cervantes'], ['Jennifer', 'Leon'], ['Victor', 'Fuentes'], ['Christine', 'Marshall'], ['Amanda', 'Garcia'], ['Nancy', 'Holloway'], ['Kimberly', 'Banks'], ['Laura', 'King'], ['Robert', 'Mendoza'], ['Jessica', 'Black'], ['Cynthia', 'Duffy'], ['Aaron', 'Henry'], ['Autumn', 'Peterson'], ['Danielle', 'Murphy'], ['Deborah', 'Hoffman'], ['Kathy', 'Palmer'], ['Tim', 'Smith'], ['Renee', 'Campbell'], ['Bryan', 'Mcdaniel'], ['Rhonda', 'Flores'], ['Jonathan', 'Wright'], ['Sydney', 'King'], ['Janet', 'Gonzales'], ['Steve', 'Russell'], ['Craig', 'Pennington'], ['Andrew', 'Thomas'], ['Miguel', 'Woods'], ['Samuel', 'Anderson'], ['Cynthia', 'Clarke'], ['Adam', 'Mcgrath'], ['Courtney', 'Oconnell'], ['Brandon', 'Hudson'], ['Rachel', 'Lewis'], ['Manuel', 'Rodriguez'], ['Gregory', 'Wilkinson'], ['Donna', 'Lopez'], ['David', 'Scott'], ['Gregory', 'Maxwell'], ['Daniel', 'Wilkins'], ['Jonathan', 'Henry'], ['Heather', 'Shepherd'], ['Cindy', 'Munoz'], ['Dalton', 'Bowman'], ['Jon', 'Clark'], ['Amber', 'Meyer'], ['Steven', 'Madden'], ['Victoria', 'Lewis'], ['Karl', 'Dudley'], ['Alicia', 'Stone'], ['Max', 'Mckay'], ['Richard', 'Brown'], ['Heather', 'Case'], ['Amy', 'Gonzalez'], ['Brandon', 'Armstrong'], ['Terrance', 'Ewing'], ['Jessica', 'Boyd'], ['Corey', 'Taylor'], ['Frank', 'Blankenship'], ['Monica', 'Montgomery'], ['Tammy', 'Patrick'], ['Corey', 'Sawyer'], ['Linda', 'Anthony'], ['Travis', 'Patrick'], ['Linda', 'Davis'], ['Anthony', 'Adams'], ['Christopher', 'Johnson'], ['Tracy', 'Austin'], ['Matthew', 'Woodward'], ['Donna', 'Cole'], ['Alexis', 'Allen'], ['Stephen', 'Parker'], ['Nicole', 'Johnson'], ['Daniel', 'Green'], ['Dylan', 'Adams'], ['Jason', 'Davis'], ['Jennifer', 'Conrad'], ['Stephen', 'Dawson'], ['Douglas', 'Smith'], ['Diane', 'Gray'], ['Benjamin', 'Gordon'], ['Stephanie', 'Miller'], ['Lynn', 'Stout'], ['Malik', 'Scott'], ['David', 'Brown'], ['Nathan', 'Jenkins'], ['Maria', 'Bryant'], ['Michael', 'Griffin'], ['Nathan', 'Smith'], ['James', 'Jackson'], ['Erika', 'Jones'], ['Stephanie', 'Leon'], ['Anthony', 'Walker'], ['Richard', 'Brooks'], ['Matthew', 'Bishop'], ['Anthony', 'Thompson'], ['Justin', 'Garcia'], ['Miguel', 'Garcia'], ['Jeffrey', 'Randolph'], ['Raymond', 'Tran'], ['Brandon', 'Webb'], ['Brandon', 'Petersen'], ['Bryce', 'Ball'], ['Blake', 'Watkins'], ['Gregory', 'Morales'], ['Alyssa', 'Wall'], ['Cynthia', 'Garcia'], ['Amber', 'Williams'], ['Steve', 'Stark'], ['Charles', 'Baird'], ['Mackenzie', 'Hall'], ['Aaron', 'King'], ['Joshua', 'Perez'], ['Alexander', 'Valdez'], ['Ashley', 'Santos'], ['Joshua', 'Stephens'], ['Steven', 'Long'], ['Jack', 'Jackson'], ['Roberto', 'Leonard'], ['Michael', 'Park'], ['Carl', 'Reeves'], ['Paul', 'Lee'], ['Kathryn', 'Ramirez'], ['Daniel', 'Medina'], ['Jesse', 'Gomez'], ['Brandon', 'Good'], ['Sandra', 'Suarez'], ['Jeffrey', 'Stevenson'], ['Richard', 'Mcdonald'], ['Joanna', 'Castillo'], ['Angelica', 'Reyes'], ['Jennifer', 'Wright'], ['James', 'Porter'], ['Krystal', 'Brown'], ['Christopher', 'Reyes'], ['Luis', 'Lewis'], ['Lynn', 'Owens'], ['Anthony', 'Phillips'], ['Jessica', 'Mcdonald'], ['Michelle', 'Allen'], ['Victor', 'Webb'], ['Martin', 'Melton'], ['Pamela', 'Miles'], ['Christopher', 'Compton'], ['Annette', 'Rice'], ['Travis', 'Meza'], ['Brian', 'Baker'], ['Sharon', 'Lee'], ['Brian', 'Sparks'], ['Dana', 'Ryan'], ['Maria', 'Stevens'], ['Julia', 'Berry'], ['Sarah', 'Williams'], ['Trevor', 'Short'], ['Michael', 'Johnson'], ['Louis', 'Cross'], ['Ryan', 'Smith'], ['Joan', 'Carter'], ['Karen', 'Franklin'], ['Christian', 'Palmer'], ['Kristopher', 'Smith'], ['Cheryl', 'Velez'], ['Jeffrey', 'Harris'], ['Jamie', 'Doyle'], ['Adam', 'Sims'], ['Joshua', 'Griffith'], ['Donald', 'Koch'], ['Wendy', 'Leonard'], ['Dana', 'Hubbard'], ['Brett', 'Carson'], ['Erica', 'Peters'], ['William', 'Carter'], ['Karen', 'Taylor'], ['Virginia', 'Cobb'], ['Tamara', 'Watson'], ['John', 'Middleton'], ['Alex', 'Cruz'], ['Theresa', 'Crawford'], ['Glenn', 'Chavez'], ['Carrie', 'Davis'], ['Michael', 'Haynes'], ['Michele', 'Arellano'], ['Gina', 'Stevens'], ['Elizabeth', 'Hatfield'], ['Michael', 'Reyes'], ['Spencer', 'Wilson'], ['Kevin', 'Smith'], ['Steven', 'Giles'], ['Mario', 'Butler'], ['Billy', 'Romero'], ['Katie', 'Miller'], ['William', 'Salinas'], ['Kendra', 'Alvarado'], ['Kimberly', 'Wright'], ['Judy', 'Nelson'], ['Alexandra', 'Golden'], ['Patricia', 'Park'], ['Kylie', 'Chavez'], ['Randy', 'Edwards'], ['Glenda', 'Hebert'], ['Erin', 'Garrett'], ['Donna', 'Floyd'], ['Brandon', 'Watson'], ['Paul', 'Patterson'], ['Hannah', 'Henderson'], ['Autumn', 'Smith'], ['Steven', 'Contreras'], ['Miguel', 'Russell'], ['Kim', 'Martin'], ['Heidi', 'Proctor'], ['Nicholas', 'May'], ['Michael', 'Nunez'], ['Gregory', 'Bowen'], ['Jennifer', 'Juarez'], ['April', 'Williamson'], ['Francisco', 'Smith'], ['Roger', 'Taylor'], ['Gabriela', 'Williams'], ['Stephanie', 'Pittman'], ['Sarah', 'Porter'], ['Ernest', 'Cooper'], ['Alexandra', 'Fisher'], ['Henry', 'Turner'], ['Charles', 'Rogers'], ['Keith', 'Lynch'], ['Lindsay', 'Bowman'], ['Jennifer', 'Lutz'], ['Mark', 'Mills'], ['Dawn', 'Thomas'], ['Keith', 'Tyler'], ['Joseph', 'Smith'], ['Michael', 'Dudley'], ['Blake', 'Bowman'], ['Amy', 'Graves'], ['Robert', 'Hill'], ['Robert', 'Davis'], ['Tammy', 'Horton'], ['Allison', 'Watkins'], ['James', 'Mathis'], ['Sabrina', 'Shelton'], ['Rachel', 'Coleman'], ['William', 'Cantrell'], ['Donna', 'Carroll'], ['Tammy', 'Harris'], ['Debra', 'Pena'], ['James', 'Reilly'], ['Robert', 'Krause'], ['Chad', 'Crawford'], ['Luke', 'Huerta'], ['Corey', 'Long'], ['Joshua', 'Flores'], ['Jeffery', 'Collins'], ['Michael', 'Clements'], ['Christopher', 'Williams'], ['Laura', 'Mata'], ['Jessica', 'Campbell'], ['Kristy', 'Hebert'], ['Rachel', 'Silva'], ['Tyrone', 'Dean'], ['Angela', 'White'], ['Teresa', 'Bell'], ['Edwin', 'Williams'], ['Hannah', 'Hicks'], ['Kevin', 'Rivera'], ['Trevor', 'Jones'], ['Emily', 'Silva'], ['Emma', 'Thomas'], ['Lisa', 'Myers'], ['Jennifer', 'King'], ['Dylan', 'Walker'], ['Andrea', 'Snyder'], ['Samuel', 'Lane'], ['Jennifer', 'Cameron'], ['Rodney', 'Cross'], ['Dustin', 'Brown'], ['Krista', 'Mack'], ['Luis', 'Ruiz'], ['Cassandra', 'Johnson'], ['Ruth', 'Nichols'], ['Pamela', 'Dean'], ['Beth', 'Lee'], ['Christopher', 'Martin'], ['Amanda', 'Johnson'], ['Joseph', 'Barnett'], ['Maria', 'Burns'], ['Kevin', 'Riley'], ['Brian', 'Reyes'], ['Jeffrey', 'Robinson'], ['David', 'Gardner'], ['Tracey', 'Downs'], ['Cody', 'Ramirez'], ['Heather', 'Gray'], ['Erika', 'Lewis'], ['Ronald', 'Maynard'], ['Ashley', 'Saunders'], ['Paul', 'Kaufman'], ['Nathan', 'Rosario'], ['Melissa', 'Nguyen'], ['Mitchell', 'Gill'], ['Michael', 'Shaw'], ['Crystal', 'Jones'], ['Jasmine', 'Harrison'], ['Chase', 'Grant'], ['Shawn', 'Kidd'], ['Chris', 'Robinson'], ['Carla', 'Smith'], ['Kimberly', 'Burns'], ['Lori', 'Sullivan'], ['Jennifer', 'Williams'], ['John', 'Lamb'], ['Joanne', 'Lamb'], ['David', 'Brown'], ['Scott', 'Leach'], ['Andrew', 'Tyler']]\n"
     ]
    }
   ],
   "source": [
    "#split names. They appear to be in nested lists, unsure of how to address this.\n",
    "Names = pyboss_hw[\"Name\"]\n",
    "for row in Names:\n",
    "    split_name.append(row.split(' '))\n",
    "\n",
    "print(split_name)"
   ]
  },
  {
   "cell_type": "code",
   "execution_count": 22,
   "metadata": {},
   "outputs": [
    {
     "name": "stdout",
     "output_type": "stream",
     "text": [
      "[['Samantha', 'Lara'], ['Samantha', 'Lara'], ['Samantha', 'Lara']]\n"
     ]
    }
   ],
   "source": [
    "first_name.append(split_name[0]) #Add First Name    <----this works in theory. If split_name weren't nested it should work in practice.\n",
    "last_name.append(split_name[1]) #Add Last Name"
   ]
  },
  {
   "cell_type": "code",
   "execution_count": 31,
   "metadata": {},
   "outputs": [],
   "source": [
    "#try to use regex to solve SSN\n",
    "#SSN1 = re.sub(r'.{3}-.{2}-.{4}', r'\\*\\*\\*-\\*\\*-.{4}')\n",
    "\n",
    "#print(SSN1)"
   ]
  },
  {
   "cell_type": "code",
   "execution_count": 30,
   "metadata": {},
   "outputs": [],
   "source": [
    "#This isn't quite working. \\d{4}regex not recognized. Extremely classified data. \n",
    "SSN = pyboss_hw[\"SSN\"]\n",
    "ssn_replace = re.sub(r'\\d{3}-\\d{2}-\\d{4}', r'***-**-\\d{4}', str(SSN))   \n",
    "\n",
    "ssn_new.append(ssn_replace)"
   ]
  },
  {
   "cell_type": "code",
   "execution_count": null,
   "metadata": {
    "collapsed": true
   },
   "outputs": [],
   "source": [
    "# Combine all data into a single list\n",
    "pyboss_hw = zip(emp_id, first_name, last_name, ssn_new, State)"
   ]
  },
  {
   "cell_type": "code",
   "execution_count": null,
   "metadata": {
    "collapsed": true
   },
   "outputs": [],
   "source": [
    "\n",
    "\n",
    "# Print the employee list to terminal\n",
    "print(emp_db)\n",
    "\n",
    "# Output the employee list to a csv\n",
    "# Write all of the election data to csv\n",
    "with open(file_output_name, \"w\", newline=\"\") as csv_path:\n",
    "    writer = csv.writer(csv_path)\n",
    "    writer.writerow([\"Emp ID\", \"Name\", \"DOB\", \"SSN\", \"State\"])\n",
    "    writer.writerows(pyboss_hw)"
   ]
  }
 ],
 "metadata": {
  "kernelspec": {
   "display_name": "Python 3",
   "language": "python",
   "name": "python3"
  },
  "language_info": {
   "codemirror_mode": {
    "name": "ipython",
    "version": 3
   },
   "file_extension": ".py",
   "mimetype": "text/x-python",
   "name": "python",
   "nbconvert_exporter": "python",
   "pygments_lexer": "ipython3",
   "version": "3.6.3"
  }
 },
 "nbformat": 4,
 "nbformat_minor": 2
}
