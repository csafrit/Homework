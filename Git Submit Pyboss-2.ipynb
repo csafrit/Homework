{
 "cells": [
  {
   "cell_type": "code",
   "execution_count": 1,
   "metadata": {
    "collapsed": true
   },
   "outputs": [],
   "source": [
    "import os\n",
    "import pandas as pd\n",
    "import csv\n",
    "import datetime\n",
    "import re"
   ]
  },
  {
   "cell_type": "code",
   "execution_count": 2,
   "metadata": {
    "collapsed": true
   },
   "outputs": [],
   "source": [
    "#Read in csv\n",
    "csv_path = \"../Instructions/PyBoss/raw_data/employee_data2.csv\"\n",
    "\n",
    "pyboss_hw = pd.read_csv(csv_path)"
   ]
  },
  {
   "cell_type": "code",
   "execution_count": 3,
   "metadata": {},
   "outputs": [
    {
     "data": {
      "text/html": [
       "<div>\n",
       "<style>\n",
       "    .dataframe thead tr:only-child th {\n",
       "        text-align: right;\n",
       "    }\n",
       "\n",
       "    .dataframe thead th {\n",
       "        text-align: left;\n",
       "    }\n",
       "\n",
       "    .dataframe tbody tr th {\n",
       "        vertical-align: top;\n",
       "    }\n",
       "</style>\n",
       "<table border=\"1\" class=\"dataframe\">\n",
       "  <thead>\n",
       "    <tr style=\"text-align: right;\">\n",
       "      <th></th>\n",
       "      <th>Emp ID</th>\n",
       "      <th>Name</th>\n",
       "      <th>DOB</th>\n",
       "      <th>SSN</th>\n",
       "      <th>State</th>\n",
       "    </tr>\n",
       "  </thead>\n",
       "  <tbody>\n",
       "    <tr>\n",
       "      <th>0</th>\n",
       "      <td>1128</td>\n",
       "      <td>Jessica Sheppard</td>\n",
       "      <td>1970-05-24</td>\n",
       "      <td>223-55-4987</td>\n",
       "      <td>Rhode Island</td>\n",
       "    </tr>\n",
       "    <tr>\n",
       "      <th>1</th>\n",
       "      <td>1988</td>\n",
       "      <td>Sarah Rodriguez</td>\n",
       "      <td>1986-07-18</td>\n",
       "      <td>678-02-8700</td>\n",
       "      <td>Wyoming</td>\n",
       "    </tr>\n",
       "    <tr>\n",
       "      <th>2</th>\n",
       "      <td>573</td>\n",
       "      <td>Steven Parker</td>\n",
       "      <td>1981-09-20</td>\n",
       "      <td>808-05-5891</td>\n",
       "      <td>Nebraska</td>\n",
       "    </tr>\n",
       "    <tr>\n",
       "      <th>3</th>\n",
       "      <td>107</td>\n",
       "      <td>Patricia Bennett</td>\n",
       "      <td>1984-06-08</td>\n",
       "      <td>155-12-0424</td>\n",
       "      <td>Louisiana</td>\n",
       "    </tr>\n",
       "    <tr>\n",
       "      <th>4</th>\n",
       "      <td>2040</td>\n",
       "      <td>Lisa Mathis</td>\n",
       "      <td>1957-01-27</td>\n",
       "      <td>408-88-3247</td>\n",
       "      <td>Wisconsin</td>\n",
       "    </tr>\n",
       "  </tbody>\n",
       "</table>\n",
       "</div>"
      ],
      "text/plain": [
       "   Emp ID              Name         DOB          SSN         State\n",
       "0    1128  Jessica Sheppard  1970-05-24  223-55-4987  Rhode Island\n",
       "1    1988   Sarah Rodriguez  1986-07-18  678-02-8700       Wyoming\n",
       "2     573     Steven Parker  1981-09-20  808-05-5891      Nebraska\n",
       "3     107  Patricia Bennett  1984-06-08  155-12-0424     Louisiana\n",
       "4    2040       Lisa Mathis  1957-01-27  408-88-3247     Wisconsin"
      ]
     },
     "execution_count": 3,
     "metadata": {},
     "output_type": "execute_result"
    }
   ],
   "source": [
    "#Check it out\n",
    "pyboss_hw.head()"
   ]
  },
  {
   "cell_type": "code",
   "execution_count": 4,
   "metadata": {
    "collapsed": true
   },
   "outputs": [],
   "source": [
    "#Get organized\n",
    "#introduce dictionary to be used later\n",
    "#set intended destinations for modified rows\n",
    "\n",
    "state_abbrev = {\n",
    "    'Alabama': 'AL',\n",
    "    'Alaska': 'AK',\n",
    "    'Arizona': 'AZ',\n",
    "    'Arkansas': 'AR',\n",
    "    'California': 'CA',\n",
    "    'Colorado': 'CO',\n",
    "    'Connecticut': 'CT',\n",
    "    'Delaware': 'DE',\n",
    "    'Florida': 'FL',\n",
    "    'Georgia': 'GA',\n",
    "    'Hawaii': 'HI',\n",
    "    'Idaho': 'ID',\n",
    "    'Illinois': 'IL',\n",
    "    'Indiana': 'IN',\n",
    "    'Iowa': 'IA',\n",
    "    'Kansas': 'KS',\n",
    "    'Kentucky': 'KY',\n",
    "    'Louisiana': 'LA',\n",
    "    'Maine': 'ME',\n",
    "    'Maryland': 'MD',\n",
    "    'Massachusetts': 'MA',\n",
    "    'Michigan': 'MI',\n",
    "    'Minnesota': 'MN',\n",
    "    'Mississippi': 'MS',\n",
    "    'Missouri': 'MO',\n",
    "    'Montana': 'MT',\n",
    "    'Nebraska': 'NE',\n",
    "    'Nevada': 'NV',\n",
    "    'New Hampshire': 'NH',\n",
    "    'New Jersey': 'NJ',\n",
    "    'New Mexico': 'NM',\n",
    "    'New York': 'NY',\n",
    "    'North Carolina': 'NC',\n",
    "    'North Dakota': 'ND',\n",
    "    'Ohio': 'OH',\n",
    "    'Oklahoma': 'OK',\n",
    "    'Oregon': 'OR',\n",
    "    'Pennsylvania': 'PA',\n",
    "    'Rhode Island': 'RI',\n",
    "    'South Carolina': 'SC',\n",
    "    'South Dakota': 'SD',\n",
    "    'Tennessee': 'TN',\n",
    "    'Texas': 'TX',\n",
    "    'Utah': 'UT',\n",
    "    'Vermont': 'VT',\n",
    "    'Virginia': 'VA',\n",
    "    'Washington': 'WA',\n",
    "    'West Virginia': 'WV',\n",
    "    'Wisconsin': 'WI',\n",
    "    'Wyoming': 'WY',\n",
    "}\n",
    "\n",
    "first_name = []\n",
    "last_name = []\n",
    "split_name = []\n",
    "dob_new = []\n",
    "dob_format = []\n",
    "ssn_new = []\n",
    "emp_id = pyboss_hw[\"Emp ID\"]"
   ]
  },
  {
   "cell_type": "code",
   "execution_count": 5,
   "metadata": {},
   "outputs": [
    {
     "data": {
      "text/plain": [
       "Emp ID     int64\n",
       "Name      object\n",
       "DOB       object\n",
       "SSN       object\n",
       "State     object\n",
       "dtype: object"
      ]
     },
     "execution_count": 5,
     "metadata": {},
     "output_type": "execute_result"
    }
   ],
   "source": [
    "#Check data types\n",
    "pyboss_hw.dtypes"
   ]
  },
  {
   "cell_type": "code",
   "execution_count": 6,
   "metadata": {},
   "outputs": [
    {
     "data": {
      "text/plain": [
       "0       RI\n",
       "1       WY\n",
       "2       NE\n",
       "3       LA\n",
       "4       WI\n",
       "5       MI\n",
       "6       VT\n",
       "7       OR\n",
       "8       KY\n",
       "9       WA\n",
       "10      PA\n",
       "11      ND\n",
       "12      MN\n",
       "13      TX\n",
       "14      ME\n",
       "15      NM\n",
       "16      OK\n",
       "17      CA\n",
       "18      NV\n",
       "19      AZ\n",
       "20      AK\n",
       "21      TN\n",
       "22      SD\n",
       "23      ME\n",
       "24      OR\n",
       "25      TX\n",
       "26      SC\n",
       "27      MT\n",
       "28      SD\n",
       "29      IN\n",
       "        ..\n",
       "2090    CT\n",
       "2091    OH\n",
       "2092    KY\n",
       "2093    MN\n",
       "2094    ID\n",
       "2095    NC\n",
       "2096    FL\n",
       "2097    HI\n",
       "2098    WY\n",
       "2099    SD\n",
       "2100    MA\n",
       "2101    FL\n",
       "2102    IL\n",
       "2103    UT\n",
       "2104    ND\n",
       "2105    WA\n",
       "2106    OK\n",
       "2107    AZ\n",
       "2108    VA\n",
       "2109    MN\n",
       "2110    MA\n",
       "2111    AL\n",
       "2112    CA\n",
       "2113    VT\n",
       "2114    CT\n",
       "2115    NV\n",
       "2116    IL\n",
       "2117    MT\n",
       "2118    PA\n",
       "2119    CT\n",
       "Name: State, Length: 2120, dtype: object"
      ]
     },
     "execution_count": 6,
     "metadata": {},
     "output_type": "execute_result"
    }
   ],
   "source": [
    "#Fix state row\n",
    "State = (pyboss_hw[\"State\"]) \n",
    "State.map(state_abbrev)"
   ]
  },
  {
   "cell_type": "code",
   "execution_count": 7,
   "metadata": {},
   "outputs": [
    {
     "data": {
      "text/plain": [
       "Emp ID             int64\n",
       "Name              object\n",
       "DOB       datetime64[ns]\n",
       "SSN               object\n",
       "State             object\n",
       "dtype: object"
      ]
     },
     "execution_count": 7,
     "metadata": {},
     "output_type": "execute_result"
    }
   ],
   "source": [
    "#Try to fix date row\n",
    "pyboss_hw['DOB'] = pd.to_datetime(pyboss_hw['DOB'])\n",
    "pyboss_hw.dtypes"
   ]
  },
  {
   "cell_type": "code",
   "execution_count": 8,
   "metadata": {},
   "outputs": [
    {
     "data": {
      "text/plain": [
       "0   1970-05-24\n",
       "1   1986-07-18\n",
       "2   1981-09-20\n",
       "3   1984-06-08\n",
       "4   1957-01-27\n",
       "Name: DOB, dtype: datetime64[ns]"
      ]
     },
     "execution_count": 8,
     "metadata": {},
     "output_type": "execute_result"
    }
   ],
   "source": [
    "DOB = pyboss_hw[\"DOB\"]\n",
    "DOB.head()"
   ]
  },
  {
   "cell_type": "code",
   "execution_count": 9,
   "metadata": {},
   "outputs": [
    {
     "name": "stdout",
     "output_type": "stream",
     "text": [
      "['12/04/1985']\n"
     ]
    }
   ],
   "source": [
    "DOB = datetime.datetime.strptime('1985-12-04','%Y-%m-%d')\n",
    "DOB1 = datetime.datetime.strftime(DOB, '%m/%d/%Y')\n",
    "dob_new.append(DOB1)\n",
    "print(dob_new)"
   ]
  },
  {
   "cell_type": "code",
   "execution_count": 10,
   "metadata": {},
   "outputs": [
    {
     "name": "stdout",
     "output_type": "stream",
     "text": [
      "Index(['Emp ID', 'Name', 'DOB', 'SSN', 'State'], dtype='object')\n"
     ]
    }
   ],
   "source": [
    "print(pyboss_hw.columns)"
   ]
  },
  {
   "cell_type": "code",
   "execution_count": 11,
   "metadata": {
    "collapsed": true
   },
   "outputs": [],
   "source": [
    "#realize this requires looping through a nested function to be implemented. will try to revisit"
   ]
  },
  {
   "cell_type": "code",
   "execution_count": 12,
   "metadata": {},
   "outputs": [
    {
     "name": "stdout",
     "output_type": "stream",
     "text": [
      "[['Jessica', 'Sheppard'], ['Sarah', 'Rodriguez'], ['Steven', 'Parker'], ['Patricia', 'Bennett'], ['Lisa', 'Mathis'], ['Dale', 'Garza'], ['Jeffrey', 'Guerra'], ['Anthony', 'Martinez'], ['Jorge', 'Howard'], ['Jennifer', 'Austin'], ['Calvin', 'Sosa'], ['Isaac', 'Franco'], ['Norman', 'Harris'], ['Becky', 'Carroll'], ['Kellie', 'Montgomery'], ['Amber', 'Mullen'], ['Andrew', 'Bennett'], ['Jacob', 'Taylor'], ['Gregory', 'Day'], ['Danielle', 'Smith'], ['Nathan', 'Sims'], ['Lisa', 'Lawrence'], ['Kristen', 'Morales'], ['Lee', 'Terry'], ['Vincent', 'Williams'], ['James', 'Mcfarland'], ['Arthur', 'Lawrence'], ['Randy', 'Christian'], ['Ashley', 'Hurley'], ['Sarah', 'Stewart'], ['Justin', 'Williams'], ['Frederick', 'Sanchez'], ['Sarah', 'Baldwin'], ['John', 'Larson'], ['Christina', 'Nielsen'], ['Jesse', 'Jones'], ['Dorothy', 'Beltran'], ['Tammy', 'Brock'], ['Melissa', 'Mitchell'], ['James', 'Ramirez'], ['Benjamin', 'Long'], ['William', 'Shields'], ['Crystal', 'Brooks'], ['Richard', 'Gilbert'], ['Beth', 'Davis'], ['Tyler', 'Brown'], ['Melissa', 'Duncan'], ['Alexandra', 'Berry'], ['Ashley', 'Morgan'], ['Matthew', 'Beasley'], ['Angela', 'Gregory'], ['Michelle', 'Smith'], ['Kristopher', 'Meyer'], ['Patrick', 'Barron'], ['Mike', 'Reeves'], ['Heidi', 'Bell'], ['Donald', 'Young'], ['Megan', 'Smith'], ['Cheryl', 'Barrera'], ['Megan', 'Thomas'], ['Lisa', 'Stone'], ['Reginald', 'Smith'], ['Deborah', 'Ayers'], ['Steven', 'Roberts'], ['Savannah', 'Smith'], ['Samantha', 'Thompson'], ['Lindsay', 'Cruz'], ['Edward', 'Hamilton'], ['Michelle', 'Reed'], ['Jeffrey', 'Donaldson'], ['Brittany', 'Chavez'], ['Christopher', 'Greene'], ['Robert', 'Rangel'], ['Emily', 'Armstrong'], ['Beth', 'Estrada'], ['Donna', 'Butler'], ['Cynthia', 'Wells'], ['Steve', 'Medina'], ['Sharon', 'Smith'], ['Samuel', 'Velasquez'], ['Gabrielle', 'Martinez'], ['Michelle', 'Johnson'], ['Lauren', 'Scott'], ['Brittany', 'Wagner'], ['Michael', 'Romero'], ['Jason', 'Kelley'], ['Brad', 'Jackson'], ['Rodney', 'Jimenez'], ['Steven', 'Williams'], ['Rebecca', 'Sanders'], ['Harold', 'Potts'], ['Lynn', 'Cortez'], ['Stephanie', 'Sanders'], ['Tyler', 'Bridges'], ['Edward', 'Jones'], ['Bruce', 'Smith'], ['Sheila', 'Bradshaw'], ['Ernest', 'Jenkins'], ['Lisa', 'Williams'], ['Anna', 'Martinez'], ['Lisa', 'Diaz'], ['Amy', 'May'], ['Kathryn', 'Gibson'], ['Timothy', 'Kirby'], ['John', 'Chavez'], ['Spencer', 'Cole'], ['Aaron', 'Klein'], ['Maxwell', 'Anderson'], ['Brian', 'Schultz'], ['Heather', 'Kramer'], ['Kimberly', 'Brown'], ['Justin', 'Davis'], ['Evan', 'Johnson'], ['Robert', 'Sanford'], ['Meagan', 'Lopez'], ['Shawn', 'Lindsey'], ['Emily', 'Johnson'], ['Lance', 'Chambers'], ['John', 'Young'], ['Marcus', 'Rogers'], ['Claudia', 'King'], ['David', 'Morton'], ['Christine', 'Hines'], ['Kimberly', 'Rice'], ['Joseph', 'Rose'], ['Christina', 'Lynn'], ['Kirk', 'Jones'], ['John', 'Hughes'], ['Mariah', 'Brown'], ['Anthony', 'Kelly'], ['Stephanie', 'Hamilton'], ['Antonio', 'Pitts'], ['Michael', 'Rowland'], ['Barbara', 'Mitchell'], ['Lindsey', 'Knight'], ['Kristi', 'Young'], ['Martha', 'Castillo'], ['Denise', 'Wilson'], ['Michelle', 'Taylor'], ['Christine', 'Miller'], ['Thomas', 'Fisher'], ['Isaac', 'Mathis'], ['Stephanie', 'Welch'], ['Chelsea', 'Lang'], ['Christopher', 'Mcguire'], ['Charles', 'Heath'], ['Karen', 'Mcgee'], ['Michael', 'Waller'], ['Robert', 'Thompson'], ['Leslie', 'Nichols'], ['Amy', 'Reed'], ['Nicole', 'Harris'], ['James', 'Newman'], ['Tristan', 'Vasquez'], ['Robert', 'Fritz'], ['Stephen', 'Foster'], ['David', 'Robertson'], ['Michael', 'Chang'], ['Amy', 'Martinez'], ['Benjamin', 'Johnson'], ['Anthony', 'Moore'], ['Amy', 'Burns'], ['Bryan', 'Nelson'], ['Bryan', 'Larsen'], ['Robert', 'Barr'], ['Kathleen', 'Johnson'], ['Sean', 'Conley'], ['Kirsten', 'Ho'], ['Nicholas', 'Harrison'], ['Cheyenne', 'Downs'], ['Kevin', 'Manning'], ['Marie', 'Novak'], ['Derrick', 'Martin'], ['Melissa', 'King'], ['Adam', 'Cherry'], ['Andrea', 'Mcneil'], ['Alison', 'Torres'], ['Michelle', 'Taylor'], ['Jesus', 'Young'], ['Cody', 'Smith'], ['Jessica', 'Collins'], ['Kyle', 'Perkins'], ['Cindy', 'Sellers'], ['Casey', 'Weaver'], ['Debra', 'Ford'], ['Kathleen', 'Smith'], ['Alexander', 'Collins'], ['Rebecca', 'Oneal'], ['Angela', 'Wilson'], ['Kelsey', 'Ramirez'], ['Ivan', 'Hill'], ['Kevin', 'Lane'], ['Kevin', 'Jimenez'], ['Edward', 'Hall'], ['Lisa', 'Jacobson'], ['Jeremy', 'Perez'], ['Morgan', 'Rodriguez'], ['Matthew', 'Meadows'], ['Lisa', 'Stephens'], ['William', 'Wilkerson'], ['Kristina', 'Young'], ['Susan', 'Reid'], ['Elizabeth', 'Turner'], ['Whitney', 'Goodman'], ['Erica', 'Thomas'], ['Hailey', 'Riggs'], ['Jeffery', 'Webster'], ['Elizabeth', 'Anderson'], ['Jessica', 'Jackson'], ['Jim', 'Williams'], ['Michael', 'Lane'], ['Pamela', 'Guerra'], ['Scott', 'Brown'], ['Alexis', 'Medina'], ['Kimberly', 'Robles'], ['Joel', 'Lara'], ['Chelsea', 'Rivera'], ['Brandon', 'Davis'], ['George', 'Summers'], ['Heather', 'Martinez'], ['Sharon', 'Jones'], ['Gabriela', 'Stewart'], ['Mary', 'Camacho'], ['Rebecca', 'Lewis'], ['Michelle', 'Patel'], ['Joel', 'Stanton'], ['Carly', 'Robinson'], ['Jocelyn', 'Boyd'], ['Mark', 'Hayes'], ['Nicole', 'Gordon'], ['Kevin', 'Cummings'], ['Brianna', 'Coleman'], ['Tamara', 'Nash'], ['Rodney', 'Hart'], ['Steven', 'Martin'], ['Denise', 'Alexander'], ['Erin', 'Brown'], ['Joseph', 'Schmidt'], ['Paul', 'Villa'], ['Harold', 'Torres'], ['William', 'Richmond'], ['Mary', 'Day'], ['Jennifer', 'Fuentes'], ['Brandon', 'Sanders'], ['Kathy', 'Wilson'], ['Joseph', 'Ward'], ['Jessica', 'Gillespie'], ['Anthony', 'Hopkins'], ['Brittany', 'Owens'], ['James', 'Hunter'], ['Jason', 'Soto'], ['Brandon', 'Phillips'], ['Emily', 'Cox'], ['Kayla', 'Reese'], ['Gavin', 'Rivera'], ['Miranda', 'Mcdonald'], ['Jerry', 'Wilson'], ['Barbara', 'Oconnor'], ['Audrey', 'Moss'], ['Courtney', 'Bennett'], ['James', 'Rangel'], ['Samantha', 'Martin'], ['Rachel', 'Neal'], ['Linda', 'Brown'], ['Valerie', 'Cummings'], ['Jacqueline', 'Hoffman'], ['Miguel', 'Buck'], ['Charles', 'Garrison'], ['John', 'Wright'], ['Amy', 'Pratt'], ['Spencer', 'Clark'], ['Christopher', 'Johnson'], ['Stephanie', 'Goodwin'], ['Kimberly', 'Rasmussen'], ['Rachel', 'Hayes'], ['Tony', 'Pitts'], ['Joshua', 'Adams'], ['Anthony', 'Smith'], ['Tiffany', 'Vargas'], ['Brian', 'Fry'], ['Jesse', 'Jones'], ['Mark', 'Allen'], ['Evan', 'Bryan'], ['Zoe', 'Wilson'], ['Jerome', 'Burns'], ['Michael', 'Roberts'], ['Jonathan', 'Marsh'], ['Amanda', 'Barrett'], ['Andrew', 'Davis'], ['Audrey', 'Little'], ['Scott', 'Yates'], ['Charles', 'Harper'], ['Gabrielle', 'Morris'], ['Rachel', 'Howard'], ['Diane', 'Clark'], ['Cynthia', 'Davis'], ['Cynthia', 'Cortez'], ['Jennifer', 'Bradley'], ['Austin', 'Cervantes'], ['Christopher', 'Werner'], ['Joseph', 'Avila'], ['Douglas', 'Saunders'], ['Robin', 'Rios'], ['Matthew', 'Kirby'], ['Carol', 'Jones'], ['Larry', 'Cook'], ['Paul', 'Taylor'], ['Charlotte', 'Townsend'], ['Andrew', 'Molina'], ['Christina', 'Blevins'], ['Amy', 'Nixon'], ['Lori', 'Wade'], ['Cassandra', 'Knight'], ['Timothy', 'Miller'], ['Matthew', 'Byrd'], ['Eric', 'Cross'], ['Keith', 'Fisher'], ['Brian', 'Wiley'], ['Katherine', 'Cain'], ['Lisa', 'Little'], ['Elizabeth', 'Martin'], ['Kimberly', 'Rangel'], ['Michele', 'Cameron'], ['Carolyn', 'James'], ['Shannon', 'Stephens'], ['Paul', 'Thomas'], ['Jennifer', 'Silva'], ['Olivia', 'Price'], ['William', 'Mendoza'], ['Robert', 'Hill'], ['Christopher', 'Harris'], ['Anna', 'Bradshaw'], ['Stephanie', 'Gomez'], ['Travis', 'Huber'], ['Frederick', 'Jackson'], ['Robert', 'Shaw'], ['Brianna', 'Black'], ['Thomas', 'Moon'], ['Cynthia', 'Brown'], ['Christopher', 'Bailey'], ['Adam', 'Perkins'], ['Anita', 'Gray'], ['Michelle', 'Hall'], ['Matthew', 'Mcdaniel'], ['Renee', 'Freeman'], ['Donald', 'Williams'], ['Karen', 'Leach'], ['Andrew', 'Bailey'], ['Leslie', 'Obrien'], ['Michael', 'Garcia'], ['Tina', 'Hopkins'], ['Kelsey', 'Pierce'], ['John', 'Robinson'], ['Sandra', 'Cooper'], ['Morgan', 'Serrano'], ['Arthur', 'Jones'], ['Michele', 'Kane'], ['Justin', 'Chambers'], ['Victoria', 'Odonnell'], ['Robert', 'Tate'], ['Kimberly', 'Harrison'], ['Madison', 'Herrera'], ['Pamela', 'Duke'], ['Michelle', 'Mahoney'], ['Emma', 'Rivera'], ['Timothy', 'Kidd'], ['Robert', 'Anderson'], ['Lauren', 'Christian'], ['Robert', 'Leblanc'], ['Samuel', 'Oneill'], ['Jessica', 'Davis'], ['Robert', 'Hall'], ['Jimmy', 'Williams'], ['Angelica', 'Stephenson'], ['Sabrina', 'Brooks'], ['Andrew', 'Scott'], ['John', 'Johnson'], ['Brandon', 'Lewis'], ['Brandon', 'Williams'], ['Brad', 'Mullins'], ['Philip', 'Murphy'], ['Justin', 'Webster'], ['Tiffany', 'Brown'], ['Jeff', 'Hall'], ['Jason', 'Hernandez'], ['Patrick', 'Flores'], ['Samantha', 'Arnold'], ['Jamie', 'Garcia'], ['Samantha', 'Barnes'], ['Jason', 'Kelly'], ['Kimberly', 'Brown'], ['Kristen', 'Lopez'], ['Megan', 'Christian'], ['Brianna', 'Cole'], ['Michael', 'Lee'], ['Jason', 'Flores'], ['Matthew', 'Conway'], ['Katie', 'Chavez'], ['Michael', 'Johnson'], ['Kimberly', 'Morrison'], ['Michelle', 'Lopez'], ['Willie', 'Washington'], ['Timothy', 'Palmer'], ['Melvin', 'Coleman'], ['Jessica', 'Mcguire'], ['Rachael', 'Dunlap'], ['James', 'Oconnor'], ['Ronald', 'Koch'], ['Edward', 'Johnson'], ['Julie', 'King'], ['Katherine', 'Vargas'], ['Linda', 'Finley'], ['Peter', 'Gardner'], ['Aaron', 'Anderson'], ['Laura', 'Nichols'], ['Dale', 'Watkins'], ['Kenneth', 'Smith'], ['Kristen', 'Thompson'], ['Brittany', 'Short'], ['Diane', 'Henson'], ['Dominic', 'Alvarado'], ['Carol', 'Harris'], ['Carolyn', 'Rodriguez'], ['Virginia', 'Collins'], ['James', 'Green'], ['James', 'Hall'], ['Alexa', 'Hoffman'], ['Brittany', 'Jenkins'], ['Anthony', 'Hatfield'], ['Danielle', 'Moore'], ['Stephanie', 'Hooper'], ['Dawn', 'Schmidt'], ['Teresa', 'Johnson'], ['David', 'Costa'], ['Thomas', 'Ryan'], ['Kaylee', 'Morris'], ['Brandon', 'Ramsey'], ['Brandi', 'Smith'], ['Michael', 'Kramer'], ['Jennifer', 'Collins'], ['Kathleen', 'Cordova'], ['Cheryl', 'Adams'], ['Jeff', 'Myers'], ['Edwin', 'Barnes'], ['Adam', 'Vaughan'], ['Brittany', 'Johnson'], ['Jennifer', 'King'], ['Thomas', 'Collins'], ['Victoria', 'Lee'], ['Elizabeth', 'Hubbard'], ['Sarah', 'Zamora'], ['Melissa', 'Stewart'], ['Alexis', 'Mccoy'], ['Steven', 'Phillips'], ['Alyssa', 'Evans'], ['Charlotte', 'Nelson'], ['Peter', 'Harding'], ['Scott', 'Hendricks'], ['Tara', 'Martinez'], ['Christopher', 'Shaw'], ['Priscilla', 'Franklin'], ['Pamela', 'Rogers'], ['Steven', 'Walters'], ['Emily', 'Thompson'], ['Jason', 'Peterson'], ['Bethany', 'Casey'], ['John', 'Ford'], ['Robert', 'Levy'], ['Edward', 'Peters'], ['William', 'Bush'], ['Duane', 'Williams'], ['William', 'Edwards'], ['Roger', 'Wall'], ['Nancy', 'Moore'], ['Deborah', 'Morales'], ['Cody', 'Leon'], ['Mandy', 'Greer'], ['Brenda', 'Kent'], ['Jonathan', 'Ramirez'], ['Steven', 'Thompson'], ['Michael', 'Monroe'], ['Samuel', 'Santos'], ['Lori', 'Martinez'], ['Paul', 'Green'], ['Jessica', 'Harris'], ['Jacob', 'Archer'], ['Amanda', 'Fisher'], ['Cynthia', 'Bonilla'], ['Clarence', 'Daniels'], ['David', 'Wood'], ['Matthew', 'Moore'], ['Alexandra', 'Paul'], ['Kim', 'Wells'], ['Thomas', 'Cortez'], ['Nicole', 'Rodriguez'], ['Katherine', 'Hernandez'], ['Allen', 'Perez'], ['Jacob', 'Martinez'], ['Jacqueline', 'Cooper'], ['Stephanie', 'Davis'], ['Cathy', 'Mcgee'], ['Margaret', 'Smith'], ['Gina', 'Bauer'], ['James', 'Lucero'], ['Daniel', 'Morrison'], ['Vanessa', 'Rodriguez'], ['Lauren', 'Perez'], ['Alicia', 'Andrade'], ['Carlos', 'Gibson'], ['Kathryn', 'Sanchez'], ['Thomas', 'Stout'], ['Nicholas', 'Rice'], ['Jamie', 'Shields'], ['Holly', 'Jones'], ['Aaron', 'Jones'], ['Heidi', 'Fowler'], ['Katherine', 'Benson'], ['Linda', 'Robbins'], ['Joseph', 'Martin'], ['Anthony', 'Burns'], ['Richard', 'Hahn'], ['Jennifer', 'Romero'], ['John', 'Munoz'], ['Katherine', 'Maynard'], ['Willie', 'Raymond'], ['Eric', 'Aguilar'], ['Tasha', 'Marquez'], ['Howard', 'Byrd'], ['David', 'Cummings'], ['Jeanette', 'Kirk'], ['Melissa', 'Herman'], ['Mark', 'Norris'], ['Maria', 'Patterson'], ['Steven', 'Smith'], ['Rose', 'May'], ['Christopher', 'Santiago'], ['Shannon', 'Martinez'], ['Austin', 'Smith'], ['Brian', 'Myers'], ['Michael', 'Davis'], ['Nicole', 'Dudley'], ['Ashley', 'Hill'], ['Adam', 'Martinez'], ['Isabella', 'Carr'], ['Daniel', 'Morales'], ['Andrew', 'Williams'], ['Cody', 'King'], ['Angela', 'Gonzales'], ['Adam', 'Arnold'], ['John', 'Bender'], ['Megan', 'Jenkins'], ['Darren', 'Frederick'], ['Karen', 'Pena'], ['Marcus', 'Barnes'], ['Steven', 'Williams'], ['Anna', 'Anderson'], ['Patricia', 'Lucas'], ['John', 'Johnson'], ['Sara', 'Lam'], ['Anne', 'Moore'], ['Christopher', 'Shepherd'], ['David', 'Brock'], ['Tina', 'Morgan'], ['Lisa', 'Terry'], ['Virginia', 'Simmons'], ['Laura', 'Brooks'], ['Brian', 'Miller'], ['Elizabeth', 'Adams'], ['Terri', 'Bird'], ['Justin', 'Sanders'], ['Tiffany', 'George'], ['Travis', 'Welch'], ['Jason', 'Calderon'], ['Jerry', 'Osborne'], ['Kelsey', 'Gonzalez'], ['Tonya', 'Wood'], ['Michelle', 'Richards'], ['Sarah', 'Craig'], ['Kyle', 'Johnson'], ['Paul', 'Wilson'], ['Alyssa', 'Rodriguez'], ['Michelle', 'Woodard'], ['Thomas', 'Lindsey'], ['Kevin', 'Stewart'], ['Ronald', 'Martinez'], ['Aaron', 'Hanna'], ['Elizabeth', 'Cohen'], ['Jonathan', 'Henderson'], ['Heather', 'Hernandez'], ['Laura', 'Young'], ['Heidi', 'Moran'], ['Sean', 'Johnson'], ['Barbara', 'Smith'], ['Jason', 'Freeman'], ['Jackie', 'Cummings'], ['David', 'Shelton'], ['Jeanette', 'Everett'], ['Michael', 'Martin'], ['Shelby', 'Garcia'], ['Brian', 'Dudley'], ['Andrea', 'Ramos'], ['Alexandra', 'Gray'], ['Adam', 'Contreras'], ['Taylor', 'Adams'], ['Mitchell', 'Thomas'], ['Courtney', 'Reid'], ['Kayla', 'Mcguire'], ['Chad', 'Rodriguez'], ['Kevin', 'Garcia'], ['Daniel', 'Walker'], ['Colton', 'Ross'], ['Erica', 'Smith'], ['Nicholas', 'Henry'], ['Ruth', 'Reeves'], ['Gina', 'Rodriguez'], ['John', 'Macdonald'], ['Michelle', 'Moreno'], ['Michael', 'Farrell'], ['Lynn', 'Fox'], ['James', 'Williams'], ['Robert', 'Williams'], ['Matthew', 'Solis'], ['Anita', 'Hill'], ['Mary', 'Davis'], ['Kyle', 'Wood'], ['Natalie', 'Carlson'], ['Scott', 'Smith'], ['Jessica', 'Jones'], ['Loretta', 'Vasquez'], ['Kathryn', 'Bonilla'], ['Luke', 'West'], ['Thomas', 'Byrd'], ['Edwin', 'Williams'], ['Steven', 'Lewis'], ['Aaron', 'Bruce'], ['Leonard', 'Brown'], ['Deborah', 'Jackson'], ['John', 'Marshall'], ['Melissa', 'Mercado'], ['Adam', 'Blackburn'], ['Daniel', 'Gibson'], ['Jessica', 'Davis'], ['Johnny', 'Downs'], ['Anthony', 'Simpson'], ['Patricia', 'Beard'], ['Justin', 'Henry'], ['Dwayne', 'Mckee'], ['Mark', 'Mendez'], ['Ryan', 'Martin'], ['Stacey', 'Joyce'], ['Sarah', 'King'], ['Kathy', 'Simpson'], ['Jill', 'Perry'], ['Cory', 'Williams'], ['Tiffany', 'Thomas'], ['Tracy', 'Goodwin'], ['Nathaniel', 'Swanson'], ['Daniel', 'Moore'], ['Shannon', 'Anderson'], ['Shaun', 'Rodriguez'], ['Cassandra', 'Blanchard'], ['Michael', 'Andersen'], ['Cindy', 'Cruz'], ['Richard', 'Jones'], ['Judy', 'Williamson'], ['Pamela', 'Arnold'], ['Julia', 'Stuart'], ['Jessica', 'Johnson'], ['Samantha', 'Gilbert'], ['Heather', 'Barton'], ['Lauren', 'Guzman'], ['Tabitha', 'Salazar'], ['Jason', 'Page'], ['Justin', 'Simpson'], ['Richard', 'Brennan'], ['Aaron', 'Mathis'], ['Kayla', 'Green'], ['Sherry', 'Medina'], ['Lee', 'Smith'], ['Michael', 'Rowe'], ['Keith', 'Thompson'], ['Justin', 'Austin'], ['John', 'Rose'], ['Jason', 'Bailey'], ['Christie', 'Parker'], ['David', 'Bell'], ['Shane', 'Brown'], ['Nicholas', 'Patrick'], ['Ashley', 'Heath'], ['Kathryn', 'Conrad'], ['Pamela', 'Ramirez'], ['Kristin', 'Gonzalez'], ['Paul', 'Smith'], ['Emily', 'Walters'], ['Olivia', 'Jimenez'], ['Michelle', 'Richards'], ['Robert', 'Stein'], ['Tanya', 'Ellis'], ['Amanda', 'Cervantes'], ['John', 'Pham'], ['Raymond', 'Hunter'], ['Wendy', 'Garrett'], ['Joseph', 'Brown'], ['Shawn', 'Johnson'], ['Linda', 'Warner'], ['Elijah', 'Padilla'], ['Jason', 'Torres'], ['Christopher', 'Flores'], ['Anthony', 'Ware'], ['Paul', 'Hebert'], ['John', 'Ballard'], ['Jeffrey', 'Fisher'], ['David', 'Vega'], ['Karen', 'Horn'], ['Jermaine', 'King'], ['Charles', 'Weaver'], ['Anthony', 'Bean'], ['Sara', 'Schultz'], ['Dustin', 'Kline'], ['Kevin', 'Green'], ['Alyssa', 'Hickman'], ['Shannon', 'Walker'], ['Krista', 'Jackson'], ['Lawrence', 'Sutton'], ['Brady', 'Vaughn'], ['Joseph', 'Rollins'], ['Joseph', 'Lopez'], ['Jennifer', 'Castro'], ['David', 'Mcgee'], ['Kevin', 'Reed'], ['Jennifer', 'Holloway'], ['Troy', 'Turner'], ['Sherry', 'Trevino'], ['Bailey', 'Patel'], ['Michael', 'Rivers'], ['Trevor', 'Ochoa'], ['Danielle', 'Robinson'], ['Jacob', 'Jones'], ['Dorothy', 'Molina'], ['Sarah', 'Calhoun'], ['Brenda', 'Zimmerman'], ['Nina', 'Banks'], ['Rebecca', 'Fox'], ['Maria', 'Mckenzie'], ['Willie', 'Hines'], ['Zachary', 'Tyler'], ['Emily', 'Cochran'], ['Kayla', 'Galloway'], ['Mary', 'Walsh'], ['James', 'Kirk'], ['Kelly', 'Casey'], ['Travis', 'Lee'], ['Jessica', 'Williams'], ['Donald', 'Lawson'], ['Jodi', 'Newton'], ['Taylor', 'Hernandez'], ['Christine', 'Hopkins'], ['Barbara', 'Jefferson'], ['Kelly', 'Strickland'], ['John', 'Stevens'], ['Megan', 'Melendez'], ['Troy', 'Ballard'], ['John', 'Young'], ['Joseph', 'Henderson'], ['Frank', 'Williams'], ['Wesley', 'Davis'], ['Jared', 'Harper'], ['Joshua', 'Miller'], ['Caleb', 'Rubio'], ['Yvette', 'Wyatt'], ['Veronica', 'Rodriguez'], ['Chase', 'Peters'], ['Thomas', 'Curry'], ['David', 'Garrett'], ['Brent', 'Jones'], ['Mary', 'Jones'], ['Kurt', 'Calderon'], ['Jennifer', 'Stevens'], ['Michael', 'Miller'], ['Rachael', 'Murphy'], ['James', 'Griffith'], ['Pamela', 'Ray'], ['Shawn', 'Mitchell'], ['Diane', 'Wiley'], ['Matthew', 'Berry'], ['Tracy', 'Davis'], ['Derek', 'Hale'], ['Diane', 'Shea'], ['Joseph', 'Gutierrez'], ['Andrea', 'Byrd'], ['Kathryn', 'Malone'], ['Matthew', 'Wilson'], ['Vincent', 'Sloan'], ['Ashley', 'Chandler'], ['Willie', 'Jones'], ['Brett', 'Thomas'], ['Cristian', 'French'], ['Brenda', 'Davis'], ['Jennifer', 'Gray'], ['Eric', 'Bradley'], ['Thomas', 'Howell'], ['Mary', 'Simpson'], ['Kelli', 'Owens'], ['Charles', 'Savage'], ['Christopher', 'Espinoza'], ['Clayton', 'Henderson'], ['Rachel', 'Sandoval'], ['Stephanie', 'Carpenter'], ['Natalie', 'Turner'], ['Julie', 'Higgins'], ['Logan', 'Briggs'], ['Jose', 'Manning'], ['Tamara', 'Morris'], ['Brian', 'Martinez'], ['David', 'Contreras'], ['Joshua', 'Graves'], ['Jennifer', 'Gilbert'], ['Kevin', 'Brock'], ['Roger', 'Coleman'], ['Grant', 'Patterson'], ['Kevin', 'Robinson'], ['James', 'Stokes'], ['David', 'Johnson'], ['John', 'Rivera'], ['Charles', 'Bryan'], ['Alexander', 'Romero'], ['Matthew', 'Knight'], ['James', 'Harris'], ['Richard', 'Hunt'], ['Kaitlyn', 'Reese'], ['Marissa', 'Kelly'], ['Heidi', 'Shaw'], ['Alyssa', 'Armstrong'], ['Erica', 'Cole'], ['David', 'Johnston'], ['Katrina', 'Wiggins'], ['Benjamin', 'Long'], ['Pam', 'Sanchez'], ['Lori', 'Adams'], ['Julie', 'Nelson'], ['Joseph', 'Steele'], ['Craig', 'Wiggins'], ['Jill', 'Fox'], ['Gerald', 'Wallace'], ['Michael', 'Vasquez'], ['Keith', 'Thomas'], ['Gregory', 'Williams'], ['John', 'Daniels'], ['Susan', 'Garrison'], ['Brenda', 'Gay'], ['Wyatt', 'Moreno'], ['Susan', 'Turner'], ['Denise', 'Martin'], ['Erica', 'Ryan'], ['Monica', 'Hawkins'], ['Brenda', 'Freeman'], ['James', 'Walker'], ['Mark', 'Gordon'], ['Joseph', 'Cummings'], ['Andrea', 'Fitzgerald'], ['Vanessa', 'Petersen'], ['Jessica', 'Moore'], ['Ryan', 'Moreno'], ['Tony', 'Banks'], ['Christina', 'Marshall'], ['Andrew', 'Sutton'], ['Tom', 'Mayer'], ['Cassandra', 'Gordon'], ['Cameron', 'Silva'], ['Cheryl', 'Flores'], ['Jennifer', 'Newman'], ['Peter', 'Miller'], ['Ashley', 'Smith'], ['Brianna', 'Brown'], ['Peter', 'Hansen'], ['Jimmy', 'Hunter'], ['Angela', 'Randall'], ['Brandon', 'Gomez'], ['Shawn', 'Smith'], ['Marcus', 'Garza'], ['Amber', 'White'], ['Ashley', 'Shepard'], ['Maurice', 'Palmer'], ['Richard', 'Ward'], ['Robert', 'Bailey'], ['Jose', 'Dodson'], ['Jeanette', 'Hart'], ['John', 'Shepard'], ['Jennifer', 'Stafford'], ['Jenny', 'Morgan'], ['Jill', 'Haynes'], ['Matthew', 'Aguirre'], ['Joshua', 'King'], ['Vincent', 'Howard'], ['Kimberly', 'Acevedo'], ['Cameron', 'Griffith'], ['Angela', 'Love'], ['Larry', 'Roach'], ['Kimberly', 'Fleming'], ['Vanessa', 'Wells'], ['Brenda', 'Russell'], ['Julia', 'Reynolds'], ['Scott', 'Kane'], ['Jenny', 'Thompson'], ['Robert', 'Castro'], ['James', 'Miller'], ['Audrey', 'Murphy'], ['Dana', 'Cox'], ['Kiara', 'Riley'], ['Isabella', 'Marshall'], ['Amanda', 'Wright'], ['Nicholas', 'Weaver'], ['Erin', 'Snyder'], ['Donna', 'Bolton'], ['Brittany', 'Murphy'], ['Cynthia', 'Roberts'], ['Steven', 'Russell'], ['Bernard', 'Torres'], ['Tiffany', 'Terrell'], ['Donna', 'Mason'], ['Stephanie', 'Melton'], ['Sylvia', 'Jackson'], ['Theresa', 'Williams'], ['Dana', 'Zimmerman'], ['Alex', 'Morris'], ['Marc', 'Mason'], ['Cameron', 'Guerra'], ['Charles', 'Olsen'], ['Joshua', 'Schneider'], ['Edwin', 'Baker'], ['Jasmine', 'Jordan'], ['Sean', 'Dunn'], ['Megan', 'Schwartz'], ['Derrick', 'Gallagher'], ['Lindsey', 'Jones'], ['Monique', 'Martinez'], ['Steven', 'Soto'], ['Wendy', 'Peck'], ['Ryan', 'Bailey'], ['Jessica', 'Smith'], ['Ashley', 'Fox'], ['Luis', 'Horn'], ['Brent', 'Schneider'], ['Gail', 'Rodriguez'], ['Jason', 'Baker'], ['Amanda', 'Gomez'], ['Edward', 'Valdez'], ['Kelly', 'Brandt'], ['Christopher', 'Carrillo'], ['Elizabeth', 'Potter'], ['Timothy', 'Howard'], ['Rebecca', 'Pollard'], ['Stephen', 'Short'], ['Michael', 'Odom'], ['Pamela', 'Lawrence'], ['David', 'Young'], ['Michael', 'Bass'], ['Brandon', 'Medina'], ['Peter', 'Shepard'], ['Jessica', 'Moore'], ['Amy', 'Keith'], ['Scott', 'Cook'], ['Samuel', 'Schmitt'], ['Tina', 'Stewart'], ['Dorothy', 'White'], ['Ashley', 'Bowers'], ['Jermaine', 'Watson'], ['Frank', 'Delgado'], ['April', 'Bradley'], ['Jessica', 'Brandt'], ['John', 'Blankenship'], ['Jason', 'Barber'], ['Kim', 'Delgado'], ['Veronica', 'Rangel'], ['Margaret', 'Hammond'], ['Rebecca', 'Mcbride'], ['Tina', 'Anderson'], ['Jessica', 'Rodriguez'], ['Jason', 'Jones'], ['Mike', 'Rice'], ['Michael', 'Williams'], ['Sarah', 'Kane'], ['Chad', 'Koch'], ['Lisa', 'Oneal'], ['Donna', 'Robinson'], ['Colton', 'Fisher'], ['Cody', 'Hardy'], ['Brooke', 'Mckee'], ['Luke', 'Adams'], ['Sara', 'Wilson'], ['Brandon', 'Thomas'], ['Michael', 'Kim'], ['Claire', 'Andrade'], ['Diane', 'Jones'], ['Stephanie', 'Robinson'], ['Eric', 'Guerrero'], ['Robert', 'Bennett'], ['Alexa', 'Thompson'], ['Anita', 'Eaton'], ['Richard', 'Smith'], ['Jeremy', 'Lopez'], ['Grant', 'Sanchez'], ['Robert', 'Weber'], ['Amy', 'Sanchez'], ['Tanner', 'Esparza'], ['Denise', 'Lane'], ['Dennis', 'Leblanc'], ['Michelle', 'Wade'], ['Valerie', 'Adkins'], ['Caleb', 'Hall'], ['Evan', 'Parker'], ['Amy', 'Delgado'], ['Logan', 'Moss'], ['Danielle', 'Davis'], ['Brian', 'Martin'], ['Travis', 'Keith'], ['Abigail', 'Jacobs'], ['Gabrielle', 'Wise'], ['Paul', 'Suarez'], ['Michael', 'Ochoa'], ['Daniel', 'Pacheco'], ['Austin', 'Jackson'], ['Patricia', 'Patterson'], ['Diane', 'Green'], ['Louis', 'Flynn'], ['Nancy', 'Schmidt'], ['Jaclyn', 'Cunningham'], ['Elizabeth', 'Davis'], ['Jacqueline', 'Donaldson'], ['Gabriel', 'Mitchell'], ['Sara', 'Barajas'], ['Ann', 'Williams'], ['Justin', 'Baker'], ['Kimberly', 'Lee'], ['Karen', 'Roberts'], ['Miguel', 'Gonzales'], ['Alexandra', 'Barrett'], ['Jeffrey', 'Garcia'], ['Elizabeth', 'Bautista'], ['Danielle', 'Kemp'], ['Melinda', 'Miller'], ['Cindy', 'Wagner'], ['Rebecca', 'Kirby'], ['Jeremy', 'Jefferson'], ['Vincent', 'Thomas'], ['Cameron', 'Jones'], ['Alicia', 'Morales'], ['Dylan', 'White'], ['Lauren', 'Price'], ['Diane', 'Buck'], ['Brian', 'Harper'], ['Tim', 'Allen'], ['Sierra', 'Cortez'], ['Thomas', 'Garza'], ['Daniel', 'Ramirez'], ['Crystal', 'Ellis'], ['Stefanie', 'Carpenter'], ['Timothy', 'Cameron'], ['Brandi', 'Gregory'], ['Victoria', 'Daniels'], ['Steven', 'Washington'], ['Michelle', 'Wright'], ['Keith', 'Carter'], ['Nathan', 'Cruz'], ['Robert', 'Gonzales'], ['Matthew', 'Garcia'], ['Gina', 'Green'], ['Barbara', 'York'], ['Crystal', 'French'], ['Kathy', 'Bryant'], ['Brittney', 'Lin'], ['Lindsay', 'Francis'], ['Bryan', 'Torres'], ['Michael', 'Crawford'], ['Anna', 'Mann'], ['Richard', 'Bowers'], ['Jennifer', 'Welch'], ['Megan', 'Phillips'], ['Anthony', 'Garcia'], ['Courtney', 'Hughes'], ['Jennifer', 'Allison'], ['Randy', 'Smith'], ['Christopher', 'Harris'], ['Laura', 'Salazar'], ['Kristi', 'Harrell'], ['Christine', 'Brown'], ['Rachel', 'Morris'], ['Daniel', 'Hanson'], ['Geoffrey', 'Lee'], ['Thomas', 'Murphy'], ['Randall', 'Anderson'], ['Amy', 'Dominguez'], ['Danielle', 'Stanley'], ['Michael', 'Henry'], ['Jessica', 'Thompson'], ['Christopher', 'Valenzuela'], ['Jesse', 'Baker'], ['Charles', 'Crawford'], ['James', 'Austin'], ['Christopher', 'Miller'], ['Kari', 'Howe'], ['Gerald', 'Everett'], ['Brian', 'Snyder'], ['Brian', 'Young'], ['John', 'Snow'], ['Tanya', 'Maxwell'], ['Jill', 'Keller'], ['Samantha', 'Cruz'], ['Amy', 'Jones'], ['Nathaniel', 'Dominguez'], ['Barbara', 'Allen'], ['Sergio', 'Bass'], ['Jeremy', 'Cunningham'], ['Michelle', 'Wheeler'], ['Brooke', 'Roberts'], ['Mary', 'Thomas'], ['Taylor', 'Curry'], ['Julian', 'Hudson'], ['Kara', 'Collins'], ['Aaron', 'Curtis'], ['Jennifer', 'Boyd'], ['Maria', 'Eaton'], ['Eric', 'Fry'], ['Jillian', 'Jones'], ['Jennifer', 'Franklin'], ['John', 'Carter'], ['Joshua', 'Allen'], ['Kimberly', 'Foster'], ['Joshua', 'Lopez'], ['Joseph', 'Brooks'], ['Bethany', 'Williams'], ['Aaron', 'Ward'], ['Kevin', 'Hawkins'], ['Michael', 'Hall'], ['Brianna', 'Lester'], ['Joanna', 'Chavez'], ['Michael', 'Jimenez'], ['Jane', 'Murphy'], ['Kathryn', 'Perez'], ['Timothy', 'Smith'], ['Kelly', 'Hayes'], ['James', 'Contreras'], ['Keith', 'Shaw'], ['Kendra', 'Sutton'], ['Anne', 'Lawrence'], ['Richard', 'Powers'], ['Adam', 'Wells'], ['Stephen', 'Wolfe'], ['George', 'Silva'], ['Anthony', 'Fuentes'], ['Scott', 'Wood'], ['Lance', 'Perez'], ['Melissa', 'Snyder'], ['Sandra', 'Olson'], ['Daniel', 'Rosario'], ['Dominique', 'Key'], ['Evelyn', 'Gordon'], ['Michael', 'Bauer'], ['Angela', 'Johnson'], ['Benjamin', 'Dunn'], ['Ronald', 'Craig'], ['Ashley', 'Adams'], ['Elizabeth', 'Bell'], ['Alyssa', 'Hernandez'], ['Caleb', 'Thompson'], ['John', 'Campbell'], ['Russell', 'Lewis'], ['Douglas', 'Garcia'], ['Javier', 'Burch'], ['Alison', 'Ware'], ['Timothy', 'Brown'], ['Pamela', 'Schmidt'], ['Annette', 'Clarke'], ['Douglas', 'Meyer'], ['John', 'Padilla'], ['Kelly', 'Ramsey'], ['Jennifer', 'Mcclure'], ['Stephen', 'Gonzalez'], ['Stacy', 'Bryant'], ['Ronald', 'Wright'], ['Stephanie', 'Garcia'], ['Johnny', 'Walter'], ['Sarah', 'Coffey'], ['Katherine', 'Hart'], ['Olivia', 'Smith'], ['Erin', 'Patterson'], ['Michael', 'Gray'], ['Joshua', 'Jones'], ['Beverly', 'Moore'], ['Paige', 'Brown'], ['Laurie', 'Miles'], ['Aaron', 'Dillon'], ['Sharon', 'Davis'], ['Jack', 'Turner'], ['Sandra', 'Patton'], ['David', 'Williams'], ['Jeffrey', 'Hardy'], ['Steven', 'Cline'], ['Jonathan', 'Diaz'], ['Eric', 'Lyons'], ['Lori', 'Scott'], ['Scott', 'Jones'], ['Rhonda', 'Day'], ['David', 'Young'], ['Ryan', 'Jackson'], ['Alex', 'Leonard'], ['Michele', 'Cross'], ['Stephen', 'Lopez'], ['Laura', 'Vasquez'], ['Sharon', 'Weber'], ['Eric', 'Obrien'], ['Frederick', 'Mullen'], ['Carla', 'Simpson'], ['Corey', 'Garcia'], ['Justin', 'Phillips'], ['Timothy', 'Smith'], ['Suzanne', 'Hill'], ['Stacey', 'Burgess'], ['Kelly', 'Perez'], ['Jennifer', 'Wagner'], ['George', 'Williams'], ['Michael', 'David'], ['John', 'Perez'], ['Nicole', 'Sherman'], ['Teresa', 'Macias'], ['Benjamin', 'Lee'], ['Jodi', 'Anderson'], ['Matthew', 'Ritter'], ['Lauren', 'Howard'], ['Richard', 'Butler'], ['Katrina', 'Freeman'], ['Whitney', 'Graham'], ['Anna', 'Mills'], ['Lisa', 'Avila'], ['Darrell', 'Stevens'], ['Hayden', 'Norman'], ['Anthony', 'Baker'], ['Jonathan', 'Pierce'], ['Rachael', 'Norton'], ['Rachel', 'Blackburn'], ['Gabrielle', 'Rodriguez'], ['Katherine', 'Prince'], ['Amy', 'Ellis'], ['Christopher', 'Jordan'], ['John', 'Hancock'], ['Pamela', 'Wang'], ['Cynthia', 'Campbell'], ['Kristi', 'Mccoy'], ['Karen', 'Jacobs'], ['Jennifer', 'Johnson'], ['Carla', 'Hughes'], ['Ernest', 'Oliver'], ['Tyler', 'Blackwell'], ['Bethany', 'Weber'], ['Richard', 'Alvarez'], ['Kimberly', 'Stevens'], ['Emily', 'Mitchell'], ['Sherry', 'Fernandez'], ['Danielle', 'Manning'], ['Deanna', 'Acosta'], ['Kristin', 'Dawson'], ['Sarah', 'Moreno'], ['Stephanie', 'Flores'], ['Sharon', 'Jones'], ['Robin', 'Coleman'], ['Cindy', 'Hopkins'], ['Peter', 'Hernandez'], ['William', 'Ray'], ['Cheryl', 'Smith'], ['Christopher', 'Glover'], ['Sharon', 'Leblanc'], ['David', 'Price'], ['John', 'Patel'], ['Victor', 'Cole'], ['Karen', 'Heath'], ['Paul', 'Allen'], ['Kristina', 'Johnson'], ['Dominic', 'Ramos'], ['Brandon', 'House'], ['Sandra', 'Kelly'], ['Anthony', 'Melton'], ['Yvette', 'Duke'], ['Michael', 'Henry'], ['Emily', 'Taylor'], ['Peggy', 'Mcdaniel'], ['Teresa', 'Murphy'], ['Natalie', 'Ward'], ['Jacqueline', 'Kirby'], ['Amanda', 'Young'], ['Russell', 'Zavala'], ['Nicole', 'Carpenter'], ['Bradley', 'Wagner'], ['Marie', 'Bailey'], ['Rebecca', 'Roach'], ['Chad', 'Duncan'], ['Mark', 'Thompson'], ['Suzanne', 'Rhodes'], ['Melissa', 'Reyes'], ['Samuel', 'Phillips'], ['James', 'Cortez'], ['Randall', 'Whitehead'], ['Matthew', 'Richardson'], ['Sandra', 'Myers'], ['Natasha', 'Davis'], ['Susan', 'Diaz'], ['Nicholas', 'Nguyen'], ['Michael', 'Welch'], ['Jennifer', 'Yates'], ['Gail', 'Bradshaw'], ['Anthony', 'Mills'], ['Christina', 'Winters'], ['Tracey', 'Gomez'], ['Angela', 'Hart'], ['Katherine', 'Baird'], ['Jennifer', 'Bradley'], ['Hunter', 'Payne'], ['Amy', 'Black'], ['James', 'Mccormick'], ['Michael', 'Edwards'], ['William', 'Johnson'], ['Heather', 'Thompson'], ['John', 'Gibson'], ['Laurie', 'Elliott'], ['James', 'Neal'], ['Eric', 'Moore'], ['Corey', 'White'], ['Kenneth', 'Holmes'], ['Daniel', 'Mason'], ['John', 'Warren'], ['Julie', 'Taylor'], ['Kathryn', 'Carpenter'], ['Kathy', 'Castillo'], ['Kendra', 'Wood'], ['Elizabeth', 'Johnson'], ['Katherine', 'Johnson'], ['Linda', 'Day'], ['Brandon', 'Ho'], ['Timothy', 'Martin'], ['Chad', 'Zimmerman'], ['Dylan', 'Parker'], ['Kylie', 'Mccormick'], ['Jason', 'Reyes'], ['Arthur', 'Carlson'], ['Kevin', 'Wyatt'], ['Michelle', 'Skinner'], ['William', 'Grant'], ['Cassie', 'White'], ['Jimmy', 'Carney'], ['Daniel', 'Jones'], ['Austin', 'Oliver'], ['Michael', 'Welch'], ['Derek', 'Payne'], ['Eric', 'Dominguez'], ['William', 'Burns'], ['Andrew', 'Nguyen'], ['Cheryl', 'Salazar'], ['Karen', 'Williams'], ['Todd', 'Reyes'], ['Andrew', 'Williams'], ['Jeffrey', 'Mathews'], ['Victoria', 'Reeves'], ['Aaron', 'Munoz'], ['Larry', 'Smith'], ['Zachary', 'Hall'], ['Andrea', 'Aguilar'], ['Christopher', 'Bauer'], ['Charles', 'Fry'], ['Joshua', 'Mann'], ['Diana', 'Smith'], ['Michelle', 'Kennedy'], ['Christine', 'Sims'], ['Frederick', 'Moody'], ['Kevin', 'Smith'], ['Amy', 'Sampson'], ['Vanessa', 'Edwards'], ['Daniel', 'Mitchell'], ['Jessica', 'Rivera'], ['Amy', 'Dickson'], ['Stephen', 'Johnson'], ['Bryan', 'Hartman'], ['Jason', 'Buck'], ['Adrian', 'Hartman'], ['Gabrielle', 'Sampson'], ['Nancy', 'Montoya'], ['Theresa', 'Daniels'], ['Tammy', 'Jones'], ['Caitlin', 'Orozco'], ['Michael', 'Michael'], ['Daniel', 'Edwards'], ['Nicholas', 'Mclaughlin'], ['Heather', 'Fisher'], ['John', 'Wade'], ['Timothy', 'Moore'], ['Christopher', 'Santos'], ['Jessica', 'Bennett'], ['David', 'Ochoa'], ['Joseph', 'Ellis'], ['Shelia', 'Jones'], ['Kelli', 'Garcia'], ['John', 'Odonnell'], ['Shawn', 'Phelps'], ['Samantha', 'Dunlap'], ['Lawrence', 'Hall'], ['Christopher', 'Hernandez'], ['Christopher', 'Smith'], ['Jennifer', 'Lindsey'], ['Brent', 'Gillespie'], ['James', 'Macias'], ['Tamara', 'Grant'], ['Angelica', 'Mejia'], ['Erica', 'Moore'], ['Kyle', 'Berry'], ['Christine', 'Parks'], ['Holly', 'Jacobs'], ['Crystal', 'Ramos'], ['Heather', 'Franklin'], ['Cameron', 'Kennedy'], ['Megan', 'Mendoza'], ['James', 'Stanley'], ['Ricardo', 'Price'], ['Deanna', 'Lopez'], ['Juan', 'Beasley'], ['Steven', 'Cain'], ['Mary', 'Green'], ['Christine', 'Ibarra'], ['Stacey', 'Luna'], ['Marcus', 'Diaz'], ['David', 'Jones'], ['Jesus', 'Clark'], ['Theresa', 'Mitchell'], ['Jennifer', 'Gonzalez'], ['Douglas', 'Bass'], ['Kimberly', 'Thompson'], ['Angela', 'Hart'], ['Bryan', 'Gomez'], ['Jessica', 'Howard'], ['Justin', 'Dawson'], ['Edward', 'Porter'], ['Meredith', 'Anderson'], ['Julie', 'Nelson'], ['Michael', 'Martin'], ['Elizabeth', 'Moore'], ['Nicholas', 'Valentine'], ['Marie', 'Young'], ['Christopher', 'Washington'], ['Henry', 'Hoffman'], ['Richard', 'Armstrong'], ['Kyle', 'Walker'], ['Derrick', 'Wilcox'], ['Lucas', 'Duncan'], ['Lisa', 'Holmes'], ['Elizabeth', 'Cooper'], ['Stacey', 'Martinez'], ['Judith', 'Haynes'], ['Jackie', 'Hill'], ['Michael', 'Brown'], ['Anthony', 'Porter'], ['Joanna', 'Hernandez'], ['Ashley', 'Anderson'], ['Cassandra', 'Acosta'], ['Robert', 'Davidson'], ['Lisa', 'Guzman'], ['Bonnie', 'Kelley'], ['Christopher', 'Perez'], ['Randy', 'Johnson'], ['Lauren', 'Rivas'], ['Tracey', 'Chavez'], ['David', 'Marks'], ['Shawn', 'Nunez'], ['Russell', 'Yu'], ['Elizabeth', 'Hammond'], ['Heather', 'Scott'], ['Kimberly', 'Hull'], ['Robert', 'Drake'], ['Adrian', 'Martin'], ['Jessica', 'Rivers'], ['Christopher', 'Lee'], ['Christopher', 'Herman'], ['Charles', 'Nash'], ['Danielle', 'Barr'], ['Andrew', 'Ramos'], ['Kevin', 'Hall'], ['Travis', 'Thompson'], ['Emily', 'Harris'], ['Samantha', 'Sanders'], ['Benjamin', 'Hayes'], ['Michael', 'Hale'], ['Lindsay', 'Smith'], ['Kevin', 'Gonzalez'], ['Robin', 'Quinn'], ['Christopher', 'Fisher'], ['Denise', 'Blankenship'], ['Mark', 'Fitzgerald'], ['Mary', 'Strickland'], ['Catherine', 'Davies'], ['Patricia', 'Cooley'], ['Kerry', 'Adams'], ['Adrian', 'Higgins'], ['Nicholas', 'Crawford'], ['Jennifer', 'Galvan'], ['April', 'Thomas'], ['Billy', 'Dawson'], ['Jennifer', 'Wilcox'], ['Gavin', 'Brown'], ['James', 'Russell'], ['Timothy', 'Wilson'], ['Michael', 'Schmidt'], ['Sarah', 'Carrillo'], ['Ann', 'Romero'], ['Mark', 'Sanchez'], ['Christopher', 'Williams'], ['Daniel', 'Stewart'], ['Jason', 'Lopez'], ['Grace', 'Garcia'], ['Adam', 'Lee'], ['Brian', 'Rivera'], ['Justin', 'Howard'], ['Bonnie', 'Joseph'], ['Michael', 'Richard'], ['Matthew', 'Ortega'], ['Christine', 'Sparks'], ['Troy', 'Reynolds'], ['Ronald', 'Taylor'], ['Donald', 'Lyons'], ['Lisa', 'Hicks'], ['Carolyn', 'Wells'], ['Sandra', 'Powers'], ['Dawn', 'Brown'], ['George', 'Oconnell'], ['Jackson', 'Lucero'], ['Travis', 'Smith'], ['Bianca', 'Wong'], ['Willie', 'Allen'], ['Andrew', 'Rodgers'], ['James', 'James'], ['Amy', 'Estrada'], ['Mary', 'Carrillo'], ['Jamie', 'Jones'], ['Carol', 'Foster'], ['Ann', 'Mitchell'], ['Cynthia', 'Robinson'], ['Lauren', 'Allen'], ['James', 'Baker'], ['Katherine', 'Glass'], ['Lori', 'Alvarado'], ['Elizabeth', 'Mack'], ['Daniel', 'Rodriguez'], ['Melanie', 'Garrett'], ['William', 'Landry'], ['Chelsea', 'Gallagher'], ['Stephanie', 'Greer'], ['Victoria', 'Mcdaniel'], ['Francisco', 'Archer'], ['Caroline', 'Morrison'], ['Mary', 'Daniel'], ['Paul', 'Harris'], ['Jay', 'Smith'], ['Ashlee', 'Hall'], ['Meagan', 'Harrington'], ['Jasmine', 'Ho'], ['Jill', 'Jones'], ['Kathryn', 'Rodgers'], ['Karen', 'Nolan'], ['Randy', 'Johnston'], ['William', 'Doyle'], ['Dylan', 'Singh'], ['Erin', 'Norton'], ['Jonathan', 'Bennett'], ['Abigail', 'Wong'], ['Shawn', 'Bennett'], ['Dawn', 'Kramer'], ['Steven', 'Taylor'], ['Michael', 'Newton'], ['James', 'Day'], ['Alec', 'Williams'], ['Jill', 'Torres'], ['Stephanie', 'Sullivan'], ['James', 'Knight'], ['Brandon', 'Lyons'], ['Melinda', 'Martin'], ['Sara', 'Riley'], ['James', 'Parks'], ['Andrew', 'Wilkerson'], ['Gary', 'Rice'], ['Juan', 'Carr'], ['Michael', 'Chapman'], ['Mike', 'Richardson'], ['Daniel', 'Ramirez'], ['Anna', 'Davies'], ['Stephanie', 'Harper'], ['Christopher', 'Garcia'], ['Joshua', 'Webb'], ['Kelly', 'Evans'], ['Marissa', 'Davis'], ['Jermaine', 'Clark'], ['Tanner', 'Medina'], ['Donald', 'Dunlap'], ['Joseph', 'Ewing'], ['Kimberly', 'Smith'], ['Nicholas', 'Obrien'], ['Jason', 'Perez'], ['Jesse', 'Hernandez'], ['Brendan', 'Newman'], ['Marisa', 'Cunningham'], ['Christopher', 'Lee'], ['Laura', 'Walker'], ['Richard', 'Downs'], ['Cynthia', 'Black'], ['Sara', 'Vazquez'], ['Logan', 'Reynolds'], ['Michele', 'Brown'], ['James', 'Rodriguez'], ['Jason', 'Jennings'], ['Rebecca', 'Petty'], ['Jeremy', 'Wagner'], ['Mary', 'Vincent'], ['Nathan', 'Wolfe'], ['Jose', 'Adkins'], ['Miranda', 'Mitchell'], ['Peter', 'Hunt'], ['Katie', 'Lynn'], ['Nancy', 'Smith'], ['Adam', 'King'], ['Shawna', 'Chan'], ['Joseph', 'Dudley'], ['Lori', 'Gallagher'], ['Antonio', 'Velasquez'], ['Steven', 'Harris'], ['Amanda', 'Brown'], ['Ashley', 'Morales'], ['Gina', 'Holder'], ['Donald', 'Flores'], ['Tanner', 'Coleman'], ['Julie', 'Burnett'], ['Eric', 'Ball'], ['Alejandro', 'Harris'], ['Cindy', 'Rojas'], ['Nicole', 'Mueller'], ['Karen', 'Dennis'], ['Austin', 'Rodriguez'], ['Frances', 'Stewart'], ['Katie', 'Camacho'], ['Samuel', 'Huber'], ['Thomas', 'Hernandez'], ['Sharon', 'Bryant'], ['Daniel', 'Choi'], ['Janice', 'Perry'], ['Lauren', 'Cruz'], ['Steven', 'Taylor'], ['Teresa', 'Padilla'], ['Andrew', 'Brooks'], ['Antonio', 'Townsend'], ['Kristina', 'Hill'], ['Sarah', 'Johnson'], ['Aaron', 'Johnson'], ['Michael', 'Brown'], ['Phillip', 'Brown'], ['Kevin', 'Pollard'], ['Tommy', 'Castro'], ['Courtney', 'Walker'], ['Daniel', 'Ramsey'], ['Michael', 'Robbins'], ['Robert', 'Murphy'], ['Matthew', 'Parks'], ['Randy', 'Acosta'], ['Anna', 'Harrell'], ['Julie', 'Russell'], ['Melissa', 'Martinez'], ['Donna', 'King'], ['Ashley', 'Ryan'], ['Joshua', 'Golden'], ['Jared', 'Miranda'], ['Richard', 'Martinez'], ['Kimberly', 'Andersen'], ['Kenneth', 'Moore'], ['Cheryl', 'Payne'], ['Lauren', 'Lewis'], ['Rachel', 'Anderson'], ['Jessica', 'Snyder'], ['Edgar', 'Jennings'], ['Mark', 'Brown'], ['Erica', 'Wilson'], ['Miguel', 'Pierce'], ['Robert', 'Kim'], ['Todd', 'Garza'], ['Jessica', 'Thompson'], ['Erica', 'Waller'], ['Thomas', 'Stark'], ['Emily', 'Morris'], ['Jose', 'Jennings'], ['Tricia', 'Stone'], ['Tiffany', 'Robertson'], ['Stacy', 'Chambers'], ['Tyler', 'Davis'], ['Scott', 'Mitchell'], ['Samantha', 'House'], ['Antonio', 'Jones'], ['Christopher', 'Blackburn'], ['Ryan', 'Hayes'], ['Michelle', 'Hull'], ['Daniel', 'Bradley'], ['Jason', 'Alexander'], ['Audrey', 'Crane'], ['Scott', 'Walker'], ['Pamela', 'Andrews'], ['Andrew', 'Boone'], ['William', 'Nash'], ['Leah', 'Huynh'], ['Margaret', 'Peterson'], ['Richard', 'Neal'], ['Brian', 'Frost'], ['David', 'Logan'], ['Paige', 'Carter'], ['Jennifer', 'Garcia'], ['Tom', 'Diaz'], ['Sean', 'Nguyen'], ['Chelsea', 'Gibson'], ['Kaitlyn', 'Navarro'], ['Alejandra', 'Castillo'], ['Vanessa', 'Russell'], ['Jeremy', 'Arias'], ['Jason', 'Hurley'], ['Shannon', 'Smith'], ['Justin', 'Goodwin'], ['Cynthia', 'Moreno'], ['Gary', 'Parker'], ['Sara', 'Ramirez'], ['Amanda', 'Kelly'], ['Marie', 'Fletcher'], ['Tamara', 'Sutton'], ['Denise', 'Reynolds'], ['Joshua', 'Jensen'], ['Megan', 'Taylor'], ['Kimberly', 'Harris'], ['Matthew', 'Maldonado'], ['Tyler', 'Odonnell'], ['Crystal', 'Gillespie'], ['Charles', 'Rangel'], ['Janet', 'Conway'], ['Gregory', 'Bell'], ['Jordan', 'Kennedy'], ['Daniel', 'Peterson'], ['Suzanne', 'Duncan'], ['Jared', 'Cole'], ['Sarah', 'Gill'], ['Gina', 'Moon'], ['Kristen', 'Gomez'], ['Brandi', 'Herrera'], ['Scott', 'Smith'], ['Andrew', 'Rocha'], ['Carol', 'Gonzalez'], ['Tyler', 'Allen'], ['Eric', 'Stewart'], ['Tara', 'Weiss'], ['Melissa', 'Long'], ['Austin', 'Moran'], ['Sheila', 'Fuentes'], ['Michael', 'Jackson'], ['Alexander', 'Robbins'], ['William', 'Young'], ['Amber', 'Collins'], ['Sarah', 'Ware'], ['James', 'Sanchez'], ['Mary', 'Cisneros'], ['Lisa', 'Peterson'], ['David', 'Hunt'], ['Heather', 'Eaton'], ['Christine', 'Long'], ['Edward', 'Rogers'], ['Robert', 'Hernandez'], ['Matthew', 'Wells'], ['Ellen', 'Jackson'], ['Thomas', 'Brown'], ['Karen', 'Thompson'], ['Debra', 'Barr'], ['Melissa', 'Johnson'], ['Ronald', 'Boyd'], ['Adam', 'Davis'], ['James', 'Erickson'], ['William', 'Lane'], ['John', 'White'], ['Pamela', 'Ortiz'], ['Donna', 'Clark'], ['Mike', 'Burke'], ['Michelle', 'Hill'], ['Dana', 'Davis'], ['Brittany', 'Webster'], ['Justin', 'Romero'], ['Brandon', 'Miller'], ['Melissa', 'Hendricks'], ['Kimberly', 'Scott'], ['Amy', 'Williams'], ['William', 'Wright'], ['Rachel', 'Mcdowell'], ['Barbara', 'Estrada'], ['William', 'Jones'], ['Michael', 'Williams'], ['Adrian', 'Parker'], ['Ashley', 'Rivera'], ['Matthew', 'Griffin'], ['Taylor', 'Norman'], ['Harry', 'Roberts'], ['Shawn', 'Snyder'], ['Courtney', 'Sanchez'], ['Cory', 'Nguyen'], ['Dillon', 'Porter'], ['William', 'Leach'], ['Amanda', 'Sanders'], ['Bernard', 'Kim'], ['Susan', 'Mendez'], ['Lindsay', 'Harris'], ['Elizabeth', 'Mckay'], ['Laura', 'Gonzalez'], ['Amanda', 'Ross'], ['Alejandro', 'Scott'], ['Derek', 'Sanchez'], ['Patrick', 'King'], ['Jill', 'Hamilton'], ['Brooke', 'Peterson'], ['Michael', 'Haas'], ['Laura', 'Clark'], ['Debbie', 'Hill'], ['Mike', 'Miller'], ['Gabriel', 'Peters'], ['Jeffrey', 'Brown'], ['Jason', 'Campbell'], ['Anne', 'Gill'], ['Katherine', 'Wilson'], ['Joseph', 'Mcintosh'], ['Erin', 'Ortiz'], ['Donald', 'Foster'], ['Erin', 'Gallegos'], ['Stephen', 'Reed'], ['Ashley', 'Gutierrez'], ['Eileen', 'Benson'], ['Reginald', 'Jackson'], ['Felicia', 'Edwards'], ['Dawn', 'Schmidt'], ['Jill', 'Hall'], ['Laura', 'Fox'], ['Darlene', 'Ellis'], ['Lisa', 'Harris'], ['David', 'Miller'], ['Eric', 'Clark'], ['Rachel', 'Washington'], ['Bianca', 'Torres'], ['Angela', 'Smith'], ['Pamela', 'Hale'], ['Kyle', 'Rivera'], ['Shari', 'Stewart'], ['Nathan', 'Sheppard'], ['Patricia', 'Ferguson'], ['Natalie', 'Porter'], ['Robert', 'Anderson'], ['Andrew', 'Howard'], ['Randy', 'Mack'], ['Crystal', 'Thomas'], ['Angela', 'Reyes'], ['Charles', 'Williams'], ['Andrea', 'Brown'], ['Timothy', 'Henson'], ['Terri', 'Levine'], ['Jesse', 'Pacheco'], ['Julie', 'Jacobs'], ['Stephanie', 'Hoover'], ['Veronica', 'Blake'], ['Matthew', 'Smith'], ['Elizabeth', 'Lynn'], ['Devin', 'Johnson'], ['Cameron', 'Turner'], ['Luke', 'Robinson'], ['Cheryl', 'Carpenter'], ['Loretta', 'Ramirez'], ['Anthony', 'Garner'], ['Walter', 'West'], ['Todd', 'Brown'], ['Jenny', 'Reed'], ['Joseph', 'Paul'], ['Samantha', 'Brewer'], ['Jacqueline', 'Shelton'], ['Patricia', 'Hamilton'], ['Megan', 'Cook'], ['Thomas', 'Caldwell'], ['Samuel', 'Ryan'], ['Kayla', 'Monroe'], ['Jessica', 'Harper'], ['Chad', 'Copeland'], ['Joseph', 'Anthony'], ['Madeline', 'Irwin'], ['Chad', 'West'], ['Aaron', 'Brown'], ['Megan', 'Powell'], ['Ivan', 'Conley'], ['Bianca', 'Page'], ['Matthew', 'Henry'], ['Wesley', 'Smith'], ['Shannon', 'Torres'], ['Noah', 'Herman'], ['Christina', 'Morgan'], ['Lisa', 'Williams'], ['Angela', 'Adams'], ['Deborah', 'Anthony'], ['Jeffrey', 'Owens'], ['Kevin', 'Howard'], ['Tina', 'Peters'], ['Louis', 'Hart'], ['Juan', 'Barry'], ['Michael', 'Garrett'], ['Justin', 'Miller'], ['Chad', 'Robinson'], ['Daniel', 'Callahan'], ['William', 'Payne'], ['Alvin', 'Shea'], ['Joseph', 'Cox'], ['William', 'Miranda'], ['Christopher', 'Mcintosh'], ['Ashley', 'Herring'], ['Jeremy', 'Ellis'], ['James', 'Miller'], ['Jimmy', 'Walker'], ['Pamela', 'Huynh'], ['Sherri', 'Nguyen'], ['Victor', 'Gonzales'], ['Kevin', 'Johnson'], ['Stephanie', 'Walker'], ['Matthew', 'Taylor'], ['Renee', 'Decker'], ['Jonathan', 'Avila'], ['Mary', 'Lee'], ['Andrew', 'Jennings'], ['Ashley', 'Fernandez'], ['Thomas', 'Kidd'], ['Thomas', 'Shaffer'], ['John', 'Douglas'], ['Robert', 'Benitez'], ['Micheal', 'Ramirez'], ['Jennifer', 'Watson'], ['Sarah', 'Mitchell'], ['Erica', 'Moore'], ['Michael', 'Pruitt'], ['Jennifer', 'Johnson'], ['Darrell', 'Moreno'], ['Andrew', 'Barrett'], ['Michael', 'Le'], ['Ryan', 'Myers'], ['Courtney', 'Rivera'], ['Michelle', 'Parrish'], ['Ronnie', 'Nash'], ['Jesse', 'Jackson'], ['Paula', 'Gilbert'], ['Jared', 'Martin'], ['Joshua', 'Massey'], ['William', 'Martin'], ['Ernest', 'Guzman'], ['Lisa', 'Porter'], ['Carlos', 'Diaz'], ['Richard', 'Neal'], ['Andres', 'Rivera'], ['Nicole', 'Neal'], ['Kimberly', 'Stephens'], ['Erika', 'Dalton'], ['Catherine', 'Osborne'], ['Amanda', 'Miller'], ['Kristin', 'Johnson'], ['William', 'Rush'], ['Joe', 'Brown'], ['Kimberly', 'Nelson'], ['Heather', 'Foster'], ['Brandy', 'Lambert'], ['Amy', 'Small'], ['Christopher', 'Francis'], ['Lorraine', 'Butler'], ['Timothy', 'Scott'], ['Adam', 'Leonard'], ['Ashley', 'Baker'], ['Carolyn', 'Owens'], ['Michelle', 'Nolan'], ['Thomas', 'Rose'], ['Robert', 'Flores'], ['Bryan', 'Whitehead'], ['Michael', 'Decker'], ['Taylor', 'Watson'], ['Hannah', 'Richards'], ['Haley', 'Sanchez'], ['Cynthia', 'Gray'], ['Elizabeth', 'May'], ['Tracy', 'Miles'], ['James', 'Herrera'], ['Benjamin', 'Galvan'], ['David', 'Choi'], ['Jeffrey', 'Mccarty'], ['Sherry', 'Monroe'], ['Michael', 'Gonzalez'], ['Darren', 'Harrell'], ['Joseph', 'Long'], ['Tammy', 'Curry'], ['Anthony', 'Thomas'], ['Rodney', 'Lawson'], ['Steven', 'Gould'], ['Austin', 'Cox'], ['Shelly', 'Miller'], ['Rachel', 'Pratt'], ['John', 'Hill'], ['Gerald', 'Hernandez'], ['Donald', 'Richardson'], ['Philip', 'Cannon'], ['William', 'King'], ['Lee', 'Reed'], ['Veronica', 'Strickland'], ['James', 'Gonzalez'], ['Jacqueline', 'Ward'], ['Jose', 'Johnson'], ['Ronald', 'Smith'], ['Katherine', 'King'], ['Carla', 'Burnett'], ['Evelyn', 'Bradley'], ['Thomas', 'Jordan'], ['Eric', 'Hernandez'], ['Stephen', 'Hicks'], ['Terri', 'Richardson'], ['Charlotte', 'Evans'], ['Jeffrey', 'Rose'], ['Jeanne', 'Williams'], ['Rebecca', 'Anderson'], ['Jacob', 'Chavez'], ['Richard', 'Nelson'], ['Alison', 'Collins'], ['Holly', 'Fox'], ['Carolyn', 'Williams'], ['Cathy', 'Cooper'], ['Keith', 'Horn'], ['Suzanne', 'Saunders'], ['William', 'Molina'], ['Steven', 'Stanton'], ['Bryan', 'Stephens'], ['Aaron', 'Allen'], ['Gina', 'Hunt'], ['Lori', 'Wilson'], ['Kristi', 'Spencer'], ['Michelle', 'Huffman'], ['Valerie', 'Simmons'], ['John', 'Medina'], ['Denise', 'Ewing'], ['Anna', 'Meyers'], ['Ashley', 'Bray'], ['Gabrielle', 'Ochoa'], ['Brandon', 'Dunn'], ['Elizabeth', 'Chavez'], ['Kyle', 'Rios'], ['Jason', 'Hill'], ['Kristen', 'Li'], ['Charles', 'Simmons'], ['Derek', 'Dixon'], ['Sarah', 'Williams'], ['Kaitlin', 'Costa'], ['Matthew', 'Jones'], ['Molly', 'Bennett'], ['Bobby', 'Jones'], ['Jennifer', 'Lewis'], ['Brian', 'Wilson'], ['Thomas', 'Graham'], ['Deborah', 'Acosta'], ['Mitchell', 'Cook'], ['Amy', 'Jacobs'], ['Kimberly', 'Williams'], ['John', 'Williams'], ['Bernard', 'Martinez'], ['Allison', 'Walter'], ['William', 'Boyle'], ['Jessica', 'Howell'], ['Christine', 'Anthony'], ['Samuel', 'Jones'], ['Kyle', 'Moore'], ['Brittany', 'Vance'], ['Laura', 'Jacobson'], ['Erin', 'Briggs'], ['Stephen', 'Smith'], ['Douglas', 'Clark'], ['Brandon', 'Oneal'], ['Andrew', 'Baldwin'], ['Anna', 'Schroeder'], ['Valerie', 'Stone'], ['Sean', 'Sanchez'], ['Vanessa', 'Graham'], ['Katherine', 'Anderson'], ['Erica', 'Gonzalez'], ['Stacy', 'Johnson'], ['Kevin', 'Watts'], ['Emily', 'Nguyen'], ['Lynn', 'Hall'], ['Gail', 'Johnson'], ['Connie', 'Olsen'], ['Michael', 'Church'], ['Mike', 'Wilson'], ['Crystal', 'Fisher'], ['Charles', 'Duncan'], ['Roy', 'Perkins'], ['Dustin', 'Jackson'], ['Laura', 'Contreras'], ['Timothy', 'Morton'], ['John', 'Morrison'], ['Joseph', 'Wood'], ['Oscar', 'Romero'], ['Shannon', 'Wilson'], ['James', 'Armstrong'], ['Ronnie', 'Ellison'], ['Joshua', 'Wilcox'], ['Bryan', 'Rocha'], ['Matthew', 'Flynn'], ['Amanda', 'Turner'], ['Steven', 'White'], ['Andrea', 'Berry'], ['Shawn', 'Burke'], ['Rhonda', 'Wilson'], ['Jay', 'Hart'], ['Ashley', 'Martinez'], ['Elizabeth', 'Johnston'], ['Andrew', 'Acevedo'], ['Michelle', 'Lynch'], ['Cristian', 'Gibbs']]\n"
     ]
    }
   ],
   "source": [
    "#split names. They appear to be in nested lists, unsure of how to address this.\n",
    "Names = pyboss_hw[\"Name\"]\n",
    "for row in Names:\n",
    "    split_name.append(row.split(' '))\n",
    "\n",
    "print(split_name)"
   ]
  },
  {
   "cell_type": "code",
   "execution_count": 13,
   "metadata": {
    "collapsed": true
   },
   "outputs": [],
   "source": [
    "first_name.append(split_name[0]) #Add First Name    <----this works in theory. If split_name weren't nested it should work in practice.\n",
    "last_name.append(split_name[1]) #Add Last Name"
   ]
  },
  {
   "cell_type": "code",
   "execution_count": 14,
   "metadata": {
    "collapsed": true
   },
   "outputs": [],
   "source": [
    "#try to use regex to solve SSN\n",
    "#SSN1 = re.sub(r'.{3}-.{2}-.{4}', r'\\*\\*\\*-\\*\\*-.{4}')\n",
    "\n",
    "#print(SSN1)"
   ]
  },
  {
   "cell_type": "code",
   "execution_count": 15,
   "metadata": {
    "collapsed": true
   },
   "outputs": [],
   "source": [
    "#This isn't quite working. \\d{4}regex not recognized. Extremely classified data. \n",
    "SSN = pyboss_hw[\"SSN\"]\n",
    "ssn_replace = re.sub(r'\\d{3}-\\d{2}-\\d{4}', r'***-**-\\d{4}', str(SSN))   \n",
    "\n",
    "ssn_new.append(ssn_replace)"
   ]
  },
  {
   "cell_type": "code",
   "execution_count": 16,
   "metadata": {
    "collapsed": true
   },
   "outputs": [],
   "source": [
    "# Combine all data into a single list\n",
    "pyboss_hw = zip(emp_id, first_name, last_name, ssn_new, State)"
   ]
  },
  {
   "cell_type": "code",
   "execution_count": 17,
   "metadata": {},
   "outputs": [
    {
     "name": "stdout",
     "output_type": "stream",
     "text": [
      "<zip object at 0x00000258419EFB08>\n"
     ]
    },
    {
     "ename": "NameError",
     "evalue": "name 'file_output_name' is not defined",
     "output_type": "error",
     "traceback": [
      "\u001b[1;31m---------------------------------------------------------------------------\u001b[0m",
      "\u001b[1;31mNameError\u001b[0m                                 Traceback (most recent call last)",
      "\u001b[1;32m<ipython-input-17-16332b8b3ed2>\u001b[0m in \u001b[0;36m<module>\u001b[1;34m()\u001b[0m\n\u001b[0;32m      5\u001b[0m \u001b[1;31m# Output the employee list to a csv\u001b[0m\u001b[1;33m\u001b[0m\u001b[1;33m\u001b[0m\u001b[0m\n\u001b[0;32m      6\u001b[0m \u001b[1;31m# Write all of the employee data to csv\u001b[0m\u001b[1;33m\u001b[0m\u001b[1;33m\u001b[0m\u001b[0m\n\u001b[1;32m----> 7\u001b[1;33m \u001b[1;32mwith\u001b[0m \u001b[0mopen\u001b[0m\u001b[1;33m(\u001b[0m\u001b[0mfile_output_name\u001b[0m\u001b[1;33m,\u001b[0m \u001b[1;34m\"w\"\u001b[0m\u001b[1;33m,\u001b[0m \u001b[0mnewline\u001b[0m\u001b[1;33m=\u001b[0m\u001b[1;34m\"\"\u001b[0m\u001b[1;33m)\u001b[0m \u001b[1;32mas\u001b[0m \u001b[0mcsv_path\u001b[0m\u001b[1;33m:\u001b[0m\u001b[1;33m\u001b[0m\u001b[0m\n\u001b[0m\u001b[0;32m      8\u001b[0m     \u001b[0mwriter\u001b[0m \u001b[1;33m=\u001b[0m \u001b[0mcsv\u001b[0m\u001b[1;33m.\u001b[0m\u001b[0mwriter\u001b[0m\u001b[1;33m(\u001b[0m\u001b[0mcsv_path\u001b[0m\u001b[1;33m)\u001b[0m\u001b[1;33m\u001b[0m\u001b[0m\n\u001b[0;32m      9\u001b[0m     \u001b[0mwriter\u001b[0m\u001b[1;33m.\u001b[0m\u001b[0mwriterow\u001b[0m\u001b[1;33m(\u001b[0m\u001b[1;33m[\u001b[0m\u001b[1;34m\"Emp ID\"\u001b[0m\u001b[1;33m,\u001b[0m \u001b[1;34m\"Name\"\u001b[0m\u001b[1;33m,\u001b[0m \u001b[1;34m\"DOB\"\u001b[0m\u001b[1;33m,\u001b[0m \u001b[1;34m\"SSN\"\u001b[0m\u001b[1;33m,\u001b[0m \u001b[1;34m\"State\"\u001b[0m\u001b[1;33m]\u001b[0m\u001b[1;33m)\u001b[0m\u001b[1;33m\u001b[0m\u001b[0m\n",
      "\u001b[1;31mNameError\u001b[0m: name 'file_output_name' is not defined"
     ]
    }
   ],
   "source": [
    "\n",
    "# Print the employee list to terminal\n",
    "print(pyboss_hw)\n",
    "\n",
    "# Output the employee list to a csv\n",
    "# Write all of the employee data to csv\n",
    "with open(file_output_name, \"w\", newline=\"\") as csv_path:\n",
    "    writer = csv.writer(csv_path)\n",
    "    writer.writerow([\"Emp ID\", \"Name\", \"DOB\", \"SSN\", \"State\"])\n",
    "    writer.writerows(pyboss_hw)"
   ]
  },
  {
   "cell_type": "code",
   "execution_count": null,
   "metadata": {
    "collapsed": true
   },
   "outputs": [],
   "source": []
  }
 ],
 "metadata": {
  "kernelspec": {
   "display_name": "Python 3",
   "language": "python",
   "name": "python3"
  },
  "language_info": {
   "codemirror_mode": {
    "name": "ipython",
    "version": 3
   },
   "file_extension": ".py",
   "mimetype": "text/x-python",
   "name": "python",
   "nbconvert_exporter": "python",
   "pygments_lexer": "ipython3",
   "version": "3.6.3"
  }
 },
 "nbformat": 4,
 "nbformat_minor": 2
}
