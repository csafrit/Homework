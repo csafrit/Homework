{
 "cells": [
  {
   "cell_type": "code",
   "execution_count": 1,
   "metadata": {
    "collapsed": true
   },
   "outputs": [],
   "source": [
    "import pandas as pd\n",
    "import json"
   ]
  },
  {
   "cell_type": "code",
   "execution_count": 9,
   "metadata": {},
   "outputs": [
    {
     "ename": "ValueError",
     "evalue": "I/O operation on closed file.",
     "output_type": "error",
     "traceback": [
      "\u001b[1;31m---------------------------------------------------------------------------\u001b[0m",
      "\u001b[1;31mValueError\u001b[0m                                Traceback (most recent call last)",
      "\u001b[1;32m<ipython-input-9-44a193d10297>\u001b[0m in \u001b[0;36m<module>\u001b[1;34m()\u001b[0m\n\u001b[0;32m      1\u001b[0m \u001b[1;31m#with open(\"../Weel-04-Pandas/Instructions/HeroesOfPymoli/purchase_data.json\") as json_data:\u001b[0m\u001b[1;33m\u001b[0m\u001b[1;33m\u001b[0m\u001b[0m\n\u001b[0;32m      2\u001b[0m \u001b[0mjson_data\u001b[0m \u001b[1;33m=\u001b[0m \u001b[0mopen\u001b[0m\u001b[1;33m(\u001b[0m\u001b[1;34m\"../Weel-04-Pandas/Instructions/HeroesOfPymoli/purchase_data.json\"\u001b[0m\u001b[1;33m,\u001b[0m \u001b[1;34m\"r\"\u001b[0m\u001b[1;33m,\u001b[0m \u001b[0mencoding\u001b[0m \u001b[1;33m=\u001b[0m \u001b[1;34m\"utf-8\"\u001b[0m\u001b[1;33m)\u001b[0m\u001b[1;33m\u001b[0m\u001b[0m\n\u001b[1;32m----> 3\u001b[1;33m \u001b[0mjson_data\u001b[0m \u001b[1;33m=\u001b[0m \u001b[0mlist\u001b[0m\u001b[1;33m(\u001b[0m\u001b[0mfantasy_df\u001b[0m\u001b[1;33m)\u001b[0m\u001b[1;33m\u001b[0m\u001b[0m\n\u001b[0m\u001b[0;32m      4\u001b[0m     \u001b[1;31m#fanstasy_data = json.load(json_data)[0]\u001b[0m\u001b[1;33m\u001b[0m\u001b[1;33m\u001b[0m\u001b[0m\n\u001b[0;32m      5\u001b[0m \u001b[0mprint\u001b[0m\u001b[1;33m(\u001b[0m\u001b[0mfantasy_data\u001b[0m\u001b[1;33m)\u001b[0m\u001b[1;33m\u001b[0m\u001b[0m\n",
      "\u001b[1;31mValueError\u001b[0m: I/O operation on closed file."
     ]
    }
   ],
   "source": [
    "#with open(\"../Weel-04-Pandas/Instructions/HeroesOfPymoli/purchase_data.json\") as json_data:\n",
    "json_data = open(\"../Weel-04-Pandas/Instructions/HeroesOfPymoli/purchase_data.json\", \"r\", encoding = \"utf-8\")\n",
    "json_data = list(fantasy_df)\n",
    "    #fanstasy_data = json.load(json_data)[0]\n",
    "print(fantasy_data)"
   ]
  },
  {
   "cell_type": "code",
   "execution_count": null,
   "metadata": {
    "collapsed": true
   },
   "outputs": [],
   "source": [
    "#print(json.dumps(json_data));\n",
    "\n",
    "#json_data.write(fantasy_data.csv)\n",
    "\n",
    "#fantasy_data = open(fantasy_data.csv, \"w\")\n",
    "#writer = csv.writer(fantasy_data)\n",
    "\n",
    "#for row in json.loads(json_data.read()):\n",
    "    #writer.writerow(row)\n",
    "    \n",
    "  \n",
    "#json_data = open(\"../Weel-04-Pandas/Instructions/HeroesOfPymoli/purchase_data.json\", \"r\", encoding = \"utf-8\")\n",
    "#for row in json.loads(json_data.read()):\n",
    "    #writer.writerow(row)\n",
    "\n",
    "\n",
    "#fanstasy_data = json.load(json_data)[0]\n",
    "\n",
    "#count = 0\n",
    "\n",
    "#for file in f:\n",
    "\n",
    "      #if count == 0:\n",
    "\n",
    "            # header = f.keys()\n",
    "\n",
    "             #csvwriter.writerow(header)\n",
    "\n",
    "             #count += 1\n",
    "\n",
    "   # csvwriter.writerow(f.values())\n",
    "\n",
    "#f.close()\n",
    "\n",
    "\n",
    "#fantasy_df = pd.read_csv(f)\n",
    "#fantasy_df.head()\n",
    "\n",
    "\n",
    "#json_data.close()\n",
    "#fantasy_df\n",
    "with open(\"../Weel-04-Pandas/Instructions/HeroesOfPymoli/purchase_data.json\") as fantasy_df:\n",
    "    #json_path = \"../Instructions/HeroesOfPymoli/purchase_data.json\"\n",
    "    #fantasy_data = list(fantasy_df)\n",
    "#with open('json_path') as json_data:\n",
    "    fantasy_df = json.load(fantasy_df)\n",
    "#json_path = \"../HeroesOfPymoli/purchase_data.json\"\n",
    "#Fantasy_money_df = pd.read_json(json_path)\n",
    "#Fantasy_money_df.head()\n",
    "print(fantasy_data)\n",
    "\n",
    "list = fanstasy_data)\n",
    "dict(zip(list,range(len(list))))\n",
    "\n",
    "#fanstasy_df = json.load(json_data)"
   ]
  }
 ],
 "metadata": {
  "kernelspec": {
   "display_name": "Python 3",
   "language": "python",
   "name": "python3"
  },
  "language_info": {
   "codemirror_mode": {
    "name": "ipython",
    "version": 3
   },
   "file_extension": ".py",
   "mimetype": "text/x-python",
   "name": "python",
   "nbconvert_exporter": "python",
   "pygments_lexer": "ipython3",
   "version": "3.6.3"
  }
 },
 "nbformat": 4,
 "nbformat_minor": 2
}
