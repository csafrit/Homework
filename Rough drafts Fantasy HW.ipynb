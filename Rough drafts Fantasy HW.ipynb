{
 "cells": [
  {
   "cell_type": "code",
   "execution_count": 10,
   "metadata": {
    "collapsed": true
   },
   "outputs": [],
   "source": [
    "#import modules\n",
    "import pandas as pd\n",
    "import numpy as np\n",
    "import json\n",
    "import os\n",
    "import sys\n",
    "import csv"
   ]
  },
  {
   "cell_type": "code",
   "execution_count": 11,
   "metadata": {},
   "outputs": [
    {
     "name": "stdout",
     "output_type": "stream",
     "text": [
      "[{'SN': 'Aelalis34', 'Age': 38, 'Gender': 'Male', 'Item ID': 165, 'Item Name': 'Bone Crushing Silver Skewer', 'Price': 3.37}, {'SN': 'Eolo46', 'Age': 21, 'Gender': 'Male', 'Item ID': 119, 'Item Name': 'Stormbringer, Dark Blade of Ending Misery', 'Price': 2.32}, {'SN': 'Assastnya25', 'Age': 34, 'Gender': 'Male', 'Item ID': 174, 'Item Name': 'Primitive Blade', 'Price': 2.46}, {'SN': 'Pheusrical25', 'Age': 21, 'Gender': 'Male', 'Item ID': 92, 'Item Name': 'Final Critic', 'Price': 1.36}, {'SN': 'Aela59', 'Age': 23, 'Gender': 'Male', 'Item ID': 63, 'Item Name': 'Stormfury Mace', 'Price': 1.27}, {'SN': 'Tanimnya91', 'Age': 20, 'Gender': 'Male', 'Item ID': 10, 'Item Name': 'Sleepwalker', 'Price': 1.73}, {'SN': 'Undjaskla97', 'Age': 20, 'Gender': 'Male', 'Item ID': 153, 'Item Name': 'Mercenary Sabre', 'Price': 4.57}, {'SN': 'Iathenudil29', 'Age': 29, 'Gender': 'Female', 'Item ID': 169, 'Item Name': 'Interrogator, Blood Blade of the Queen', 'Price': 3.32}, {'SN': 'Sondenasta63', 'Age': 25, 'Gender': 'Male', 'Item ID': 118, 'Item Name': 'Ghost Reaver, Longsword of Magic', 'Price': 2.77}, {'SN': 'Hilaerin92', 'Age': 31, 'Gender': 'Male', 'Item ID': 99, 'Item Name': 'Expiration, Warscythe Of Lost Worlds', 'Price': 4.53}, {'SN': 'Chamosia29', 'Age': 24, 'Gender': 'Male', 'Item ID': 57, 'Item Name': 'Despair, Favor of Due Diligence', 'Price': 3.81}, {'SN': 'Sally64', 'Age': 20, 'Gender': 'Male', 'Item ID': 47, 'Item Name': 'Alpha, Reach of Ending Hope', 'Price': 1.55}, {'SN': 'Iskossa88', 'Age': 30, 'Gender': 'Male', 'Item ID': 81, 'Item Name': 'Dreamkiss', 'Price': 4.06}, {'SN': 'Seorithstilis90', 'Age': 23, 'Gender': 'Male', 'Item ID': 77, 'Item Name': 'Piety, Guardian of Riddles', 'Price': 3.68}, {'SN': 'Sundast29', 'Age': 40, 'Gender': 'Male', 'Item ID': 44, 'Item Name': 'Bonecarvin Battle Axe', 'Price': 2.46}, {'SN': 'Haellysu29', 'Age': 21, 'Gender': 'Male', 'Item ID': 96, 'Item Name': 'Blood-Forged Skeletal Spine', 'Price': 4.77}, {'SN': 'Sundista85', 'Age': 22, 'Gender': 'Female', 'Item ID': 123, 'Item Name': \"Twilight's Carver\", 'Price': 1.14}, {'SN': 'Aenarap34', 'Age': 22, 'Gender': 'Female', 'Item ID': 59, 'Item Name': 'Lightning, Etcher of the King', 'Price': 1.65}, {'SN': 'Iskista88', 'Age': 28, 'Gender': 'Male', 'Item ID': 91, 'Item Name': 'Celeste', 'Price': 3.71}, {'SN': 'Assossa43', 'Age': 31, 'Gender': 'Male', 'Item ID': 177, 'Item Name': 'Winterthorn, Defender of Shifting Worlds', 'Price': 4.89}, {'SN': 'Irith83', 'Age': 24, 'Gender': 'Male', 'Item ID': 78, 'Item Name': 'Glimmer, Ender of the Moon', 'Price': 2.33}, {'SN': 'Iaralrgue74', 'Age': 15, 'Gender': 'Male', 'Item ID': 3, 'Item Name': 'Phantomlight', 'Price': 1.79}, {'SN': 'Deural48', 'Age': 11, 'Gender': 'Female', 'Item ID': 11, 'Item Name': 'Brimstone', 'Price': 2.52}, {'SN': 'Chanosia65', 'Age': 19, 'Gender': 'Male', 'Item ID': 183, 'Item Name': \"Dragon's Greatsword\", 'Price': 2.36}, {'SN': 'Qarwen67', 'Age': 11, 'Gender': 'Male', 'Item ID': 65, 'Item Name': 'Conqueror Adamantite Mace', 'Price': 1.96}, {'SN': 'Idai61', 'Age': 21, 'Gender': 'Male', 'Item ID': 63, 'Item Name': 'Stormfury Mace', 'Price': 1.27}, {'SN': 'Aerithllora36', 'Age': 29, 'Gender': 'Male', 'Item ID': 132, 'Item Name': 'Persuasion', 'Price': 3.9}, {'SN': 'Assastnya25', 'Age': 34, 'Gender': 'Male', 'Item ID': 106, 'Item Name': 'Crying Steel Sickle', 'Price': 2.29}, {'SN': 'Ilariarin45', 'Age': 15, 'Gender': 'Male', 'Item ID': 49, 'Item Name': 'The Oculus, Token of Lost Worlds', 'Price': 4.23}, {'SN': 'Phaedai25', 'Age': 16, 'Gender': 'Female', 'Item ID': 45, 'Item Name': 'Glinting Glass Edge', 'Price': 2.46}, {'SN': 'Eulaeria40', 'Age': 21, 'Gender': 'Female', 'Item ID': 155, 'Item Name': 'War-Forged Gold Deflector', 'Price': 3.73}, {'SN': 'Iarilis73', 'Age': 18, 'Gender': 'Male', 'Item ID': 37, 'Item Name': 'Shadow Strike, Glory of Ending Hope', 'Price': 1.93}, {'SN': 'Malunil62', 'Age': 19, 'Gender': 'Male', 'Item ID': 48, 'Item Name': 'Rage, Legacy of the Lone Victor', 'Price': 4.32}, {'SN': 'Iskimnya76', 'Age': 24, 'Gender': 'Male', 'Item ID': 90, 'Item Name': 'Betrayer', 'Price': 1.67}, {'SN': 'Yararmol43', 'Age': 22, 'Gender': 'Male', 'Item ID': 47, 'Item Name': 'Alpha, Reach of Ending Hope', 'Price': 1.55}, {'SN': 'Aisur51', 'Age': 21, 'Gender': 'Female', 'Item ID': 13, 'Item Name': 'Serenity', 'Price': 1.49}, {'SN': 'Undare39', 'Age': 20, 'Gender': 'Male', 'Item ID': 44, 'Item Name': 'Bonecarvin Battle Axe', 'Price': 2.46}, {'SN': 'Sondossa91', 'Age': 31, 'Gender': 'Male', 'Item ID': 171, 'Item Name': 'Scalpel', 'Price': 3.62}, {'SN': 'Chamjasknya65', 'Age': 20, 'Gender': 'Male', 'Item ID': 25, 'Item Name': 'Hero Cane', 'Price': 1.03}, {'SN': 'Lassilsa63', 'Age': 23, 'Gender': 'Male', 'Item ID': 63, 'Item Name': 'Stormfury Mace', 'Price': 1.27}, {'SN': 'Tyisur83', 'Age': 32, 'Gender': 'Male', 'Item ID': 7, 'Item Name': 'Thorn, Satchel of Dark Souls', 'Price': 4.51}, {'SN': 'Aeral43', 'Age': 19, 'Gender': 'Female', 'Item ID': 124, 'Item Name': 'Venom Claymore', 'Price': 2.72}, {'SN': 'Lassadarsda57', 'Age': 24, 'Gender': 'Male', 'Item ID': 25, 'Item Name': 'Hero Cane', 'Price': 1.03}, {'SN': 'Alaephos75', 'Age': 22, 'Gender': 'Male', 'Item ID': 68, 'Item Name': 'Storm-Weaver, Slayer of Inception', 'Price': 2.49}, {'SN': 'Frichjask31', 'Age': 22, 'Gender': 'Male', 'Item ID': 85, 'Item Name': 'Malificent Bag', 'Price': 2.17}, {'SN': 'Eusur90', 'Age': 20, 'Gender': 'Male', 'Item ID': 120, 'Item Name': 'Agatha', 'Price': 1.91}, {'SN': 'Palatyon26', 'Age': 11, 'Gender': 'Male', 'Item ID': 17, 'Item Name': 'Lazarus, Terror of the Earth', 'Price': 3.47}, {'SN': 'Saellyra72', 'Age': 24, 'Gender': 'Male', 'Item ID': 141, 'Item Name': 'Persuasion', 'Price': 3.27}, {'SN': 'Ililsa62', 'Age': 20, 'Gender': 'Male', 'Item ID': 73, 'Item Name': 'Ritual Mace', 'Price': 3.74}, {'SN': 'Eosur70', 'Age': 22, 'Gender': 'Male', 'Item ID': 151, 'Item Name': 'Severance', 'Price': 1.85}, {'SN': 'Saistyphos30', 'Age': 32, 'Gender': 'Female', 'Item ID': 32, 'Item Name': 'Orenmir', 'Price': 4.95}, {'SN': 'Reula64', 'Age': 16, 'Gender': 'Male', 'Item ID': 169, 'Item Name': 'Interrogator, Blood Blade of the Queen', 'Price': 3.32}, {'SN': 'Chanirrala39', 'Age': 24, 'Gender': 'Male', 'Item ID': 165, 'Item Name': 'Bone Crushing Silver Skewer', 'Price': 3.37}, {'SN': 'Chadanto83', 'Age': 22, 'Gender': 'Male', 'Item ID': 51, 'Item Name': 'Endbringer', 'Price': 2.67}, {'SN': 'Minduli80', 'Age': 25, 'Gender': 'Female', 'Item ID': 101, 'Item Name': 'Final Critic', 'Price': 4.62}, {'SN': 'Heunadil74', 'Age': 24, 'Gender': 'Male', 'Item ID': 140, 'Item Name': 'Striker', 'Price': 3.82}, {'SN': 'Marilsasya33', 'Age': 23, 'Gender': 'Male', 'Item ID': 31, 'Item Name': 'Trickster', 'Price': 2.07}, {'SN': 'Alallo58', 'Age': 24, 'Gender': 'Male', 'Item ID': 34, 'Item Name': 'Retribution Axe', 'Price': 4.14}, {'SN': 'Tyaeristi78', 'Age': 24, 'Gender': 'Female', 'Item ID': 65, 'Item Name': 'Conqueror Adamantite Mace', 'Price': 1.96}, {'SN': 'Ila44', 'Age': 15, 'Gender': 'Male', 'Item ID': 2, 'Item Name': 'Verdict', 'Price': 3.4}, {'SN': 'Iskossaya95', 'Age': 31, 'Gender': 'Male', 'Item ID': 86, 'Item Name': 'Stormfury Lantern', 'Price': 1.28}, {'SN': 'Rinallorap73', 'Age': 24, 'Gender': 'Male', 'Item ID': 39, 'Item Name': 'Betrayal, Whisper of Grieving Widows', 'Price': 2.35}, {'SN': 'Aeri84', 'Age': 19, 'Gender': 'Female', 'Item ID': 39, 'Item Name': 'Betrayal, Whisper of Grieving Widows', 'Price': 2.35}, {'SN': 'Ryanara76', 'Age': 23, 'Gender': 'Male', 'Item ID': 28, 'Item Name': 'Flux, Destroyer of Due Diligence', 'Price': 3.04}, {'SN': 'Syally44', 'Age': 15, 'Gender': 'Male', 'Item ID': 160, 'Item Name': 'Azurewrath', 'Price': 2.22}, {'SN': 'Shaidanu32', 'Age': 15, 'Gender': 'Male', 'Item ID': 134, 'Item Name': 'Undead Crusader', 'Price': 4.67}, {'SN': 'Syasriria69', 'Age': 18, 'Gender': 'Male', 'Item ID': 13, 'Item Name': 'Serenity', 'Price': 1.49}, {'SN': 'Lisiriya82', 'Age': 25, 'Gender': 'Male', 'Item ID': 83, 'Item Name': 'Lifebender', 'Price': 3.51}, {'SN': 'Qarwen67', 'Age': 11, 'Gender': 'Male', 'Item ID': 38, 'Item Name': 'The Void, Vengeance of Dark Magic', 'Price': 2.82}, {'SN': 'Iskosia51', 'Age': 15, 'Gender': 'Male', 'Item ID': 7, 'Item Name': 'Thorn, Satchel of Dark Souls', 'Price': 4.51}, {'SN': 'Eosurdru76', 'Age': 7, 'Gender': 'Female', 'Item ID': 158, 'Item Name': 'Darkheart, Butcher of the Champion', 'Price': 3.56}, {'SN': 'Lassimla92', 'Age': 21, 'Gender': 'Male', 'Item ID': 85, 'Item Name': 'Malificent Bag', 'Price': 2.17}, {'SN': 'Tauldilsa43', 'Age': 34, 'Gender': 'Male', 'Item ID': 110, 'Item Name': 'Suspension', 'Price': 2.11}, {'SN': 'Erudrion71', 'Age': 16, 'Gender': 'Male', 'Item ID': 122, 'Item Name': 'Unending Tyranny', 'Price': 1.21}, {'SN': 'Chanjaskan37', 'Age': 20, 'Gender': 'Male', 'Item ID': 54, 'Item Name': 'Eternal Cleaver', 'Price': 3.14}, {'SN': 'Sondastan54', 'Age': 31, 'Gender': 'Male', 'Item ID': 31, 'Item Name': 'Trickster', 'Price': 2.07}, {'SN': 'Strithenu87', 'Age': 20, 'Gender': 'Male', 'Item ID': 105, 'Item Name': 'Hailstorm Shadowsteel Scythe', 'Price': 3.73}, {'SN': 'Chanastsda67', 'Age': 15, 'Gender': 'Male', 'Item ID': 87, 'Item Name': 'Deluge, Edge of the West', 'Price': 2.2}, {'SN': 'Baelollodeu94', 'Age': 23, 'Gender': 'Male', 'Item ID': 23, 'Item Name': 'Crucifer', 'Price': 2.77}, {'SN': 'Undirrala66', 'Age': 29, 'Gender': 'Male', 'Item ID': 144, 'Item Name': 'Blood Infused Guardian', 'Price': 2.86}, {'SN': 'Chanosseya79', 'Age': 16, 'Gender': 'Female', 'Item ID': 128, 'Item Name': 'Blazeguard, Reach of Eternity', 'Price': 4.0}, {'SN': 'Yaristi64', 'Age': 38, 'Gender': 'Male', 'Item ID': 175, 'Item Name': 'Woeful Adamantite Claymore', 'Price': 1.24}, {'SN': 'Airi27', 'Age': 23, 'Gender': 'Male', 'Item ID': 46, 'Item Name': 'Hopeless Ebon Dualblade', 'Price': 4.75}, {'SN': 'Frichaststa61', 'Age': 25, 'Gender': 'Female', 'Item ID': 32, 'Item Name': 'Orenmir', 'Price': 4.95}, {'SN': 'Raysistast71', 'Age': 25, 'Gender': 'Male', 'Item ID': 7, 'Item Name': 'Thorn, Satchel of Dark Souls', 'Price': 4.51}, {'SN': 'Ithergue48', 'Age': 20, 'Gender': 'Female', 'Item ID': 150, 'Item Name': 'Deathraze', 'Price': 4.54}, {'SN': 'Chanastst38', 'Age': 27, 'Gender': 'Male', 'Item ID': 152, 'Item Name': 'Darkheart', 'Price': 3.15}, {'SN': 'Sundosiasta28', 'Age': 22, 'Gender': 'Male', 'Item ID': 108, 'Item Name': 'Extraction, Quickblade Of Trembling Hands', 'Price': 3.39}, {'SN': 'Undotesta33', 'Age': 23, 'Gender': 'Male', 'Item ID': 132, 'Item Name': 'Persuasion', 'Price': 3.9}, {'SN': 'Tyiaduenuru55', 'Age': 22, 'Gender': 'Male', 'Item ID': 172, 'Item Name': 'Blade of the Grave', 'Price': 1.69}, {'SN': 'Iskjaskst81', 'Age': 33, 'Gender': 'Male', 'Item ID': 91, 'Item Name': 'Celeste', 'Price': 3.71}, {'SN': 'Iskjaskan81', 'Age': 24, 'Gender': 'Male', 'Item ID': 167, 'Item Name': 'Malice, Legacy of the Queen', 'Price': 2.38}, {'SN': 'Frichim27', 'Age': 24, 'Gender': 'Male', 'Item ID': 181, 'Item Name': \"Reaper's Toll\", 'Price': 4.56}, {'SN': 'Hailaphos89', 'Age': 20, 'Gender': 'Male', 'Item ID': 20, 'Item Name': 'Netherbane', 'Price': 1.48}, {'SN': 'Seorithstilis90', 'Age': 23, 'Gender': 'Male', 'Item ID': 130, 'Item Name': 'Alpha', 'Price': 1.56}, {'SN': 'Jiskjask80', 'Age': 24, 'Gender': 'Male', 'Item ID': 111, 'Item Name': \"Misery's End\", 'Price': 2.91}, {'SN': 'Yasurra52', 'Age': 22, 'Gender': 'Female', 'Item ID': 54, 'Item Name': 'Eternal Cleaver', 'Price': 3.14}, {'SN': 'Assassasta79', 'Age': 17, 'Gender': 'Female', 'Item ID': 49, 'Item Name': 'The Oculus, Token of Lost Worlds', 'Price': 4.23}, {'SN': 'Lamyon68', 'Age': 25, 'Gender': 'Male', 'Item ID': 47, 'Item Name': 'Alpha, Reach of Ending Hope', 'Price': 1.55}, {'SN': 'Alo67', 'Age': 20, 'Gender': 'Male', 'Item ID': 110, 'Item Name': 'Suspension', 'Price': 2.11}, {'SN': 'Farenon57', 'Age': 20, 'Gender': 'Male', 'Item ID': 103, 'Item Name': 'Singed Scalpel', 'Price': 4.87}, {'SN': 'Assistasda90', 'Age': 25, 'Gender': 'Male', 'Item ID': 30, 'Item Name': 'Stormcaller', 'Price': 4.15}, {'SN': 'Frichaya88', 'Age': 30, 'Gender': 'Male', 'Item ID': 51, 'Item Name': 'Endbringer', 'Price': 2.67}, {'SN': 'Marassanya92', 'Age': 27, 'Gender': 'Male', 'Item ID': 139, 'Item Name': 'Mercy, Katana of Dismay', 'Price': 4.37}, {'SN': 'Iskista96', 'Age': 34, 'Gender': 'Male', 'Item ID': 173, 'Item Name': 'Stormfury Longsword', 'Price': 4.83}, {'SN': 'Mindirra92', 'Age': 20, 'Gender': 'Male', 'Item ID': 55, 'Item Name': 'Vindictive Glass Edge', 'Price': 4.26}, {'SN': 'Chadossa56', 'Age': 37, 'Gender': 'Female', 'Item ID': 174, 'Item Name': 'Primitive Blade', 'Price': 2.46}, {'SN': 'Undirrala66', 'Age': 29, 'Gender': 'Male', 'Item ID': 115, 'Item Name': 'Spectral Diamond Doomblade', 'Price': 4.25}, {'SN': 'Eoda93', 'Age': 22, 'Gender': 'Male', 'Item ID': 35, 'Item Name': 'Heartless Bone Dualblade', 'Price': 2.63}, {'SN': 'Lassast89', 'Age': 20, 'Gender': 'Female', 'Item ID': 42, 'Item Name': 'The Decapitator', 'Price': 4.82}, {'SN': 'Philodil43', 'Age': 20, 'Gender': 'Female', 'Item ID': 13, 'Item Name': 'Serenity', 'Price': 1.49}, {'SN': 'Tyirithnu40', 'Age': 19, 'Gender': 'Male', 'Item ID': 160, 'Item Name': 'Azurewrath', 'Price': 2.22}, {'SN': 'Haerith37', 'Age': 25, 'Gender': 'Male', 'Item ID': 57, 'Item Name': 'Despair, Favor of Due Diligence', 'Price': 3.81}, {'SN': 'Jeyciman68', 'Age': 20, 'Gender': 'Male', 'Item ID': 152, 'Item Name': 'Darkheart', 'Price': 3.15}, {'SN': 'Chamirraya83', 'Age': 20, 'Gender': 'Male', 'Item ID': 130, 'Item Name': 'Alpha', 'Price': 1.56}, {'SN': 'Yasur85', 'Age': 23, 'Gender': 'Male', 'Item ID': 9, 'Item Name': 'Thorn, Conqueror of the Corrupted', 'Price': 2.04}, {'SN': 'Koikirra25', 'Age': 25, 'Gender': 'Male', 'Item ID': 84, 'Item Name': 'Arcane Gem', 'Price': 2.23}, {'SN': 'Qarwen67', 'Age': 11, 'Gender': 'Male', 'Item ID': 160, 'Item Name': 'Azurewrath', 'Price': 2.22}, {'SN': 'Quarunarn52', 'Age': 23, 'Gender': 'Male', 'Item ID': 46, 'Item Name': 'Hopeless Ebon Dualblade', 'Price': 4.75}, {'SN': 'Yasur35', 'Age': 19, 'Gender': 'Male', 'Item ID': 180, 'Item Name': 'Stormcaller', 'Price': 2.78}, {'SN': 'Isurriarap71', 'Age': 31, 'Gender': 'Male', 'Item ID': 102, 'Item Name': 'Avenger', 'Price': 4.16}, {'SN': 'Lassjask63', 'Age': 7, 'Gender': 'Male', 'Item ID': 175, 'Item Name': 'Woeful Adamantite Claymore', 'Price': 1.24}, {'SN': 'Iliel92', 'Age': 18, 'Gender': 'Female', 'Item ID': 53, 'Item Name': 'Vengeance Cleaver', 'Price': 3.7}, {'SN': 'Arithllorin55', 'Age': 19, 'Gender': 'Male', 'Item ID': 73, 'Item Name': 'Ritual Mace', 'Price': 3.74}, {'SN': 'Silideu44', 'Age': 22, 'Gender': 'Male', 'Item ID': 18, 'Item Name': 'Torchlight, Bond of Storms', 'Price': 1.77}, {'SN': 'Heosurnuru52', 'Age': 7, 'Gender': 'Female', 'Item ID': 10, 'Item Name': 'Sleepwalker', 'Price': 1.73}, {'SN': 'Raesty92', 'Age': 25, 'Gender': 'Male', 'Item ID': 34, 'Item Name': 'Retribution Axe', 'Price': 4.14}, {'SN': 'Eyircil84', 'Age': 23, 'Gender': 'Female', 'Item ID': 74, 'Item Name': 'Yearning Crusher', 'Price': 1.06}, {'SN': 'Isursti83', 'Age': 24, 'Gender': 'Male', 'Item ID': 140, 'Item Name': 'Striker', 'Price': 3.82}, {'SN': 'Eurinu48', 'Age': 23, 'Gender': 'Female', 'Item ID': 126, 'Item Name': 'Exiled Mithril Longsword', 'Price': 3.25}, {'SN': 'Saedaiphos46', 'Age': 24, 'Gender': 'Male', 'Item ID': 50, 'Item Name': 'Dawn', 'Price': 2.55}, {'SN': 'Undirrala66', 'Age': 29, 'Gender': 'Male', 'Item ID': 62, 'Item Name': 'Piece Maker', 'Price': 4.36}, {'SN': 'Jiskossa51', 'Age': 23, 'Gender': 'Male', 'Item ID': 125, 'Item Name': 'Whistling Mithril Warblade', 'Price': 4.32}, {'SN': 'Sundossast30', 'Age': 17, 'Gender': 'Female', 'Item ID': 108, 'Item Name': 'Extraction, Quickblade Of Trembling Hands', 'Price': 3.39}, {'SN': 'Ialallo29', 'Age': 23, 'Gender': 'Male', 'Item ID': 152, 'Item Name': 'Darkheart', 'Price': 3.15}, {'SN': 'Syasriria69', 'Age': 18, 'Gender': 'Male', 'Item ID': 68, 'Item Name': 'Storm-Weaver, Slayer of Inception', 'Price': 2.49}, {'SN': 'Chanosia60', 'Age': 16, 'Gender': 'Male', 'Item ID': 121, 'Item Name': 'Massacre', 'Price': 3.42}, {'SN': 'Ilosia37', 'Age': 13, 'Gender': 'Female', 'Item ID': 20, 'Item Name': 'Netherbane', 'Price': 1.48}, {'SN': 'Tyeulisu40', 'Age': 28, 'Gender': 'Male', 'Item ID': 129, 'Item Name': 'Fate, Vengeance of Eternal Justice', 'Price': 1.55}, {'SN': 'Yaliru88', 'Age': 22, 'Gender': 'Male', 'Item ID': 91, 'Item Name': 'Celeste', 'Price': 3.71}, {'SN': 'Jiskassa76', 'Age': 25, 'Gender': 'Male', 'Item ID': 149, 'Item Name': 'Tranquility, Razor of Black Magic', 'Price': 2.47}, {'SN': 'Idairin80', 'Age': 24, 'Gender': 'Male', 'Item ID': 12, 'Item Name': 'Dawne', 'Price': 4.3}, {'SN': 'Dyally87', 'Age': 17, 'Gender': 'Male', 'Item ID': 7, 'Item Name': 'Thorn, Satchel of Dark Souls', 'Price': 4.51}, {'SN': 'Quarusrion32', 'Age': 15, 'Gender': 'Male', 'Item ID': 175, 'Item Name': 'Woeful Adamantite Claymore', 'Price': 1.24}, {'SN': 'Adairialis76', 'Age': 20, 'Gender': 'Male', 'Item ID': 44, 'Item Name': 'Bonecarvin Battle Axe', 'Price': 2.46}, {'SN': 'Lirtilsan89', 'Age': 11, 'Gender': 'Male', 'Item ID': 71, 'Item Name': 'Demise', 'Price': 4.07}, {'SN': 'Reolacal36', 'Age': 23, 'Gender': 'Male', 'Item ID': 71, 'Item Name': 'Demise', 'Price': 4.07}, {'SN': 'Chadanto83', 'Age': 22, 'Gender': 'Male', 'Item ID': 158, 'Item Name': 'Darkheart, Butcher of the Champion', 'Price': 3.56}, {'SN': 'Lisirrast82', 'Age': 18, 'Gender': 'Male', 'Item ID': 14, 'Item Name': 'Possessed Core', 'Price': 1.59}, {'SN': 'Ilrian97', 'Age': 13, 'Gender': 'Male', 'Item ID': 175, 'Item Name': 'Woeful Adamantite Claymore', 'Price': 1.24}, {'SN': 'Tyadaru49', 'Age': 25, 'Gender': 'Male', 'Item ID': 58, 'Item Name': \"Freak's Bite, Favor of Holy Might\", 'Price': 3.03}, {'SN': 'Sweecossa42', 'Age': 20, 'Gender': 'Male', 'Item ID': 37, 'Item Name': 'Shadow Strike, Glory of Ending Hope', 'Price': 1.93}, {'SN': 'Streural92', 'Age': 13, 'Gender': 'Male', 'Item ID': 17, 'Item Name': 'Lazarus, Terror of the Earth', 'Price': 3.47}, {'SN': 'Queusurra38', 'Age': 23, 'Gender': 'Male', 'Item ID': 155, 'Item Name': 'War-Forged Gold Deflector', 'Price': 3.73}, {'SN': 'Lassilsa41', 'Age': 27, 'Gender': 'Female', 'Item ID': 39, 'Item Name': 'Betrayal, Whisper of Grieving Widows', 'Price': 2.35}, {'SN': 'Aisurphos78', 'Age': 22, 'Gender': 'Male', 'Item ID': 105, 'Item Name': 'Hailstorm Shadowsteel Scythe', 'Price': 3.73}, {'SN': 'Marim28', 'Age': 17, 'Gender': 'Female', 'Item ID': 27, 'Item Name': 'Riddle, Tribute of Ended Dreams', 'Price': 3.96}, {'SN': 'Taeduenu92', 'Age': 20, 'Gender': 'Male', 'Item ID': 52, 'Item Name': 'Hatred', 'Price': 4.39}, {'SN': 'Eodailis27', 'Age': 25, 'Gender': 'Female', 'Item ID': 66, 'Item Name': 'Victor Iron Spikes', 'Price': 3.55}, {'SN': 'Lassjaskan73', 'Age': 20, 'Gender': 'Male', 'Item ID': 100, 'Item Name': 'Blindscythe', 'Price': 3.66}, {'SN': 'Yadanun74', 'Age': 25, 'Gender': 'Male', 'Item ID': 112, 'Item Name': 'Worldbreaker', 'Price': 3.29}, {'SN': 'Iskossasda43', 'Age': 21, 'Gender': 'Male', 'Item ID': 24, 'Item Name': 'Warped Fetish', 'Price': 2.41}, {'SN': 'Aesty51', 'Age': 15, 'Gender': 'Male', 'Item ID': 94, 'Item Name': 'Mourning Blade', 'Price': 1.82}, {'SN': 'Tyida79', 'Age': 23, 'Gender': 'Male', 'Item ID': 158, 'Item Name': 'Darkheart, Butcher of the Champion', 'Price': 3.56}, {'SN': 'Frichossast75', 'Age': 27, 'Gender': 'Male', 'Item ID': 107, 'Item Name': 'Splitter, Foe Of Subtlety', 'Price': 3.61}, {'SN': 'Eratiel90', 'Age': 20, 'Gender': 'Male', 'Item ID': 106, 'Item Name': 'Crying Steel Sickle', 'Price': 2.29}, {'SN': 'Eoda93', 'Age': 22, 'Gender': 'Male', 'Item ID': 173, 'Item Name': 'Stormfury Longsword', 'Price': 4.83}, {'SN': 'Chamirra53', 'Age': 15, 'Gender': 'Male', 'Item ID': 86, 'Item Name': 'Stormfury Lantern', 'Price': 1.28}, {'SN': 'Alarap40', 'Age': 17, 'Gender': 'Male', 'Item ID': 124, 'Item Name': 'Venom Claymore', 'Price': 2.72}, {'SN': 'Ralaeriadeu65', 'Age': 15, 'Gender': 'Male', 'Item ID': 102, 'Item Name': 'Avenger', 'Price': 4.16}, {'SN': 'Reulae52', 'Age': 9, 'Gender': 'Male', 'Item ID': 71, 'Item Name': 'Demise', 'Price': 4.07}, {'SN': 'Stryanastip77', 'Age': 21, 'Gender': 'Male', 'Item ID': 84, 'Item Name': 'Arcane Gem', 'Price': 2.23}, {'SN': 'Iskirra45', 'Age': 21, 'Gender': 'Male', 'Item ID': 106, 'Item Name': 'Crying Steel Sickle', 'Price': 2.29}, {'SN': 'Chadadarya31', 'Age': 30, 'Gender': 'Male', 'Item ID': 0, 'Item Name': 'Splinter', 'Price': 1.82}, {'SN': 'Heuli25', 'Age': 24, 'Gender': 'Male', 'Item ID': 182, 'Item Name': 'Toothpick', 'Price': 3.48}, {'SN': 'Raillydeu47', 'Age': 35, 'Gender': 'Male', 'Item ID': 34, 'Item Name': 'Retribution Axe', 'Price': 4.14}, {'SN': 'Chamadar61', 'Age': 21, 'Gender': 'Male', 'Item ID': 182, 'Item Name': 'Toothpick', 'Price': 3.48}, {'SN': 'Assassa38', 'Age': 34, 'Gender': 'Other / Non-Disclosed', 'Item ID': 155, 'Item Name': 'War-Forged Gold Deflector', 'Price': 3.73}, {'SN': 'Shaidanu32', 'Age': 15, 'Gender': 'Male', 'Item ID': 97, 'Item Name': 'Swan Song, Gouger Of Terror', 'Price': 3.58}, {'SN': 'Chanosiaya39', 'Age': 40, 'Gender': 'Male', 'Item ID': 70, 'Item Name': \"Hope's End\", 'Price': 3.89}, {'SN': 'Raeri71', 'Age': 18, 'Gender': 'Female', 'Item ID': 89, 'Item Name': 'Blazefury, Protector of Delusions', 'Price': 1.5}, {'SN': 'Hiasri33', 'Age': 24, 'Gender': 'Male', 'Item ID': 1, 'Item Name': 'Crucifer', 'Price': 2.28}, {'SN': 'Lisossa25', 'Age': 24, 'Gender': 'Male', 'Item ID': 130, 'Item Name': 'Alpha', 'Price': 1.56}, {'SN': 'Sundassa93', 'Age': 23, 'Gender': 'Female', 'Item ID': 87, 'Item Name': 'Deluge, Edge of the West', 'Price': 2.2}, {'SN': 'Rina82', 'Age': 11, 'Gender': 'Male', 'Item ID': 170, 'Item Name': 'Shadowsteel', 'Price': 1.98}, {'SN': 'Siarinum43', 'Age': 22, 'Gender': 'Male', 'Item ID': 167, 'Item Name': 'Malice, Legacy of the Queen', 'Price': 2.38}, {'SN': 'Chanosiaya39', 'Age': 40, 'Gender': 'Male', 'Item ID': 144, 'Item Name': 'Blood Infused Guardian', 'Price': 2.86}, {'SN': 'Eurallo89', 'Age': 20, 'Gender': 'Female', 'Item ID': 93, 'Item Name': 'Apocalyptic Battlescythe', 'Price': 3.91}, {'SN': 'Hirirap39', 'Age': 20, 'Gender': 'Male', 'Item ID': 78, 'Item Name': 'Glimmer, Ender of the Moon', 'Price': 2.33}, {'SN': 'Raillydeu47', 'Age': 35, 'Gender': 'Male', 'Item ID': 179, 'Item Name': 'Wolf, Promise of the Moonwalker', 'Price': 1.88}, {'SN': 'Frichaya88', 'Age': 30, 'Gender': 'Male', 'Item ID': 36, 'Item Name': 'Spectral Bone Axe', 'Price': 2.98}, {'SN': 'Aidaira26', 'Age': 20, 'Gender': 'Male', 'Item ID': 75, 'Item Name': 'Brutality Ivory Warmace', 'Price': 1.72}, {'SN': 'Zontibe81', 'Age': 20, 'Gender': 'Male', 'Item ID': 91, 'Item Name': 'Celeste', 'Price': 3.71}, {'SN': 'Farusrian86', 'Age': 19, 'Gender': 'Male', 'Item ID': 101, 'Item Name': 'Final Critic', 'Price': 4.62}, {'SN': 'Undadarla37', 'Age': 24, 'Gender': 'Male', 'Item ID': 39, 'Item Name': 'Betrayal, Whisper of Grieving Widows', 'Price': 2.35}, {'SN': 'Lirtossa78', 'Age': 14, 'Gender': 'Male', 'Item ID': 160, 'Item Name': 'Azurewrath', 'Price': 2.22}, {'SN': 'Chanirra56', 'Age': 20, 'Gender': 'Male', 'Item ID': 89, 'Item Name': 'Blazefury, Protector of Delusions', 'Price': 1.5}, {'SN': 'Lassast89', 'Age': 20, 'Gender': 'Female', 'Item ID': 65, 'Item Name': 'Conqueror Adamantite Mace', 'Price': 1.96}, {'SN': 'Lisasi93', 'Age': 18, 'Gender': 'Male', 'Item ID': 44, 'Item Name': 'Bonecarvin Battle Axe', 'Price': 2.46}, {'SN': 'Phadai31', 'Age': 30, 'Gender': 'Female', 'Item ID': 180, 'Item Name': 'Stormcaller', 'Price': 2.78}, {'SN': 'Tyithesura58', 'Age': 22, 'Gender': 'Male', 'Item ID': 143, 'Item Name': 'Frenzied Scimitar', 'Price': 2.6}, {'SN': 'Marilsa48', 'Age': 12, 'Gender': 'Male', 'Item ID': 137, 'Item Name': 'Aetherius, Boon of the Blessed', 'Price': 4.75}, {'SN': 'Siarithria38', 'Age': 24, 'Gender': 'Male', 'Item ID': 176, 'Item Name': 'Relentless Iron Skewer', 'Price': 2.97}, {'SN': 'Lisasi93', 'Age': 18, 'Gender': 'Male', 'Item ID': 148, 'Item Name': \"Warmonger, Gift of Suffering's End\", 'Price': 3.96}, {'SN': 'Marirrasta50', 'Age': 19, 'Gender': 'Male', 'Item ID': 127, 'Item Name': 'Heartseeker, Reaver of Souls', 'Price': 3.21}, {'SN': 'Airidil41', 'Age': 17, 'Gender': 'Male', 'Item ID': 147, 'Item Name': 'Hellreaver, Heirloom of Inception', 'Price': 3.59}, {'SN': 'Sausosia74', 'Age': 25, 'Gender': 'Male', 'Item ID': 161, 'Item Name': 'Devine', 'Price': 1.45}, {'SN': 'Yadanun74', 'Age': 25, 'Gender': 'Male', 'Item ID': 154, 'Item Name': 'Feral Katana', 'Price': 2.19}, {'SN': 'Sialaera37', 'Age': 22, 'Gender': 'Female', 'Item ID': 13, 'Item Name': 'Serenity', 'Price': 1.49}, {'SN': 'Frichistasta59', 'Age': 33, 'Gender': 'Other / Non-Disclosed', 'Item ID': 157, 'Item Name': 'Spada, Etcher of Hatred', 'Price': 2.21}, {'SN': 'Phadue96', 'Age': 22, 'Gender': 'Male', 'Item ID': 152, 'Item Name': 'Darkheart', 'Price': 3.15}, {'SN': 'Chanirra79', 'Age': 24, 'Gender': 'Male', 'Item ID': 176, 'Item Name': 'Relentless Iron Skewer', 'Price': 2.97}, {'SN': 'Yarmol79', 'Age': 40, 'Gender': 'Male', 'Item ID': 111, 'Item Name': \"Misery's End\", 'Price': 2.91}, {'SN': 'Astydil38', 'Age': 24, 'Gender': 'Male', 'Item ID': 127, 'Item Name': 'Heartseeker, Reaver of Souls', 'Price': 3.21}, {'SN': 'Jiskirran77', 'Age': 27, 'Gender': 'Female', 'Item ID': 148, 'Item Name': \"Warmonger, Gift of Suffering's End\", 'Price': 3.96}, {'SN': 'Marjasksda39', 'Age': 20, 'Gender': 'Female', 'Item ID': 154, 'Item Name': 'Feral Katana', 'Price': 2.19}, {'SN': 'Eoralphos86', 'Age': 13, 'Gender': 'Female', 'Item ID': 116, 'Item Name': 'Renewed Skeletal Katana', 'Price': 2.37}, {'SN': 'Lisovynya38', 'Age': 18, 'Gender': 'Male', 'Item ID': 106, 'Item Name': 'Crying Steel Sickle', 'Price': 2.29}, {'SN': 'Hailaphos89', 'Age': 20, 'Gender': 'Male', 'Item ID': 31, 'Item Name': 'Trickster', 'Price': 2.07}, {'SN': 'Frichim77', 'Age': 27, 'Gender': 'Male', 'Item ID': 148, 'Item Name': \"Warmonger, Gift of Suffering's End\", 'Price': 3.96}, {'SN': 'Aellyrialis39', 'Age': 33, 'Gender': 'Male', 'Item ID': 152, 'Item Name': 'Darkheart', 'Price': 3.15}, {'SN': 'Chamilsan75', 'Age': 24, 'Gender': 'Female', 'Item ID': 61, 'Item Name': 'Ragnarok', 'Price': 3.97}, {'SN': 'Saida58', 'Age': 24, 'Gender': 'Male', 'Item ID': 131, 'Item Name': 'Fury', 'Price': 4.82}, {'SN': 'Eusri70', 'Age': 30, 'Gender': 'Male', 'Item ID': 41, 'Item Name': 'Orbit', 'Price': 1.16}, {'SN': 'Aeduera68', 'Age': 26, 'Gender': 'Male', 'Item ID': 106, 'Item Name': 'Crying Steel Sickle', 'Price': 2.29}, {'SN': 'Qilatie51', 'Age': 20, 'Gender': 'Male', 'Item ID': 152, 'Item Name': 'Darkheart', 'Price': 3.15}, {'SN': 'Chamistast30', 'Age': 25, 'Gender': 'Female', 'Item ID': 92, 'Item Name': 'Final Critic', 'Price': 1.36}, {'SN': 'Qiluard68', 'Age': 20, 'Gender': 'Male', 'Item ID': 32, 'Item Name': 'Orenmir', 'Price': 4.95}, {'SN': 'Tyaelo67', 'Age': 24, 'Gender': 'Male', 'Item ID': 145, 'Item Name': 'Fiery Glass Crusader', 'Price': 4.45}, {'SN': 'Rithe77', 'Age': 26, 'Gender': 'Female', 'Item ID': 129, 'Item Name': 'Fate, Vengeance of Eternal Justice', 'Price': 1.55}, {'SN': 'Tyeosristi57', 'Age': 15, 'Gender': 'Male', 'Item ID': 140, 'Item Name': 'Striker', 'Price': 3.82}, {'SN': 'Lassjaskan73', 'Age': 20, 'Gender': 'Male', 'Item ID': 125, 'Item Name': 'Whistling Mithril Warblade', 'Price': 4.32}, {'SN': 'Eoral49', 'Age': 16, 'Gender': 'Female', 'Item ID': 60, 'Item Name': 'Wolf', 'Price': 1.84}, {'SN': 'Aelollo59', 'Age': 25, 'Gender': 'Male', 'Item ID': 129, 'Item Name': 'Fate, Vengeance of Eternal Justice', 'Price': 1.55}, {'SN': 'Lisossa63', 'Age': 24, 'Gender': 'Male', 'Item ID': 123, 'Item Name': \"Twilight's Carver\", 'Price': 1.14}, {'SN': 'Wailin72', 'Age': 35, 'Gender': 'Male', 'Item ID': 162, 'Item Name': 'Abyssal Shard', 'Price': 2.04}, {'SN': 'Yarithllodeu72', 'Age': 22, 'Gender': 'Male', 'Item ID': 154, 'Item Name': 'Feral Katana', 'Price': 2.19}, {'SN': 'Lisistaya47', 'Age': 7, 'Gender': 'Male', 'Item ID': 121, 'Item Name': 'Massacre', 'Price': 3.42}, {'SN': 'Chamadar27', 'Age': 40, 'Gender': 'Female', 'Item ID': 49, 'Item Name': 'The Oculus, Token of Lost Worlds', 'Price': 4.23}, {'SN': 'Ethruard50', 'Age': 24, 'Gender': 'Female', 'Item ID': 58, 'Item Name': \"Freak's Bite, Favor of Holy Might\", 'Price': 3.03}, {'SN': 'Lisossa63', 'Age': 24, 'Gender': 'Male', 'Item ID': 121, 'Item Name': 'Massacre', 'Price': 3.42}, {'SN': 'Yathecal72', 'Age': 32, 'Gender': 'Male', 'Item ID': 135, 'Item Name': 'Warped Diamond Crusader', 'Price': 4.66}, {'SN': 'Ilimya66', 'Age': 27, 'Gender': 'Female', 'Item ID': 182, 'Item Name': 'Toothpick', 'Price': 3.48}, {'SN': 'Ialistidru50', 'Age': 21, 'Gender': 'Male', 'Item ID': 157, 'Item Name': 'Spada, Etcher of Hatred', 'Price': 2.21}, {'SN': 'Tyaerith73', 'Age': 21, 'Gender': 'Other / Non-Disclosed', 'Item ID': 183, 'Item Name': \"Dragon's Greatsword\", 'Price': 2.36}, {'SN': 'Lisistasya93', 'Age': 30, 'Gender': 'Male', 'Item ID': 8, 'Item Name': 'Purgatory, Gem of Regret', 'Price': 3.91}, {'SN': 'Chamadar79', 'Age': 20, 'Gender': 'Male', 'Item ID': 12, 'Item Name': 'Dawne', 'Price': 4.3}, {'SN': 'Haerith37', 'Age': 25, 'Gender': 'Male', 'Item ID': 23, 'Item Name': 'Crucifer', 'Price': 2.77}, {'SN': 'Iallyphos37', 'Age': 20, 'Gender': 'Male', 'Item ID': 40, 'Item Name': 'Second Chance', 'Price': 2.34}, {'SN': 'Tyaelo67', 'Age': 24, 'Gender': 'Male', 'Item ID': 15, 'Item Name': 'Soul Infused Crystal', 'Price': 1.03}, {'SN': 'Ilogha82', 'Age': 25, 'Gender': 'Male', 'Item ID': 115, 'Item Name': 'Spectral Diamond Doomblade', 'Price': 4.25}, {'SN': 'Aeri84', 'Age': 19, 'Gender': 'Female', 'Item ID': 115, 'Item Name': 'Spectral Diamond Doomblade', 'Price': 4.25}, {'SN': 'Ilaesudil92', 'Age': 22, 'Gender': 'Male', 'Item ID': 1, 'Item Name': 'Crucifer', 'Price': 2.28}, {'SN': 'Meosridil82', 'Age': 15, 'Gender': 'Male', 'Item ID': 149, 'Item Name': 'Tranquility, Razor of Black Magic', 'Price': 2.47}, {'SN': 'Undirrasta89', 'Age': 21, 'Gender': 'Male', 'Item ID': 1, 'Item Name': 'Crucifer', 'Price': 2.28}, {'SN': 'Lirtistanya48', 'Age': 27, 'Gender': 'Male', 'Item ID': 121, 'Item Name': 'Massacre', 'Price': 3.42}, {'SN': 'Iadueria43', 'Age': 22, 'Gender': 'Male', 'Item ID': 17, 'Item Name': 'Lazarus, Terror of the Earth', 'Price': 3.47}, {'SN': 'Chanirrala39', 'Age': 24, 'Gender': 'Male', 'Item ID': 154, 'Item Name': 'Feral Katana', 'Price': 2.19}, {'SN': 'Lisjaskan36', 'Age': 25, 'Gender': 'Female', 'Item ID': 97, 'Item Name': 'Swan Song, Gouger Of Terror', 'Price': 3.58}, {'SN': 'Saedue76', 'Age': 25, 'Gender': 'Male', 'Item ID': 13, 'Item Name': 'Serenity', 'Price': 1.49}, {'SN': 'Undjasksya56', 'Age': 9, 'Gender': 'Male', 'Item ID': 99, 'Item Name': 'Expiration, Warscythe Of Lost Worlds', 'Price': 4.53}, {'SN': 'Irithrap69', 'Age': 24, 'Gender': 'Male', 'Item ID': 46, 'Item Name': 'Hopeless Ebon Dualblade', 'Price': 4.75}, {'SN': 'Quanenrian83', 'Age': 21, 'Gender': 'Male', 'Item ID': 29, 'Item Name': 'Chaos, Ender of the End', 'Price': 3.79}, {'SN': 'Phenastya51', 'Age': 18, 'Gender': 'Male', 'Item ID': 137, 'Item Name': 'Aetherius, Boon of the Blessed', 'Price': 4.75}, {'SN': 'Marassaya49', 'Age': 45, 'Gender': 'Male', 'Item ID': 124, 'Item Name': 'Venom Claymore', 'Price': 2.72}, {'SN': 'Saellyra72', 'Age': 24, 'Gender': 'Male', 'Item ID': 8, 'Item Name': 'Purgatory, Gem of Regret', 'Price': 3.91}, {'SN': 'Yasrisu92', 'Age': 39, 'Gender': 'Female', 'Item ID': 143, 'Item Name': 'Frenzied Scimitar', 'Price': 2.6}, {'SN': 'Frichistasta59', 'Age': 33, 'Gender': 'Other / Non-Disclosed', 'Item ID': 65, 'Item Name': 'Conqueror Adamantite Mace', 'Price': 1.96}, {'SN': 'Qilanrion65', 'Age': 15, 'Gender': 'Male', 'Item ID': 36, 'Item Name': 'Spectral Bone Axe', 'Price': 2.98}, {'SN': 'Chanassa48', 'Age': 37, 'Gender': 'Male', 'Item ID': 72, 'Item Name': \"Winter's Bite\", 'Price': 1.39}, {'SN': 'Iskassa50', 'Age': 29, 'Gender': 'Male', 'Item ID': 114, 'Item Name': 'Yearning Mageblade', 'Price': 1.79}, {'SN': 'Frichjaskan98', 'Age': 7, 'Gender': 'Male', 'Item ID': 77, 'Item Name': 'Piety, Guardian of Riddles', 'Price': 3.68}, {'SN': 'Sirira97', 'Age': 25, 'Gender': 'Male', 'Item ID': 117, 'Item Name': 'Heartstriker, Legacy of the Light', 'Price': 4.15}, {'SN': 'Eoduenurin62', 'Age': 25, 'Gender': 'Male', 'Item ID': 13, 'Item Name': 'Serenity', 'Price': 1.49}, {'SN': 'Yarirarn35', 'Age': 20, 'Gender': 'Male', 'Item ID': 79, 'Item Name': 'Alpha, Oath of Zeal', 'Price': 2.88}, {'SN': 'Yadanun74', 'Age': 25, 'Gender': 'Male', 'Item ID': 107, 'Item Name': 'Splitter, Foe Of Subtlety', 'Price': 3.61}, {'SN': 'Aillycal84', 'Age': 12, 'Gender': 'Other / Non-Disclosed', 'Item ID': 128, 'Item Name': 'Blazeguard, Reach of Eternity', 'Price': 4.0}, {'SN': 'Eosur70', 'Age': 22, 'Gender': 'Male', 'Item ID': 128, 'Item Name': 'Blazeguard, Reach of Eternity', 'Price': 4.0}, {'SN': 'Chanadar44', 'Age': 29, 'Gender': 'Male', 'Item ID': 107, 'Item Name': 'Splitter, Foe Of Subtlety', 'Price': 3.61}, {'SN': 'Lisimsda29', 'Age': 20, 'Gender': 'Male', 'Item ID': 171, 'Item Name': 'Scalpel', 'Price': 3.62}, {'SN': 'Tyidue95', 'Age': 23, 'Gender': 'Male', 'Item ID': 85, 'Item Name': 'Malificent Bag', 'Price': 2.17}, {'SN': 'Yaralnura48', 'Age': 40, 'Gender': 'Male', 'Item ID': 47, 'Item Name': 'Alpha, Reach of Ending Hope', 'Price': 1.55}, {'SN': 'Irillo49', 'Age': 29, 'Gender': 'Male', 'Item ID': 48, 'Item Name': 'Rage, Legacy of the Lone Victor', 'Price': 4.32}, {'SN': 'Isri59', 'Age': 35, 'Gender': 'Male', 'Item ID': 73, 'Item Name': 'Ritual Mace', 'Price': 3.74}, {'SN': 'Lisjaskan36', 'Age': 25, 'Gender': 'Female', 'Item ID': 88, 'Item Name': 'Emberling, Defender of Delusions', 'Price': 4.1}, {'SN': 'Aiduecal76', 'Age': 29, 'Gender': 'Male', 'Item ID': 78, 'Item Name': 'Glimmer, Ender of the Moon', 'Price': 2.33}, {'SN': 'Frichosiala98', 'Age': 25, 'Gender': 'Male', 'Item ID': 54, 'Item Name': 'Eternal Cleaver', 'Price': 3.14}, {'SN': 'Deelilsasya30', 'Age': 23, 'Gender': 'Male', 'Item ID': 170, 'Item Name': 'Shadowsteel', 'Price': 1.98}, {'SN': 'Mindilsa60', 'Age': 23, 'Gender': 'Male', 'Item ID': 99, 'Item Name': 'Expiration, Warscythe Of Lost Worlds', 'Price': 4.53}, {'SN': 'Iladarla40', 'Age': 8, 'Gender': 'Male', 'Item ID': 79, 'Item Name': 'Alpha, Oath of Zeal', 'Price': 2.88}, {'SN': 'Chrathybust28', 'Age': 25, 'Gender': 'Male', 'Item ID': 104, 'Item Name': \"Gladiator's Glaive\", 'Price': 1.36}, {'SN': 'Yarithsurgue62', 'Age': 7, 'Gender': 'Male', 'Item ID': 53, 'Item Name': 'Vengeance Cleaver', 'Price': 3.7}, {'SN': 'Lisistaya47', 'Age': 7, 'Gender': 'Male', 'Item ID': 121, 'Item Name': 'Massacre', 'Price': 3.42}, {'SN': 'Mindossa76', 'Age': 21, 'Gender': 'Male', 'Item ID': 95, 'Item Name': 'Singed Onyx Warscythe', 'Price': 1.03}, {'SN': 'Assilsan72', 'Age': 20, 'Gender': 'Male', 'Item ID': 64, 'Item Name': 'Fusion Pummel', 'Price': 3.58}, {'SN': 'Frichosiala98', 'Age': 25, 'Gender': 'Male', 'Item ID': 135, 'Item Name': 'Warped Diamond Crusader', 'Price': 4.66}, {'SN': 'Assassa43', 'Age': 22, 'Gender': 'Male', 'Item ID': 70, 'Item Name': \"Hope's End\", 'Price': 3.89}, {'SN': 'Yarolwen77', 'Age': 24, 'Gender': 'Male', 'Item ID': 84, 'Item Name': 'Arcane Gem', 'Price': 2.23}, {'SN': 'Faralcil63', 'Age': 26, 'Gender': 'Other / Non-Disclosed', 'Item ID': 141, 'Item Name': 'Persuasion', 'Price': 3.27}, {'SN': 'Sondilsa40', 'Age': 18, 'Gender': 'Male', 'Item ID': 119, 'Item Name': 'Stormbringer, Dark Blade of Ending Misery', 'Price': 2.32}, {'SN': 'Lisossan98', 'Age': 15, 'Gender': 'Male', 'Item ID': 99, 'Item Name': 'Expiration, Warscythe Of Lost Worlds', 'Price': 4.53}, {'SN': 'Chadossa89', 'Age': 22, 'Gender': 'Male', 'Item ID': 44, 'Item Name': 'Bonecarvin Battle Axe', 'Price': 2.46}, {'SN': 'Eosrirgue62', 'Age': 34, 'Gender': 'Male', 'Item ID': 183, 'Item Name': \"Dragon's Greatsword\", 'Price': 2.36}, {'SN': 'Lassilsa41', 'Age': 27, 'Gender': 'Female', 'Item ID': 31, 'Item Name': 'Trickster', 'Price': 2.07}, {'SN': 'Sondastan54', 'Age': 31, 'Gender': 'Male', 'Item ID': 173, 'Item Name': 'Stormfury Longsword', 'Price': 4.83}, {'SN': 'Filrion44', 'Age': 22, 'Gender': 'Male', 'Item ID': 98, 'Item Name': 'Deadline, Voice Of Subtlety', 'Price': 3.62}, {'SN': 'Lassassasda30', 'Age': 15, 'Gender': 'Male', 'Item ID': 102, 'Item Name': 'Avenger', 'Price': 4.16}, {'SN': 'Aidain51', 'Age': 26, 'Gender': 'Male', 'Item ID': 180, 'Item Name': 'Stormcaller', 'Price': 2.78}, {'SN': 'Aduephos78', 'Age': 37, 'Gender': 'Male', 'Item ID': 79, 'Item Name': 'Alpha, Oath of Zeal', 'Price': 2.88}, {'SN': 'Hainaria90', 'Age': 21, 'Gender': 'Male', 'Item ID': 108, 'Item Name': 'Extraction, Quickblade Of Trembling Hands', 'Price': 3.39}, {'SN': 'Eusri70', 'Age': 30, 'Gender': 'Male', 'Item ID': 131, 'Item Name': 'Fury', 'Price': 4.82}, {'SN': 'Raerithsti62', 'Age': 18, 'Gender': 'Male', 'Item ID': 115, 'Item Name': 'Spectral Diamond Doomblade', 'Price': 4.25}, {'SN': 'Aerithllora36', 'Age': 29, 'Gender': 'Male', 'Item ID': 68, 'Item Name': 'Storm-Weaver, Slayer of Inception', 'Price': 2.49}, {'SN': 'Reuthelis39', 'Age': 20, 'Gender': 'Female', 'Item ID': 33, 'Item Name': 'Curved Axe', 'Price': 1.35}, {'SN': 'Sundaststa26', 'Age': 22, 'Gender': 'Female', 'Item ID': 145, 'Item Name': 'Fiery Glass Crusader', 'Price': 4.45}, {'SN': 'Aelin32', 'Age': 24, 'Gender': 'Male', 'Item ID': 54, 'Item Name': 'Eternal Cleaver', 'Price': 3.14}, {'SN': 'Sundadarla27', 'Age': 20, 'Gender': 'Male', 'Item ID': 12, 'Item Name': 'Dawne', 'Price': 4.3}, {'SN': 'Aeliru63', 'Age': 22, 'Gender': 'Male', 'Item ID': 173, 'Item Name': 'Stormfury Longsword', 'Price': 4.83}, {'SN': 'Mindilsa60', 'Age': 23, 'Gender': 'Male', 'Item ID': 60, 'Item Name': 'Wolf', 'Price': 1.84}, {'SN': 'Lisista27', 'Age': 42, 'Gender': 'Male', 'Item ID': 110, 'Item Name': 'Suspension', 'Price': 2.11}, {'SN': 'Narirra38', 'Age': 23, 'Gender': 'Female', 'Item ID': 76, 'Item Name': 'Haunted Bronzed Bludgeon', 'Price': 4.12}, {'SN': 'Eustyria89', 'Age': 18, 'Gender': 'Male', 'Item ID': 137, 'Item Name': 'Aetherius, Boon of the Blessed', 'Price': 4.75}, {'SN': 'Phistym51', 'Age': 22, 'Gender': 'Male', 'Item ID': 29, 'Item Name': 'Chaos, Ender of the End', 'Price': 3.79}, {'SN': 'Salilis27', 'Age': 23, 'Gender': 'Female', 'Item ID': 130, 'Item Name': 'Alpha', 'Price': 1.56}, {'SN': 'Layjask75', 'Age': 27, 'Gender': 'Male', 'Item ID': 102, 'Item Name': 'Avenger', 'Price': 4.16}, {'SN': 'Tyaeristi78', 'Age': 24, 'Gender': 'Female', 'Item ID': 47, 'Item Name': 'Alpha, Reach of Ending Hope', 'Price': 1.55}, {'SN': 'Lirtyrdesta65', 'Age': 19, 'Gender': 'Male', 'Item ID': 60, 'Item Name': 'Wolf', 'Price': 1.84}, {'SN': 'Syalollorap93', 'Age': 20, 'Gender': 'Male', 'Item ID': 7, 'Item Name': 'Thorn, Satchel of Dark Souls', 'Price': 4.51}, {'SN': 'Assylla81', 'Age': 22, 'Gender': 'Male', 'Item ID': 125, 'Item Name': 'Whistling Mithril Warblade', 'Price': 4.32}, {'SN': 'Eurisuru25', 'Age': 27, 'Gender': 'Other / Non-Disclosed', 'Item ID': 61, 'Item Name': 'Ragnarok', 'Price': 3.97}, {'SN': 'Narirra38', 'Age': 23, 'Gender': 'Female', 'Item ID': 12, 'Item Name': 'Dawne', 'Price': 4.3}, {'SN': 'Mindjasksya61', 'Age': 20, 'Gender': 'Male', 'Item ID': 70, 'Item Name': \"Hope's End\", 'Price': 3.89}, {'SN': 'Eusri44', 'Age': 21, 'Gender': 'Male', 'Item ID': 50, 'Item Name': 'Dawn', 'Price': 2.55}, {'SN': 'Aeliru63', 'Age': 22, 'Gender': 'Male', 'Item ID': 30, 'Item Name': 'Stormcaller', 'Price': 4.15}, {'SN': 'Rarith48', 'Age': 20, 'Gender': 'Male', 'Item ID': 15, 'Item Name': 'Soul Infused Crystal', 'Price': 1.03}, {'SN': 'Yalaeria91', 'Age': 16, 'Gender': 'Male', 'Item ID': 179, 'Item Name': 'Wolf, Promise of the Moonwalker', 'Price': 1.88}, {'SN': 'Iskadarya95', 'Age': 15, 'Gender': 'Male', 'Item ID': 173, 'Item Name': 'Stormfury Longsword', 'Price': 4.83}, {'SN': 'Saedue76', 'Age': 25, 'Gender': 'Male', 'Item ID': 140, 'Item Name': 'Striker', 'Price': 3.82}, {'SN': 'Lisossanya98', 'Age': 17, 'Gender': 'Male', 'Item ID': 84, 'Item Name': 'Arcane Gem', 'Price': 2.23}, {'SN': 'Iarithdil76', 'Age': 20, 'Gender': 'Male', 'Item ID': 57, 'Item Name': 'Despair, Favor of Due Diligence', 'Price': 3.81}, {'SN': 'Chanosia60', 'Age': 16, 'Gender': 'Male', 'Item ID': 169, 'Item Name': 'Interrogator, Blood Blade of the Queen', 'Price': 3.32}, {'SN': 'Aeliriarin93', 'Age': 20, 'Gender': 'Male', 'Item ID': 9, 'Item Name': 'Thorn, Conqueror of the Corrupted', 'Price': 2.04}, {'SN': 'Raedalis34', 'Age': 15, 'Gender': 'Female', 'Item ID': 50, 'Item Name': 'Dawn', 'Price': 2.55}, {'SN': 'Meosridil82', 'Age': 15, 'Gender': 'Male', 'Item ID': 33, 'Item Name': 'Curved Axe', 'Price': 1.35}, {'SN': 'Sondossa55', 'Age': 12, 'Gender': 'Male', 'Item ID': 66, 'Item Name': 'Victor Iron Spikes', 'Price': 3.55}, {'SN': 'Iadueria43', 'Age': 22, 'Gender': 'Male', 'Item ID': 15, 'Item Name': 'Soul Infused Crystal', 'Price': 1.03}, {'SN': 'Lisico81', 'Age': 17, 'Gender': 'Male', 'Item ID': 14, 'Item Name': 'Possessed Core', 'Price': 1.59}, {'SN': 'Ialo60', 'Age': 24, 'Gender': 'Male', 'Item ID': 146, 'Item Name': 'Warped Iron Scimitar', 'Price': 4.08}, {'SN': 'Syathe73', 'Age': 22, 'Gender': 'Male', 'Item ID': 177, 'Item Name': 'Winterthorn, Defender of Shifting Worlds', 'Price': 4.89}, {'SN': 'Lisassa26', 'Age': 33, 'Gender': 'Male', 'Item ID': 166, 'Item Name': 'Thirsty Iron Reaver', 'Price': 4.25}, {'SN': 'Rasrirgue43', 'Age': 21, 'Gender': 'Male', 'Item ID': 93, 'Item Name': 'Apocalyptic Battlescythe', 'Price': 3.91}, {'SN': 'Aerillorin70', 'Age': 25, 'Gender': 'Male', 'Item ID': 179, 'Item Name': 'Wolf, Promise of the Moonwalker', 'Price': 1.88}, {'SN': 'Quelatarn54', 'Age': 22, 'Gender': 'Male', 'Item ID': 56, 'Item Name': 'Foul Titanium Battle Axe', 'Price': 4.33}, {'SN': 'Airithrin43', 'Age': 31, 'Gender': 'Female', 'Item ID': 22, 'Item Name': 'Amnesia', 'Price': 3.57}, {'SN': 'Mindirra92', 'Age': 20, 'Gender': 'Male', 'Item ID': 84, 'Item Name': 'Arcane Gem', 'Price': 2.23}, {'SN': 'Lisjasksda68', 'Age': 26, 'Gender': 'Female', 'Item ID': 85, 'Item Name': 'Malificent Bag', 'Price': 2.17}, {'SN': 'Aerithnuphos61', 'Age': 25, 'Gender': 'Male', 'Item ID': 172, 'Item Name': 'Blade of the Grave', 'Price': 1.69}, {'SN': 'Sundast29', 'Age': 40, 'Gender': 'Male', 'Item ID': 65, 'Item Name': 'Conqueror Adamantite Mace', 'Price': 1.96}, {'SN': 'Lirtosia72', 'Age': 14, 'Gender': 'Male', 'Item ID': 87, 'Item Name': 'Deluge, Edge of the West', 'Price': 2.2}, {'SN': 'Aeliriam77', 'Age': 20, 'Gender': 'Male', 'Item ID': 32, 'Item Name': 'Orenmir', 'Price': 4.95}, {'SN': 'Lisirra55', 'Age': 7, 'Gender': 'Female', 'Item ID': 21, 'Item Name': 'Souleater', 'Price': 3.27}, {'SN': 'Aeral97', 'Age': 14, 'Gender': 'Male', 'Item ID': 39, 'Item Name': 'Betrayal, Whisper of Grieving Widows', 'Price': 2.35}, {'SN': 'Lisosiast26', 'Age': 36, 'Gender': 'Male', 'Item ID': 39, 'Item Name': 'Betrayal, Whisper of Grieving Widows', 'Price': 2.35}, {'SN': 'Yathecal72', 'Age': 32, 'Gender': 'Male', 'Item ID': 16, 'Item Name': 'Restored Bauble', 'Price': 3.11}, {'SN': 'Lirtistasta79', 'Age': 23, 'Gender': 'Male', 'Item ID': 31, 'Item Name': 'Trickster', 'Price': 2.07}, {'SN': 'Lisadar44', 'Age': 31, 'Gender': 'Male', 'Item ID': 67, 'Item Name': 'Celeste, Incarnation of the Corrupted', 'Price': 2.31}, {'SN': 'Jiskossa51', 'Age': 23, 'Gender': 'Male', 'Item ID': 133, 'Item Name': \"Faith's Scimitar\", 'Price': 3.82}, {'SN': 'Qilatie51', 'Age': 20, 'Gender': 'Male', 'Item ID': 100, 'Item Name': 'Blindscythe', 'Price': 3.66}, {'SN': 'Eusri70', 'Age': 30, 'Gender': 'Male', 'Item ID': 153, 'Item Name': 'Mercenary Sabre', 'Price': 4.57}, {'SN': 'Isurria36', 'Age': 18, 'Gender': 'Female', 'Item ID': 118, 'Item Name': 'Ghost Reaver, Longsword of Magic', 'Price': 2.77}, {'SN': 'Sundastnya66', 'Age': 7, 'Gender': 'Male', 'Item ID': 151, 'Item Name': 'Severance', 'Price': 1.85}, {'SN': 'Raesursurap33', 'Age': 20, 'Gender': 'Male', 'Item ID': 81, 'Item Name': 'Dreamkiss', 'Price': 4.06}, {'SN': 'Sondassasya91', 'Age': 23, 'Gender': 'Male', 'Item ID': 94, 'Item Name': 'Mourning Blade', 'Price': 1.82}, {'SN': 'Ermol76', 'Age': 23, 'Gender': 'Male', 'Item ID': 114, 'Item Name': 'Yearning Mageblade', 'Price': 1.79}, {'SN': 'Eosurdru76', 'Age': 7, 'Gender': 'Female', 'Item ID': 77, 'Item Name': 'Piety, Guardian of Riddles', 'Price': 3.68}, {'SN': 'Yadaisuir65', 'Age': 22, 'Gender': 'Male', 'Item ID': 42, 'Item Name': 'The Decapitator', 'Price': 4.82}, {'SN': 'Zhisrisu83', 'Age': 17, 'Gender': 'Male', 'Item ID': 33, 'Item Name': 'Curved Axe', 'Price': 1.35}, {'SN': 'Aduephos78', 'Age': 37, 'Gender': 'Male', 'Item ID': 174, 'Item Name': 'Primitive Blade', 'Price': 2.46}, {'SN': 'Sondassa68', 'Age': 30, 'Gender': 'Male', 'Item ID': 69, 'Item Name': 'Frenzy, Defender of the Harvest', 'Price': 1.06}, {'SN': 'Chamirraya83', 'Age': 20, 'Gender': 'Male', 'Item ID': 141, 'Item Name': 'Persuasion', 'Price': 3.27}, {'SN': 'Alaephos75', 'Age': 22, 'Gender': 'Male', 'Item ID': 34, 'Item Name': 'Retribution Axe', 'Price': 4.14}, {'SN': 'Haellysu29', 'Age': 21, 'Gender': 'Male', 'Item ID': 166, 'Item Name': 'Thirsty Iron Reaver', 'Price': 4.25}, {'SN': 'Yarithphos28', 'Age': 25, 'Gender': 'Male', 'Item ID': 39, 'Item Name': 'Betrayal, Whisper of Grieving Widows', 'Price': 2.35}, {'SN': 'Ingatcil75', 'Age': 7, 'Gender': 'Male', 'Item ID': 66, 'Item Name': 'Victor Iron Spikes', 'Price': 3.55}, {'SN': 'Eothe56', 'Age': 30, 'Gender': 'Male', 'Item ID': 143, 'Item Name': 'Frenzied Scimitar', 'Price': 2.6}, {'SN': 'Haerith37', 'Age': 25, 'Gender': 'Male', 'Item ID': 158, 'Item Name': 'Darkheart, Butcher of the Champion', 'Price': 3.56}, {'SN': 'Assithasta65', 'Age': 23, 'Gender': 'Male', 'Item ID': 107, 'Item Name': 'Splitter, Foe Of Subtlety', 'Price': 3.61}, {'SN': 'Ethruard50', 'Age': 24, 'Gender': 'Female', 'Item ID': 51, 'Item Name': 'Endbringer', 'Price': 2.67}, {'SN': 'Palurrian69', 'Age': 15, 'Gender': 'Male', 'Item ID': 32, 'Item Name': 'Orenmir', 'Price': 4.95}, {'SN': 'Iskistasda86', 'Age': 37, 'Gender': 'Male', 'Item ID': 34, 'Item Name': 'Retribution Axe', 'Price': 4.14}, {'SN': 'Tyaili86', 'Age': 17, 'Gender': 'Female', 'Item ID': 86, 'Item Name': 'Stormfury Lantern', 'Price': 1.28}, {'SN': 'Liawista80', 'Age': 32, 'Gender': 'Male', 'Item ID': 141, 'Item Name': 'Persuasion', 'Price': 3.27}, {'SN': 'Seosri62', 'Age': 35, 'Gender': 'Male', 'Item ID': 159, 'Item Name': 'Oathbreaker, Spellblade of Trials', 'Price': 3.01}, {'SN': 'Silinu63', 'Age': 9, 'Gender': 'Male', 'Item ID': 16, 'Item Name': 'Restored Bauble', 'Price': 3.11}, {'SN': 'Aela49', 'Age': 25, 'Gender': 'Male', 'Item ID': 44, 'Item Name': 'Bonecarvin Battle Axe', 'Price': 2.46}, {'SN': 'Assosiasta83', 'Age': 20, 'Gender': 'Male', 'Item ID': 38, 'Item Name': 'The Void, Vengeance of Dark Magic', 'Price': 2.82}, {'SN': 'Saelollop56', 'Age': 40, 'Gender': 'Female', 'Item ID': 77, 'Item Name': 'Piety, Guardian of Riddles', 'Price': 3.68}, {'SN': 'Saena74', 'Age': 35, 'Gender': 'Female', 'Item ID': 108, 'Item Name': 'Extraction, Quickblade Of Trembling Hands', 'Price': 3.39}, {'SN': 'Tyaelistidru84', 'Age': 25, 'Gender': 'Female', 'Item ID': 96, 'Item Name': 'Blood-Forged Skeletal Spine', 'Price': 4.77}, {'SN': 'Chamirrasya33', 'Age': 20, 'Gender': 'Male', 'Item ID': 82, 'Item Name': 'Nirvana', 'Price': 1.11}, {'SN': 'Smecherdi88', 'Age': 15, 'Gender': 'Male', 'Item ID': 27, 'Item Name': 'Riddle, Tribute of Ended Dreams', 'Price': 3.96}, {'SN': 'Leulaesti78', 'Age': 17, 'Gender': 'Male', 'Item ID': 121, 'Item Name': 'Massacre', 'Price': 3.42}, {'SN': 'Tyaenasti87', 'Age': 8, 'Gender': 'Male', 'Item ID': 65, 'Item Name': 'Conqueror Adamantite Mace', 'Price': 1.96}, {'SN': 'Sondassa48', 'Age': 22, 'Gender': 'Male', 'Item ID': 113, 'Item Name': \"Solitude's Reaver\", 'Price': 2.67}, {'SN': 'Deural48', 'Age': 11, 'Gender': 'Female', 'Item ID': 46, 'Item Name': 'Hopeless Ebon Dualblade', 'Price': 4.75}, {'SN': 'Saistydru69', 'Age': 22, 'Gender': 'Male', 'Item ID': 76, 'Item Name': 'Haunted Bronzed Bludgeon', 'Price': 4.12}, {'SN': 'Chamosia29', 'Age': 24, 'Gender': 'Male', 'Item ID': 39, 'Item Name': 'Betrayal, Whisper of Grieving Widows', 'Price': 2.35}, {'SN': 'Saisrilis27', 'Age': 21, 'Gender': 'Male', 'Item ID': 108, 'Item Name': 'Extraction, Quickblade Of Trembling Hands', 'Price': 3.39}, {'SN': 'Indonmol95', 'Age': 15, 'Gender': 'Male', 'Item ID': 106, 'Item Name': 'Crying Steel Sickle', 'Price': 2.29}, {'SN': 'Fironon91', 'Age': 20, 'Gender': 'Female', 'Item ID': 45, 'Item Name': 'Glinting Glass Edge', 'Price': 2.46}, {'SN': 'Ryanara76', 'Age': 23, 'Gender': 'Male', 'Item ID': 27, 'Item Name': 'Riddle, Tribute of Ended Dreams', 'Price': 3.96}, {'SN': 'Saedue76', 'Age': 25, 'Gender': 'Male', 'Item ID': 7, 'Item Name': 'Thorn, Satchel of Dark Souls', 'Price': 4.51}, {'SN': 'Lirtossanya27', 'Age': 24, 'Gender': 'Female', 'Item ID': 114, 'Item Name': 'Yearning Mageblade', 'Price': 1.79}, {'SN': 'Sondadar26', 'Age': 24, 'Gender': 'Male', 'Item ID': 34, 'Item Name': 'Retribution Axe', 'Price': 4.14}, {'SN': 'Phalinun47', 'Age': 15, 'Gender': 'Male', 'Item ID': 10, 'Item Name': 'Sleepwalker', 'Price': 1.73}, {'SN': 'Chamistast30', 'Age': 25, 'Gender': 'Female', 'Item ID': 92, 'Item Name': 'Final Critic', 'Price': 1.36}, {'SN': 'Hiarideu73', 'Age': 25, 'Gender': 'Male', 'Item ID': 84, 'Item Name': 'Arcane Gem', 'Price': 2.23}, {'SN': 'Qilunan34', 'Age': 16, 'Gender': 'Male', 'Item ID': 119, 'Item Name': 'Stormbringer, Dark Blade of Ending Misery', 'Price': 2.32}, {'SN': 'Pharithdil38', 'Age': 21, 'Gender': 'Male', 'Item ID': 66, 'Item Name': 'Victor Iron Spikes', 'Price': 3.55}, {'SN': 'Tyeuladeu30', 'Age': 25, 'Gender': 'Female', 'Item ID': 42, 'Item Name': 'The Decapitator', 'Price': 4.82}, {'SN': 'Sondastan54', 'Age': 31, 'Gender': 'Male', 'Item ID': 170, 'Item Name': 'Shadowsteel', 'Price': 1.98}, {'SN': 'Ina92', 'Age': 22, 'Gender': 'Male', 'Item ID': 150, 'Item Name': 'Deathraze', 'Price': 4.54}, {'SN': 'Saida58', 'Age': 24, 'Gender': 'Male', 'Item ID': 164, 'Item Name': 'Exiled Doomblade', 'Price': 1.92}, {'SN': 'Aithelis62', 'Age': 32, 'Gender': 'Other / Non-Disclosed', 'Item ID': 29, 'Item Name': 'Chaos, Ender of the End', 'Price': 3.79}, {'SN': 'Indcil77', 'Age': 40, 'Gender': 'Male', 'Item ID': 139, 'Item Name': 'Mercy, Katana of Dismay', 'Price': 4.37}, {'SN': 'Hallysucal81', 'Age': 20, 'Gender': 'Male', 'Item ID': 14, 'Item Name': 'Possessed Core', 'Price': 1.59}, {'SN': 'Tyeuduephos81', 'Age': 15, 'Gender': 'Male', 'Item ID': 152, 'Item Name': 'Darkheart', 'Price': 3.15}, {'SN': 'Heosrisuir72', 'Age': 19, 'Gender': 'Male', 'Item ID': 131, 'Item Name': 'Fury', 'Price': 4.82}, {'SN': 'Chadossa56', 'Age': 37, 'Gender': 'Female', 'Item ID': 175, 'Item Name': 'Woeful Adamantite Claymore', 'Price': 1.24}, {'SN': 'Hailaphos89', 'Age': 20, 'Gender': 'Male', 'Item ID': 82, 'Item Name': 'Nirvana', 'Price': 1.11}, {'SN': 'Lirtassa47', 'Age': 27, 'Gender': 'Male', 'Item ID': 74, 'Item Name': 'Yearning Crusher', 'Price': 1.06}, {'SN': 'Aduephos78', 'Age': 37, 'Gender': 'Male', 'Item ID': 92, 'Item Name': 'Final Critic', 'Price': 1.36}, {'SN': 'Sondilsa40', 'Age': 18, 'Gender': 'Male', 'Item ID': 20, 'Item Name': 'Netherbane', 'Price': 1.48}, {'SN': 'Ithesuphos68', 'Age': 23, 'Gender': 'Male', 'Item ID': 180, 'Item Name': 'Stormcaller', 'Price': 2.78}, {'SN': 'Eula35', 'Age': 25, 'Gender': 'Male', 'Item ID': 98, 'Item Name': 'Deadline, Voice Of Subtlety', 'Price': 3.62}, {'SN': 'Aina42', 'Age': 27, 'Gender': 'Female', 'Item ID': 159, 'Item Name': 'Oathbreaker, Spellblade of Trials', 'Price': 3.01}, {'SN': 'Ethrusuard41', 'Age': 10, 'Gender': 'Male', 'Item ID': 131, 'Item Name': 'Fury', 'Price': 4.82}, {'SN': 'Zhisrisu83', 'Age': 17, 'Gender': 'Male', 'Item ID': 82, 'Item Name': 'Nirvana', 'Price': 1.11}, {'SN': 'Isursti83', 'Age': 24, 'Gender': 'Male', 'Item ID': 111, 'Item Name': \"Misery's End\", 'Price': 2.91}, {'SN': 'Chanirrasta87', 'Age': 19, 'Gender': 'Male', 'Item ID': 41, 'Item Name': 'Orbit', 'Price': 1.16}, {'SN': 'Stryanastip77', 'Age': 21, 'Gender': 'Male', 'Item ID': 84, 'Item Name': 'Arcane Gem', 'Price': 2.23}, {'SN': 'Ilirrasda54', 'Age': 22, 'Gender': 'Male', 'Item ID': 107, 'Item Name': 'Splitter, Foe Of Subtlety', 'Price': 3.61}, {'SN': 'Liri91', 'Age': 7, 'Gender': 'Male', 'Item ID': 34, 'Item Name': 'Retribution Axe', 'Price': 4.14}, {'SN': 'Undadar97', 'Age': 25, 'Gender': 'Male', 'Item ID': 8, 'Item Name': 'Purgatory, Gem of Regret', 'Price': 3.91}, {'SN': 'Ithergue48', 'Age': 20, 'Gender': 'Female', 'Item ID': 179, 'Item Name': 'Wolf, Promise of the Moonwalker', 'Price': 1.88}, {'SN': 'Saistyphos30', 'Age': 32, 'Gender': 'Female', 'Item ID': 95, 'Item Name': 'Singed Onyx Warscythe', 'Price': 1.03}, {'SN': 'Lisosianya62', 'Age': 22, 'Gender': 'Male', 'Item ID': 47, 'Item Name': 'Alpha, Reach of Ending Hope', 'Price': 1.55}, {'SN': 'Tyaelistidru84', 'Age': 25, 'Gender': 'Female', 'Item ID': 6, 'Item Name': 'Rusty Skull', 'Price': 1.2}, {'SN': 'Sausosia74', 'Age': 25, 'Gender': 'Male', 'Item ID': 34, 'Item Name': 'Retribution Axe', 'Price': 4.14}, {'SN': 'Frichosiala98', 'Age': 25, 'Gender': 'Male', 'Item ID': 123, 'Item Name': \"Twilight's Carver\", 'Price': 1.14}, {'SN': 'Mindimnya67', 'Age': 39, 'Gender': 'Female', 'Item ID': 140, 'Item Name': 'Striker', 'Price': 3.82}, {'SN': 'Undistasta86', 'Age': 12, 'Gender': 'Male', 'Item ID': 163, 'Item Name': 'Thunderfury Scimitar', 'Price': 3.02}, {'SN': 'Lirtistasta79', 'Age': 23, 'Gender': 'Male', 'Item ID': 172, 'Item Name': 'Blade of the Grave', 'Price': 1.69}, {'SN': 'Alaesu91', 'Age': 18, 'Gender': 'Female', 'Item ID': 95, 'Item Name': 'Singed Onyx Warscythe', 'Price': 1.03}, {'SN': 'Jiskosiala43', 'Age': 9, 'Gender': 'Female', 'Item ID': 100, 'Item Name': 'Blindscythe', 'Price': 3.66}, {'SN': 'Heuralsti66', 'Age': 30, 'Gender': 'Male', 'Item ID': 137, 'Item Name': 'Aetherius, Boon of the Blessed', 'Price': 4.75}, {'SN': 'Umuard36', 'Age': 23, 'Gender': 'Female', 'Item ID': 66, 'Item Name': 'Victor Iron Spikes', 'Price': 3.55}, {'SN': 'Asur53', 'Age': 29, 'Gender': 'Male', 'Item ID': 68, 'Item Name': 'Storm-Weaver, Slayer of Inception', 'Price': 2.49}, {'SN': 'Jiskassa76', 'Age': 25, 'Gender': 'Male', 'Item ID': 92, 'Item Name': 'Final Critic', 'Price': 1.36}, {'SN': 'Thryallym62', 'Age': 20, 'Gender': 'Male', 'Item ID': 124, 'Item Name': 'Venom Claymore', 'Price': 2.72}, {'SN': 'Raesty92', 'Age': 25, 'Gender': 'Male', 'Item ID': 5, 'Item Name': 'Putrid Fan', 'Price': 1.32}, {'SN': 'Frichassala85', 'Age': 21, 'Gender': 'Male', 'Item ID': 69, 'Item Name': 'Frenzy, Defender of the Harvest', 'Price': 1.06}, {'SN': 'Chamilsan75', 'Age': 24, 'Gender': 'Female', 'Item ID': 90, 'Item Name': 'Betrayer', 'Price': 1.67}, {'SN': 'Ilosu82', 'Age': 33, 'Gender': 'Male', 'Item ID': 38, 'Item Name': 'The Void, Vengeance of Dark Magic', 'Price': 2.82}, {'SN': 'Mindimnya67', 'Age': 39, 'Gender': 'Female', 'Item ID': 163, 'Item Name': 'Thunderfury Scimitar', 'Price': 3.02}, {'SN': 'Pheodai94', 'Age': 23, 'Gender': 'Male', 'Item ID': 20, 'Item Name': 'Netherbane', 'Price': 1.48}, {'SN': 'Raerithsti62', 'Age': 18, 'Gender': 'Male', 'Item ID': 11, 'Item Name': 'Brimstone', 'Price': 2.52}, {'SN': 'Undirrasta74', 'Age': 22, 'Gender': 'Male', 'Item ID': 41, 'Item Name': 'Orbit', 'Price': 1.16}, {'SN': 'Hiasur92', 'Age': 25, 'Gender': 'Female', 'Item ID': 103, 'Item Name': 'Singed Scalpel', 'Price': 4.87}, {'SN': 'Tillyrin30', 'Age': 20, 'Gender': 'Male', 'Item ID': 19, 'Item Name': 'Pursuit, Cudgel of Necromancy', 'Price': 3.98}, {'SN': 'Riralsti91', 'Age': 24, 'Gender': 'Male', 'Item ID': 134, 'Item Name': 'Undead Crusader', 'Price': 4.67}, {'SN': 'Iasur80', 'Age': 24, 'Gender': 'Male', 'Item ID': 103, 'Item Name': 'Singed Scalpel', 'Price': 4.87}, {'SN': 'Eryon48', 'Age': 15, 'Gender': 'Female', 'Item ID': 110, 'Item Name': 'Suspension', 'Price': 2.11}, {'SN': 'Whaestysu86', 'Age': 22, 'Gender': 'Male', 'Item ID': 146, 'Item Name': 'Warped Iron Scimitar', 'Price': 4.08}, {'SN': 'Aiduesu83', 'Age': 29, 'Gender': 'Female', 'Item ID': 35, 'Item Name': 'Heartless Bone Dualblade', 'Price': 2.63}, {'SN': 'Iaralsuir44', 'Age': 22, 'Gender': 'Male', 'Item ID': 105, 'Item Name': 'Hailstorm Shadowsteel Scythe', 'Price': 3.73}, {'SN': 'Chanjask65', 'Age': 36, 'Gender': 'Male', 'Item ID': 31, 'Item Name': 'Trickster', 'Price': 2.07}, {'SN': 'Frichistast39', 'Age': 25, 'Gender': 'Male', 'Item ID': 158, 'Item Name': 'Darkheart, Butcher of the Champion', 'Price': 3.56}, {'SN': 'Yaralnura48', 'Age': 40, 'Gender': 'Male', 'Item ID': 168, 'Item Name': 'Sun Strike, Jaws of Twisted Visions', 'Price': 2.64}, {'SN': 'Isursti83', 'Age': 24, 'Gender': 'Male', 'Item ID': 48, 'Item Name': 'Rage, Legacy of the Lone Victor', 'Price': 4.32}, {'SN': 'Phairinum94', 'Age': 17, 'Gender': 'Male', 'Item ID': 128, 'Item Name': 'Blazeguard, Reach of Eternity', 'Price': 4.0}, {'SN': 'Ethralan59', 'Age': 27, 'Gender': 'Male', 'Item ID': 151, 'Item Name': 'Severance', 'Price': 1.85}, {'SN': 'Raelly43', 'Age': 25, 'Gender': 'Male', 'Item ID': 165, 'Item Name': 'Bone Crushing Silver Skewer', 'Price': 3.37}, {'SN': 'Lisassasta50', 'Age': 33, 'Gender': 'Female', 'Item ID': 22, 'Item Name': 'Amnesia', 'Price': 3.57}, {'SN': 'Chanastnya43', 'Age': 25, 'Gender': 'Female', 'Item ID': 104, 'Item Name': \"Gladiator's Glaive\", 'Price': 1.36}, {'SN': 'Sondimla25', 'Age': 23, 'Gender': 'Male', 'Item ID': 85, 'Item Name': 'Malificent Bag', 'Price': 2.17}, {'SN': 'Chamilsala65', 'Age': 24, 'Gender': 'Male', 'Item ID': 136, 'Item Name': 'Ghastly Adamantite Protector', 'Price': 3.3}, {'SN': 'Idaria87', 'Age': 30, 'Gender': 'Male', 'Item ID': 103, 'Item Name': 'Singed Scalpel', 'Price': 4.87}, {'SN': 'Eoda93', 'Age': 22, 'Gender': 'Male', 'Item ID': 76, 'Item Name': 'Haunted Bronzed Bludgeon', 'Price': 4.12}, {'SN': 'Chanastst38', 'Age': 27, 'Gender': 'Male', 'Item ID': 21, 'Item Name': 'Souleater', 'Price': 3.27}, {'SN': 'Lamil79', 'Age': 23, 'Gender': 'Male', 'Item ID': 40, 'Item Name': 'Second Chance', 'Price': 2.34}, {'SN': 'Liri91', 'Age': 7, 'Gender': 'Male', 'Item ID': 161, 'Item Name': 'Devine', 'Price': 1.45}, {'SN': 'Qaronon57', 'Age': 17, 'Gender': 'Male', 'Item ID': 22, 'Item Name': 'Amnesia', 'Price': 3.57}, {'SN': 'Chadjask77', 'Age': 36, 'Gender': 'Male', 'Item ID': 57, 'Item Name': 'Despair, Favor of Due Diligence', 'Price': 3.81}, {'SN': 'Ethralista69', 'Age': 20, 'Gender': 'Male', 'Item ID': 52, 'Item Name': 'Hatred', 'Price': 4.39}, {'SN': 'Phaeduesurgue38', 'Age': 23, 'Gender': 'Male', 'Item ID': 49, 'Item Name': 'The Oculus, Token of Lost Worlds', 'Price': 4.23}, {'SN': 'Rathellorin54', 'Age': 25, 'Gender': 'Female', 'Item ID': 95, 'Item Name': 'Singed Onyx Warscythe', 'Price': 1.03}, {'SN': 'Filon68', 'Age': 38, 'Gender': 'Male', 'Item ID': 40, 'Item Name': 'Second Chance', 'Price': 2.34}, {'SN': 'Chamilsala65', 'Age': 24, 'Gender': 'Male', 'Item ID': 160, 'Item Name': 'Azurewrath', 'Price': 2.22}, {'SN': 'Assylla81', 'Age': 22, 'Gender': 'Male', 'Item ID': 1, 'Item Name': 'Crucifer', 'Price': 2.28}, {'SN': 'Ingonon91', 'Age': 21, 'Gender': 'Male', 'Item ID': 79, 'Item Name': 'Alpha, Oath of Zeal', 'Price': 2.88}, {'SN': 'Lisovynya38', 'Age': 18, 'Gender': 'Male', 'Item ID': 144, 'Item Name': 'Blood Infused Guardian', 'Price': 2.86}, {'SN': 'Assesi91', 'Age': 25, 'Gender': 'Male', 'Item ID': 10, 'Item Name': 'Sleepwalker', 'Price': 1.73}, {'SN': 'Aellyria80', 'Age': 25, 'Gender': 'Male', 'Item ID': 125, 'Item Name': 'Whistling Mithril Warblade', 'Price': 4.32}, {'SN': 'Aethedru70', 'Age': 25, 'Gender': 'Male', 'Item ID': 176, 'Item Name': 'Relentless Iron Skewer', 'Price': 2.97}, {'SN': 'Iladarla40', 'Age': 8, 'Gender': 'Male', 'Item ID': 15, 'Item Name': 'Soul Infused Crystal', 'Price': 1.03}, {'SN': 'Tyalaesu89', 'Age': 29, 'Gender': 'Male', 'Item ID': 180, 'Item Name': 'Stormcaller', 'Price': 2.78}, {'SN': 'Erudrion71', 'Age': 16, 'Gender': 'Male', 'Item ID': 161, 'Item Name': 'Devine', 'Price': 1.45}, {'SN': 'Tyisriphos58', 'Age': 38, 'Gender': 'Male', 'Item ID': 181, 'Item Name': \"Reaper's Toll\", 'Price': 4.56}, {'SN': 'Iskista88', 'Age': 28, 'Gender': 'Male', 'Item ID': 92, 'Item Name': 'Final Critic', 'Price': 1.36}, {'SN': 'Seudaillorap38', 'Age': 21, 'Gender': 'Male', 'Item ID': 133, 'Item Name': \"Faith's Scimitar\", 'Price': 3.82}, {'SN': 'Sondossa55', 'Age': 12, 'Gender': 'Male', 'Item ID': 70, 'Item Name': \"Hope's End\", 'Price': 3.89}, {'SN': 'Tyirithnu40', 'Age': 19, 'Gender': 'Male', 'Item ID': 108, 'Item Name': 'Extraction, Quickblade Of Trembling Hands', 'Price': 3.39}, {'SN': 'Malista67', 'Age': 13, 'Gender': 'Male', 'Item ID': 159, 'Item Name': 'Oathbreaker, Spellblade of Trials', 'Price': 3.01}, {'SN': 'Ristydru66', 'Age': 33, 'Gender': 'Male', 'Item ID': 120, 'Item Name': 'Agatha', 'Price': 1.91}, {'SN': 'Yasriphos60', 'Age': 40, 'Gender': 'Male', 'Item ID': 11, 'Item Name': 'Brimstone', 'Price': 2.52}, {'SN': 'Phainasu47', 'Age': 20, 'Gender': 'Male', 'Item ID': 111, 'Item Name': \"Misery's End\", 'Price': 2.91}, {'SN': 'Eural50', 'Age': 22, 'Gender': 'Male', 'Item ID': 81, 'Item Name': 'Dreamkiss', 'Price': 4.06}, {'SN': 'Mindassast27', 'Age': 22, 'Gender': 'Male', 'Item ID': 31, 'Item Name': 'Trickster', 'Price': 2.07}, {'SN': 'Iskossan49', 'Age': 24, 'Gender': 'Male', 'Item ID': 62, 'Item Name': 'Piece Maker', 'Price': 4.36}, {'SN': 'Qarrian82', 'Age': 30, 'Gender': 'Male', 'Item ID': 145, 'Item Name': 'Fiery Glass Crusader', 'Price': 4.45}, {'SN': 'Eulidru49', 'Age': 16, 'Gender': 'Female', 'Item ID': 170, 'Item Name': 'Shadowsteel', 'Price': 1.98}, {'SN': 'Inguard95', 'Age': 38, 'Gender': 'Male', 'Item ID': 148, 'Item Name': \"Warmonger, Gift of Suffering's End\", 'Price': 3.96}, {'SN': 'Hiral75', 'Age': 20, 'Gender': 'Male', 'Item ID': 161, 'Item Name': 'Devine', 'Price': 1.45}, {'SN': 'Undast38', 'Age': 16, 'Gender': 'Male', 'Item ID': 162, 'Item Name': 'Abyssal Shard', 'Price': 2.04}, {'SN': 'Chadjask77', 'Age': 36, 'Gender': 'Male', 'Item ID': 182, 'Item Name': 'Toothpick', 'Price': 3.48}, {'SN': 'Marim28', 'Age': 17, 'Gender': 'Female', 'Item ID': 143, 'Item Name': 'Frenzied Scimitar', 'Price': 2.6}, {'SN': 'Yasriphos60', 'Age': 40, 'Gender': 'Male', 'Item ID': 55, 'Item Name': 'Vindictive Glass Edge', 'Price': 4.26}, {'SN': 'Ialistidru50', 'Age': 21, 'Gender': 'Male', 'Item ID': 22, 'Item Name': 'Amnesia', 'Price': 3.57}, {'SN': 'Aelalis34', 'Age': 38, 'Gender': 'Male', 'Item ID': 172, 'Item Name': 'Blade of the Grave', 'Price': 1.69}, {'SN': 'Airal46', 'Age': 35, 'Gender': 'Male', 'Item ID': 113, 'Item Name': \"Solitude's Reaver\", 'Price': 2.67}, {'SN': 'Lirtosia72', 'Age': 14, 'Gender': 'Male', 'Item ID': 80, 'Item Name': 'Dreamsong', 'Price': 3.81}, {'SN': 'Assassasta79', 'Age': 17, 'Gender': 'Female', 'Item ID': 177, 'Item Name': 'Winterthorn, Defender of Shifting Worlds', 'Price': 4.89}, {'SN': 'Saerallora71', 'Age': 21, 'Gender': 'Male', 'Item ID': 183, 'Item Name': \"Dragon's Greatsword\", 'Price': 2.36}, {'SN': 'Frichossast86', 'Age': 24, 'Gender': 'Male', 'Item ID': 98, 'Item Name': 'Deadline, Voice Of Subtlety', 'Price': 3.62}, {'SN': 'Undirra73', 'Age': 23, 'Gender': 'Female', 'Item ID': 30, 'Item Name': 'Stormcaller', 'Price': 4.15}, {'SN': 'Chanastsda67', 'Age': 15, 'Gender': 'Male', 'Item ID': 145, 'Item Name': 'Fiery Glass Crusader', 'Price': 4.45}, {'SN': 'Undirrala66', 'Age': 29, 'Gender': 'Male', 'Item ID': 18, 'Item Name': 'Torchlight, Bond of Storms', 'Price': 1.77}, {'SN': 'Lirtosia72', 'Age': 14, 'Gender': 'Male', 'Item ID': 183, 'Item Name': \"Dragon's Greatsword\", 'Price': 2.36}, {'SN': 'Phaestycal84', 'Age': 31, 'Gender': 'Male', 'Item ID': 171, 'Item Name': 'Scalpel', 'Price': 3.62}, {'SN': 'Malunil62', 'Age': 19, 'Gender': 'Male', 'Item ID': 153, 'Item Name': 'Mercenary Sabre', 'Price': 4.57}, {'SN': 'Eosursurap97', 'Age': 20, 'Gender': 'Male', 'Item ID': 84, 'Item Name': 'Arcane Gem', 'Price': 2.23}, {'SN': 'Iaralrgue74', 'Age': 15, 'Gender': 'Male', 'Item ID': 153, 'Item Name': 'Mercenary Sabre', 'Price': 4.57}, {'SN': 'Seolollo93', 'Age': 15, 'Gender': 'Male', 'Item ID': 8, 'Item Name': 'Purgatory, Gem of Regret', 'Price': 3.91}, {'SN': 'Ililsan66', 'Age': 18, 'Gender': 'Male', 'Item ID': 15, 'Item Name': 'Soul Infused Crystal', 'Price': 1.03}, {'SN': 'Yasriphos60', 'Age': 40, 'Gender': 'Male', 'Item ID': 171, 'Item Name': 'Scalpel', 'Price': 3.62}, {'SN': 'Iskosia51', 'Age': 15, 'Gender': 'Male', 'Item ID': 154, 'Item Name': 'Feral Katana', 'Price': 2.19}, {'SN': 'Isurria36', 'Age': 18, 'Gender': 'Female', 'Item ID': 171, 'Item Name': 'Scalpel', 'Price': 3.62}, {'SN': 'Asur53', 'Age': 29, 'Gender': 'Male', 'Item ID': 129, 'Item Name': 'Fate, Vengeance of Eternal Justice', 'Price': 1.55}, {'SN': 'Aesur96', 'Age': 34, 'Gender': 'Male', 'Item ID': 135, 'Item Name': 'Warped Diamond Crusader', 'Price': 4.66}, {'SN': 'Iskosian40', 'Age': 23, 'Gender': 'Male', 'Item ID': 108, 'Item Name': 'Extraction, Quickblade Of Trembling Hands', 'Price': 3.39}, {'SN': 'Ililsa62', 'Age': 20, 'Gender': 'Male', 'Item ID': 100, 'Item Name': 'Blindscythe', 'Price': 3.66}, {'SN': 'Aillyriadru65', 'Age': 23, 'Gender': 'Male', 'Item ID': 60, 'Item Name': 'Wolf', 'Price': 1.84}, {'SN': 'Lisassa49', 'Age': 24, 'Gender': 'Female', 'Item ID': 110, 'Item Name': 'Suspension', 'Price': 2.11}, {'SN': 'Lisistaya47', 'Age': 7, 'Gender': 'Male', 'Item ID': 39, 'Item Name': 'Betrayal, Whisper of Grieving Widows', 'Price': 2.35}, {'SN': 'Ialidru40', 'Age': 19, 'Gender': 'Male', 'Item ID': 175, 'Item Name': 'Woeful Adamantite Claymore', 'Price': 1.24}, {'SN': 'Sondim43', 'Age': 20, 'Gender': 'Male', 'Item ID': 35, 'Item Name': 'Heartless Bone Dualblade', 'Price': 2.63}, {'SN': 'Iskimnya76', 'Age': 24, 'Gender': 'Male', 'Item ID': 30, 'Item Name': 'Stormcaller', 'Price': 4.15}, {'SN': 'Aethe80', 'Age': 22, 'Gender': 'Male', 'Item ID': 119, 'Item Name': 'Stormbringer, Dark Blade of Ending Misery', 'Price': 2.32}, {'SN': 'Rathellorin54', 'Age': 25, 'Gender': 'Female', 'Item ID': 65, 'Item Name': 'Conqueror Adamantite Mace', 'Price': 1.96}, {'SN': 'Chanadar44', 'Age': 29, 'Gender': 'Male', 'Item ID': 64, 'Item Name': 'Fusion Pummel', 'Price': 3.58}, {'SN': 'Eudasu82', 'Age': 33, 'Gender': 'Male', 'Item ID': 83, 'Item Name': 'Lifebender', 'Price': 3.51}, {'SN': 'Lisirraya76', 'Age': 19, 'Gender': 'Male', 'Item ID': 88, 'Item Name': 'Emberling, Defender of Delusions', 'Price': 4.1}, {'SN': 'Lisossa25', 'Age': 24, 'Gender': 'Male', 'Item ID': 26, 'Item Name': 'Unholy Wand', 'Price': 1.88}, {'SN': 'Haedasu65', 'Age': 20, 'Gender': 'Male', 'Item ID': 133, 'Item Name': \"Faith's Scimitar\", 'Price': 3.82}, {'SN': 'Iral74', 'Age': 24, 'Gender': 'Male', 'Item ID': 97, 'Item Name': 'Swan Song, Gouger Of Terror', 'Price': 3.58}, {'SN': 'Lisjaskya84', 'Age': 20, 'Gender': 'Male', 'Item ID': 16, 'Item Name': 'Restored Bauble', 'Price': 3.11}, {'SN': 'Saelaephos52', 'Age': 20, 'Gender': 'Male', 'Item ID': 181, 'Item Name': \"Reaper's Toll\", 'Price': 4.56}, {'SN': 'Chamim85', 'Age': 22, 'Gender': 'Male', 'Item ID': 76, 'Item Name': 'Haunted Bronzed Bludgeon', 'Price': 4.12}, {'SN': 'Chamadar61', 'Age': 21, 'Gender': 'Male', 'Item ID': 154, 'Item Name': 'Feral Katana', 'Price': 2.19}, {'SN': 'Lirtista72', 'Age': 23, 'Gender': 'Male', 'Item ID': 142, 'Item Name': 'Righteous Might', 'Price': 4.36}, {'SN': 'Seudanu38', 'Age': 17, 'Gender': 'Male', 'Item ID': 113, 'Item Name': \"Solitude's Reaver\", 'Price': 2.67}, {'SN': 'Lisossa63', 'Age': 24, 'Gender': 'Male', 'Item ID': 92, 'Item Name': 'Final Critic', 'Price': 1.36}, {'SN': 'Siathecal92', 'Age': 22, 'Gender': 'Male', 'Item ID': 36, 'Item Name': 'Spectral Bone Axe', 'Price': 2.98}, {'SN': 'Eullydru35', 'Age': 7, 'Gender': 'Male', 'Item ID': 39, 'Item Name': 'Betrayal, Whisper of Grieving Widows', 'Price': 2.35}, {'SN': 'Chamistast30', 'Age': 25, 'Gender': 'Female', 'Item ID': 18, 'Item Name': 'Torchlight, Bond of Storms', 'Price': 1.77}, {'SN': 'Isrirgue68', 'Age': 24, 'Gender': 'Male', 'Item ID': 142, 'Item Name': 'Righteous Might', 'Price': 4.36}, {'SN': 'Eurallo89', 'Age': 20, 'Gender': 'Female', 'Item ID': 172, 'Item Name': 'Blade of the Grave', 'Price': 1.69}, {'SN': 'Raithe71', 'Age': 25, 'Gender': 'Male', 'Item ID': 107, 'Item Name': 'Splitter, Foe Of Subtlety', 'Price': 3.61}, {'SN': 'Iskossaya95', 'Age': 31, 'Gender': 'Male', 'Item ID': 151, 'Item Name': 'Severance', 'Price': 1.85}, {'SN': 'Yathecal82', 'Age': 23, 'Gender': 'Male', 'Item ID': 178, 'Item Name': 'Oathbreaker, Last Hope of the Breaking Storm', 'Price': 2.41}, {'SN': 'Filrion44', 'Age': 22, 'Gender': 'Male', 'Item ID': 68, 'Item Name': 'Storm-Weaver, Slayer of Inception', 'Price': 2.49}, {'SN': 'Saralp86', 'Age': 9, 'Gender': 'Male', 'Item ID': 26, 'Item Name': 'Unholy Wand', 'Price': 1.88}, {'SN': 'Tyeuduen32', 'Age': 22, 'Gender': 'Male', 'Item ID': 13, 'Item Name': 'Serenity', 'Price': 1.49}, {'SN': 'Aina43', 'Age': 21, 'Gender': 'Female', 'Item ID': 174, 'Item Name': 'Primitive Blade', 'Price': 2.46}, {'SN': 'Undiwinya88', 'Age': 15, 'Gender': 'Male', 'Item ID': 23, 'Item Name': 'Crucifer', 'Price': 2.77}, {'SN': 'Silaera56', 'Age': 29, 'Gender': 'Male', 'Item ID': 75, 'Item Name': 'Brutality Ivory Warmace', 'Price': 1.72}, {'SN': 'Iskadarya95', 'Age': 15, 'Gender': 'Male', 'Item ID': 27, 'Item Name': 'Riddle, Tribute of Ended Dreams', 'Price': 3.96}, {'SN': 'Eoralphos86', 'Age': 13, 'Gender': 'Female', 'Item ID': 26, 'Item Name': 'Unholy Wand', 'Price': 1.88}, {'SN': 'Billysu76', 'Age': 27, 'Gender': 'Male', 'Item ID': 144, 'Item Name': 'Blood Infused Guardian', 'Price': 2.86}, {'SN': 'Seorithstilis90', 'Age': 23, 'Gender': 'Male', 'Item ID': 152, 'Item Name': 'Darkheart', 'Price': 3.15}, {'SN': 'Aidaira48', 'Age': 30, 'Gender': 'Male', 'Item ID': 10, 'Item Name': 'Sleepwalker', 'Price': 1.73}, {'SN': 'Mindimnya67', 'Age': 39, 'Gender': 'Female', 'Item ID': 145, 'Item Name': 'Fiery Glass Crusader', 'Price': 4.45}, {'SN': 'Euna48', 'Age': 22, 'Gender': 'Other / Non-Disclosed', 'Item ID': 115, 'Item Name': 'Spectral Diamond Doomblade', 'Price': 4.25}, {'SN': 'Lisassasta50', 'Age': 33, 'Gender': 'Female', 'Item ID': 163, 'Item Name': 'Thunderfury Scimitar', 'Price': 3.02}, {'SN': 'Eusur90', 'Age': 20, 'Gender': 'Male', 'Item ID': 30, 'Item Name': 'Stormcaller', 'Price': 4.15}, {'SN': 'Undirrala66', 'Age': 29, 'Gender': 'Male', 'Item ID': 133, 'Item Name': \"Faith's Scimitar\", 'Price': 3.82}, {'SN': 'Lamil70', 'Age': 16, 'Gender': 'Male', 'Item ID': 13, 'Item Name': 'Serenity', 'Price': 1.49}, {'SN': 'Chamadarnya73', 'Age': 21, 'Gender': 'Male', 'Item ID': 12, 'Item Name': 'Dawne', 'Price': 4.3}, {'SN': 'Ilast79', 'Age': 20, 'Gender': 'Female', 'Item ID': 6, 'Item Name': 'Rusty Skull', 'Price': 1.2}, {'SN': 'Sondilsa35', 'Age': 22, 'Gender': 'Male', 'Item ID': 97, 'Item Name': 'Swan Song, Gouger Of Terror', 'Price': 3.58}, {'SN': 'Ralonurin90', 'Age': 26, 'Gender': 'Male', 'Item ID': 148, 'Item Name': \"Warmonger, Gift of Suffering's End\", 'Price': 3.96}, {'SN': 'Marundi65', 'Age': 24, 'Gender': 'Female', 'Item ID': 71, 'Item Name': 'Demise', 'Price': 4.07}, {'SN': 'Phaedan76', 'Age': 20, 'Gender': 'Male', 'Item ID': 60, 'Item Name': 'Wolf', 'Price': 1.84}, {'SN': 'Farenon57', 'Age': 20, 'Gender': 'Male', 'Item ID': 18, 'Item Name': 'Torchlight, Bond of Storms', 'Price': 1.77}, {'SN': 'Ilassa51', 'Age': 20, 'Gender': 'Male', 'Item ID': 157, 'Item Name': 'Spada, Etcher of Hatred', 'Price': 2.21}, {'SN': 'Lirtossa84', 'Age': 20, 'Gender': 'Male', 'Item ID': 101, 'Item Name': 'Final Critic', 'Price': 4.62}, {'SN': 'Airi27', 'Age': 23, 'Gender': 'Male', 'Item ID': 38, 'Item Name': 'The Void, Vengeance of Dark Magic', 'Price': 2.82}, {'SN': 'Indcil77', 'Age': 40, 'Gender': 'Male', 'Item ID': 102, 'Item Name': 'Avenger', 'Price': 4.16}, {'SN': 'Chamastya76', 'Age': 20, 'Gender': 'Male', 'Item ID': 53, 'Item Name': 'Vengeance Cleaver', 'Price': 3.7}, {'SN': 'Lassjask63', 'Age': 7, 'Gender': 'Male', 'Item ID': 158, 'Item Name': 'Darkheart, Butcher of the Champion', 'Price': 3.56}, {'SN': 'Heolo60', 'Age': 22, 'Gender': 'Male', 'Item ID': 175, 'Item Name': 'Woeful Adamantite Claymore', 'Price': 1.24}, {'SN': 'Isurria36', 'Age': 18, 'Gender': 'Female', 'Item ID': 101, 'Item Name': 'Final Critic', 'Price': 4.62}, {'SN': 'Lisossan98', 'Age': 15, 'Gender': 'Male', 'Item ID': 153, 'Item Name': 'Mercenary Sabre', 'Price': 4.57}, {'SN': 'Sondim43', 'Age': 20, 'Gender': 'Male', 'Item ID': 19, 'Item Name': 'Pursuit, Cudgel of Necromancy', 'Price': 3.98}, {'SN': 'Mindirra92', 'Age': 20, 'Gender': 'Male', 'Item ID': 11, 'Item Name': 'Brimstone', 'Price': 2.52}, {'SN': 'Reuthelis39', 'Age': 20, 'Gender': 'Female', 'Item ID': 11, 'Item Name': 'Brimstone', 'Price': 2.52}, {'SN': 'Thourdirra92', 'Age': 18, 'Gender': 'Male', 'Item ID': 166, 'Item Name': 'Thirsty Iron Reaver', 'Price': 4.25}, {'SN': 'Frichadar89', 'Age': 25, 'Gender': 'Male', 'Item ID': 49, 'Item Name': 'The Oculus, Token of Lost Worlds', 'Price': 4.23}, {'SN': 'Raesursurap33', 'Age': 20, 'Gender': 'Male', 'Item ID': 123, 'Item Name': \"Twilight's Carver\", 'Price': 1.14}, {'SN': 'Jiskilsa35', 'Age': 20, 'Gender': 'Female', 'Item ID': 80, 'Item Name': 'Dreamsong', 'Price': 3.81}, {'SN': 'Philistirap41', 'Age': 33, 'Gender': 'Male', 'Item ID': 172, 'Item Name': 'Blade of the Grave', 'Price': 1.69}, {'SN': 'Tyidainu31', 'Age': 20, 'Gender': 'Male', 'Item ID': 144, 'Item Name': 'Blood Infused Guardian', 'Price': 2.86}, {'SN': 'Mindimnya67', 'Age': 39, 'Gender': 'Female', 'Item ID': 161, 'Item Name': 'Devine', 'Price': 1.45}, {'SN': 'Tridaira71', 'Age': 37, 'Gender': 'Female', 'Item ID': 95, 'Item Name': 'Singed Onyx Warscythe', 'Price': 1.03}, {'SN': 'Queusurra38', 'Age': 23, 'Gender': 'Male', 'Item ID': 90, 'Item Name': 'Betrayer', 'Price': 1.67}, {'SN': 'Mindadaran26', 'Age': 20, 'Gender': 'Male', 'Item ID': 124, 'Item Name': 'Venom Claymore', 'Price': 2.72}, {'SN': 'Lisassa39', 'Age': 23, 'Gender': 'Male', 'Item ID': 130, 'Item Name': 'Alpha', 'Price': 1.56}, {'SN': 'Alaesu77', 'Age': 32, 'Gender': 'Male', 'Item ID': 78, 'Item Name': 'Glimmer, Ender of the Moon', 'Price': 2.33}, {'SN': 'Ilogha82', 'Age': 25, 'Gender': 'Male', 'Item ID': 142, 'Item Name': 'Righteous Might', 'Price': 4.36}, {'SN': 'Pharithdil38', 'Age': 21, 'Gender': 'Male', 'Item ID': 178, 'Item Name': 'Oathbreaker, Last Hope of the Breaking Storm', 'Price': 2.41}, {'SN': 'Mindossasya74', 'Age': 26, 'Gender': 'Male', 'Item ID': 85, 'Item Name': 'Malificent Bag', 'Price': 2.17}, {'SN': 'Syadaillo88', 'Age': 16, 'Gender': 'Male', 'Item ID': 22, 'Item Name': 'Amnesia', 'Price': 3.57}, {'SN': 'Lassilsala30', 'Age': 15, 'Gender': 'Male', 'Item ID': 127, 'Item Name': 'Heartseeker, Reaver of Souls', 'Price': 3.21}, {'SN': 'Eusri26', 'Age': 23, 'Gender': 'Male', 'Item ID': 111, 'Item Name': \"Misery's End\", 'Price': 2.91}, {'SN': 'Chanastsda67', 'Age': 15, 'Gender': 'Male', 'Item ID': 67, 'Item Name': 'Celeste, Incarnation of the Corrupted', 'Price': 2.31}, {'SN': 'Hilaerin92', 'Age': 31, 'Gender': 'Male', 'Item ID': 40, 'Item Name': 'Second Chance', 'Price': 2.34}, {'SN': 'Aeliriam77', 'Age': 20, 'Gender': 'Male', 'Item ID': 18, 'Item Name': 'Torchlight, Bond of Storms', 'Price': 1.77}, {'SN': 'Lirtossan50', 'Age': 35, 'Gender': 'Male', 'Item ID': 83, 'Item Name': 'Lifebender', 'Price': 3.51}, {'SN': 'Iskossan49', 'Age': 24, 'Gender': 'Male', 'Item ID': 94, 'Item Name': 'Mourning Blade', 'Price': 1.82}, {'SN': 'Sondim73', 'Age': 16, 'Gender': 'Male', 'Item ID': 22, 'Item Name': 'Amnesia', 'Price': 3.57}, {'SN': 'Assosia38', 'Age': 16, 'Gender': 'Male', 'Item ID': 37, 'Item Name': 'Shadow Strike, Glory of Ending Hope', 'Price': 1.93}, {'SN': 'Reula64', 'Age': 16, 'Gender': 'Male', 'Item ID': 115, 'Item Name': 'Spectral Diamond Doomblade', 'Price': 4.25}, {'SN': 'Tyeosri53', 'Age': 31, 'Gender': 'Male', 'Item ID': 182, 'Item Name': 'Toothpick', 'Price': 3.48}, {'SN': 'Raesurdil91', 'Age': 43, 'Gender': 'Male', 'Item ID': 57, 'Item Name': 'Despair, Favor of Due Diligence', 'Price': 3.81}, {'SN': 'Anallorgue57', 'Age': 20, 'Gender': 'Female', 'Item ID': 103, 'Item Name': 'Singed Scalpel', 'Price': 4.87}, {'SN': 'Idai61', 'Age': 21, 'Gender': 'Male', 'Item ID': 78, 'Item Name': 'Glimmer, Ender of the Moon', 'Price': 2.33}, {'SN': 'Aeduera68', 'Age': 26, 'Gender': 'Male', 'Item ID': 156, 'Item Name': 'Soul-Forged Steel Shortsword', 'Price': 1.16}, {'SN': 'Rithe53', 'Age': 23, 'Gender': 'Male', 'Item ID': 92, 'Item Name': 'Final Critic', 'Price': 1.36}, {'SN': 'Quinarap53', 'Age': 21, 'Gender': 'Male', 'Item ID': 44, 'Item Name': 'Bonecarvin Battle Axe', 'Price': 2.46}, {'SN': 'Haerithp41', 'Age': 24, 'Gender': 'Male', 'Item ID': 109, 'Item Name': 'Downfall, Scalpel Of The Emperor', 'Price': 3.2}, {'SN': 'Seuthelis34', 'Age': 30, 'Gender': 'Female', 'Item ID': 79, 'Item Name': 'Alpha, Oath of Zeal', 'Price': 2.88}, {'SN': 'Styaduen40', 'Age': 21, 'Gender': 'Female', 'Item ID': 8, 'Item Name': 'Purgatory, Gem of Regret', 'Price': 3.91}, {'SN': 'Ennoncil86', 'Age': 32, 'Gender': 'Male', 'Item ID': 120, 'Item Name': 'Agatha', 'Price': 1.91}, {'SN': 'Lassassasda30', 'Age': 15, 'Gender': 'Male', 'Item ID': 120, 'Item Name': 'Agatha', 'Price': 1.91}, {'SN': 'Tyeosri53', 'Age': 31, 'Gender': 'Male', 'Item ID': 10, 'Item Name': 'Sleepwalker', 'Price': 1.73}, {'SN': 'Ilaststa70', 'Age': 10, 'Gender': 'Female', 'Item ID': 63, 'Item Name': 'Stormfury Mace', 'Price': 1.27}, {'SN': 'Tyarithn67', 'Age': 28, 'Gender': 'Male', 'Item ID': 32, 'Item Name': 'Orenmir', 'Price': 4.95}, {'SN': 'Streural92', 'Age': 13, 'Gender': 'Male', 'Item ID': 14, 'Item Name': 'Possessed Core', 'Price': 1.59}, {'SN': 'Haellysu29', 'Age': 21, 'Gender': 'Male', 'Item ID': 91, 'Item Name': 'Celeste', 'Price': 3.71}, {'SN': 'Yadaisuir65', 'Age': 22, 'Gender': 'Male', 'Item ID': 73, 'Item Name': 'Ritual Mace', 'Price': 3.74}, {'SN': 'Aerithnucal56', 'Age': 15, 'Gender': 'Male', 'Item ID': 172, 'Item Name': 'Blade of the Grave', 'Price': 1.69}, {'SN': 'Sundjask71', 'Age': 15, 'Gender': 'Male', 'Item ID': 77, 'Item Name': 'Piety, Guardian of Riddles', 'Price': 3.68}, {'SN': 'Tyisriphos58', 'Age': 38, 'Gender': 'Male', 'Item ID': 101, 'Item Name': 'Final Critic', 'Price': 4.62}, {'SN': 'Sundaststa26', 'Age': 22, 'Gender': 'Female', 'Item ID': 33, 'Item Name': 'Curved Axe', 'Price': 1.35}, {'SN': 'Yalo71', 'Age': 23, 'Gender': 'Male', 'Item ID': 24, 'Item Name': 'Warped Fetish', 'Price': 2.41}, {'SN': 'Mindetosya30', 'Age': 16, 'Gender': 'Male', 'Item ID': 67, 'Item Name': 'Celeste, Incarnation of the Corrupted', 'Price': 2.31}, {'SN': 'Chanjaskan89', 'Age': 23, 'Gender': 'Male', 'Item ID': 15, 'Item Name': 'Soul Infused Crystal', 'Price': 1.03}, {'SN': 'Chadjask77', 'Age': 36, 'Gender': 'Male', 'Item ID': 124, 'Item Name': 'Venom Claymore', 'Price': 2.72}, {'SN': 'Lirtast83', 'Age': 32, 'Gender': 'Male', 'Item ID': 66, 'Item Name': 'Victor Iron Spikes', 'Price': 3.55}, {'SN': 'Ingatcil75', 'Age': 7, 'Gender': 'Male', 'Item ID': 177, 'Item Name': 'Winterthorn, Defender of Shifting Worlds', 'Price': 4.89}, {'SN': 'Lassassast73', 'Age': 24, 'Gender': 'Male', 'Item ID': 61, 'Item Name': 'Ragnarok', 'Price': 3.97}, {'SN': 'Strairisti57', 'Age': 18, 'Gender': 'Male', 'Item ID': 157, 'Item Name': 'Spada, Etcher of Hatred', 'Price': 2.21}, {'SN': 'Qarwen67', 'Age': 11, 'Gender': 'Male', 'Item ID': 176, 'Item Name': 'Relentless Iron Skewer', 'Price': 2.97}, {'SN': 'Filrion59', 'Age': 35, 'Gender': 'Male', 'Item ID': 31, 'Item Name': 'Trickster', 'Price': 2.07}, {'SN': 'Sondim43', 'Age': 20, 'Gender': 'Male', 'Item ID': 118, 'Item Name': 'Ghost Reaver, Longsword of Magic', 'Price': 2.77}, {'SN': 'Aellysup38', 'Age': 25, 'Gender': 'Male', 'Item ID': 107, 'Item Name': 'Splitter, Foe Of Subtlety', 'Price': 3.61}, {'SN': 'Hala31', 'Age': 38, 'Gender': 'Male', 'Item ID': 75, 'Item Name': 'Brutality Ivory Warmace', 'Price': 1.72}, {'SN': 'Rithe77', 'Age': 26, 'Gender': 'Female', 'Item ID': 65, 'Item Name': 'Conqueror Adamantite Mace', 'Price': 1.96}, {'SN': 'Marirrasta50', 'Age': 19, 'Gender': 'Male', 'Item ID': 159, 'Item Name': 'Oathbreaker, Spellblade of Trials', 'Price': 3.01}, {'SN': 'Chanosiast43', 'Age': 13, 'Gender': 'Female', 'Item ID': 18, 'Item Name': 'Torchlight, Bond of Storms', 'Price': 1.77}, {'SN': 'Sundim98', 'Age': 20, 'Gender': 'Female', 'Item ID': 100, 'Item Name': 'Blindscythe', 'Price': 3.66}, {'SN': 'Frichaya88', 'Age': 30, 'Gender': 'Male', 'Item ID': 83, 'Item Name': 'Lifebender', 'Price': 3.51}, {'SN': 'Lirtassa47', 'Age': 27, 'Gender': 'Male', 'Item ID': 25, 'Item Name': 'Hero Cane', 'Price': 1.03}, {'SN': 'Iathenudil29', 'Age': 29, 'Gender': 'Female', 'Item ID': 130, 'Item Name': 'Alpha', 'Price': 1.56}, {'SN': 'Lisirra55', 'Age': 7, 'Gender': 'Female', 'Item ID': 11, 'Item Name': 'Brimstone', 'Price': 2.52}, {'SN': 'Yarolwen77', 'Age': 24, 'Gender': 'Male', 'Item ID': 46, 'Item Name': 'Hopeless Ebon Dualblade', 'Price': 4.75}, {'SN': 'Crausirra42', 'Age': 15, 'Gender': 'Female', 'Item ID': 112, 'Item Name': 'Worldbreaker', 'Price': 3.29}, {'SN': 'Frichast72', 'Age': 23, 'Gender': 'Male', 'Item ID': 87, 'Item Name': 'Deluge, Edge of the West', 'Price': 2.2}, {'SN': 'Eulidru49', 'Age': 16, 'Gender': 'Female', 'Item ID': 33, 'Item Name': 'Curved Axe', 'Price': 1.35}, {'SN': 'Aidain51', 'Age': 26, 'Gender': 'Male', 'Item ID': 81, 'Item Name': 'Dreamkiss', 'Price': 4.06}, {'SN': 'Sida61', 'Age': 24, 'Gender': 'Male', 'Item ID': 40, 'Item Name': 'Second Chance', 'Price': 2.34}, {'SN': 'Chamjasknya65', 'Age': 20, 'Gender': 'Male', 'Item ID': 23, 'Item Name': 'Crucifer', 'Price': 2.77}, {'SN': 'Iri67', 'Age': 15, 'Gender': 'Male', 'Item ID': 128, 'Item Name': 'Blazeguard, Reach of Eternity', 'Price': 4.0}, {'SN': 'Ririp86', 'Age': 20, 'Gender': 'Female', 'Item ID': 91, 'Item Name': 'Celeste', 'Price': 3.71}, {'SN': 'Chadossa56', 'Age': 37, 'Gender': 'Female', 'Item ID': 117, 'Item Name': 'Heartstriker, Legacy of the Light', 'Price': 4.15}, {'SN': 'Chanjaskan89', 'Age': 23, 'Gender': 'Male', 'Item ID': 26, 'Item Name': 'Unholy Wand', 'Price': 1.88}, {'SN': 'Jiskimsda56', 'Age': 21, 'Gender': 'Male', 'Item ID': 93, 'Item Name': 'Apocalyptic Battlescythe', 'Price': 3.91}, {'SN': 'Assistast50', 'Age': 19, 'Gender': 'Male', 'Item ID': 66, 'Item Name': 'Victor Iron Spikes', 'Price': 3.55}, {'SN': 'Euliria52', 'Age': 16, 'Gender': 'Male', 'Item ID': 162, 'Item Name': 'Abyssal Shard', 'Price': 2.04}, {'SN': 'Aerithriaphos45', 'Age': 16, 'Gender': 'Male', 'Item ID': 43, 'Item Name': 'Foul Edge', 'Price': 2.38}, {'SN': 'Ila44', 'Age': 15, 'Gender': 'Male', 'Item ID': 170, 'Item Name': 'Shadowsteel', 'Price': 1.98}, {'SN': 'Sida61', 'Age': 24, 'Gender': 'Male', 'Item ID': 128, 'Item Name': 'Blazeguard, Reach of Eternity', 'Price': 4.0}, {'SN': 'Phyali88', 'Age': 38, 'Gender': 'Male', 'Item ID': 106, 'Item Name': 'Crying Steel Sickle', 'Price': 2.29}, {'SN': 'Iskossa88', 'Age': 30, 'Gender': 'Male', 'Item ID': 72, 'Item Name': \"Winter's Bite\", 'Price': 1.39}, {'SN': 'Aeral85', 'Age': 25, 'Gender': 'Male', 'Item ID': 115, 'Item Name': 'Spectral Diamond Doomblade', 'Price': 4.25}, {'SN': 'Rinallorap73', 'Age': 24, 'Gender': 'Male', 'Item ID': 61, 'Item Name': 'Ragnarok', 'Price': 3.97}, {'SN': 'Chanjask65', 'Age': 36, 'Gender': 'Male', 'Item ID': 5, 'Item Name': 'Putrid Fan', 'Price': 1.32}, {'SN': 'Saedue76', 'Age': 25, 'Gender': 'Male', 'Item ID': 73, 'Item Name': 'Ritual Mace', 'Price': 3.74}, {'SN': 'Assassa38', 'Age': 34, 'Gender': 'Other / Non-Disclosed', 'Item ID': 179, 'Item Name': 'Wolf, Promise of the Moonwalker', 'Price': 1.88}, {'SN': 'Tyaelorgue39', 'Age': 27, 'Gender': 'Female', 'Item ID': 67, 'Item Name': 'Celeste, Incarnation of the Corrupted', 'Price': 2.31}, {'SN': 'Tyananurgue44', 'Age': 22, 'Gender': 'Male', 'Item ID': 84, 'Item Name': 'Arcane Gem', 'Price': 2.23}, {'SN': 'Isketo41', 'Age': 13, 'Gender': 'Male', 'Item ID': 5, 'Item Name': 'Putrid Fan', 'Price': 1.32}, {'SN': 'Sundast87', 'Age': 21, 'Gender': 'Male', 'Item ID': 159, 'Item Name': 'Oathbreaker, Spellblade of Trials', 'Price': 3.01}, {'SN': 'Yadacal26', 'Age': 24, 'Gender': 'Male', 'Item ID': 37, 'Item Name': 'Shadow Strike, Glory of Ending Hope', 'Price': 1.93}, {'SN': 'Ila44', 'Age': 15, 'Gender': 'Male', 'Item ID': 174, 'Item Name': 'Primitive Blade', 'Price': 2.46}, {'SN': 'Ilophos58', 'Age': 9, 'Gender': 'Male', 'Item ID': 103, 'Item Name': 'Singed Scalpel', 'Price': 4.87}, {'SN': 'Marilsanya48', 'Age': 21, 'Gender': 'Male', 'Item ID': 102, 'Item Name': 'Avenger', 'Price': 4.16}, {'SN': 'Phially37', 'Age': 22, 'Gender': 'Female', 'Item ID': 79, 'Item Name': 'Alpha, Oath of Zeal', 'Price': 2.88}, {'SN': 'Iduedru67', 'Age': 25, 'Gender': 'Male', 'Item ID': 169, 'Item Name': 'Interrogator, Blood Blade of the Queen', 'Price': 3.32}, {'SN': 'Yarithsurgue62', 'Age': 7, 'Gender': 'Male', 'Item ID': 82, 'Item Name': 'Nirvana', 'Price': 1.11}, {'SN': 'Aeduera68', 'Age': 26, 'Gender': 'Male', 'Item ID': 39, 'Item Name': 'Betrayal, Whisper of Grieving Widows', 'Price': 2.35}, {'SN': 'Saidairiaphos61', 'Age': 29, 'Gender': 'Male', 'Item ID': 18, 'Item Name': 'Torchlight, Bond of Storms', 'Price': 1.77}, {'SN': 'Tillyrin30', 'Age': 20, 'Gender': 'Male', 'Item ID': 69, 'Item Name': 'Frenzy, Defender of the Harvest', 'Price': 1.06}, {'SN': 'Chanosiast43', 'Age': 13, 'Gender': 'Female', 'Item ID': 117, 'Item Name': 'Heartstriker, Legacy of the Light', 'Price': 4.15}, {'SN': 'Quarusrion32', 'Age': 15, 'Gender': 'Male', 'Item ID': 14, 'Item Name': 'Possessed Core', 'Price': 1.59}, {'SN': 'Chamimla73', 'Age': 18, 'Gender': 'Male', 'Item ID': 21, 'Item Name': 'Souleater', 'Price': 3.27}, {'SN': 'Eurith26', 'Age': 25, 'Gender': 'Male', 'Item ID': 139, 'Item Name': 'Mercy, Katana of Dismay', 'Price': 4.37}, {'SN': 'Tyananurgue44', 'Age': 22, 'Gender': 'Male', 'Item ID': 48, 'Item Name': 'Rage, Legacy of the Lone Victor', 'Price': 4.32}, {'SN': 'Iskichinya81', 'Age': 16, 'Gender': 'Male', 'Item ID': 134, 'Item Name': 'Undead Crusader', 'Price': 4.67}, {'SN': 'Hiadanurin36', 'Age': 10, 'Gender': 'Female', 'Item ID': 148, 'Item Name': \"Warmonger, Gift of Suffering's End\", 'Price': 3.96}, {'SN': 'Tyaelly53', 'Age': 20, 'Gender': 'Female', 'Item ID': 106, 'Item Name': 'Crying Steel Sickle', 'Price': 2.29}, {'SN': 'Shidai42', 'Age': 23, 'Gender': 'Female', 'Item ID': 37, 'Item Name': 'Shadow Strike, Glory of Ending Hope', 'Price': 1.93}, {'SN': 'Bartassaya73', 'Age': 16, 'Gender': 'Male', 'Item ID': 8, 'Item Name': 'Purgatory, Gem of Regret', 'Price': 3.91}, {'SN': 'Mindosiasya28', 'Age': 13, 'Gender': 'Male', 'Item ID': 175, 'Item Name': 'Woeful Adamantite Claymore', 'Price': 1.24}, {'SN': 'Ethrusuard41', 'Age': 10, 'Gender': 'Male', 'Item ID': 16, 'Item Name': 'Restored Bauble', 'Price': 3.11}, {'SN': 'Indirrian56', 'Age': 19, 'Gender': 'Male', 'Item ID': 45, 'Item Name': 'Glinting Glass Edge', 'Price': 2.46}, {'SN': 'Sondim68', 'Age': 22, 'Gender': 'Male', 'Item ID': 101, 'Item Name': 'Final Critic', 'Price': 4.62}, {'SN': 'Tyadaru49', 'Age': 25, 'Gender': 'Male', 'Item ID': 56, 'Item Name': 'Foul Titanium Battle Axe', 'Price': 4.33}, {'SN': 'Cosadar58', 'Age': 35, 'Gender': 'Female', 'Item ID': 93, 'Item Name': 'Apocalyptic Battlescythe', 'Price': 3.91}, {'SN': 'Farusrian86', 'Age': 19, 'Gender': 'Male', 'Item ID': 154, 'Item Name': 'Feral Katana', 'Price': 2.19}, {'SN': 'Leyirra83', 'Age': 24, 'Gender': 'Male', 'Item ID': 145, 'Item Name': 'Fiery Glass Crusader', 'Price': 4.45}, {'SN': 'Inguron55', 'Age': 26, 'Gender': 'Male', 'Item ID': 84, 'Item Name': 'Arcane Gem', 'Price': 2.23}, {'SN': 'Haedasu65', 'Age': 20, 'Gender': 'Male', 'Item ID': 134, 'Item Name': 'Undead Crusader', 'Price': 4.67}, {'SN': 'Ialistidru50', 'Age': 21, 'Gender': 'Male', 'Item ID': 130, 'Item Name': 'Alpha', 'Price': 1.56}, {'SN': 'Sweecossa42', 'Age': 20, 'Gender': 'Male', 'Item ID': 79, 'Item Name': 'Alpha, Oath of Zeal', 'Price': 2.88}, {'SN': 'Ralasti48', 'Age': 35, 'Gender': 'Male', 'Item ID': 34, 'Item Name': 'Retribution Axe', 'Price': 4.14}, {'SN': 'Lamon28', 'Age': 32, 'Gender': 'Male', 'Item ID': 52, 'Item Name': 'Hatred', 'Price': 4.39}, {'SN': 'Isri49', 'Age': 15, 'Gender': 'Male', 'Item ID': 120, 'Item Name': 'Agatha', 'Price': 1.91}, {'SN': 'Frichassala85', 'Age': 21, 'Gender': 'Male', 'Item ID': 114, 'Item Name': 'Yearning Mageblade', 'Price': 1.79}, {'SN': 'Eollym91', 'Age': 23, 'Gender': 'Male', 'Item ID': 86, 'Item Name': 'Stormfury Lantern', 'Price': 1.28}, {'SN': 'Lisjasksda68', 'Age': 26, 'Gender': 'Female', 'Item ID': 179, 'Item Name': 'Wolf, Promise of the Moonwalker', 'Price': 1.88}, {'SN': 'Yalostiphos68', 'Age': 15, 'Gender': 'Female', 'Item ID': 116, 'Item Name': 'Renewed Skeletal Katana', 'Price': 2.37}, {'SN': 'Thryallym62', 'Age': 20, 'Gender': 'Male', 'Item ID': 4, 'Item Name': \"Bloodlord's Fetish\", 'Price': 2.28}, {'SN': 'Sondastan54', 'Age': 31, 'Gender': 'Male', 'Item ID': 104, 'Item Name': \"Gladiator's Glaive\", 'Price': 1.36}, {'SN': 'Ailaesuir66', 'Age': 22, 'Gender': 'Female', 'Item ID': 179, 'Item Name': 'Wolf, Promise of the Moonwalker', 'Price': 1.88}, {'SN': 'Siasri67', 'Age': 22, 'Gender': 'Male', 'Item ID': 6, 'Item Name': 'Rusty Skull', 'Price': 1.2}, {'SN': 'Seosri62', 'Age': 35, 'Gender': 'Male', 'Item ID': 11, 'Item Name': 'Brimstone', 'Price': 2.52}, {'SN': 'Ryastycal90', 'Age': 20, 'Gender': 'Male', 'Item ID': 122, 'Item Name': 'Unending Tyranny', 'Price': 1.21}, {'SN': 'Chanirrasta87', 'Age': 19, 'Gender': 'Male', 'Item ID': 87, 'Item Name': 'Deluge, Edge of the West', 'Price': 2.2}, {'SN': 'Aerithllora36', 'Age': 29, 'Gender': 'Male', 'Item ID': 81, 'Item Name': 'Dreamkiss', 'Price': 4.06}, {'SN': 'Raeduerin33', 'Age': 28, 'Gender': 'Male', 'Item ID': 175, 'Item Name': 'Woeful Adamantite Claymore', 'Price': 1.24}, {'SN': 'Lisosiast26', 'Age': 36, 'Gender': 'Male', 'Item ID': 52, 'Item Name': 'Hatred', 'Price': 4.39}, {'SN': 'Eurisuru25', 'Age': 27, 'Gender': 'Other / Non-Disclosed', 'Item ID': 48, 'Item Name': 'Rage, Legacy of the Lone Victor', 'Price': 4.32}, {'SN': 'Assassasda84', 'Age': 25, 'Gender': 'Male', 'Item ID': 70, 'Item Name': \"Hope's End\", 'Price': 3.89}, {'SN': 'Aerithnucal56', 'Age': 15, 'Gender': 'Male', 'Item ID': 13, 'Item Name': 'Serenity', 'Price': 1.49}, {'SN': 'Nitherian58', 'Age': 22, 'Gender': 'Female', 'Item ID': 84, 'Item Name': 'Arcane Gem', 'Price': 2.23}, {'SN': 'Hailaphos89', 'Age': 20, 'Gender': 'Male', 'Item ID': 122, 'Item Name': 'Unending Tyranny', 'Price': 1.21}, {'SN': 'Chamucosda93', 'Age': 21, 'Gender': 'Male', 'Item ID': 158, 'Item Name': 'Darkheart, Butcher of the Champion', 'Price': 3.56}, {'SN': 'Frichilsasya78', 'Age': 24, 'Gender': 'Male', 'Item ID': 73, 'Item Name': 'Ritual Mace', 'Price': 3.74}, {'SN': 'Aenasu69', 'Age': 22, 'Gender': 'Male', 'Item ID': 141, 'Item Name': 'Persuasion', 'Price': 3.27}, {'SN': 'Lassista97', 'Age': 24, 'Gender': 'Male', 'Item ID': 25, 'Item Name': 'Hero Cane', 'Price': 1.03}, {'SN': 'Sidap51', 'Age': 15, 'Gender': 'Male', 'Item ID': 31, 'Item Name': 'Trickster', 'Price': 2.07}, {'SN': 'Chamadarsda63', 'Age': 21, 'Gender': 'Male', 'Item ID': 44, 'Item Name': 'Bonecarvin Battle Axe', 'Price': 2.46}, {'SN': 'Lassassast73', 'Age': 24, 'Gender': 'Male', 'Item ID': 123, 'Item Name': \"Twilight's Carver\", 'Price': 1.14}, {'SN': 'Eural50', 'Age': 22, 'Gender': 'Male', 'Item ID': 98, 'Item Name': 'Deadline, Voice Of Subtlety', 'Price': 3.62}, {'SN': 'Lirtossa78', 'Age': 14, 'Gender': 'Male', 'Item ID': 104, 'Item Name': \"Gladiator's Glaive\", 'Price': 1.36}, {'SN': 'Tillyrin30', 'Age': 20, 'Gender': 'Male', 'Item ID': 117, 'Item Name': 'Heartstriker, Legacy of the Light', 'Price': 4.15}, {'SN': 'Quelaton80', 'Age': 20, 'Gender': 'Male', 'Item ID': 75, 'Item Name': 'Brutality Ivory Warmace', 'Price': 1.72}, {'SN': 'Alim85', 'Age': 23, 'Gender': 'Female', 'Item ID': 107, 'Item Name': 'Splitter, Foe Of Subtlety', 'Price': 3.61}]\n"
     ]
    }
   ],
   "source": [
    "#This is a round-about way of uploading the data I used to start.\n",
    "with open(\"../Weel-04-Pandas/Instructions/HeroesOfPymoli/purchase_data.json\") as json_data:\n",
    "    fantasy_data = json.load(json_data)\n",
    "    print(fantasy_data)"
   ]
  },
  {
   "cell_type": "code",
   "execution_count": 12,
   "metadata": {},
   "outputs": [
    {
     "name": "stdout",
     "output_type": "stream",
     "text": [
      "<class 'list'>\n"
     ]
    }
   ],
   "source": [
    "print(type(fantasy_data))\n",
    "#This is a list. It would be better to work with a dictionary or dataframe instead of an array."
   ]
  },
  {
   "cell_type": "code",
   "execution_count": 13,
   "metadata": {},
   "outputs": [
    {
     "ename": "TypeError",
     "evalue": "an integer is required (got type str)",
     "output_type": "error",
     "traceback": [
      "\u001b[1;31m---------------------------------------------------------------------------\u001b[0m",
      "\u001b[1;31mTypeError\u001b[0m                                 Traceback (most recent call last)",
      "\u001b[1;32m<ipython-input-13-6fe03058bf9f>\u001b[0m in \u001b[0;36m<module>\u001b[1;34m()\u001b[0m\n\u001b[0;32m      1\u001b[0m \u001b[1;31m#Tried to convert json to csv file for easier manipulation. Probably a weak attempt.\u001b[0m\u001b[1;33m\u001b[0m\u001b[1;33m\u001b[0m\u001b[0m\n\u001b[1;32m----> 2\u001b[1;33m \u001b[0mfantasy_data2\u001b[0m \u001b[1;33m=\u001b[0m \u001b[0mcsv\u001b[0m\u001b[1;33m.\u001b[0m\u001b[0mwriter\u001b[0m\u001b[1;33m(\u001b[0m\u001b[0mopen\u001b[0m\u001b[1;33m(\u001b[0m\u001b[1;34m\"..//Weel-04-Pandas//Instructions//HeroesOfPymoli//purchase_data.json\"\u001b[0m\u001b[1;33m,\u001b[0m \u001b[1;34m\"wb+\"\u001b[0m\u001b[1;33m,\u001b[0m \u001b[1;34m\"r\"\u001b[0m\u001b[1;33m,\u001b[0m \u001b[1;34m\"w\"\u001b[0m\u001b[1;33m,\u001b[0m \u001b[0mencoding\u001b[0m \u001b[1;33m=\u001b[0m \u001b[1;34m\"utf-8\"\u001b[0m\u001b[1;33m)\u001b[0m\u001b[1;33m)\u001b[0m\u001b[1;33m\u001b[0m\u001b[0m\n\u001b[0m\u001b[0;32m      3\u001b[0m \u001b[1;33m\u001b[0m\u001b[0m\n\u001b[0;32m      4\u001b[0m \u001b[1;31m#This wasn't working so I explored the vast internet horizon and discovered a json to csv converter.\u001b[0m\u001b[1;33m\u001b[0m\u001b[1;33m\u001b[0m\u001b[0m\n\u001b[0;32m      5\u001b[0m \u001b[1;31m#Creating a json to csv converter could be a future mini-project\u001b[0m\u001b[1;33m\u001b[0m\u001b[1;33m\u001b[0m\u001b[0m\n",
      "\u001b[1;31mTypeError\u001b[0m: an integer is required (got type str)"
     ]
    }
   ],
   "source": [
    "#Tried to convert json to csv file for easier manipulation. Probably a weak attempt. \n",
    "fantasy_data2 = csv.writer(open(\"..//Weel-04-Pandas//Instructions//HeroesOfPymoli//purchase_data.json\", \"wb+\", \"r\", \"w\", encoding = \"utf-8\"))\n",
    "\n",
    "#This wasn't working so I explored the vast internet horizon and discovered a json to csv converter.\n",
    "#Creating a json to csv converter could be a future mini-project"
   ]
  },
  {
   "cell_type": "code",
   "execution_count": 14,
   "metadata": {},
   "outputs": [
    {
     "ename": "NameError",
     "evalue": "name 'fantasy_df' is not defined",
     "output_type": "error",
     "traceback": [
      "\u001b[1;31m---------------------------------------------------------------------------\u001b[0m",
      "\u001b[1;31mNameError\u001b[0m                                 Traceback (most recent call last)",
      "\u001b[1;32m<ipython-input-14-44a193d10297>\u001b[0m in \u001b[0;36m<module>\u001b[1;34m()\u001b[0m\n\u001b[0;32m      1\u001b[0m \u001b[1;31m#with open(\"../Weel-04-Pandas/Instructions/HeroesOfPymoli/purchase_data.json\") as json_data:\u001b[0m\u001b[1;33m\u001b[0m\u001b[1;33m\u001b[0m\u001b[0m\n\u001b[0;32m      2\u001b[0m \u001b[0mjson_data\u001b[0m \u001b[1;33m=\u001b[0m \u001b[0mopen\u001b[0m\u001b[1;33m(\u001b[0m\u001b[1;34m\"../Weel-04-Pandas/Instructions/HeroesOfPymoli/purchase_data.json\"\u001b[0m\u001b[1;33m,\u001b[0m \u001b[1;34m\"r\"\u001b[0m\u001b[1;33m,\u001b[0m \u001b[0mencoding\u001b[0m \u001b[1;33m=\u001b[0m \u001b[1;34m\"utf-8\"\u001b[0m\u001b[1;33m)\u001b[0m\u001b[1;33m\u001b[0m\u001b[0m\n\u001b[1;32m----> 3\u001b[1;33m \u001b[0mjson_data\u001b[0m \u001b[1;33m=\u001b[0m \u001b[0mlist\u001b[0m\u001b[1;33m(\u001b[0m\u001b[0mfantasy_df\u001b[0m\u001b[1;33m)\u001b[0m\u001b[1;33m\u001b[0m\u001b[0m\n\u001b[0m\u001b[0;32m      4\u001b[0m     \u001b[1;31m#fanstasy_data = json.load(json_data)[0]\u001b[0m\u001b[1;33m\u001b[0m\u001b[1;33m\u001b[0m\u001b[0m\n\u001b[0;32m      5\u001b[0m \u001b[0mprint\u001b[0m\u001b[1;33m(\u001b[0m\u001b[0mfantasy_data\u001b[0m\u001b[1;33m)\u001b[0m\u001b[1;33m\u001b[0m\u001b[0m\n",
      "\u001b[1;31mNameError\u001b[0m: name 'fantasy_df' is not defined"
     ]
    }
   ],
   "source": [
    "#with open(\"../Weel-04-Pandas/Instructions/HeroesOfPymoli/purchase_data.json\") as json_data:\n",
    "json_data = open(\"../Weel-04-Pandas/Instructions/HeroesOfPymoli/purchase_data.json\", \"r\", encoding = \"utf-8\")\n",
    "json_data = list(fantasy_df)\n",
    "    #fanstasy_data = json.load(json_data)[0]\n",
    "print(fantasy_data)"
   ]
  },
  {
   "cell_type": "code",
   "execution_count": 15,
   "metadata": {},
   "outputs": [
    {
     "data": {
      "text/html": [
       "<div>\n",
       "<style>\n",
       "    .dataframe thead tr:only-child th {\n",
       "        text-align: right;\n",
       "    }\n",
       "\n",
       "    .dataframe thead th {\n",
       "        text-align: left;\n",
       "    }\n",
       "\n",
       "    .dataframe tbody tr th {\n",
       "        vertical-align: top;\n",
       "    }\n",
       "</style>\n",
       "<table border=\"1\" class=\"dataframe\">\n",
       "  <thead>\n",
       "    <tr style=\"text-align: right;\">\n",
       "      <th></th>\n",
       "      <th>SN</th>\n",
       "      <th>Age</th>\n",
       "      <th>Gender</th>\n",
       "      <th>Item ID</th>\n",
       "      <th>Item Name</th>\n",
       "      <th>Price</th>\n",
       "    </tr>\n",
       "  </thead>\n",
       "  <tbody>\n",
       "    <tr>\n",
       "      <th>0</th>\n",
       "      <td>Aelalis34</td>\n",
       "      <td>38</td>\n",
       "      <td>Male</td>\n",
       "      <td>165</td>\n",
       "      <td>Bone Crushing Silver Skewer</td>\n",
       "      <td>3.37</td>\n",
       "    </tr>\n",
       "    <tr>\n",
       "      <th>1</th>\n",
       "      <td>Eolo46</td>\n",
       "      <td>21</td>\n",
       "      <td>Male</td>\n",
       "      <td>119</td>\n",
       "      <td>Stormbringer, Dark Blade of Ending Misery</td>\n",
       "      <td>2.32</td>\n",
       "    </tr>\n",
       "    <tr>\n",
       "      <th>2</th>\n",
       "      <td>Assastnya25</td>\n",
       "      <td>34</td>\n",
       "      <td>Male</td>\n",
       "      <td>174</td>\n",
       "      <td>Primitive Blade</td>\n",
       "      <td>2.46</td>\n",
       "    </tr>\n",
       "    <tr>\n",
       "      <th>3</th>\n",
       "      <td>Pheusrical25</td>\n",
       "      <td>21</td>\n",
       "      <td>Male</td>\n",
       "      <td>92</td>\n",
       "      <td>Final Critic</td>\n",
       "      <td>1.36</td>\n",
       "    </tr>\n",
       "    <tr>\n",
       "      <th>4</th>\n",
       "      <td>Aela59</td>\n",
       "      <td>23</td>\n",
       "      <td>Male</td>\n",
       "      <td>63</td>\n",
       "      <td>Stormfury Mace</td>\n",
       "      <td>1.27</td>\n",
       "    </tr>\n",
       "  </tbody>\n",
       "</table>\n",
       "</div>"
      ],
      "text/plain": [
       "             SN  Age Gender  Item ID  \\\n",
       "0     Aelalis34   38   Male      165   \n",
       "1        Eolo46   21   Male      119   \n",
       "2   Assastnya25   34   Male      174   \n",
       "3  Pheusrical25   21   Male       92   \n",
       "4        Aela59   23   Male       63   \n",
       "\n",
       "                                   Item Name  Price  \n",
       "0                Bone Crushing Silver Skewer   3.37  \n",
       "1  Stormbringer, Dark Blade of Ending Misery   2.32  \n",
       "2                            Primitive Blade   2.46  \n",
       "3                               Final Critic   1.36  \n",
       "4                             Stormfury Mace   1.27  "
      ]
     },
     "execution_count": 15,
     "metadata": {},
     "output_type": "execute_result"
    }
   ],
   "source": [
    "#upload csv data\n",
    "csv_data = \"../Weel-04-Pandas/codebeautify.csv\"\n",
    "fantasy_data = pd.read_csv(csv_data)\n",
    "fantasy_data.head()"
   ]
  },
  {
   "cell_type": "code",
   "execution_count": 16,
   "metadata": {},
   "outputs": [
    {
     "ename": "ValueError",
     "evalue": "Wrong number of items passed 6, placement implies 1",
     "output_type": "error",
     "traceback": [
      "\u001b[1;31m---------------------------------------------------------------------------\u001b[0m",
      "\u001b[1;31mKeyError\u001b[0m                                  Traceback (most recent call last)",
      "\u001b[1;32m~\\Anaconda3\\lib\\site-packages\\pandas\\core\\indexes\\base.py\u001b[0m in \u001b[0;36mget_loc\u001b[1;34m(self, key, method, tolerance)\u001b[0m\n\u001b[0;32m   2441\u001b[0m             \u001b[1;32mtry\u001b[0m\u001b[1;33m:\u001b[0m\u001b[1;33m\u001b[0m\u001b[0m\n\u001b[1;32m-> 2442\u001b[1;33m                 \u001b[1;32mreturn\u001b[0m \u001b[0mself\u001b[0m\u001b[1;33m.\u001b[0m\u001b[0m_engine\u001b[0m\u001b[1;33m.\u001b[0m\u001b[0mget_loc\u001b[0m\u001b[1;33m(\u001b[0m\u001b[0mkey\u001b[0m\u001b[1;33m)\u001b[0m\u001b[1;33m\u001b[0m\u001b[0m\n\u001b[0m\u001b[0;32m   2443\u001b[0m             \u001b[1;32mexcept\u001b[0m \u001b[0mKeyError\u001b[0m\u001b[1;33m:\u001b[0m\u001b[1;33m\u001b[0m\u001b[0m\n",
      "\u001b[1;32mpandas\\_libs\\index.pyx\u001b[0m in \u001b[0;36mpandas._libs.index.IndexEngine.get_loc\u001b[1;34m()\u001b[0m\n",
      "\u001b[1;32mpandas\\_libs\\index.pyx\u001b[0m in \u001b[0;36mpandas._libs.index.IndexEngine.get_loc\u001b[1;34m()\u001b[0m\n",
      "\u001b[1;32mpandas\\_libs\\hashtable_class_helper.pxi\u001b[0m in \u001b[0;36mpandas._libs.hashtable.PyObjectHashTable.get_item\u001b[1;34m()\u001b[0m\n",
      "\u001b[1;32mpandas\\_libs\\hashtable_class_helper.pxi\u001b[0m in \u001b[0;36mpandas._libs.hashtable.PyObjectHashTable.get_item\u001b[1;34m()\u001b[0m\n",
      "\u001b[1;31mKeyError\u001b[0m: 'SN_identifier'",
      "\nDuring handling of the above exception, another exception occurred:\n",
      "\u001b[1;31mKeyError\u001b[0m                                  Traceback (most recent call last)",
      "\u001b[1;32m~\\Anaconda3\\lib\\site-packages\\pandas\\core\\internals.py\u001b[0m in \u001b[0;36mset\u001b[1;34m(self, item, value, check)\u001b[0m\n\u001b[0;32m   3714\u001b[0m         \u001b[1;32mtry\u001b[0m\u001b[1;33m:\u001b[0m\u001b[1;33m\u001b[0m\u001b[0m\n\u001b[1;32m-> 3715\u001b[1;33m             \u001b[0mloc\u001b[0m \u001b[1;33m=\u001b[0m \u001b[0mself\u001b[0m\u001b[1;33m.\u001b[0m\u001b[0mitems\u001b[0m\u001b[1;33m.\u001b[0m\u001b[0mget_loc\u001b[0m\u001b[1;33m(\u001b[0m\u001b[0mitem\u001b[0m\u001b[1;33m)\u001b[0m\u001b[1;33m\u001b[0m\u001b[0m\n\u001b[0m\u001b[0;32m   3716\u001b[0m         \u001b[1;32mexcept\u001b[0m \u001b[0mKeyError\u001b[0m\u001b[1;33m:\u001b[0m\u001b[1;33m\u001b[0m\u001b[0m\n",
      "\u001b[1;32m~\\Anaconda3\\lib\\site-packages\\pandas\\core\\indexes\\base.py\u001b[0m in \u001b[0;36mget_loc\u001b[1;34m(self, key, method, tolerance)\u001b[0m\n\u001b[0;32m   2443\u001b[0m             \u001b[1;32mexcept\u001b[0m \u001b[0mKeyError\u001b[0m\u001b[1;33m:\u001b[0m\u001b[1;33m\u001b[0m\u001b[0m\n\u001b[1;32m-> 2444\u001b[1;33m                 \u001b[1;32mreturn\u001b[0m \u001b[0mself\u001b[0m\u001b[1;33m.\u001b[0m\u001b[0m_engine\u001b[0m\u001b[1;33m.\u001b[0m\u001b[0mget_loc\u001b[0m\u001b[1;33m(\u001b[0m\u001b[0mself\u001b[0m\u001b[1;33m.\u001b[0m\u001b[0m_maybe_cast_indexer\u001b[0m\u001b[1;33m(\u001b[0m\u001b[0mkey\u001b[0m\u001b[1;33m)\u001b[0m\u001b[1;33m)\u001b[0m\u001b[1;33m\u001b[0m\u001b[0m\n\u001b[0m\u001b[0;32m   2445\u001b[0m \u001b[1;33m\u001b[0m\u001b[0m\n",
      "\u001b[1;32mpandas\\_libs\\index.pyx\u001b[0m in \u001b[0;36mpandas._libs.index.IndexEngine.get_loc\u001b[1;34m()\u001b[0m\n",
      "\u001b[1;32mpandas\\_libs\\index.pyx\u001b[0m in \u001b[0;36mpandas._libs.index.IndexEngine.get_loc\u001b[1;34m()\u001b[0m\n",
      "\u001b[1;32mpandas\\_libs\\hashtable_class_helper.pxi\u001b[0m in \u001b[0;36mpandas._libs.hashtable.PyObjectHashTable.get_item\u001b[1;34m()\u001b[0m\n",
      "\u001b[1;32mpandas\\_libs\\hashtable_class_helper.pxi\u001b[0m in \u001b[0;36mpandas._libs.hashtable.PyObjectHashTable.get_item\u001b[1;34m()\u001b[0m\n",
      "\u001b[1;31mKeyError\u001b[0m: 'SN_identifier'",
      "\nDuring handling of the above exception, another exception occurred:\n",
      "\u001b[1;31mValueError\u001b[0m                                Traceback (most recent call last)",
      "\u001b[1;32m<ipython-input-16-f7a629b55bf0>\u001b[0m in \u001b[0;36m<module>\u001b[1;34m()\u001b[0m\n\u001b[1;32m----> 1\u001b[1;33m \u001b[0mfantasy_data\u001b[0m\u001b[1;33m[\u001b[0m\u001b[1;34m\"SN_identifier\"\u001b[0m\u001b[1;33m]\u001b[0m \u001b[1;33m=\u001b[0m \u001b[0mpd\u001b[0m\u001b[1;33m.\u001b[0m\u001b[0mCategorical\u001b[0m\u001b[1;33m(\u001b[0m\u001b[0mfantasy_data\u001b[0m\u001b[1;33m.\u001b[0m\u001b[0mstack\u001b[0m\u001b[1;33m(\u001b[0m\u001b[1;33m)\u001b[0m\u001b[1;33m)\u001b[0m\u001b[1;33m.\u001b[0m\u001b[0mcodes\u001b[0m\u001b[1;33m.\u001b[0m\u001b[0mreshape\u001b[0m\u001b[1;33m(\u001b[0m\u001b[0mfantasy_data\u001b[0m\u001b[1;33m.\u001b[0m\u001b[0mshape\u001b[0m\u001b[1;33m)\u001b[0m\u001b[1;33m\u001b[0m\u001b[0m\n\u001b[0m",
      "\u001b[1;32m~\\Anaconda3\\lib\\site-packages\\pandas\\core\\frame.py\u001b[0m in \u001b[0;36m__setitem__\u001b[1;34m(self, key, value)\u001b[0m\n\u001b[0;32m   2329\u001b[0m         \u001b[1;32melse\u001b[0m\u001b[1;33m:\u001b[0m\u001b[1;33m\u001b[0m\u001b[0m\n\u001b[0;32m   2330\u001b[0m             \u001b[1;31m# set column\u001b[0m\u001b[1;33m\u001b[0m\u001b[1;33m\u001b[0m\u001b[0m\n\u001b[1;32m-> 2331\u001b[1;33m             \u001b[0mself\u001b[0m\u001b[1;33m.\u001b[0m\u001b[0m_set_item\u001b[0m\u001b[1;33m(\u001b[0m\u001b[0mkey\u001b[0m\u001b[1;33m,\u001b[0m \u001b[0mvalue\u001b[0m\u001b[1;33m)\u001b[0m\u001b[1;33m\u001b[0m\u001b[0m\n\u001b[0m\u001b[0;32m   2332\u001b[0m \u001b[1;33m\u001b[0m\u001b[0m\n\u001b[0;32m   2333\u001b[0m     \u001b[1;32mdef\u001b[0m \u001b[0m_setitem_slice\u001b[0m\u001b[1;33m(\u001b[0m\u001b[0mself\u001b[0m\u001b[1;33m,\u001b[0m \u001b[0mkey\u001b[0m\u001b[1;33m,\u001b[0m \u001b[0mvalue\u001b[0m\u001b[1;33m)\u001b[0m\u001b[1;33m:\u001b[0m\u001b[1;33m\u001b[0m\u001b[0m\n",
      "\u001b[1;32m~\\Anaconda3\\lib\\site-packages\\pandas\\core\\frame.py\u001b[0m in \u001b[0;36m_set_item\u001b[1;34m(self, key, value)\u001b[0m\n\u001b[0;32m   2396\u001b[0m         \u001b[0mself\u001b[0m\u001b[1;33m.\u001b[0m\u001b[0m_ensure_valid_index\u001b[0m\u001b[1;33m(\u001b[0m\u001b[0mvalue\u001b[0m\u001b[1;33m)\u001b[0m\u001b[1;33m\u001b[0m\u001b[0m\n\u001b[0;32m   2397\u001b[0m         \u001b[0mvalue\u001b[0m \u001b[1;33m=\u001b[0m \u001b[0mself\u001b[0m\u001b[1;33m.\u001b[0m\u001b[0m_sanitize_column\u001b[0m\u001b[1;33m(\u001b[0m\u001b[0mkey\u001b[0m\u001b[1;33m,\u001b[0m \u001b[0mvalue\u001b[0m\u001b[1;33m)\u001b[0m\u001b[1;33m\u001b[0m\u001b[0m\n\u001b[1;32m-> 2398\u001b[1;33m         \u001b[0mNDFrame\u001b[0m\u001b[1;33m.\u001b[0m\u001b[0m_set_item\u001b[0m\u001b[1;33m(\u001b[0m\u001b[0mself\u001b[0m\u001b[1;33m,\u001b[0m \u001b[0mkey\u001b[0m\u001b[1;33m,\u001b[0m \u001b[0mvalue\u001b[0m\u001b[1;33m)\u001b[0m\u001b[1;33m\u001b[0m\u001b[0m\n\u001b[0m\u001b[0;32m   2399\u001b[0m \u001b[1;33m\u001b[0m\u001b[0m\n\u001b[0;32m   2400\u001b[0m         \u001b[1;31m# check if we are modifying a copy\u001b[0m\u001b[1;33m\u001b[0m\u001b[1;33m\u001b[0m\u001b[0m\n",
      "\u001b[1;32m~\\Anaconda3\\lib\\site-packages\\pandas\\core\\generic.py\u001b[0m in \u001b[0;36m_set_item\u001b[1;34m(self, key, value)\u001b[0m\n\u001b[0;32m   1757\u001b[0m \u001b[1;33m\u001b[0m\u001b[0m\n\u001b[0;32m   1758\u001b[0m     \u001b[1;32mdef\u001b[0m \u001b[0m_set_item\u001b[0m\u001b[1;33m(\u001b[0m\u001b[0mself\u001b[0m\u001b[1;33m,\u001b[0m \u001b[0mkey\u001b[0m\u001b[1;33m,\u001b[0m \u001b[0mvalue\u001b[0m\u001b[1;33m)\u001b[0m\u001b[1;33m:\u001b[0m\u001b[1;33m\u001b[0m\u001b[0m\n\u001b[1;32m-> 1759\u001b[1;33m         \u001b[0mself\u001b[0m\u001b[1;33m.\u001b[0m\u001b[0m_data\u001b[0m\u001b[1;33m.\u001b[0m\u001b[0mset\u001b[0m\u001b[1;33m(\u001b[0m\u001b[0mkey\u001b[0m\u001b[1;33m,\u001b[0m \u001b[0mvalue\u001b[0m\u001b[1;33m)\u001b[0m\u001b[1;33m\u001b[0m\u001b[0m\n\u001b[0m\u001b[0;32m   1760\u001b[0m         \u001b[0mself\u001b[0m\u001b[1;33m.\u001b[0m\u001b[0m_clear_item_cache\u001b[0m\u001b[1;33m(\u001b[0m\u001b[1;33m)\u001b[0m\u001b[1;33m\u001b[0m\u001b[0m\n\u001b[0;32m   1761\u001b[0m \u001b[1;33m\u001b[0m\u001b[0m\n",
      "\u001b[1;32m~\\Anaconda3\\lib\\site-packages\\pandas\\core\\internals.py\u001b[0m in \u001b[0;36mset\u001b[1;34m(self, item, value, check)\u001b[0m\n\u001b[0;32m   3716\u001b[0m         \u001b[1;32mexcept\u001b[0m \u001b[0mKeyError\u001b[0m\u001b[1;33m:\u001b[0m\u001b[1;33m\u001b[0m\u001b[0m\n\u001b[0;32m   3717\u001b[0m             \u001b[1;31m# This item wasn't present, just insert at end\u001b[0m\u001b[1;33m\u001b[0m\u001b[1;33m\u001b[0m\u001b[0m\n\u001b[1;32m-> 3718\u001b[1;33m             \u001b[0mself\u001b[0m\u001b[1;33m.\u001b[0m\u001b[0minsert\u001b[0m\u001b[1;33m(\u001b[0m\u001b[0mlen\u001b[0m\u001b[1;33m(\u001b[0m\u001b[0mself\u001b[0m\u001b[1;33m.\u001b[0m\u001b[0mitems\u001b[0m\u001b[1;33m)\u001b[0m\u001b[1;33m,\u001b[0m \u001b[0mitem\u001b[0m\u001b[1;33m,\u001b[0m \u001b[0mvalue\u001b[0m\u001b[1;33m)\u001b[0m\u001b[1;33m\u001b[0m\u001b[0m\n\u001b[0m\u001b[0;32m   3719\u001b[0m             \u001b[1;32mreturn\u001b[0m\u001b[1;33m\u001b[0m\u001b[0m\n\u001b[0;32m   3720\u001b[0m \u001b[1;33m\u001b[0m\u001b[0m\n",
      "\u001b[1;32m~\\Anaconda3\\lib\\site-packages\\pandas\\core\\internals.py\u001b[0m in \u001b[0;36minsert\u001b[1;34m(self, loc, item, value, allow_duplicates)\u001b[0m\n\u001b[0;32m   3817\u001b[0m \u001b[1;33m\u001b[0m\u001b[0m\n\u001b[0;32m   3818\u001b[0m         block = make_block(values=value, ndim=self.ndim,\n\u001b[1;32m-> 3819\u001b[1;33m                            placement=slice(loc, loc + 1))\n\u001b[0m\u001b[0;32m   3820\u001b[0m \u001b[1;33m\u001b[0m\u001b[0m\n\u001b[0;32m   3821\u001b[0m         \u001b[1;32mfor\u001b[0m \u001b[0mblkno\u001b[0m\u001b[1;33m,\u001b[0m \u001b[0mcount\u001b[0m \u001b[1;32min\u001b[0m \u001b[0m_fast_count_smallints\u001b[0m\u001b[1;33m(\u001b[0m\u001b[0mself\u001b[0m\u001b[1;33m.\u001b[0m\u001b[0m_blknos\u001b[0m\u001b[1;33m[\u001b[0m\u001b[0mloc\u001b[0m\u001b[1;33m:\u001b[0m\u001b[1;33m]\u001b[0m\u001b[1;33m)\u001b[0m\u001b[1;33m:\u001b[0m\u001b[1;33m\u001b[0m\u001b[0m\n",
      "\u001b[1;32m~\\Anaconda3\\lib\\site-packages\\pandas\\core\\internals.py\u001b[0m in \u001b[0;36mmake_block\u001b[1;34m(values, placement, klass, ndim, dtype, fastpath)\u001b[0m\n\u001b[0;32m   2717\u001b[0m                      placement=placement, dtype=dtype)\n\u001b[0;32m   2718\u001b[0m \u001b[1;33m\u001b[0m\u001b[0m\n\u001b[1;32m-> 2719\u001b[1;33m     \u001b[1;32mreturn\u001b[0m \u001b[0mklass\u001b[0m\u001b[1;33m(\u001b[0m\u001b[0mvalues\u001b[0m\u001b[1;33m,\u001b[0m \u001b[0mndim\u001b[0m\u001b[1;33m=\u001b[0m\u001b[0mndim\u001b[0m\u001b[1;33m,\u001b[0m \u001b[0mfastpath\u001b[0m\u001b[1;33m=\u001b[0m\u001b[0mfastpath\u001b[0m\u001b[1;33m,\u001b[0m \u001b[0mplacement\u001b[0m\u001b[1;33m=\u001b[0m\u001b[0mplacement\u001b[0m\u001b[1;33m)\u001b[0m\u001b[1;33m\u001b[0m\u001b[0m\n\u001b[0m\u001b[0;32m   2720\u001b[0m \u001b[1;33m\u001b[0m\u001b[0m\n\u001b[0;32m   2721\u001b[0m \u001b[1;31m# TODO: flexible with index=None and/or items=None\u001b[0m\u001b[1;33m\u001b[0m\u001b[1;33m\u001b[0m\u001b[0m\n",
      "\u001b[1;32m~\\Anaconda3\\lib\\site-packages\\pandas\\core\\internals.py\u001b[0m in \u001b[0;36m__init__\u001b[1;34m(self, values, placement, ndim, fastpath)\u001b[0m\n\u001b[0;32m    113\u001b[0m             raise ValueError('Wrong number of items passed %d, placement '\n\u001b[0;32m    114\u001b[0m                              'implies %d' % (len(self.values),\n\u001b[1;32m--> 115\u001b[1;33m                                              len(self.mgr_locs)))\n\u001b[0m\u001b[0;32m    116\u001b[0m \u001b[1;33m\u001b[0m\u001b[0m\n\u001b[0;32m    117\u001b[0m     \u001b[1;33m@\u001b[0m\u001b[0mproperty\u001b[0m\u001b[1;33m\u001b[0m\u001b[0m\n",
      "\u001b[1;31mValueError\u001b[0m: Wrong number of items passed 6, placement implies 1"
     ]
    }
   ],
   "source": [
    "fantasy_data[\"SN_identifier\"] = pd.Categorical(fantasy_data.stack()).codes.reshape(fantasy_data.shape)"
   ]
  },
  {
   "cell_type": "code",
   "execution_count": 17,
   "metadata": {
    "collapsed": true
   },
   "outputs": [],
   "source": [
    "##Total purchase value = total of how much they have spent\n",
    "#User_total_purchase_value = average of price and SN_count\n",
    "\n",
    "#fantasy_data[\"User_total_purchase_value\"] = (fantasy_data['SN_count'] * fantasy_data['Price'] / fantasy_data[\"SN_count\"]"
   ]
  },
  {
   "cell_type": "code",
   "execution_count": 18,
   "metadata": {},
   "outputs": [
    {
     "ename": "KeyError",
     "evalue": "'SN_count'",
     "output_type": "error",
     "traceback": [
      "\u001b[1;31m---------------------------------------------------------------------------\u001b[0m",
      "\u001b[1;31mKeyError\u001b[0m                                  Traceback (most recent call last)",
      "\u001b[1;32m~\\Anaconda3\\lib\\site-packages\\pandas\\core\\indexes\\base.py\u001b[0m in \u001b[0;36mget_loc\u001b[1;34m(self, key, method, tolerance)\u001b[0m\n\u001b[0;32m   2441\u001b[0m             \u001b[1;32mtry\u001b[0m\u001b[1;33m:\u001b[0m\u001b[1;33m\u001b[0m\u001b[0m\n\u001b[1;32m-> 2442\u001b[1;33m                 \u001b[1;32mreturn\u001b[0m \u001b[0mself\u001b[0m\u001b[1;33m.\u001b[0m\u001b[0m_engine\u001b[0m\u001b[1;33m.\u001b[0m\u001b[0mget_loc\u001b[0m\u001b[1;33m(\u001b[0m\u001b[0mkey\u001b[0m\u001b[1;33m)\u001b[0m\u001b[1;33m\u001b[0m\u001b[0m\n\u001b[0m\u001b[0;32m   2443\u001b[0m             \u001b[1;32mexcept\u001b[0m \u001b[0mKeyError\u001b[0m\u001b[1;33m:\u001b[0m\u001b[1;33m\u001b[0m\u001b[0m\n",
      "\u001b[1;32mpandas\\_libs\\index.pyx\u001b[0m in \u001b[0;36mpandas._libs.index.IndexEngine.get_loc\u001b[1;34m()\u001b[0m\n",
      "\u001b[1;32mpandas\\_libs\\index.pyx\u001b[0m in \u001b[0;36mpandas._libs.index.IndexEngine.get_loc\u001b[1;34m()\u001b[0m\n",
      "\u001b[1;32mpandas\\_libs\\hashtable_class_helper.pxi\u001b[0m in \u001b[0;36mpandas._libs.hashtable.PyObjectHashTable.get_item\u001b[1;34m()\u001b[0m\n",
      "\u001b[1;32mpandas\\_libs\\hashtable_class_helper.pxi\u001b[0m in \u001b[0;36mpandas._libs.hashtable.PyObjectHashTable.get_item\u001b[1;34m()\u001b[0m\n",
      "\u001b[1;31mKeyError\u001b[0m: 'SN_count'",
      "\nDuring handling of the above exception, another exception occurred:\n",
      "\u001b[1;31mKeyError\u001b[0m                                  Traceback (most recent call last)",
      "\u001b[1;32m<ipython-input-18-9b80deead270>\u001b[0m in \u001b[0;36m<module>\u001b[1;34m()\u001b[0m\n\u001b[1;32m----> 1\u001b[1;33m \u001b[0mfrequent_buyers\u001b[0m \u001b[1;33m=\u001b[0m \u001b[0mfantasy_data\u001b[0m\u001b[1;33m.\u001b[0m\u001b[0msort_values\u001b[0m\u001b[1;33m(\u001b[0m\u001b[1;33m[\u001b[0m\u001b[1;34m\"SN_count\"\u001b[0m\u001b[1;33m]\u001b[0m\u001b[1;33m,\u001b[0m \u001b[0mascending\u001b[0m\u001b[1;33m=\u001b[0m\u001b[1;32mFalse\u001b[0m\u001b[1;33m)\u001b[0m\u001b[1;33m\u001b[0m\u001b[0m\n\u001b[0m\u001b[0;32m      2\u001b[0m \u001b[0mfrequent_buyers\u001b[0m\u001b[1;33m.\u001b[0m\u001b[0mhead\u001b[0m\u001b[1;33m(\u001b[0m\u001b[1;33m)\u001b[0m\u001b[1;33m\u001b[0m\u001b[0m\n",
      "\u001b[1;32m~\\Anaconda3\\lib\\site-packages\\pandas\\core\\frame.py\u001b[0m in \u001b[0;36msort_values\u001b[1;34m(self, by, axis, ascending, inplace, kind, na_position)\u001b[0m\n\u001b[0;32m   3184\u001b[0m \u001b[1;33m\u001b[0m\u001b[0m\n\u001b[0;32m   3185\u001b[0m             \u001b[0mby\u001b[0m \u001b[1;33m=\u001b[0m \u001b[0mby\u001b[0m\u001b[1;33m[\u001b[0m\u001b[1;36m0\u001b[0m\u001b[1;33m]\u001b[0m\u001b[1;33m\u001b[0m\u001b[0m\n\u001b[1;32m-> 3186\u001b[1;33m             \u001b[0mk\u001b[0m \u001b[1;33m=\u001b[0m \u001b[0mself\u001b[0m\u001b[1;33m.\u001b[0m\u001b[0mxs\u001b[0m\u001b[1;33m(\u001b[0m\u001b[0mby\u001b[0m\u001b[1;33m,\u001b[0m \u001b[0maxis\u001b[0m\u001b[1;33m=\u001b[0m\u001b[0mother_axis\u001b[0m\u001b[1;33m)\u001b[0m\u001b[1;33m.\u001b[0m\u001b[0mvalues\u001b[0m\u001b[1;33m\u001b[0m\u001b[0m\n\u001b[0m\u001b[0;32m   3187\u001b[0m             \u001b[1;32mif\u001b[0m \u001b[0mk\u001b[0m\u001b[1;33m.\u001b[0m\u001b[0mndim\u001b[0m \u001b[1;33m==\u001b[0m \u001b[1;36m2\u001b[0m\u001b[1;33m:\u001b[0m\u001b[1;33m\u001b[0m\u001b[0m\n\u001b[0;32m   3188\u001b[0m \u001b[1;33m\u001b[0m\u001b[0m\n",
      "\u001b[1;32m~\\Anaconda3\\lib\\site-packages\\pandas\\core\\generic.py\u001b[0m in \u001b[0;36mxs\u001b[1;34m(self, key, axis, level, drop_level)\u001b[0m\n\u001b[0;32m   2021\u001b[0m \u001b[1;33m\u001b[0m\u001b[0m\n\u001b[0;32m   2022\u001b[0m         \u001b[1;32mif\u001b[0m \u001b[0maxis\u001b[0m \u001b[1;33m==\u001b[0m \u001b[1;36m1\u001b[0m\u001b[1;33m:\u001b[0m\u001b[1;33m\u001b[0m\u001b[0m\n\u001b[1;32m-> 2023\u001b[1;33m             \u001b[1;32mreturn\u001b[0m \u001b[0mself\u001b[0m\u001b[1;33m[\u001b[0m\u001b[0mkey\u001b[0m\u001b[1;33m]\u001b[0m\u001b[1;33m\u001b[0m\u001b[0m\n\u001b[0m\u001b[0;32m   2024\u001b[0m \u001b[1;33m\u001b[0m\u001b[0m\n\u001b[0;32m   2025\u001b[0m         \u001b[0mself\u001b[0m\u001b[1;33m.\u001b[0m\u001b[0m_consolidate_inplace\u001b[0m\u001b[1;33m(\u001b[0m\u001b[1;33m)\u001b[0m\u001b[1;33m\u001b[0m\u001b[0m\n",
      "\u001b[1;32m~\\Anaconda3\\lib\\site-packages\\pandas\\core\\frame.py\u001b[0m in \u001b[0;36m__getitem__\u001b[1;34m(self, key)\u001b[0m\n\u001b[0;32m   1962\u001b[0m             \u001b[1;32mreturn\u001b[0m \u001b[0mself\u001b[0m\u001b[1;33m.\u001b[0m\u001b[0m_getitem_multilevel\u001b[0m\u001b[1;33m(\u001b[0m\u001b[0mkey\u001b[0m\u001b[1;33m)\u001b[0m\u001b[1;33m\u001b[0m\u001b[0m\n\u001b[0;32m   1963\u001b[0m         \u001b[1;32melse\u001b[0m\u001b[1;33m:\u001b[0m\u001b[1;33m\u001b[0m\u001b[0m\n\u001b[1;32m-> 1964\u001b[1;33m             \u001b[1;32mreturn\u001b[0m \u001b[0mself\u001b[0m\u001b[1;33m.\u001b[0m\u001b[0m_getitem_column\u001b[0m\u001b[1;33m(\u001b[0m\u001b[0mkey\u001b[0m\u001b[1;33m)\u001b[0m\u001b[1;33m\u001b[0m\u001b[0m\n\u001b[0m\u001b[0;32m   1965\u001b[0m \u001b[1;33m\u001b[0m\u001b[0m\n\u001b[0;32m   1966\u001b[0m     \u001b[1;32mdef\u001b[0m \u001b[0m_getitem_column\u001b[0m\u001b[1;33m(\u001b[0m\u001b[0mself\u001b[0m\u001b[1;33m,\u001b[0m \u001b[0mkey\u001b[0m\u001b[1;33m)\u001b[0m\u001b[1;33m:\u001b[0m\u001b[1;33m\u001b[0m\u001b[0m\n",
      "\u001b[1;32m~\\Anaconda3\\lib\\site-packages\\pandas\\core\\frame.py\u001b[0m in \u001b[0;36m_getitem_column\u001b[1;34m(self, key)\u001b[0m\n\u001b[0;32m   1969\u001b[0m         \u001b[1;31m# get column\u001b[0m\u001b[1;33m\u001b[0m\u001b[1;33m\u001b[0m\u001b[0m\n\u001b[0;32m   1970\u001b[0m         \u001b[1;32mif\u001b[0m \u001b[0mself\u001b[0m\u001b[1;33m.\u001b[0m\u001b[0mcolumns\u001b[0m\u001b[1;33m.\u001b[0m\u001b[0mis_unique\u001b[0m\u001b[1;33m:\u001b[0m\u001b[1;33m\u001b[0m\u001b[0m\n\u001b[1;32m-> 1971\u001b[1;33m             \u001b[1;32mreturn\u001b[0m \u001b[0mself\u001b[0m\u001b[1;33m.\u001b[0m\u001b[0m_get_item_cache\u001b[0m\u001b[1;33m(\u001b[0m\u001b[0mkey\u001b[0m\u001b[1;33m)\u001b[0m\u001b[1;33m\u001b[0m\u001b[0m\n\u001b[0m\u001b[0;32m   1972\u001b[0m \u001b[1;33m\u001b[0m\u001b[0m\n\u001b[0;32m   1973\u001b[0m         \u001b[1;31m# duplicate columns & possible reduce dimensionality\u001b[0m\u001b[1;33m\u001b[0m\u001b[1;33m\u001b[0m\u001b[0m\n",
      "\u001b[1;32m~\\Anaconda3\\lib\\site-packages\\pandas\\core\\generic.py\u001b[0m in \u001b[0;36m_get_item_cache\u001b[1;34m(self, item)\u001b[0m\n\u001b[0;32m   1643\u001b[0m         \u001b[0mres\u001b[0m \u001b[1;33m=\u001b[0m \u001b[0mcache\u001b[0m\u001b[1;33m.\u001b[0m\u001b[0mget\u001b[0m\u001b[1;33m(\u001b[0m\u001b[0mitem\u001b[0m\u001b[1;33m)\u001b[0m\u001b[1;33m\u001b[0m\u001b[0m\n\u001b[0;32m   1644\u001b[0m         \u001b[1;32mif\u001b[0m \u001b[0mres\u001b[0m \u001b[1;32mis\u001b[0m \u001b[1;32mNone\u001b[0m\u001b[1;33m:\u001b[0m\u001b[1;33m\u001b[0m\u001b[0m\n\u001b[1;32m-> 1645\u001b[1;33m             \u001b[0mvalues\u001b[0m \u001b[1;33m=\u001b[0m \u001b[0mself\u001b[0m\u001b[1;33m.\u001b[0m\u001b[0m_data\u001b[0m\u001b[1;33m.\u001b[0m\u001b[0mget\u001b[0m\u001b[1;33m(\u001b[0m\u001b[0mitem\u001b[0m\u001b[1;33m)\u001b[0m\u001b[1;33m\u001b[0m\u001b[0m\n\u001b[0m\u001b[0;32m   1646\u001b[0m             \u001b[0mres\u001b[0m \u001b[1;33m=\u001b[0m \u001b[0mself\u001b[0m\u001b[1;33m.\u001b[0m\u001b[0m_box_item_values\u001b[0m\u001b[1;33m(\u001b[0m\u001b[0mitem\u001b[0m\u001b[1;33m,\u001b[0m \u001b[0mvalues\u001b[0m\u001b[1;33m)\u001b[0m\u001b[1;33m\u001b[0m\u001b[0m\n\u001b[0;32m   1647\u001b[0m             \u001b[0mcache\u001b[0m\u001b[1;33m[\u001b[0m\u001b[0mitem\u001b[0m\u001b[1;33m]\u001b[0m \u001b[1;33m=\u001b[0m \u001b[0mres\u001b[0m\u001b[1;33m\u001b[0m\u001b[0m\n",
      "\u001b[1;32m~\\Anaconda3\\lib\\site-packages\\pandas\\core\\internals.py\u001b[0m in \u001b[0;36mget\u001b[1;34m(self, item, fastpath)\u001b[0m\n\u001b[0;32m   3588\u001b[0m \u001b[1;33m\u001b[0m\u001b[0m\n\u001b[0;32m   3589\u001b[0m             \u001b[1;32mif\u001b[0m \u001b[1;32mnot\u001b[0m \u001b[0misnull\u001b[0m\u001b[1;33m(\u001b[0m\u001b[0mitem\u001b[0m\u001b[1;33m)\u001b[0m\u001b[1;33m:\u001b[0m\u001b[1;33m\u001b[0m\u001b[0m\n\u001b[1;32m-> 3590\u001b[1;33m                 \u001b[0mloc\u001b[0m \u001b[1;33m=\u001b[0m \u001b[0mself\u001b[0m\u001b[1;33m.\u001b[0m\u001b[0mitems\u001b[0m\u001b[1;33m.\u001b[0m\u001b[0mget_loc\u001b[0m\u001b[1;33m(\u001b[0m\u001b[0mitem\u001b[0m\u001b[1;33m)\u001b[0m\u001b[1;33m\u001b[0m\u001b[0m\n\u001b[0m\u001b[0;32m   3591\u001b[0m             \u001b[1;32melse\u001b[0m\u001b[1;33m:\u001b[0m\u001b[1;33m\u001b[0m\u001b[0m\n\u001b[0;32m   3592\u001b[0m                 \u001b[0mindexer\u001b[0m \u001b[1;33m=\u001b[0m \u001b[0mnp\u001b[0m\u001b[1;33m.\u001b[0m\u001b[0marange\u001b[0m\u001b[1;33m(\u001b[0m\u001b[0mlen\u001b[0m\u001b[1;33m(\u001b[0m\u001b[0mself\u001b[0m\u001b[1;33m.\u001b[0m\u001b[0mitems\u001b[0m\u001b[1;33m)\u001b[0m\u001b[1;33m)\u001b[0m\u001b[1;33m[\u001b[0m\u001b[0misnull\u001b[0m\u001b[1;33m(\u001b[0m\u001b[0mself\u001b[0m\u001b[1;33m.\u001b[0m\u001b[0mitems\u001b[0m\u001b[1;33m)\u001b[0m\u001b[1;33m]\u001b[0m\u001b[1;33m\u001b[0m\u001b[0m\n",
      "\u001b[1;32m~\\Anaconda3\\lib\\site-packages\\pandas\\core\\indexes\\base.py\u001b[0m in \u001b[0;36mget_loc\u001b[1;34m(self, key, method, tolerance)\u001b[0m\n\u001b[0;32m   2442\u001b[0m                 \u001b[1;32mreturn\u001b[0m \u001b[0mself\u001b[0m\u001b[1;33m.\u001b[0m\u001b[0m_engine\u001b[0m\u001b[1;33m.\u001b[0m\u001b[0mget_loc\u001b[0m\u001b[1;33m(\u001b[0m\u001b[0mkey\u001b[0m\u001b[1;33m)\u001b[0m\u001b[1;33m\u001b[0m\u001b[0m\n\u001b[0;32m   2443\u001b[0m             \u001b[1;32mexcept\u001b[0m \u001b[0mKeyError\u001b[0m\u001b[1;33m:\u001b[0m\u001b[1;33m\u001b[0m\u001b[0m\n\u001b[1;32m-> 2444\u001b[1;33m                 \u001b[1;32mreturn\u001b[0m \u001b[0mself\u001b[0m\u001b[1;33m.\u001b[0m\u001b[0m_engine\u001b[0m\u001b[1;33m.\u001b[0m\u001b[0mget_loc\u001b[0m\u001b[1;33m(\u001b[0m\u001b[0mself\u001b[0m\u001b[1;33m.\u001b[0m\u001b[0m_maybe_cast_indexer\u001b[0m\u001b[1;33m(\u001b[0m\u001b[0mkey\u001b[0m\u001b[1;33m)\u001b[0m\u001b[1;33m)\u001b[0m\u001b[1;33m\u001b[0m\u001b[0m\n\u001b[0m\u001b[0;32m   2445\u001b[0m \u001b[1;33m\u001b[0m\u001b[0m\n\u001b[0;32m   2446\u001b[0m         \u001b[0mindexer\u001b[0m \u001b[1;33m=\u001b[0m \u001b[0mself\u001b[0m\u001b[1;33m.\u001b[0m\u001b[0mget_indexer\u001b[0m\u001b[1;33m(\u001b[0m\u001b[1;33m[\u001b[0m\u001b[0mkey\u001b[0m\u001b[1;33m]\u001b[0m\u001b[1;33m,\u001b[0m \u001b[0mmethod\u001b[0m\u001b[1;33m=\u001b[0m\u001b[0mmethod\u001b[0m\u001b[1;33m,\u001b[0m \u001b[0mtolerance\u001b[0m\u001b[1;33m=\u001b[0m\u001b[0mtolerance\u001b[0m\u001b[1;33m)\u001b[0m\u001b[1;33m\u001b[0m\u001b[0m\n",
      "\u001b[1;32mpandas\\_libs\\index.pyx\u001b[0m in \u001b[0;36mpandas._libs.index.IndexEngine.get_loc\u001b[1;34m()\u001b[0m\n",
      "\u001b[1;32mpandas\\_libs\\index.pyx\u001b[0m in \u001b[0;36mpandas._libs.index.IndexEngine.get_loc\u001b[1;34m()\u001b[0m\n",
      "\u001b[1;32mpandas\\_libs\\hashtable_class_helper.pxi\u001b[0m in \u001b[0;36mpandas._libs.hashtable.PyObjectHashTable.get_item\u001b[1;34m()\u001b[0m\n",
      "\u001b[1;32mpandas\\_libs\\hashtable_class_helper.pxi\u001b[0m in \u001b[0;36mpandas._libs.hashtable.PyObjectHashTable.get_item\u001b[1;34m()\u001b[0m\n",
      "\u001b[1;31mKeyError\u001b[0m: 'SN_count'"
     ]
    }
   ],
   "source": [
    "frequent_buyers = fantasy_data.sort_values([\"SN_count\"], ascending=False)\n",
    "frequent_buyers.head()"
   ]
  },
  {
   "cell_type": "code",
   "execution_count": 19,
   "metadata": {},
   "outputs": [
    {
     "data": {
      "text/html": [
       "<div>\n",
       "<style>\n",
       "    .dataframe thead tr:only-child th {\n",
       "        text-align: right;\n",
       "    }\n",
       "\n",
       "    .dataframe thead th {\n",
       "        text-align: left;\n",
       "    }\n",
       "\n",
       "    .dataframe tbody tr th {\n",
       "        vertical-align: top;\n",
       "    }\n",
       "</style>\n",
       "<table border=\"1\" class=\"dataframe\">\n",
       "  <thead>\n",
       "    <tr style=\"text-align: right;\">\n",
       "      <th></th>\n",
       "      <th>SN</th>\n",
       "      <th>Age</th>\n",
       "      <th>Gender</th>\n",
       "      <th>Item ID</th>\n",
       "      <th>Item Name</th>\n",
       "      <th>Price</th>\n",
       "    </tr>\n",
       "  </thead>\n",
       "  <tbody>\n",
       "    <tr>\n",
       "      <th>83</th>\n",
       "      <td>Frichaststa61</td>\n",
       "      <td>25</td>\n",
       "      <td>Female</td>\n",
       "      <td>32</td>\n",
       "      <td>Orenmir</td>\n",
       "      <td>4.95</td>\n",
       "    </tr>\n",
       "    <tr>\n",
       "      <th>50</th>\n",
       "      <td>Saistyphos30</td>\n",
       "      <td>32</td>\n",
       "      <td>Female</td>\n",
       "      <td>32</td>\n",
       "      <td>Orenmir</td>\n",
       "      <td>4.95</td>\n",
       "    </tr>\n",
       "    <tr>\n",
       "      <th>657</th>\n",
       "      <td>Tyarithn67</td>\n",
       "      <td>28</td>\n",
       "      <td>Male</td>\n",
       "      <td>32</td>\n",
       "      <td>Orenmir</td>\n",
       "      <td>4.95</td>\n",
       "    </tr>\n",
       "    <tr>\n",
       "      <th>388</th>\n",
       "      <td>Palurrian69</td>\n",
       "      <td>15</td>\n",
       "      <td>Male</td>\n",
       "      <td>32</td>\n",
       "      <td>Orenmir</td>\n",
       "      <td>4.95</td>\n",
       "    </tr>\n",
       "    <tr>\n",
       "      <th>227</th>\n",
       "      <td>Qiluard68</td>\n",
       "      <td>20</td>\n",
       "      <td>Male</td>\n",
       "      <td>32</td>\n",
       "      <td>Orenmir</td>\n",
       "      <td>4.95</td>\n",
       "    </tr>\n",
       "  </tbody>\n",
       "</table>\n",
       "</div>"
      ],
      "text/plain": [
       "                SN  Age  Gender  Item ID Item Name  Price\n",
       "83   Frichaststa61   25  Female       32   Orenmir   4.95\n",
       "50    Saistyphos30   32  Female       32   Orenmir   4.95\n",
       "657     Tyarithn67   28    Male       32   Orenmir   4.95\n",
       "388    Palurrian69   15    Male       32   Orenmir   4.95\n",
       "227      Qiluard68   20    Male       32   Orenmir   4.95"
      ]
     },
     "execution_count": 19,
     "metadata": {},
     "output_type": "execute_result"
    }
   ],
   "source": [
    "price_sorted = fantasy_data.sort_values([\"Price\"], ascending=False)\n",
    "price_sorted.head()\n",
    "#most expensive item is 4.95. "
   ]
  },
  {
   "cell_type": "code",
   "execution_count": 20,
   "metadata": {},
   "outputs": [
    {
     "name": "stdout",
     "output_type": "stream",
     "text": [
      "14.850000000000001\n"
     ]
    }
   ],
   "source": [
    "print(4.95 * 3)\n",
    "#If someone purchased 3 expensive items, their total purchase value would exceed Sondastan54's"
   ]
  },
  {
   "cell_type": "code",
   "execution_count": 21,
   "metadata": {},
   "outputs": [
    {
     "data": {
      "text/html": [
       "<div>\n",
       "<style>\n",
       "    .dataframe thead tr:only-child th {\n",
       "        text-align: right;\n",
       "    }\n",
       "\n",
       "    .dataframe thead th {\n",
       "        text-align: left;\n",
       "    }\n",
       "\n",
       "    .dataframe tbody tr th {\n",
       "        vertical-align: top;\n",
       "    }\n",
       "</style>\n",
       "<table border=\"1\" class=\"dataframe\">\n",
       "  <thead>\n",
       "    <tr style=\"text-align: right;\">\n",
       "      <th></th>\n",
       "      <th>SN</th>\n",
       "      <th>Age</th>\n",
       "      <th>Gender</th>\n",
       "      <th>Item ID</th>\n",
       "      <th>Item Name</th>\n",
       "      <th>Price</th>\n",
       "    </tr>\n",
       "  </thead>\n",
       "  <tbody>\n",
       "    <tr>\n",
       "      <th>79</th>\n",
       "      <td>Undirrala66</td>\n",
       "      <td>29</td>\n",
       "      <td>Male</td>\n",
       "      <td>144</td>\n",
       "      <td>Blood Infused Guardian</td>\n",
       "      <td>2.86</td>\n",
       "    </tr>\n",
       "    <tr>\n",
       "      <th>107</th>\n",
       "      <td>Undirrala66</td>\n",
       "      <td>29</td>\n",
       "      <td>Male</td>\n",
       "      <td>115</td>\n",
       "      <td>Spectral Diamond Doomblade</td>\n",
       "      <td>4.25</td>\n",
       "    </tr>\n",
       "    <tr>\n",
       "      <th>131</th>\n",
       "      <td>Undirrala66</td>\n",
       "      <td>29</td>\n",
       "      <td>Male</td>\n",
       "      <td>62</td>\n",
       "      <td>Piece Maker</td>\n",
       "      <td>4.36</td>\n",
       "    </tr>\n",
       "    <tr>\n",
       "      <th>537</th>\n",
       "      <td>Undirrala66</td>\n",
       "      <td>29</td>\n",
       "      <td>Male</td>\n",
       "      <td>18</td>\n",
       "      <td>Torchlight, Bond of Storms</td>\n",
       "      <td>1.77</td>\n",
       "    </tr>\n",
       "    <tr>\n",
       "      <th>596</th>\n",
       "      <td>Undirrala66</td>\n",
       "      <td>29</td>\n",
       "      <td>Male</td>\n",
       "      <td>133</td>\n",
       "      <td>Faith's Scimitar</td>\n",
       "      <td>3.82</td>\n",
       "    </tr>\n",
       "    <tr>\n",
       "      <th>75</th>\n",
       "      <td>Sondastan54</td>\n",
       "      <td>31</td>\n",
       "      <td>Male</td>\n",
       "      <td>31</td>\n",
       "      <td>Trickster</td>\n",
       "      <td>2.07</td>\n",
       "    </tr>\n",
       "    <tr>\n",
       "      <th>304</th>\n",
       "      <td>Sondastan54</td>\n",
       "      <td>31</td>\n",
       "      <td>Male</td>\n",
       "      <td>173</td>\n",
       "      <td>Stormfury Longsword</td>\n",
       "      <td>4.83</td>\n",
       "    </tr>\n",
       "    <tr>\n",
       "      <th>420</th>\n",
       "      <td>Sondastan54</td>\n",
       "      <td>31</td>\n",
       "      <td>Male</td>\n",
       "      <td>170</td>\n",
       "      <td>Shadowsteel</td>\n",
       "      <td>1.98</td>\n",
       "    </tr>\n",
       "    <tr>\n",
       "      <th>754</th>\n",
       "      <td>Sondastan54</td>\n",
       "      <td>31</td>\n",
       "      <td>Male</td>\n",
       "      <td>104</td>\n",
       "      <td>Gladiator's Glaive</td>\n",
       "      <td>1.36</td>\n",
       "    </tr>\n",
       "    <tr>\n",
       "      <th>259</th>\n",
       "      <td>Saedue76</td>\n",
       "      <td>25</td>\n",
       "      <td>Male</td>\n",
       "      <td>13</td>\n",
       "      <td>Serenity</td>\n",
       "      <td>1.49</td>\n",
       "    </tr>\n",
       "    <tr>\n",
       "      <th>337</th>\n",
       "      <td>Saedue76</td>\n",
       "      <td>25</td>\n",
       "      <td>Male</td>\n",
       "      <td>140</td>\n",
       "      <td>Striker</td>\n",
       "      <td>3.82</td>\n",
       "    </tr>\n",
       "    <tr>\n",
       "      <th>411</th>\n",
       "      <td>Saedue76</td>\n",
       "      <td>25</td>\n",
       "      <td>Male</td>\n",
       "      <td>7</td>\n",
       "      <td>Thorn, Satchel of Dark Souls</td>\n",
       "      <td>4.51</td>\n",
       "    </tr>\n",
       "    <tr>\n",
       "      <th>708</th>\n",
       "      <td>Saedue76</td>\n",
       "      <td>25</td>\n",
       "      <td>Male</td>\n",
       "      <td>73</td>\n",
       "      <td>Ritual Mace</td>\n",
       "      <td>3.74</td>\n",
       "    </tr>\n",
       "    <tr>\n",
       "      <th>450</th>\n",
       "      <td>Mindimnya67</td>\n",
       "      <td>39</td>\n",
       "      <td>Female</td>\n",
       "      <td>140</td>\n",
       "      <td>Striker</td>\n",
       "      <td>3.82</td>\n",
       "    </tr>\n",
       "    <tr>\n",
       "      <th>464</th>\n",
       "      <td>Mindimnya67</td>\n",
       "      <td>39</td>\n",
       "      <td>Female</td>\n",
       "      <td>163</td>\n",
       "      <td>Thunderfury Scimitar</td>\n",
       "      <td>3.02</td>\n",
       "    </tr>\n",
       "    <tr>\n",
       "      <th>592</th>\n",
       "      <td>Mindimnya67</td>\n",
       "      <td>39</td>\n",
       "      <td>Female</td>\n",
       "      <td>145</td>\n",
       "      <td>Fiery Glass Crusader</td>\n",
       "      <td>4.45</td>\n",
       "    </tr>\n",
       "    <tr>\n",
       "      <th>623</th>\n",
       "      <td>Mindimnya67</td>\n",
       "      <td>39</td>\n",
       "      <td>Female</td>\n",
       "      <td>161</td>\n",
       "      <td>Devine</td>\n",
       "      <td>1.45</td>\n",
       "    </tr>\n",
       "    <tr>\n",
       "      <th>93</th>\n",
       "      <td>Hailaphos89</td>\n",
       "      <td>20</td>\n",
       "      <td>Male</td>\n",
       "      <td>20</td>\n",
       "      <td>Netherbane</td>\n",
       "      <td>1.48</td>\n",
       "    </tr>\n",
       "    <tr>\n",
       "      <th>218</th>\n",
       "      <td>Hailaphos89</td>\n",
       "      <td>20</td>\n",
       "      <td>Male</td>\n",
       "      <td>31</td>\n",
       "      <td>Trickster</td>\n",
       "      <td>2.07</td>\n",
       "    </tr>\n",
       "    <tr>\n",
       "      <th>429</th>\n",
       "      <td>Hailaphos89</td>\n",
       "      <td>20</td>\n",
       "      <td>Male</td>\n",
       "      <td>82</td>\n",
       "      <td>Nirvana</td>\n",
       "      <td>1.11</td>\n",
       "    </tr>\n",
       "    <tr>\n",
       "      <th>767</th>\n",
       "      <td>Hailaphos89</td>\n",
       "      <td>20</td>\n",
       "      <td>Male</td>\n",
       "      <td>122</td>\n",
       "      <td>Unending Tyranny</td>\n",
       "      <td>1.21</td>\n",
       "    </tr>\n",
       "  </tbody>\n",
       "</table>\n",
       "</div>"
      ],
      "text/plain": [
       "              SN  Age  Gender  Item ID                     Item Name  Price\n",
       "79   Undirrala66   29    Male      144        Blood Infused Guardian   2.86\n",
       "107  Undirrala66   29    Male      115    Spectral Diamond Doomblade   4.25\n",
       "131  Undirrala66   29    Male       62                   Piece Maker   4.36\n",
       "537  Undirrala66   29    Male       18    Torchlight, Bond of Storms   1.77\n",
       "596  Undirrala66   29    Male      133              Faith's Scimitar   3.82\n",
       "75   Sondastan54   31    Male       31                     Trickster   2.07\n",
       "304  Sondastan54   31    Male      173           Stormfury Longsword   4.83\n",
       "420  Sondastan54   31    Male      170                   Shadowsteel   1.98\n",
       "754  Sondastan54   31    Male      104            Gladiator's Glaive   1.36\n",
       "259     Saedue76   25    Male       13                      Serenity   1.49\n",
       "337     Saedue76   25    Male      140                       Striker   3.82\n",
       "411     Saedue76   25    Male        7  Thorn, Satchel of Dark Souls   4.51\n",
       "708     Saedue76   25    Male       73                   Ritual Mace   3.74\n",
       "450  Mindimnya67   39  Female      140                       Striker   3.82\n",
       "464  Mindimnya67   39  Female      163          Thunderfury Scimitar   3.02\n",
       "592  Mindimnya67   39  Female      145          Fiery Glass Crusader   4.45\n",
       "623  Mindimnya67   39  Female      161                        Devine   1.45\n",
       "93   Hailaphos89   20    Male       20                    Netherbane   1.48\n",
       "218  Hailaphos89   20    Male       31                     Trickster   2.07\n",
       "429  Hailaphos89   20    Male       82                       Nirvana   1.11\n",
       "767  Hailaphos89   20    Male      122              Unending Tyranny   1.21"
      ]
     },
     "execution_count": 21,
     "metadata": {},
     "output_type": "execute_result"
    }
   ],
   "source": [
    "#Identify the the top 5 spenders in the game by total purchase value, then list (in a table)\n",
    "#Using loc by record index\n",
    "#long round-about method for finding this below\n",
    "SN_shoppers_records = fantasy_data.loc[[79, 107, 131, 537, 596, 75, 304, 420, 754, 259, 337, 411, 708, 450, 464, 592, 623, 93, 218, 429, 767], :]\n",
    "SN_shoppers_records"
   ]
  },
  {
   "cell_type": "code",
   "execution_count": null,
   "metadata": {
    "collapsed": true
   },
   "outputs": [],
   "source": [
    "SN_shoppers = fantasy_data.loc[fantasy_data[\"SN\"] == \"Hailaphos89\"]\n",
    "SN_shoppers.head()"
   ]
  },
  {
   "cell_type": "code",
   "execution_count": null,
   "metadata": {
    "collapsed": true
   },
   "outputs": [],
   "source": [
    "SN_shoppers = fantasy_data.loc[fantasy_data[\"SN\"] == \"Mindimnya67\"]\n",
    "SN_shoppers.head()"
   ]
  },
  {
   "cell_type": "code",
   "execution_count": null,
   "metadata": {
    "collapsed": true
   },
   "outputs": [],
   "source": [
    "#Finding record index for top spenders. Wishing this were concatenating properly. \n",
    "SN_shoppers = fantasy_data.loc[fantasy_data[\"SN\"] == \"Undirrala66\"]\n",
    "SN_shoppers.head()"
   ]
  },
  {
   "cell_type": "code",
   "execution_count": null,
   "metadata": {
    "collapsed": true
   },
   "outputs": [],
   "source": [
    "SN_shoppers = fantasy_data.loc[fantasy_data[\"SN\"] == \"Saedue76\"]\n",
    "SN_shoppers.head()"
   ]
  },
  {
   "cell_type": "code",
   "execution_count": null,
   "metadata": {
    "collapsed": true
   },
   "outputs": [],
   "source": [
    "SN_shoppers = fantasy_data.loc[fantasy_data[\"SN\"] == \"Sondastan54\"]\n",
    "SN_shoppers.head()"
   ]
  },
  {
   "cell_type": "code",
   "execution_count": null,
   "metadata": {
    "collapsed": true
   },
   "outputs": [],
   "source": [
    "#SN_buyers = fantasy_data.loc[(fantasy_data[\"SN\"].value_counts(>= 4))]\n",
    "#print(SN_buyers)"
   ]
  },
  {
   "cell_type": "code",
   "execution_count": 22,
   "metadata": {},
   "outputs": [
    {
     "ename": "NameError",
     "evalue": "name 'SN_unique' is not defined",
     "output_type": "error",
     "traceback": [
      "\u001b[1;31m---------------------------------------------------------------------------\u001b[0m",
      "\u001b[1;31mNameError\u001b[0m                                 Traceback (most recent call last)",
      "\u001b[1;32m<ipython-input-22-03d187c23d95>\u001b[0m in \u001b[0;36m<module>\u001b[1;34m()\u001b[0m\n\u001b[0;32m      4\u001b[0m \u001b[1;33m\u001b[0m\u001b[0m\n\u001b[0;32m      5\u001b[0m \u001b[0mfantasy_data\u001b[0m\u001b[1;33m[\u001b[0m\u001b[1;34m\"SN_unique\"\u001b[0m\u001b[1;33m]\u001b[0m \u001b[1;33m=\u001b[0m \u001b[0mfantasy_data\u001b[0m\u001b[1;33m[\u001b[0m\u001b[1;34m\"SN\"\u001b[0m\u001b[1;33m]\u001b[0m\u001b[1;33m.\u001b[0m\u001b[0mvalue_counts\u001b[0m\u001b[1;33m(\u001b[0m\u001b[1;33m)\u001b[0m\u001b[1;33m.\u001b[0m\u001b[0mindex\u001b[0m\u001b[1;33m.\u001b[0m\u001b[0mdrop\u001b[0m\u001b[1;33m=\u001b[0m\u001b[1;32mTrue\u001b[0m\u001b[1;33m\u001b[0m\u001b[0m\n\u001b[1;32m----> 6\u001b[1;33m \u001b[0mprint\u001b[0m\u001b[1;33m(\u001b[0m\u001b[0mSN_unique\u001b[0m\u001b[1;33m)\u001b[0m\u001b[1;33m\u001b[0m\u001b[0m\n\u001b[0m\u001b[0;32m      7\u001b[0m \u001b[0mfantasy_data\u001b[0m\u001b[1;33m.\u001b[0m\u001b[0mhead\u001b[0m\u001b[1;33m(\u001b[0m\u001b[1;33m)\u001b[0m\u001b[1;33m\u001b[0m\u001b[0m\n",
      "\u001b[1;31mNameError\u001b[0m: name 'SN_unique' is not defined"
     ]
    }
   ],
   "source": [
    "#Identify the the top 5 spenders in the game\n",
    "#Most common SNs. These people purchase most often. Doesn't necessarily mean they spend the most. \n",
    "#Need to combine this with price data\n",
    "\n",
    "fantasy_data[\"SN_unique\"] = fantasy_data[\"SN\"].value_counts().index.drop=True\n",
    "print(SN_unique)\n",
    "fantasy_data.head()"
   ]
  },
  {
   "cell_type": "code",
   "execution_count": 26,
   "metadata": {},
   "outputs": [
    {
     "data": {
      "text/html": [
       "<div>\n",
       "<style>\n",
       "    .dataframe thead tr:only-child th {\n",
       "        text-align: right;\n",
       "    }\n",
       "\n",
       "    .dataframe thead th {\n",
       "        text-align: left;\n",
       "    }\n",
       "\n",
       "    .dataframe tbody tr th {\n",
       "        vertical-align: top;\n",
       "    }\n",
       "</style>\n",
       "<table border=\"1\" class=\"dataframe\">\n",
       "  <thead>\n",
       "    <tr style=\"text-align: right;\">\n",
       "      <th></th>\n",
       "      <th>SN</th>\n",
       "      <th>Age</th>\n",
       "      <th>Gender</th>\n",
       "      <th>Item ID</th>\n",
       "      <th>Item Name</th>\n",
       "      <th>Price</th>\n",
       "      <th>SN_unique</th>\n",
       "    </tr>\n",
       "  </thead>\n",
       "  <tbody>\n",
       "    <tr>\n",
       "      <th>83</th>\n",
       "      <td>Frichaststa61</td>\n",
       "      <td>25</td>\n",
       "      <td>Female</td>\n",
       "      <td>32</td>\n",
       "      <td>Orenmir</td>\n",
       "      <td>4.95</td>\n",
       "      <td>True</td>\n",
       "    </tr>\n",
       "    <tr>\n",
       "      <th>50</th>\n",
       "      <td>Saistyphos30</td>\n",
       "      <td>32</td>\n",
       "      <td>Female</td>\n",
       "      <td>32</td>\n",
       "      <td>Orenmir</td>\n",
       "      <td>4.95</td>\n",
       "      <td>True</td>\n",
       "    </tr>\n",
       "    <tr>\n",
       "      <th>657</th>\n",
       "      <td>Tyarithn67</td>\n",
       "      <td>28</td>\n",
       "      <td>Male</td>\n",
       "      <td>32</td>\n",
       "      <td>Orenmir</td>\n",
       "      <td>4.95</td>\n",
       "      <td>True</td>\n",
       "    </tr>\n",
       "    <tr>\n",
       "      <th>388</th>\n",
       "      <td>Palurrian69</td>\n",
       "      <td>15</td>\n",
       "      <td>Male</td>\n",
       "      <td>32</td>\n",
       "      <td>Orenmir</td>\n",
       "      <td>4.95</td>\n",
       "      <td>True</td>\n",
       "    </tr>\n",
       "    <tr>\n",
       "      <th>227</th>\n",
       "      <td>Qiluard68</td>\n",
       "      <td>20</td>\n",
       "      <td>Male</td>\n",
       "      <td>32</td>\n",
       "      <td>Orenmir</td>\n",
       "      <td>4.95</td>\n",
       "      <td>True</td>\n",
       "    </tr>\n",
       "  </tbody>\n",
       "</table>\n",
       "</div>"
      ],
      "text/plain": [
       "                SN  Age  Gender  Item ID Item Name  Price  SN_unique\n",
       "83   Frichaststa61   25  Female       32   Orenmir   4.95       True\n",
       "50    Saistyphos30   32  Female       32   Orenmir   4.95       True\n",
       "657     Tyarithn67   28    Male       32   Orenmir   4.95       True\n",
       "388    Palurrian69   15    Male       32   Orenmir   4.95       True\n",
       "227      Qiluard68   20    Male       32   Orenmir   4.95       True"
      ]
     },
     "execution_count": 26,
     "metadata": {},
     "output_type": "execute_result"
    }
   ],
   "source": [
    "top_spenders = fantasy_data.sort_values(\"Price\", ascending=False)\n",
    "top_spenders.head()\n",
    "#SN, Purchase Count, Average Purchase Price, Total Purchase Value\n",
    "#A bit unsure of how to approach this factoring in duplicated SNs. Will try grouping by unique identifier for SN\n"
   ]
  },
  {
   "cell_type": "code",
   "execution_count": 27,
   "metadata": {},
   "outputs": [
    {
     "name": "stdout",
     "output_type": "stream",
     "text": [
      "Undirrala66    5\n",
      "Qarwen67       4\n",
      "Sondastan54    4\n",
      "Saedue76       4\n",
      "Mindimnya67    4\n",
      "Name: SN, dtype: int64\n"
     ]
    }
   ],
   "source": [
    "item_popularity = fantasy_data[\"SN\"].value_counts()\n",
    "print(item_popularity[:5])\n",
    "#The top 5 are the most popular items- Final Critic:Retribution Axe"
   ]
  },
  {
   "cell_type": "code",
   "execution_count": 23,
   "metadata": {},
   "outputs": [
    {
     "ename": "KeyError",
     "evalue": "'User_total_purchase_value'",
     "output_type": "error",
     "traceback": [
      "\u001b[1;31m---------------------------------------------------------------------------\u001b[0m",
      "\u001b[1;31mKeyError\u001b[0m                                  Traceback (most recent call last)",
      "\u001b[1;32m~\\Anaconda3\\lib\\site-packages\\pandas\\core\\indexes\\base.py\u001b[0m in \u001b[0;36mget_loc\u001b[1;34m(self, key, method, tolerance)\u001b[0m\n\u001b[0;32m   2441\u001b[0m             \u001b[1;32mtry\u001b[0m\u001b[1;33m:\u001b[0m\u001b[1;33m\u001b[0m\u001b[0m\n\u001b[1;32m-> 2442\u001b[1;33m                 \u001b[1;32mreturn\u001b[0m \u001b[0mself\u001b[0m\u001b[1;33m.\u001b[0m\u001b[0m_engine\u001b[0m\u001b[1;33m.\u001b[0m\u001b[0mget_loc\u001b[0m\u001b[1;33m(\u001b[0m\u001b[0mkey\u001b[0m\u001b[1;33m)\u001b[0m\u001b[1;33m\u001b[0m\u001b[0m\n\u001b[0m\u001b[0;32m   2443\u001b[0m             \u001b[1;32mexcept\u001b[0m \u001b[0mKeyError\u001b[0m\u001b[1;33m:\u001b[0m\u001b[1;33m\u001b[0m\u001b[0m\n",
      "\u001b[1;32mpandas\\_libs\\index.pyx\u001b[0m in \u001b[0;36mpandas._libs.index.IndexEngine.get_loc\u001b[1;34m()\u001b[0m\n",
      "\u001b[1;32mpandas\\_libs\\index.pyx\u001b[0m in \u001b[0;36mpandas._libs.index.IndexEngine.get_loc\u001b[1;34m()\u001b[0m\n",
      "\u001b[1;32mpandas\\_libs\\hashtable_class_helper.pxi\u001b[0m in \u001b[0;36mpandas._libs.hashtable.PyObjectHashTable.get_item\u001b[1;34m()\u001b[0m\n",
      "\u001b[1;32mpandas\\_libs\\hashtable_class_helper.pxi\u001b[0m in \u001b[0;36mpandas._libs.hashtable.PyObjectHashTable.get_item\u001b[1;34m()\u001b[0m\n",
      "\u001b[1;31mKeyError\u001b[0m: 'User_total_purchase_value'",
      "\nDuring handling of the above exception, another exception occurred:\n",
      "\u001b[1;31mKeyError\u001b[0m                                  Traceback (most recent call last)",
      "\u001b[1;32m<ipython-input-23-8bf88e0708b4>\u001b[0m in \u001b[0;36m<module>\u001b[1;34m()\u001b[0m\n\u001b[1;32m----> 1\u001b[1;33m \u001b[0muser_purchase_value_sorted\u001b[0m \u001b[1;33m=\u001b[0m \u001b[0mfantasy_data\u001b[0m\u001b[1;33m.\u001b[0m\u001b[0msort_values\u001b[0m\u001b[1;33m(\u001b[0m\u001b[1;33m[\u001b[0m\u001b[1;34m\"User_total_purchase_value\"\u001b[0m\u001b[1;33m]\u001b[0m\u001b[1;33m,\u001b[0m \u001b[0mascending\u001b[0m\u001b[1;33m=\u001b[0m\u001b[1;32mFalse\u001b[0m\u001b[1;33m)\u001b[0m\u001b[1;33m\u001b[0m\u001b[0m\n\u001b[0m\u001b[0;32m      2\u001b[0m \u001b[0muser_purchase_value_sorted\u001b[0m\u001b[1;33m.\u001b[0m\u001b[0mhead\u001b[0m\u001b[1;33m(\u001b[0m\u001b[1;33m)\u001b[0m\u001b[1;33m\u001b[0m\u001b[0m\n",
      "\u001b[1;32m~\\Anaconda3\\lib\\site-packages\\pandas\\core\\frame.py\u001b[0m in \u001b[0;36msort_values\u001b[1;34m(self, by, axis, ascending, inplace, kind, na_position)\u001b[0m\n\u001b[0;32m   3184\u001b[0m \u001b[1;33m\u001b[0m\u001b[0m\n\u001b[0;32m   3185\u001b[0m             \u001b[0mby\u001b[0m \u001b[1;33m=\u001b[0m \u001b[0mby\u001b[0m\u001b[1;33m[\u001b[0m\u001b[1;36m0\u001b[0m\u001b[1;33m]\u001b[0m\u001b[1;33m\u001b[0m\u001b[0m\n\u001b[1;32m-> 3186\u001b[1;33m             \u001b[0mk\u001b[0m \u001b[1;33m=\u001b[0m \u001b[0mself\u001b[0m\u001b[1;33m.\u001b[0m\u001b[0mxs\u001b[0m\u001b[1;33m(\u001b[0m\u001b[0mby\u001b[0m\u001b[1;33m,\u001b[0m \u001b[0maxis\u001b[0m\u001b[1;33m=\u001b[0m\u001b[0mother_axis\u001b[0m\u001b[1;33m)\u001b[0m\u001b[1;33m.\u001b[0m\u001b[0mvalues\u001b[0m\u001b[1;33m\u001b[0m\u001b[0m\n\u001b[0m\u001b[0;32m   3187\u001b[0m             \u001b[1;32mif\u001b[0m \u001b[0mk\u001b[0m\u001b[1;33m.\u001b[0m\u001b[0mndim\u001b[0m \u001b[1;33m==\u001b[0m \u001b[1;36m2\u001b[0m\u001b[1;33m:\u001b[0m\u001b[1;33m\u001b[0m\u001b[0m\n\u001b[0;32m   3188\u001b[0m \u001b[1;33m\u001b[0m\u001b[0m\n",
      "\u001b[1;32m~\\Anaconda3\\lib\\site-packages\\pandas\\core\\generic.py\u001b[0m in \u001b[0;36mxs\u001b[1;34m(self, key, axis, level, drop_level)\u001b[0m\n\u001b[0;32m   2021\u001b[0m \u001b[1;33m\u001b[0m\u001b[0m\n\u001b[0;32m   2022\u001b[0m         \u001b[1;32mif\u001b[0m \u001b[0maxis\u001b[0m \u001b[1;33m==\u001b[0m \u001b[1;36m1\u001b[0m\u001b[1;33m:\u001b[0m\u001b[1;33m\u001b[0m\u001b[0m\n\u001b[1;32m-> 2023\u001b[1;33m             \u001b[1;32mreturn\u001b[0m \u001b[0mself\u001b[0m\u001b[1;33m[\u001b[0m\u001b[0mkey\u001b[0m\u001b[1;33m]\u001b[0m\u001b[1;33m\u001b[0m\u001b[0m\n\u001b[0m\u001b[0;32m   2024\u001b[0m \u001b[1;33m\u001b[0m\u001b[0m\n\u001b[0;32m   2025\u001b[0m         \u001b[0mself\u001b[0m\u001b[1;33m.\u001b[0m\u001b[0m_consolidate_inplace\u001b[0m\u001b[1;33m(\u001b[0m\u001b[1;33m)\u001b[0m\u001b[1;33m\u001b[0m\u001b[0m\n",
      "\u001b[1;32m~\\Anaconda3\\lib\\site-packages\\pandas\\core\\frame.py\u001b[0m in \u001b[0;36m__getitem__\u001b[1;34m(self, key)\u001b[0m\n\u001b[0;32m   1962\u001b[0m             \u001b[1;32mreturn\u001b[0m \u001b[0mself\u001b[0m\u001b[1;33m.\u001b[0m\u001b[0m_getitem_multilevel\u001b[0m\u001b[1;33m(\u001b[0m\u001b[0mkey\u001b[0m\u001b[1;33m)\u001b[0m\u001b[1;33m\u001b[0m\u001b[0m\n\u001b[0;32m   1963\u001b[0m         \u001b[1;32melse\u001b[0m\u001b[1;33m:\u001b[0m\u001b[1;33m\u001b[0m\u001b[0m\n\u001b[1;32m-> 1964\u001b[1;33m             \u001b[1;32mreturn\u001b[0m \u001b[0mself\u001b[0m\u001b[1;33m.\u001b[0m\u001b[0m_getitem_column\u001b[0m\u001b[1;33m(\u001b[0m\u001b[0mkey\u001b[0m\u001b[1;33m)\u001b[0m\u001b[1;33m\u001b[0m\u001b[0m\n\u001b[0m\u001b[0;32m   1965\u001b[0m \u001b[1;33m\u001b[0m\u001b[0m\n\u001b[0;32m   1966\u001b[0m     \u001b[1;32mdef\u001b[0m \u001b[0m_getitem_column\u001b[0m\u001b[1;33m(\u001b[0m\u001b[0mself\u001b[0m\u001b[1;33m,\u001b[0m \u001b[0mkey\u001b[0m\u001b[1;33m)\u001b[0m\u001b[1;33m:\u001b[0m\u001b[1;33m\u001b[0m\u001b[0m\n",
      "\u001b[1;32m~\\Anaconda3\\lib\\site-packages\\pandas\\core\\frame.py\u001b[0m in \u001b[0;36m_getitem_column\u001b[1;34m(self, key)\u001b[0m\n\u001b[0;32m   1969\u001b[0m         \u001b[1;31m# get column\u001b[0m\u001b[1;33m\u001b[0m\u001b[1;33m\u001b[0m\u001b[0m\n\u001b[0;32m   1970\u001b[0m         \u001b[1;32mif\u001b[0m \u001b[0mself\u001b[0m\u001b[1;33m.\u001b[0m\u001b[0mcolumns\u001b[0m\u001b[1;33m.\u001b[0m\u001b[0mis_unique\u001b[0m\u001b[1;33m:\u001b[0m\u001b[1;33m\u001b[0m\u001b[0m\n\u001b[1;32m-> 1971\u001b[1;33m             \u001b[1;32mreturn\u001b[0m \u001b[0mself\u001b[0m\u001b[1;33m.\u001b[0m\u001b[0m_get_item_cache\u001b[0m\u001b[1;33m(\u001b[0m\u001b[0mkey\u001b[0m\u001b[1;33m)\u001b[0m\u001b[1;33m\u001b[0m\u001b[0m\n\u001b[0m\u001b[0;32m   1972\u001b[0m \u001b[1;33m\u001b[0m\u001b[0m\n\u001b[0;32m   1973\u001b[0m         \u001b[1;31m# duplicate columns & possible reduce dimensionality\u001b[0m\u001b[1;33m\u001b[0m\u001b[1;33m\u001b[0m\u001b[0m\n",
      "\u001b[1;32m~\\Anaconda3\\lib\\site-packages\\pandas\\core\\generic.py\u001b[0m in \u001b[0;36m_get_item_cache\u001b[1;34m(self, item)\u001b[0m\n\u001b[0;32m   1643\u001b[0m         \u001b[0mres\u001b[0m \u001b[1;33m=\u001b[0m \u001b[0mcache\u001b[0m\u001b[1;33m.\u001b[0m\u001b[0mget\u001b[0m\u001b[1;33m(\u001b[0m\u001b[0mitem\u001b[0m\u001b[1;33m)\u001b[0m\u001b[1;33m\u001b[0m\u001b[0m\n\u001b[0;32m   1644\u001b[0m         \u001b[1;32mif\u001b[0m \u001b[0mres\u001b[0m \u001b[1;32mis\u001b[0m \u001b[1;32mNone\u001b[0m\u001b[1;33m:\u001b[0m\u001b[1;33m\u001b[0m\u001b[0m\n\u001b[1;32m-> 1645\u001b[1;33m             \u001b[0mvalues\u001b[0m \u001b[1;33m=\u001b[0m \u001b[0mself\u001b[0m\u001b[1;33m.\u001b[0m\u001b[0m_data\u001b[0m\u001b[1;33m.\u001b[0m\u001b[0mget\u001b[0m\u001b[1;33m(\u001b[0m\u001b[0mitem\u001b[0m\u001b[1;33m)\u001b[0m\u001b[1;33m\u001b[0m\u001b[0m\n\u001b[0m\u001b[0;32m   1646\u001b[0m             \u001b[0mres\u001b[0m \u001b[1;33m=\u001b[0m \u001b[0mself\u001b[0m\u001b[1;33m.\u001b[0m\u001b[0m_box_item_values\u001b[0m\u001b[1;33m(\u001b[0m\u001b[0mitem\u001b[0m\u001b[1;33m,\u001b[0m \u001b[0mvalues\u001b[0m\u001b[1;33m)\u001b[0m\u001b[1;33m\u001b[0m\u001b[0m\n\u001b[0;32m   1647\u001b[0m             \u001b[0mcache\u001b[0m\u001b[1;33m[\u001b[0m\u001b[0mitem\u001b[0m\u001b[1;33m]\u001b[0m \u001b[1;33m=\u001b[0m \u001b[0mres\u001b[0m\u001b[1;33m\u001b[0m\u001b[0m\n",
      "\u001b[1;32m~\\Anaconda3\\lib\\site-packages\\pandas\\core\\internals.py\u001b[0m in \u001b[0;36mget\u001b[1;34m(self, item, fastpath)\u001b[0m\n\u001b[0;32m   3588\u001b[0m \u001b[1;33m\u001b[0m\u001b[0m\n\u001b[0;32m   3589\u001b[0m             \u001b[1;32mif\u001b[0m \u001b[1;32mnot\u001b[0m \u001b[0misnull\u001b[0m\u001b[1;33m(\u001b[0m\u001b[0mitem\u001b[0m\u001b[1;33m)\u001b[0m\u001b[1;33m:\u001b[0m\u001b[1;33m\u001b[0m\u001b[0m\n\u001b[1;32m-> 3590\u001b[1;33m                 \u001b[0mloc\u001b[0m \u001b[1;33m=\u001b[0m \u001b[0mself\u001b[0m\u001b[1;33m.\u001b[0m\u001b[0mitems\u001b[0m\u001b[1;33m.\u001b[0m\u001b[0mget_loc\u001b[0m\u001b[1;33m(\u001b[0m\u001b[0mitem\u001b[0m\u001b[1;33m)\u001b[0m\u001b[1;33m\u001b[0m\u001b[0m\n\u001b[0m\u001b[0;32m   3591\u001b[0m             \u001b[1;32melse\u001b[0m\u001b[1;33m:\u001b[0m\u001b[1;33m\u001b[0m\u001b[0m\n\u001b[0;32m   3592\u001b[0m                 \u001b[0mindexer\u001b[0m \u001b[1;33m=\u001b[0m \u001b[0mnp\u001b[0m\u001b[1;33m.\u001b[0m\u001b[0marange\u001b[0m\u001b[1;33m(\u001b[0m\u001b[0mlen\u001b[0m\u001b[1;33m(\u001b[0m\u001b[0mself\u001b[0m\u001b[1;33m.\u001b[0m\u001b[0mitems\u001b[0m\u001b[1;33m)\u001b[0m\u001b[1;33m)\u001b[0m\u001b[1;33m[\u001b[0m\u001b[0misnull\u001b[0m\u001b[1;33m(\u001b[0m\u001b[0mself\u001b[0m\u001b[1;33m.\u001b[0m\u001b[0mitems\u001b[0m\u001b[1;33m)\u001b[0m\u001b[1;33m]\u001b[0m\u001b[1;33m\u001b[0m\u001b[0m\n",
      "\u001b[1;32m~\\Anaconda3\\lib\\site-packages\\pandas\\core\\indexes\\base.py\u001b[0m in \u001b[0;36mget_loc\u001b[1;34m(self, key, method, tolerance)\u001b[0m\n\u001b[0;32m   2442\u001b[0m                 \u001b[1;32mreturn\u001b[0m \u001b[0mself\u001b[0m\u001b[1;33m.\u001b[0m\u001b[0m_engine\u001b[0m\u001b[1;33m.\u001b[0m\u001b[0mget_loc\u001b[0m\u001b[1;33m(\u001b[0m\u001b[0mkey\u001b[0m\u001b[1;33m)\u001b[0m\u001b[1;33m\u001b[0m\u001b[0m\n\u001b[0;32m   2443\u001b[0m             \u001b[1;32mexcept\u001b[0m \u001b[0mKeyError\u001b[0m\u001b[1;33m:\u001b[0m\u001b[1;33m\u001b[0m\u001b[0m\n\u001b[1;32m-> 2444\u001b[1;33m                 \u001b[1;32mreturn\u001b[0m \u001b[0mself\u001b[0m\u001b[1;33m.\u001b[0m\u001b[0m_engine\u001b[0m\u001b[1;33m.\u001b[0m\u001b[0mget_loc\u001b[0m\u001b[1;33m(\u001b[0m\u001b[0mself\u001b[0m\u001b[1;33m.\u001b[0m\u001b[0m_maybe_cast_indexer\u001b[0m\u001b[1;33m(\u001b[0m\u001b[0mkey\u001b[0m\u001b[1;33m)\u001b[0m\u001b[1;33m)\u001b[0m\u001b[1;33m\u001b[0m\u001b[0m\n\u001b[0m\u001b[0;32m   2445\u001b[0m \u001b[1;33m\u001b[0m\u001b[0m\n\u001b[0;32m   2446\u001b[0m         \u001b[0mindexer\u001b[0m \u001b[1;33m=\u001b[0m \u001b[0mself\u001b[0m\u001b[1;33m.\u001b[0m\u001b[0mget_indexer\u001b[0m\u001b[1;33m(\u001b[0m\u001b[1;33m[\u001b[0m\u001b[0mkey\u001b[0m\u001b[1;33m]\u001b[0m\u001b[1;33m,\u001b[0m \u001b[0mmethod\u001b[0m\u001b[1;33m=\u001b[0m\u001b[0mmethod\u001b[0m\u001b[1;33m,\u001b[0m \u001b[0mtolerance\u001b[0m\u001b[1;33m=\u001b[0m\u001b[0mtolerance\u001b[0m\u001b[1;33m)\u001b[0m\u001b[1;33m\u001b[0m\u001b[0m\n",
      "\u001b[1;32mpandas\\_libs\\index.pyx\u001b[0m in \u001b[0;36mpandas._libs.index.IndexEngine.get_loc\u001b[1;34m()\u001b[0m\n",
      "\u001b[1;32mpandas\\_libs\\index.pyx\u001b[0m in \u001b[0;36mpandas._libs.index.IndexEngine.get_loc\u001b[1;34m()\u001b[0m\n",
      "\u001b[1;32mpandas\\_libs\\hashtable_class_helper.pxi\u001b[0m in \u001b[0;36mpandas._libs.hashtable.PyObjectHashTable.get_item\u001b[1;34m()\u001b[0m\n",
      "\u001b[1;32mpandas\\_libs\\hashtable_class_helper.pxi\u001b[0m in \u001b[0;36mpandas._libs.hashtable.PyObjectHashTable.get_item\u001b[1;34m()\u001b[0m\n",
      "\u001b[1;31mKeyError\u001b[0m: 'User_total_purchase_value'"
     ]
    }
   ],
   "source": [
    "user_purchase_value_sorted = fantasy_data.sort_values([\"User_total_purchase_value\"], ascending=False)\n",
    "user_purchase_value_sorted.head()"
   ]
  },
  {
   "cell_type": "code",
   "execution_count": null,
   "metadata": {
    "collapsed": true
   },
   "outputs": [],
   "source": [
    "popular_items = gender_group = fantasy_data.groupby([\"Item Name\"])\n",
    "popular_items.sort_values('popular_items', ascending=False)"
   ]
  },
  {
   "cell_type": "code",
   "execution_count": null,
   "metadata": {
    "collapsed": true
   },
   "outputs": [],
   "source": [
    "item_count_group = fantasy_data.groupby(\"Item Name\")\n",
    "item_count_df = item_count_group[\"Price\"].count()\n",
    "item_total_df = item_count_group[\"Price\"].sum()\n",
    "item_id = np.float(fantasy_data[\"Item ID\"])\n",
    "\n",
    "item_popularity_df = pd.DataFrame({\"Purchase count\": item_count_df,\n",
    "                            \"Item ID\": item_id,\n",
    "                            \"Item Price\": np.float(fantasy_data[\"Price\"]),\n",
    "                           \"Item price\": np.float(item_price_df),\n",
    "                           \"Total purchase value\": item_total_df},\n",
    "                           columns = [\"Purchase count\", \"Item ID\", \"Item price\", \"Item price\", \"Total purchase value\"])\n",
    "\n",
    "popular_items_df = item_popularity_df.sort_values(\"Total purchase value\", ascending = False)\n",
    "popular_items_df.head()"
   ]
  },
  {
   "cell_type": "code",
   "execution_count": null,
   "metadata": {
    "collapsed": true
   },
   "outputs": [],
   "source": [
    "#Prepping gender norm data\n",
    "g_p = Purchase_gender_df\n",
    "min_max_scaler = preprocessing.MinMaxScaler()\n",
    "g_p_scaled = min_max_scaler.fit_transform(g_p)\n",
    "\n",
    "gender_norm_p_df = pd.DataFrame({\"Gender\": [\"Male\", \"Female\", \"Other\"],\n",
    "                                            \"Purchase Count\": [female_pc, male_pc, other_pc],\n",
    "                                            \"Average Purchase Price\": [female_avg_price, male_avg_price, other_avg_price],\n",
    "                                            \"Total Purchase Value\": [female_tpv, male_tpv, other_tpv],\n",
    "                                         \"Normalized Totals\": [g_p_scaled, g_p_scaled, g_p_scaled],\n",
    "                                           #\"Normalized Totals\": [g_p_scaled[:,0], g_p_scaled[:,1], g_p_scaled[:,2]],\n",
    "                                            })\n",
    "gender_norm_p_df"
   ]
  },
  {
   "cell_type": "code",
   "execution_count": null,
   "metadata": {
    "collapsed": true
   },
   "outputs": [],
   "source": [
    "g_p = Purchase_gender_df.values.astype(float)\n",
    "min_max_scaler = preprocessing.MinMaxScaler()\n",
    "g_p_scaled = min_max_scaler.fit_transform(g_p)\n",
    "print(g_p_scaled)"
   ]
  },
  {
   "cell_type": "code",
   "execution_count": null,
   "metadata": {
    "collapsed": true
   },
   "outputs": [],
   "source": [
    "#Normalized Totals\n",
    "#df_norm = (df - df.mean()) / (df.max() - df.min())\n",
    "\n",
    "#Purchase sum\n",
    "#avg purchase price\n",
    "#purchase value\n",
    "x = df.values #returns a numpy array\n",
    "min_max_scaler = preprocessing.MinMaxScaler()\n",
    "x_scaled = min_max_scaler.fit_transform(x)\n",
    "df = pandas.DataFrame(x_scaled)\n",
    "\n",
    "# Create x, where x the 'scores' column's values as floats\n",
    "gender_sum = gender_group[\"Item ID\"].count()\n",
    "\n",
    "# Create a minimum and maximum processor object\n",
    "min_max_scaler = preprocessing.MinMaxScaler()\n",
    "\n",
    "# Create an object to transform the data to fit minmax processor\n",
    "gender_sum_scaled = min_max_scaler.fit_transform(gender_sum)\n",
    "\n",
    "# Run the normalizer on the dataframe\n",
    "gender_sum_norm = pd.DataFrame(gender_sum_scaled)\n",
    "# View the dataframe\n",
    "gender_sum_norm\n",
    "\n",
    "\n",
    "\n",
    "#df_norm"
   ]
  },
  {
   "cell_type": "code",
   "execution_count": 24,
   "metadata": {
    "collapsed": true
   },
   "outputs": [],
   "source": [
    "#Total purchase value = total of how much they have spent\n",
    "#Per unique SN, the sum of all the price values\n",
    "\n",
    "#.value_counts() indicates frequency, Price is listed. \n",
    "#total_user_purchase_value = [fantasy_data[\"SN_unique\"] * fantasy_data[\"Price\"]]\n",
    "#print(total_user_purchase_value)\n",
    "#sort_values([\"Total\"], ascending=False)"
   ]
  },
  {
   "cell_type": "code",
   "execution_count": null,
   "metadata": {
    "collapsed": true
   },
   "outputs": [],
   "source": [
    "#Note: Item ID's and item names have different counts. \n",
    "#This means there are items which have the same name by multiple IDs. \n",
    "#We will sort by Name to find the most popular item \n",
    "item_popularity1 = fantasy_data[\"Item ID\"].value_counts()\n",
    "print(item_popularity1[:5])"
   ]
  },
  {
   "cell_type": "code",
   "execution_count": 25,
   "metadata": {},
   "outputs": [
    {
     "ename": "SyntaxError",
     "evalue": "invalid syntax (<ipython-input-25-6d91e0ee54eb>, line 53)",
     "output_type": "error",
     "traceback": [
      "\u001b[1;36m  File \u001b[1;32m\"<ipython-input-25-6d91e0ee54eb>\"\u001b[1;36m, line \u001b[1;32m53\u001b[0m\n\u001b[1;33m    list = fanstasy_data)\u001b[0m\n\u001b[1;37m                        ^\u001b[0m\n\u001b[1;31mSyntaxError\u001b[0m\u001b[1;31m:\u001b[0m invalid syntax\n"
     ]
    }
   ],
   "source": [
    "\n",
    "#print(json.dumps(json_data));\n",
    "\n",
    "#json_data.write(fantasy_data.csv)\n",
    "\n",
    "#fantasy_data = open(fantasy_data.csv, \"w\")\n",
    "#writer = csv.writer(fantasy_data)\n",
    "\n",
    "#for row in json.loads(json_data.read()):\n",
    "    #writer.writerow(row)\n",
    "    \n",
    "  \n",
    "#json_data = open(\"../Weel-04-Pandas/Instructions/HeroesOfPymoli/purchase_data.json\", \"r\", encoding = \"utf-8\")\n",
    "#for row in json.loads(json_data.read()):\n",
    "    #writer.writerow(row)\n",
    "\n",
    "\n",
    "#fanstasy_data = json.load(json_data)[0]\n",
    "\n",
    "#count = 0\n",
    "\n",
    "#for file in f:\n",
    "\n",
    "      #if count == 0:\n",
    "\n",
    "            # header = f.keys()\n",
    "\n",
    "             #csvwriter.writerow(header)\n",
    "\n",
    "             #count += 1\n",
    "\n",
    "   # csvwriter.writerow(f.values())\n",
    "\n",
    "#f.close()\n",
    "\n",
    "\n",
    "#fantasy_df = pd.read_csv(f)\n",
    "#fantasy_df.head()\n",
    "\n",
    "\n",
    "#json_data.close()\n",
    "#fantasy_df\n",
    "with open(\"../Weel-04-Pandas/Instructions/HeroesOfPymoli/purchase_data.json\") as fantasy_df:\n",
    "    #json_path = \"../Instructions/HeroesOfPymoli/purchase_data.json\"\n",
    "    #fantasy_data = list(fantasy_df)\n",
    "#with open('json_path') as json_data:\n",
    "    fantasy_df = json.load(fantasy_df)\n",
    "#json_path = \"../HeroesOfPymoli/purchase_data.json\"\n",
    "#Fantasy_money_df = pd.read_json(json_path)\n",
    "#Fantasy_money_df.head()\n",
    "print(fantasy_data)\n",
    "\n",
    "list = fanstasy_data)\n",
    "dict(zip(list,range(len(list))))\n",
    "\n",
    "#fanstasy_df = json.load(json_data)"
   ]
  },
  {
   "cell_type": "code",
   "execution_count": null,
   "metadata": {
    "collapsed": true
   },
   "outputs": [],
   "source": []
  },
  {
   "cell_type": "code",
   "execution_count": null,
   "metadata": {
    "collapsed": true
   },
   "outputs": [],
   "source": []
  }
 ],
 "metadata": {
  "kernelspec": {
   "display_name": "Python 3",
   "language": "python",
   "name": "python3"
  },
  "language_info": {
   "codemirror_mode": {
    "name": "ipython",
    "version": 3
   },
   "file_extension": ".py",
   "mimetype": "text/x-python",
   "name": "python",
   "nbconvert_exporter": "python",
   "pygments_lexer": "ipython3",
   "version": "3.6.3"
  }
 },
 "nbformat": 4,
 "nbformat_minor": 2
}
